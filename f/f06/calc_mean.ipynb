{
 "cells": [
  {
   "cell_type": "code",
   "execution_count": 1,
   "metadata": {},
   "outputs": [
    {
     "name": "stdout",
     "output_type": "stream",
     "text": [
      "Enter a number: (Press Enter to exit)3\n",
      "Enter a number: (Press Enter to exit)2\n",
      "Enter a number: (Press Enter to exit)1\n",
      "Enter a number: (Press Enter to exit)\n",
      "\n",
      "average is 2.0\n"
     ]
    }
   ],
   "source": [
    "total = 0\n",
    "count = 0\n",
    "numbers=input(\"Enter a number: (Press Enter to exit)\")\n",
    "while numbers != \"\":\n",
    "    try:\n",
    "        x=float(numbers)\n",
    "        count += 1\n",
    "        total += x\n",
    "    except ValueError:\n",
    "        print(\"It's not a number!\")\n",
    "    numbers=input(\"Enter a number: (Press Enter to exit)\")\n",
    "    avg=total/count\n",
    "print(\"\\naverage is\",avg)"
   ]
  }
 ],
 "metadata": {
  "kernelspec": {
   "display_name": "Python 3",
   "language": "python",
   "name": "python3"
  },
  "language_info": {
   "codemirror_mode": {
    "name": "ipython",
    "version": 3
   },
   "file_extension": ".py",
   "mimetype": "text/x-python",
   "name": "python",
   "nbconvert_exporter": "python",
   "pygments_lexer": "ipython3",
   "version": "3.7.6"
  }
 },
 "nbformat": 4,
 "nbformat_minor": 4
}

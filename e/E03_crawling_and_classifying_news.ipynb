{
 "cells": [
  {
   "cell_type": "markdown",
   "metadata": {},
   "source": [
    "## E03. 뉴스기사 크롤링 및 분류"
   ]
  },
  {
   "cell_type": "markdown",
   "metadata": {},
   "source": [
    "### 3-4. BeautifulSoup패키지(HTML, XML로부터 원하는 정보 추출)"
   ]
  },
  {
   "cell_type": "code",
   "execution_count": 1,
   "metadata": {},
   "outputs": [],
   "source": [
    "from bs4 import BeautifulSoup"
   ]
  },
  {
   "cell_type": "code",
   "execution_count": 2,
   "metadata": {},
   "outputs": [],
   "source": [
    "#- HTML 문서를 문자열 html로 저장합니다.\n",
    "html = '''\n",
    "<html> \n",
    "    <head> \n",
    "    </head> \n",
    "    <body> \n",
    "        <h1> 장바구니\n",
    "            <p id='clothes' class='name' title='라운드티'> 라운드티\n",
    "                <span class = 'number'> 25 </span> \n",
    "                <span class = 'price'> 29000 </span> \n",
    "                <span class = 'menu'> 의류</span> \n",
    "                <a href = 'http://www.naver.com'> 바로가기 </a> \n",
    "            </p> \n",
    "            <p id='watch' class='name' title='시계'> 시계\n",
    "                <span class = 'number'> 28 </span>\n",
    "                <span class = 'price'> 32000 </span> \n",
    "                <span class = 'menu'> 악세서리 </span> \n",
    "                <a href = 'http://www.facebook.com'> 바로가기 </a> \n",
    "            </p> \n",
    "        </h1> \n",
    "    </body> \n",
    "</html>\n",
    "'''\n",
    "\n",
    "#- BeautifulSoup 인스턴스를 생성합니다.\n",
    "#- 두번째 매개변수는 분석할 분석기(parser)의 종류입니다.\n",
    "soup = BeautifulSoup(html, 'html.parser')"
   ]
  },
  {
   "cell_type": "code",
   "execution_count": 3,
   "metadata": {},
   "outputs": [
    {
     "name": "stdout",
     "output_type": "stream",
     "text": [
      "[<body>\n",
      "<h1> 장바구니\n",
      "            <p class=\"name\" id=\"clothes\" title=\"라운드티\"> 라운드티\n",
      "                <span class=\"number\"> 25 </span>\n",
      "<span class=\"price\"> 29000 </span>\n",
      "<span class=\"menu\"> 의류</span>\n",
      "<a href=\"http://www.naver.com\"> 바로가기 </a>\n",
      "</p>\n",
      "<p class=\"name\" id=\"watch\" title=\"시계\"> 시계\n",
      "                <span class=\"number\"> 28 </span>\n",
      "<span class=\"price\"> 32000 </span>\n",
      "<span class=\"menu\"> 악세서리 </span>\n",
      "<a href=\"http://www.facebook.com\"> 바로가기 </a>\n",
      "</p>\n",
      "</h1>\n",
      "</body>]\n"
     ]
    }
   ],
   "source": [
    "#. 인스턴스명.select(\"찾는 정보\") 방식으로 사용!\n",
    "#. class는 \"클래스이름\", id는 \"#아이디\"로 선택\n",
    "print(soup.select('body'))"
   ]
  },
  {
   "cell_type": "code",
   "execution_count": 4,
   "metadata": {},
   "outputs": [
    {
     "name": "stdout",
     "output_type": "stream",
     "text": [
      "[<body>\n",
      "<h1> 장바구니\n",
      "            <p class=\"name\" id=\"clothes\" title=\"라운드티\"> 라운드티\n",
      "                <span class=\"number\"> 25 </span>\n",
      "<span class=\"price\"> 29000 </span>\n",
      "<span class=\"menu\"> 의류</span>\n",
      "<a href=\"http://www.naver.com\"> 바로가기 </a>\n",
      "</p>\n",
      "<p class=\"name\" id=\"watch\" title=\"시계\"> 시계\n",
      "                <span class=\"number\"> 28 </span>\n",
      "<span class=\"price\"> 32000 </span>\n",
      "<span class=\"menu\"> 악세서리 </span>\n",
      "<a href=\"http://www.facebook.com\"> 바로가기 </a>\n",
      "</p>\n",
      "</h1>\n",
      "</body>]\n"
     ]
    }
   ],
   "source": [
    "#. body tag\n",
    "print(soup.select('body'))"
   ]
  },
  {
   "cell_type": "code",
   "execution_count": 5,
   "metadata": {},
   "outputs": [
    {
     "name": "stdout",
     "output_type": "stream",
     "text": [
      "[<p class=\"name\" id=\"clothes\" title=\"라운드티\"> 라운드티\n",
      "                <span class=\"number\"> 25 </span>\n",
      "<span class=\"price\"> 29000 </span>\n",
      "<span class=\"menu\"> 의류</span>\n",
      "<a href=\"http://www.naver.com\"> 바로가기 </a>\n",
      "</p>, <p class=\"name\" id=\"watch\" title=\"시계\"> 시계\n",
      "                <span class=\"number\"> 28 </span>\n",
      "<span class=\"price\"> 32000 </span>\n",
      "<span class=\"menu\"> 악세서리 </span>\n",
      "<a href=\"http://www.facebook.com\"> 바로가기 </a>\n",
      "</p>]\n"
     ]
    }
   ],
   "source": [
    "#. p tag\n",
    "print(soup.select('p'))"
   ]
  },
  {
   "cell_type": "code",
   "execution_count": 6,
   "metadata": {},
   "outputs": [
    {
     "name": "stdout",
     "output_type": "stream",
     "text": [
      "[<span class=\"menu\"> 의류</span>, <span class=\"menu\"> 악세서리 </span>]\n"
     ]
    }
   ],
   "source": [
    "# h1 요소 자식 중 class가 menu인 경우만 출력하기\n",
    "print(soup.select('h1 .name .menu'))"
   ]
  },
  {
   "cell_type": "markdown",
   "metadata": {},
   "source": [
    "### 3-5. newspaper3k 패키지 - 뉴스 데이터 크롤링 전문 패키지"
   ]
  },
  {
   "cell_type": "code",
   "execution_count": 55,
   "metadata": {},
   "outputs": [],
   "source": [
    "from newspaper import Article\n",
    "\n",
    "#- 파싱할 뉴스 기사 주소입니다.\n",
    "url = 'https://news.naver.com/main/read.nhn?mode=LSD&mid=sec&sid1=101&oid=030&aid=0002881076'\n",
    "\n",
    "#- 언어가 한국어이므로 language='ko'로 설정해줍니다.\n",
    "article = Article(url, language='ko')\n",
    "article.download()\n",
    "article.parse()"
   ]
  },
  {
   "cell_type": "code",
   "execution_count": 56,
   "metadata": {},
   "outputs": [
    {
     "name": "stdout",
     "output_type": "stream",
     "text": [
      "기사 제목 :\n",
      "[AI 사피엔스 시대]자연어처리 기술, 컴퓨팅 파워 경쟁 시대로\n",
      "\n",
      "기사 내용 :\n",
      "[Copyright ⓒ 전자신문 & 전자신문인터넷, 무단전재 및 재배포 금지]\n",
      "\n",
      "주로 아이디어와 기술력으로 경쟁했던 자연어처리 인공지능(AI) 분야는 점차 컴퓨팅 파워 싸움으로 무게 추가 이동하고 있다. 모델이 대형화되면서 향상된 퍼포먼스 확보에 필요한 자금 규모도 커지고 있다. 자칫 대기업 자본력에 휘둘릴 수 있다는 우려도 함께 나온다.자연어처리(NLP)는 인간이 사용하는 언어 체계를 기계가 인식하도록 알고리즘을 디자인하는 기술이다. 흔히 말하는 컴퓨터 혹은 인간과 대화하는 컴퓨터 관련 기술이 포함된다.목적에 따라 세 가지 카테고리로 나뉜다. 인간이 제기한 질문에 자동으로 적절한 답을 찾아주는 '질의응답(QA)', 원하는 업무를 지시했을 때 작업을 수행하는 '테스크 컴플리션', 그리고 특별한 목적이 없는 대화를 의미하는 '오픈도메인 컨버세이션(비목적성 대화)'이 있다. 각기 발전해왔던 세 가지 기술은 지난 2018년 구글의 인공지능 언어모델 '버트(BERT)'의 등장으로 패러다임이 전환됐다. 압도적인 성능으로 대량의 프리트레이닝(사전학습)이 가능해지면서 굳이 셋을 구분할 필요가 없어진 것이다.기계학습 연구에서 모델을 학습할 때는 지도학습과 비지도학습, 강화학습 중 하나를 골라 활용한다. 지도학습은 사람이 적절한 입력과 출력을 부여하는 방식이다. 정답이 정해져 있고 기계의 정답률도 쉽게 측정할 수 있다. 반면에 비지도학습은 정답이 정해지지 않은 데이터에 대해서도 기계가 스스로 클러스터링 등을 통해 학습한다. 체계화되지 않은 대량의 데이터를 학습 가능하지만 학습이 맞게 됐는지 확인하기 어렵다.버트는 기존 AI 학습 방법을 혁신적으로 바꿔놨다는 평가를 받는다. 자연어처리를 교사 없이 양방향으로 사전 학습하는 최초의 시스템이다. 비지도학습 방식을 사용하면서도 기존 존재했던 어떤 기술보다 뛰어난 성능을 보여준다. 최근 1년 반 동안 버트를 필두로 AI 모델은 급격히 대형화되는 추세다.이는 기존의 빅데이터 개념을 훨씬 상회하는 초 대규모 데이터를 프리트레이닝 단계에서 학습 가능하게 만드는 결과로 이어졌다. 성능도 비약적으로 상승했다. 가장 최근 구글이 선보인 제너레이션 모델은 제시된 문장에 대해 인간의 80~90% 수준으로 답변 문장을 만들어 낸다.문제는 모델이 대형화되면서 기술을 구성하는 요소 중 알고리즘 대비 대량의 데이터셋과 컴퓨팅 파워 중요성이 더 커졌다는 점이다. 버트 자체는 '파인튜닝' 방식으로 다양한 분야에 확대 적용이 가능하지만 버트 성능에 준하는 최신 대형 모델을 만들어내려면 현존 최신 텐서처리장치(TPU)로도 학습에 수십 일이 걸린다.국내 한 AI 스타트업 대표는 “국내 상황은 데이터셋·인력·자금 인프라 모두 중국이나 영어권에 비해 떨어지는 게 사실이다. 자연어처리 모델 하나 만드는 데 10억~20억원씩 비용이 들어 고민이 많다”면서 “지금 글로벌 시장에서 격차가 나기 시작하면 이후에는 따라잡기 어려워진다. 정부 차원의 관심과 지원이 필요하다”고 말했다.이형두기자 dudu@etnews.com\n"
     ]
    }
   ],
   "source": [
    "#- 기사 제목을 출력합니다.\n",
    "print('기사 제목 :')\n",
    "print(article.title)\n",
    "print('')\n",
    "\n",
    "#- 기사 내용을 출력합니다.\n",
    "print('기사 내용 :')\n",
    "print(article.text)"
   ]
  },
  {
   "cell_type": "markdown",
   "metadata": {},
   "source": [
    "### 3-7. 네이버 뉴스 기사 크롤링 (2) BeautifulSoup와 newspaper3k를 통해 크롤러 만들기"
   ]
  },
  {
   "cell_type": "code",
   "execution_count": 58,
   "metadata": {},
   "outputs": [],
   "source": [
    "# 크롤러를 만들기 전 필요한 도구들을 임포트합니다.\n",
    "import requests\n",
    "import pandas as pd\n",
    "from bs4 import BeautifulSoup\n",
    "\n",
    "# 페이지 수, 카테고리, 날짜를 입력값으로 받습니다.\n",
    "def make_urllist(page_num, code, date): \n",
    "  urllist= []\n",
    "  for i in range(1, page_num + 1):\n",
    "    url = 'https://news.naver.com/main/list.nhn?mode=LSD&mid=sec&sid1='+str(code)+'&date='+str(date)+'&page='+str(i)   \n",
    "    news = requests.get(url)\n",
    "\n",
    "    # BeautifulSoup의 인스턴스 생성합니다. 파서는 html.parser를 사용합니다.\n",
    "    soup = BeautifulSoup(news.content, 'html.parser')\n",
    "\n",
    "    # CASE 1\n",
    "    news_list = soup.select('.newsflash_body .type06_headline li dl')\n",
    "    # CASE 2\n",
    "    news_list.extend(soup.select('.newsflash_body .type06 li dl'))\n",
    "        \n",
    "    # 각 뉴스로부터 a 태그인 <a href ='주소'> 에서 '주소'만을 가져옵니다.\n",
    "    for line in news_list:\n",
    "        urllist.append(line.a.get('href'))\n",
    "  return urllist"
   ]
  },
  {
   "cell_type": "code",
   "execution_count": 59,
   "metadata": {},
   "outputs": [
    {
     "name": "stdout",
     "output_type": "stream",
     "text": [
      "뉴스 기사의 개수:  40\n"
     ]
    }
   ],
   "source": [
    "#. 한 페이지당 뉴스 기사가 20개임을 감안하여 총 40개의 url리스트 받아오기\n",
    "url_list = make_urllist(2, 101, 20200506)\n",
    "print('뉴스 기사의 개수: ',len(url_list))"
   ]
  },
  {
   "cell_type": "code",
   "execution_count": 60,
   "metadata": {},
   "outputs": [
    {
     "data": {
      "text/plain": [
       "['https://news.naver.com/main/read.nhn?mode=LSD&mid=sec&sid1=101&oid=057&aid=0001451723',\n",
       " 'https://news.naver.com/main/read.nhn?mode=LSD&mid=sec&sid1=101&oid=057&aid=0001451721',\n",
       " 'https://news.naver.com/main/read.nhn?mode=LSD&mid=sec&sid1=101&oid=057&aid=0001451718',\n",
       " 'https://news.naver.com/main/read.nhn?mode=LSD&mid=sec&sid1=101&oid=003&aid=0009849190',\n",
       " 'https://news.naver.com/main/read.nhn?mode=LSD&mid=sec&sid1=101&oid=057&aid=0001451717']"
      ]
     },
     "execution_count": 60,
     "metadata": {},
     "output_type": "execute_result"
    }
   ],
   "source": [
    "#. 5개만 출력해 보기\n",
    "url_list[:5]"
   ]
  },
  {
   "cell_type": "markdown",
   "metadata": {},
   "source": [
    "==> news url들만 잘 저장되어 리스트를 받아올 수만 있다면 newspaper3k를 이용하여 뉴스기사들을 파이썬에 저장할 수 있다"
   ]
  },
  {
   "cell_type": "code",
   "execution_count": 12,
   "metadata": {},
   "outputs": [],
   "source": [
    "idx2word = {'101' : '경제', '102' : '사회', '103' : '생활/문화', '105' : 'IT/과학'}"
   ]
  },
  {
   "cell_type": "markdown",
   "metadata": {},
   "source": [
    "newspaper3k를 통해서 만들어진 함수로 URL 리스트와 해당 URL이 어떤 카테고리인지 코드를 알려주면 이를 통해 데이터프레임을 생성하는 함수"
   ]
  },
  {
   "cell_type": "code",
   "execution_count": 3,
   "metadata": {},
   "outputs": [],
   "source": [
    "from newspaper import Article\n",
    "\n",
    "#- 데이터프레임을 생성하는 함수입니다.\n",
    "def make_data(urllist, code):\n",
    "  text_list = []\n",
    "  for url in urllist:\n",
    "    article = Article(url, language='ko')\n",
    "    article.download()\n",
    "    article.parse()\n",
    "    text_list.append(article.text)\n",
    "\n",
    "  #- 데이터프레임의 'news' 키 아래 파싱한 텍스트를 밸류로 붙여줍니다.\n",
    "  df = pd.DataFrame({'news': text_list})\n",
    "\n",
    "  #- 데이터프레임의 'code' 키 아래 한글 카테고리명을 붙여줍니다.\n",
    "  df['code'] = idx2word[str(code)]\n",
    "  return df"
   ]
  },
  {
   "cell_type": "markdown",
   "metadata": {},
   "source": [
    "경제 카테고리(코드 101)의 40개의 URL 리스트로부터 데이터프레임을 생성"
   ]
  },
  {
   "cell_type": "code",
   "execution_count": 14,
   "metadata": {},
   "outputs": [
    {
     "data": {
      "text/html": [
       "<div>\n",
       "<style scoped>\n",
       "    .dataframe tbody tr th:only-of-type {\n",
       "        vertical-align: middle;\n",
       "    }\n",
       "\n",
       "    .dataframe tbody tr th {\n",
       "        vertical-align: top;\n",
       "    }\n",
       "\n",
       "    .dataframe thead th {\n",
       "        text-align: right;\n",
       "    }\n",
       "</style>\n",
       "<table border=\"1\" class=\"dataframe\">\n",
       "  <thead>\n",
       "    <tr style=\"text-align: right;\">\n",
       "      <th></th>\n",
       "      <th>news</th>\n",
       "      <th>code</th>\n",
       "    </tr>\n",
       "  </thead>\n",
       "  <tbody>\n",
       "    <tr>\n",
       "      <th>0</th>\n",
       "      <td>고려은단이 5월을 맞아 응원 메시지를 공유하는 ‘5월 5글자로 응원 부탁해!’ 이벤...</td>\n",
       "      <td>경제</td>\n",
       "    </tr>\n",
       "    <tr>\n",
       "      <th>1</th>\n",
       "      <td>코리아나화장품의 민감성 피부를 위한 저자극 스킨케어 브랜드 '프리엔제'가 마르고 건...</td>\n",
       "      <td>경제</td>\n",
       "    </tr>\n",
       "    <tr>\n",
       "      <th>2</th>\n",
       "      <td>서울장수주식회사가 부드럽고 달콤한 맛으로 인기를 모으고 있는 생막걸리 ‘인생막걸리’...</td>\n",
       "      <td>경제</td>\n",
       "    </tr>\n",
       "    <tr>\n",
       "      <th>3</th>\n",
       "      <td>[서울=뉴시스] 오동현 기자 = 모바일 게임 기업 컴투스는 3D 모바일 야구 게임 ...</td>\n",
       "      <td>경제</td>\n",
       "    </tr>\n",
       "    <tr>\n",
       "      <th>4</th>\n",
       "      <td>대원제약이 2020년 상반기 신입과 경력 정기 공채를 실시합니다.정기 공채 모집분야...</td>\n",
       "      <td>경제</td>\n",
       "    </tr>\n",
       "    <tr>\n",
       "      <th>5</th>\n",
       "      <td>[AFP=연합뉴스] [AFP=연합뉴스]\\n\\n\"요즘은 잔인한 날\"…리프트도 앞서 9...</td>\n",
       "      <td>경제</td>\n",
       "    </tr>\n",
       "    <tr>\n",
       "      <th>6</th>\n",
       "      <td>이재용 삼성전자 부회장이 6일 삼성전자 서울 서초사옥에서 대국민 사과 회견을 하기 ...</td>\n",
       "      <td>경제</td>\n",
       "    </tr>\n",
       "    <tr>\n",
       "      <th>7</th>\n",
       "      <td>JW중외제약이 A형 혈우병 예방요법제 ‘헴리브라피하주사를 출시하고 본격적인 마케팅 ...</td>\n",
       "      <td>경제</td>\n",
       "    </tr>\n",
       "    <tr>\n",
       "      <th>8</th>\n",
       "      <td>옵티팜과 휴벳바이오가 공동 개발중인 백신 후보 물질에 대해 마우스, 기니피그, 미니...</td>\n",
       "      <td>경제</td>\n",
       "    </tr>\n",
       "    <tr>\n",
       "      <th>9</th>\n",
       "      <td>[한국경제TV 신동호 기자]\\n\\n전남 나주시와 충북 청주시가 방사광 가속기 구축사...</td>\n",
       "      <td>경제</td>\n",
       "    </tr>\n",
       "  </tbody>\n",
       "</table>\n",
       "</div>"
      ],
      "text/plain": [
       "                                                news code\n",
       "0  고려은단이 5월을 맞아 응원 메시지를 공유하는 ‘5월 5글자로 응원 부탁해!’ 이벤...   경제\n",
       "1  코리아나화장품의 민감성 피부를 위한 저자극 스킨케어 브랜드 '프리엔제'가 마르고 건...   경제\n",
       "2  서울장수주식회사가 부드럽고 달콤한 맛으로 인기를 모으고 있는 생막걸리 ‘인생막걸리’...   경제\n",
       "3  [서울=뉴시스] 오동현 기자 = 모바일 게임 기업 컴투스는 3D 모바일 야구 게임 ...   경제\n",
       "4  대원제약이 2020년 상반기 신입과 경력 정기 공채를 실시합니다.정기 공채 모집분야...   경제\n",
       "5  [AFP=연합뉴스] [AFP=연합뉴스]\\n\\n\"요즘은 잔인한 날\"…리프트도 앞서 9...   경제\n",
       "6  이재용 삼성전자 부회장이 6일 삼성전자 서울 서초사옥에서 대국민 사과 회견을 하기 ...   경제\n",
       "7  JW중외제약이 A형 혈우병 예방요법제 ‘헴리브라피하주사를 출시하고 본격적인 마케팅 ...   경제\n",
       "8  옵티팜과 휴벳바이오가 공동 개발중인 백신 후보 물질에 대해 마우스, 기니피그, 미니...   경제\n",
       "9  [한국경제TV 신동호 기자]\\n\\n전남 나주시와 충북 청주시가 방사광 가속기 구축사...   경제"
      ]
     },
     "execution_count": 14,
     "metadata": {},
     "output_type": "execute_result"
    }
   ],
   "source": [
    "data = make_data(url_list, 101)\n",
    "#- 상위 10개만 출력해봅니다.\n",
    "data[:10]"
   ]
  },
  {
   "cell_type": "markdown",
   "metadata": {},
   "source": [
    "### 3-8. 네이버 뉴스 기사 크롤링 (3) 데이터 수집 및 전처리\n",
    "여러 카테고리에 뉴스들도 수집해보기\n",
    "-> 특저 날짜의 사회, 생활/문화, IT/과학"
   ]
  },
  {
   "cell_type": "code",
   "execution_count": 15,
   "metadata": {},
   "outputs": [
    {
     "data": {
      "text/plain": [
       "[102, 103, 105]"
      ]
     },
     "execution_count": 15,
     "metadata": {},
     "output_type": "execute_result"
    }
   ],
   "source": [
    "# 수집을 원하는 카테고리 코드를을 저장한 리스트를 만들어두기\n",
    "code_list = [102, 103, 105]\n",
    "\n",
    "code_list"
   ]
  },
  {
   "cell_type": "markdown",
   "metadata": {},
   "source": [
    "코드 리스트, 날짜, 페이지 수를 입력으로 받는 `make_total_data()` 함수 만들기\n",
    "-> 내부적으로 앞서 만든 `make_urllist` 함수와 `make_data` 함수를 호출하도록 한다"
   ]
  },
  {
   "cell_type": "code",
   "execution_count": 16,
   "metadata": {},
   "outputs": [],
   "source": [
    "def make_total_data(page_num, code_list, date):\n",
    "  df = None\n",
    "\n",
    "  for code in code_list:\n",
    "    url_list = make_urllist(page_num, code, date)\n",
    "    df_temp = make_data(url_list, code)\n",
    "    print(str(code)+'번 코드에 대한 데이터를 만들었습니다.')\n",
    "\n",
    "    if df is not None:\n",
    "      df = pd.concat([df, df_temp])\n",
    "    else:\n",
    "      df = df_temp\n",
    "\n",
    "  return df"
   ]
  },
  {
   "cell_type": "markdown",
   "metadata": {},
   "source": [
    "! 2020. 5. 6 기사에 대해 1페이지 크롤링 실시 + 102, 103, 105번 코드를 갖는 카테고리의 뉴스들을 수집하여 DF에 저장\n",
    "+ 크롤링은 웹에서 데이터를 받아오는 과정이 포함되어 시간이 많이 걸릴 수 있다"
   ]
  },
  {
   "cell_type": "code",
   "execution_count": 17,
   "metadata": {},
   "outputs": [
    {
     "name": "stdout",
     "output_type": "stream",
     "text": [
      "102번 코드에 대한 데이터를 만들었습니다.\n",
      "103번 코드에 대한 데이터를 만들었습니다.\n",
      "105번 코드에 대한 데이터를 만들었습니다.\n"
     ]
    }
   ],
   "source": [
    "df = make_total_data(1, code_list, 20200506)"
   ]
  },
  {
   "cell_type": "code",
   "execution_count": 18,
   "metadata": {},
   "outputs": [
    {
     "name": "stdout",
     "output_type": "stream",
     "text": [
      "뉴스 기사의 개수:  60\n"
     ]
    }
   ],
   "source": [
    "print('뉴스 기사의 개수: ',len(df))"
   ]
  },
  {
   "cell_type": "markdown",
   "metadata": {},
   "source": [
    "60개 중 임의의 10개 샘플 선택하여 출력하기"
   ]
  },
  {
   "cell_type": "code",
   "execution_count": 19,
   "metadata": {},
   "outputs": [
    {
     "data": {
      "text/html": [
       "<div>\n",
       "<style scoped>\n",
       "    .dataframe tbody tr th:only-of-type {\n",
       "        vertical-align: middle;\n",
       "    }\n",
       "\n",
       "    .dataframe tbody tr th {\n",
       "        vertical-align: top;\n",
       "    }\n",
       "\n",
       "    .dataframe thead th {\n",
       "        text-align: right;\n",
       "    }\n",
       "</style>\n",
       "<table border=\"1\" class=\"dataframe\">\n",
       "  <thead>\n",
       "    <tr style=\"text-align: right;\">\n",
       "      <th></th>\n",
       "      <th>news</th>\n",
       "      <th>code</th>\n",
       "    </tr>\n",
       "  </thead>\n",
       "  <tbody>\n",
       "    <tr>\n",
       "      <th>12</th>\n",
       "      <td>기사 섹션 분류 안내\\n\\n기사의 섹션 정보는 해당 언론사의 분류를 따르고 있습니다...</td>\n",
       "      <td>생활/문화</td>\n",
       "    </tr>\n",
       "    <tr>\n",
       "      <th>10</th>\n",
       "      <td>/사진=뉴스1 /사진=뉴스1\\n\\n[파이낸셜뉴스] 과학기술정보통신부가 6일 1조원대...</td>\n",
       "      <td>IT/과학</td>\n",
       "    </tr>\n",
       "    <tr>\n",
       "      <th>8</th>\n",
       "      <td>6일 등교수업을 앞둔 경북 한 학교의 보건실에는 손소독제, 마스크 등 방역물품이 상...</td>\n",
       "      <td>사회</td>\n",
       "    </tr>\n",
       "    <tr>\n",
       "      <th>3</th>\n",
       "      <td>©아가타 파리(AGATHA PARIS) ©아가타 파리(AGATHA PARIS)\\n\\...</td>\n",
       "      <td>생활/문화</td>\n",
       "    </tr>\n",
       "    <tr>\n",
       "      <th>4</th>\n",
       "      <td>(서울=연합뉴스) 대한약사회가 6일부터 코로나바이러스 감염증 대응 체계를 '사회적 ...</td>\n",
       "      <td>사회</td>\n",
       "    </tr>\n",
       "    <tr>\n",
       "      <th>12</th>\n",
       "      <td>동영상 뉴스\\n\\n[앵커]다음 주 고등학교 3학년부터 순차적인 등교수업이 시작되는데...</td>\n",
       "      <td>사회</td>\n",
       "    </tr>\n",
       "    <tr>\n",
       "      <th>15</th>\n",
       "      <td>/뉴스1 DB. /뉴스1 DB.\\n\\n(서울=뉴스1) 이상학 기자 = 밤에 귀가하던...</td>\n",
       "      <td>사회</td>\n",
       "    </tr>\n",
       "    <tr>\n",
       "      <th>4</th>\n",
       "      <td>EBS '까칠남녀'에 출연한 정영진/EBS EBS '까칠남녀'에 출연한 정영진/EB...</td>\n",
       "      <td>생활/문화</td>\n",
       "    </tr>\n",
       "    <tr>\n",
       "      <th>13</th>\n",
       "      <td>블랙홀을 품은 삼중성계 HR 6819 상상도 [ESO/L. Calcada 제공/ 재...</td>\n",
       "      <td>IT/과학</td>\n",
       "    </tr>\n",
       "    <tr>\n",
       "      <th>17</th>\n",
       "      <td>바티칸의 사도궁 집무실에서 6일(현지시간) 인터넷 중계 방식의 수요 일반 알현 훈화...</td>\n",
       "      <td>생활/문화</td>\n",
       "    </tr>\n",
       "  </tbody>\n",
       "</table>\n",
       "</div>"
      ],
      "text/plain": [
       "                                                 news   code\n",
       "12  기사 섹션 분류 안내\\n\\n기사의 섹션 정보는 해당 언론사의 분류를 따르고 있습니다...  생활/문화\n",
       "10  /사진=뉴스1 /사진=뉴스1\\n\\n[파이낸셜뉴스] 과학기술정보통신부가 6일 1조원대...  IT/과학\n",
       "8   6일 등교수업을 앞둔 경북 한 학교의 보건실에는 손소독제, 마스크 등 방역물품이 상...     사회\n",
       "3   ©아가타 파리(AGATHA PARIS) ©아가타 파리(AGATHA PARIS)\\n\\...  생활/문화\n",
       "4   (서울=연합뉴스) 대한약사회가 6일부터 코로나바이러스 감염증 대응 체계를 '사회적 ...     사회\n",
       "12  동영상 뉴스\\n\\n[앵커]다음 주 고등학교 3학년부터 순차적인 등교수업이 시작되는데...     사회\n",
       "15  /뉴스1 DB. /뉴스1 DB.\\n\\n(서울=뉴스1) 이상학 기자 = 밤에 귀가하던...     사회\n",
       "4   EBS '까칠남녀'에 출연한 정영진/EBS EBS '까칠남녀'에 출연한 정영진/EB...  생활/문화\n",
       "13  블랙홀을 품은 삼중성계 HR 6819 상상도 [ESO/L. Calcada 제공/ 재...  IT/과학\n",
       "17  바티칸의 사도궁 집무실에서 6일(현지시간) 인터넷 중계 방식의 수요 일반 알현 훈화...  생활/문화"
      ]
     },
     "execution_count": 19,
     "metadata": {},
     "output_type": "execute_result"
    }
   ],
   "source": [
    "df.sample(10)"
   ]
  },
  {
   "cell_type": "markdown",
   "metadata": {},
   "source": [
    "__수집한 데이터의 샘플들을 랜덤으로 여러 번 출력해 보는 것은 데이터를 파악하는데 꽤 큰 도움__"
   ]
  },
  {
   "cell_type": "markdown",
   "metadata": {},
   "source": [
    "### 대량 크롤링\n",
    "수집 데이터로 ML모델을 통해 카테고리 예측하는 모델 - 3개 카테고리에 대한 100여개 페이지 크롤링(40~50분 소요)\n",
    "- ! 너무 많은 페이지를 수집하면 시간이 너무 오래 소요되거나, 서버에서 접근을 거부할 수 있습니다. 적당한 규모로 수집해 주세요."
   ]
  },
  {
   "cell_type": "code",
   "execution_count": 20,
   "metadata": {},
   "outputs": [],
   "source": [
    "# 아래 주석처리된 코드의 주석을 해제하고 실행을 하면 대량 크롤링이 진행됩니다. \n",
    "# 위에서 수행했던 크롤링의 100배 분량이 수행될 것입니다. 한꺼번에 너무 많은 크롤링 요청이 서버에 전달되지 않도록 주의해 주세요. \n",
    "# 기사 일자를 바꿔보면서 데이터를 모으면 더욱 다양한 데이터를 얻을 수 있게 됩니다. \n",
    "\n",
    "#df = make_total_data(100, code_list, 20200506)"
   ]
  },
  {
   "cell_type": "code",
   "execution_count": 19,
   "metadata": {},
   "outputs": [
    {
     "name": "stdout",
     "output_type": "stream",
     "text": [
      "/home/aiffel/aiffel/news_crawler/news_data.csv File Saved!\n"
     ]
    }
   ],
   "source": [
    "# 크롤링한 뉴스 기사의 양이 많으므로 실수로 유실하지 않도록 csv 파일로 별도 저장\n",
    "\n",
    "import os\n",
    "\n",
    "# 데이터프레임 파일을 csv 파일로 저장합니다.\n",
    "# 저장경로는 이번 프로젝트를 위해 만든 폴더로 지정해 주세요.\n",
    "csv_path = os.getenv(\"HOME\") + \"/aiffel/news_crawler/news_data.csv\"\n",
    "df.to_csv(csv_path, index=False)\n",
    "\n",
    "if os.path.exists(csv_path):\n",
    "  print('{} File Saved!'.format(csv_path))"
   ]
  },
  {
   "cell_type": "markdown",
   "metadata": {},
   "source": [
    "### 3-9. naver news article crawling (4) data preprocessing\\\n",
    "데이터를 가공/정제하여 모델의 훈련에 사용하기 좋은 숫자의 형태로 바꿔준다"
   ]
  },
  {
   "cell_type": "code",
   "execution_count": 51,
   "metadata": {},
   "outputs": [
    {
     "data": {
      "text/html": [
       "<div>\n",
       "<style scoped>\n",
       "    .dataframe tbody tr th:only-of-type {\n",
       "        vertical-align: middle;\n",
       "    }\n",
       "\n",
       "    .dataframe tbody tr th {\n",
       "        vertical-align: top;\n",
       "    }\n",
       "\n",
       "    .dataframe thead th {\n",
       "        text-align: right;\n",
       "    }\n",
       "</style>\n",
       "<table border=\"1\" class=\"dataframe\">\n",
       "  <thead>\n",
       "    <tr style=\"text-align: right;\">\n",
       "      <th></th>\n",
       "      <th>news</th>\n",
       "      <th>code</th>\n",
       "    </tr>\n",
       "  </thead>\n",
       "  <tbody>\n",
       "    <tr>\n",
       "      <th>0</th>\n",
       "      <td>파주시청. 사진제공=파주시 파주시청. 사진제공=파주시\\n\\n[파주=파이낸셜뉴스 강근...</td>\n",
       "      <td>사회</td>\n",
       "    </tr>\n",
       "    <tr>\n",
       "      <th>1</th>\n",
       "      <td>동영상 뉴스\\n\\n이천 물류창고 화재 발화지점으로 지목된 지하 2층에서 산소절단기의...</td>\n",
       "      <td>사회</td>\n",
       "    </tr>\n",
       "    <tr>\n",
       "      <th>2</th>\n",
       "      <td>황범순 의정부시 부시장 을지대학교 의정부캠퍼스 및 부속병원 공사현장 안전점검. 사진...</td>\n",
       "      <td>사회</td>\n",
       "    </tr>\n",
       "    <tr>\n",
       "      <th>3</th>\n",
       "      <td>귀갓길 여성을 쫓아가 성범죄를 시도한 20대 남성이 구속됐습니다.서울 강남경찰서는 ...</td>\n",
       "      <td>사회</td>\n",
       "    </tr>\n",
       "    <tr>\n",
       "      <th>4</th>\n",
       "      <td>(서울=연합뉴스) 대한약사회가 6일부터 코로나바이러스 감염증 대응 체계를 '사회적 ...</td>\n",
       "      <td>사회</td>\n",
       "    </tr>\n",
       "  </tbody>\n",
       "</table>\n",
       "</div>"
      ],
      "text/plain": [
       "                                                news code\n",
       "0  파주시청. 사진제공=파주시 파주시청. 사진제공=파주시\\n\\n[파주=파이낸셜뉴스 강근...   사회\n",
       "1  동영상 뉴스\\n\\n이천 물류창고 화재 발화지점으로 지목된 지하 2층에서 산소절단기의...   사회\n",
       "2  황범순 의정부시 부시장 을지대학교 의정부캠퍼스 및 부속병원 공사현장 안전점검. 사진...   사회\n",
       "3  귀갓길 여성을 쫓아가 성범죄를 시도한 20대 남성이 구속됐습니다.서울 강남경찰서는 ...   사회\n",
       "4  (서울=연합뉴스) 대한약사회가 6일부터 코로나바이러스 감염증 대응 체계를 '사회적 ...   사회"
      ]
     },
     "execution_count": 51,
     "metadata": {},
     "output_type": "execute_result"
    }
   ],
   "source": [
    "#. 저장해둔 csv파일을 다시 읽어서 dataframe으로 저장하기 위한 코드\n",
    "import os\n",
    "csv_path = os.getenv(\"HOME\") + \"/aiffel/news_crawler/news_data.csv\"\n",
    "df = pd.read_table(csv_path, sep=',')\n",
    "df.head()"
   ]
  },
  {
   "cell_type": "code",
   "execution_count": 52,
   "metadata": {
    "scrolled": false
   },
   "outputs": [
    {
     "data": {
      "text/plain": [
       "0     파주시청 사진제공파주시 파주시청 사진제공파주시파주파이낸셜뉴스 강근주 기자 파주시는 ...\n",
       "1     동영상 뉴스이천 물류창고 화재 발화지점으로 지목된 지하 층에서 산소절단기의 산소 공...\n",
       "2     황범순 의정부시 부시장 을지대학교 의정부캠퍼스 및 부속병원 공사현장 안전점검 사진제...\n",
       "3     귀갓길 여성을 쫓아가 성범죄를 시도한 대 남성이 구속됐습니다서울 강남경찰서는 강간상...\n",
       "4     서울연합뉴스 대한약사회가 일부터 코로나바이러스 감염증 대응 체계를 사회적 거리두기에...\n",
       "5     질서정연 코로나 확산 방지를 위한 물리적 거리 두기가 생활 속 거리 두기로 전환된 ...\n",
       "6     코로나에 걸렸다 나은 친구는 아무래도 좀 멀리하게 될 것 같아요 재발 가능성 때문에...\n",
       "7     년 메이저리그  다저스의 시즌 마지막 경기였다 신인 타자 더스티 베이커현 휴스턴 애...\n",
       "8     일 등교수업을 앞둔 경북 한 학교의 보건실에는 손소독제 마스크 등 방역물품이 상자째...\n",
       "9     경찰 로고뉴스   신채린 기자 경찰 로고뉴스   신채린 기자서울뉴스 이상학 기자  ...\n",
       "10    안병용 의정부시장 이천화재 희생자 합동분향소 헌화 사진제공의정부시 안병용 의정부시장...\n",
       "11    이재용 삼성전자 부회장의 일 대국민 사과가 그를 상대로 한 수사재판에 어떤 영향을 ...\n",
       "12    동영상 뉴스앵커다음 주 고등학교 학년부터 순차적인 등교수업이 시작되는데 교실 방역에...\n",
       "13    명의 사망자가 발생한 경기 이천 물류창고 화재 현장에서 일 경찰과 소방 등 관계기관...\n",
       "14    동영상 뉴스앵커코로나 신규 확진자가 명 발생해 일 만에 최저치를 기록했습니다방역 당...\n",
       "15    뉴스  뉴스 서울뉴스 이상학 기자  밤에 귀가하던 여성에게 성범죄를 시도한 대 남성...\n",
       "16    메건 마클 왕자비와 아들 아치의 모습세이브더칠드런 인스타그램 캡처 재판매 및  금지...\n",
       "17    국내 최초로 건립되는 노동문학관이 일 첫 삽을 떴다노동문학관건립위원회위원장 정세훈 ...\n",
       "18    기사 섹션 분류 안내기사의 섹션 정보는 해당 언론사의 분류를 따르고 있습니다 언론사...\n",
       "19    이남식 서울예대 총장왼쪽 안심키트 배포 사진제공서울예대 이남식 서울예대 총장왼쪽 안...\n",
       "20    헤럴드경제고승희 기자 문화체육관광부는 한국문화예술위원회 기 비상임위원으로 다문화극단...\n",
       "21    동영상 뉴스오늘 서쪽 지방과 동쪽 지방의 온도 차가 제법 컸습니다서쪽 지방은 강한 ...\n",
       "22    나는 지난 여년간 협력이라는 말을 매일 마주하며 살고 있다 남북관계 현장에서 젊음을...\n",
       "23    아가타 파리  아가타 파리 아가타 파리  아가타 파리 아가타 파리 가 시그니처 라인...\n",
       "24     까칠남녀에 출연한 정영진  까칠남녀에 출연한 정영진 까칠남녀에 출연한 정영진  까...\n",
       "25    사진에듀윌 사진에듀윌계리직공무원은 우체국 내에서 현장 창구 업무를 비롯해 금융 및 ...\n",
       "26    기사 섹션 분류 안내기사의 섹션 정보는 해당 언론사의 분류를 따르고 있습니다 언론사...\n",
       "27    동영상 뉴스월 날씨가 맞나 싶으시죠오늘도 초여름이었습니다심지어 올 들어 최고기온을 ...\n",
       "28    서울뉴시스 박주연 기자   공식 딜러 바바리안모터스가 프로야구단 와이번스와 스폰서십...\n",
       "29    기사 섹션 분류 안내기사의 섹션 정보는 해당 언론사의 분류를 따르고 있습니다 언론사...\n",
       "30    기사 섹션 분류 안내기사의 섹션 정보는 해당 언론사의 분류를 따르고 있습니다 언론사...\n",
       "31    코로나로 텅빈 베로나 아레나와 브라광장매년 여름 오페라 축제가 열리는 베로나 아레나...\n",
       "32    기사 섹션 분류 안내기사의 섹션 정보는 해당 언론사의 분류를 따르고 있습니다 언론사...\n",
       "33     전주앵커해마다 이맘때면 전주 영화의 거리에는 봄의 영화 축제를 즐기려는 관객들로 ...\n",
       "34    한남대 조형예술학부 회화전공 박경범 교수왼쪽가 이광섭 총장에게 발전기금 만원을 전달...\n",
       "35    나스 나스모던 메이크업 아티스트 브랜드 나스가 쿨 크러쉬 컬렉션을 선보인다고 밝혔다...\n",
       "36    기사 섹션 분류 안내기사의 섹션 정보는 해당 언론사의 분류를 따르고 있습니다 언론사...\n",
       "37    바티칸의 사도궁 집무실에서 일현지시간 인터넷 중계 방식의 수요 일반 알현 훈화를 하...\n",
       "38    년   까칠남녀에 출연한 방송인 정영진  방송 캡처 년   까칠남녀에 출연한 방송인...\n",
       "39    동영상 뉴스앵커생활 속 거리두기가 시작되면서 박물관과 미술관 등 문화예술기관도 다시...\n",
       "40    서울뉴시스 오동현 기자  모바일 게임 기업 컴투스는  모바일 야구 게임 컴투스프로야...\n",
       "41    연합뉴스 연합뉴스요즘은 잔인한 날리프트도 앞서 명 일시해고뉴욕연합뉴스 이귀원 특파원...\n",
       "42    서울연합뉴스 대한약사회가 일부터 코로나바이러스 감염증 대응 체계를 사회적 거리두기에...\n",
       "43     청주앵커충청북도가 한 차례 고배를 마셨던 방사광 가속기 유치에 다시 도전해 차 관...\n",
       "44    지난 년 포항공대에 구축한 세대 선형 방사광가속기 연합뉴스 지난 년 포항공대에 구축...\n",
       "45    나주 방사광 가속기 조감도 전남도 제공 나주 방사광 가속기 조감도 전남도 제공치열한...\n",
       "46    서울뉴시스 오동현 기자  펍지주식회사가 올해 첫 플레이어언노운스 배틀그라운드 글로벌...\n",
       "47    한국경제 김주리 기자지구에서 약 천광년밖에 떨어지지 않은 곳에서 맨눈으로도 볼 수 ...\n",
       "48    과학기술정보통신부 제공 과학기술정보통신부 제공소재 등 산업과 기초과학 연구개발을 동...\n",
       "49    사진일 국회에서 열린 과방위 법안소위의 모습 코로나를 고려해 본회의실에서 개최됐다일...\n",
       "50    사진뉴스 사진뉴스파이낸셜뉴스 과학기술정보통신부가 일 조원대 차세대 방사광 가속기 설...\n",
       "51    포항가속기연구소에 설치돼 있는 세대 방사광가속기 의 직선으로 이뤄져 있다 포항가속기...\n",
       "52    일 오전 서울 종로경찰서에서 아동청소년의 성보호에 관한 법률 위반 등 혐의와 텔레그...\n",
       "53    블랙홀을 품은 삼중성계   상상도   제공 재판매 및  금지 블랙홀을 품은 삼중성계...\n",
       "54    지난달 일 오후 강원 춘천시청 대회의실에서 열린 제회 강원 미래 과학 포럼에서 최문...\n",
       "55    서울경제 넷플릭스의 망 무임승차와 텔레그램의 불법 촬영물 유통을 막는 법안이 국회 ...\n",
       "56    일 국회에서 열린 과방위 법안소위 일 국회에서 열린 과방위 법안소위아이뉴스 민혜정 ...\n",
       "57    디지털데일리 이종현기자 공공시설을 이용하거나 공공기관 운영 강좌 수강을 신청할 때 ...\n",
       "58    기사 섹션 분류 안내기사의 섹션 정보는 해당 언론사의 분류를 따르고 있습니다 언론사...\n",
       "59    넷플릭스와 유튜브 페이스북 등에게 국내 이용자를 위한 서비스 안정성을 유지할 책임을...\n",
       "Name: news, dtype: object"
      ]
     },
     "execution_count": 52,
     "metadata": {},
     "output_type": "execute_result"
    }
   ],
   "source": [
    "# 정규 표현식을 이용해서 한글 외의 문자는 전부 제거\n",
    "df['news'] = df['news'].str.replace(\"[^ㄱ-ㅎㅏ-ㅣ가-힣 ]\",\"\")\n",
    "df['news']"
   ]
  },
  {
   "cell_type": "code",
   "execution_count": 7,
   "metadata": {
    "scrolled": true
   },
   "outputs": [
    {
     "name": "stdout",
     "output_type": "stream",
     "text": [
      "news    0\n",
      "code    0\n",
      "dtype: int64\n"
     ]
    }
   ],
   "source": [
    "# data에 null값이 있진 않은지 확인\n",
    "print(df.isnull().sum())"
   ]
  },
  {
   "cell_type": "code",
   "execution_count": 53,
   "metadata": {},
   "outputs": [
    {
     "name": "stdout",
     "output_type": "stream",
     "text": [
      "뉴스 기사의 개수:  53\n"
     ]
    }
   ],
   "source": [
    "# 중복된 샘플들을 제거합니다.\n",
    "df.drop_duplicates(subset=['news'], inplace=True)\n",
    "\n",
    "print('뉴스 기사의 개수: ',len(df))"
   ]
  },
  {
   "cell_type": "markdown",
   "metadata": {},
   "source": [
    "데이터 탐색\n",
    "---\n",
    "각 카테고리별 샘플 분포 확인 -> matplotlib에 한글폰트 적용안될 수 있음 주의\n",
    "[matplotlib 한글폰트 설정방법](https://followers.tistory.com/26)"
   ]
  },
  {
   "cell_type": "code",
   "execution_count": 50,
   "metadata": {},
   "outputs": [
    {
     "data": {
      "text/plain": [
       "<AxesSubplot:>"
      ]
     },
     "execution_count": 50,
     "metadata": {},
     "output_type": "execute_result"
    },
    {
     "data": {
      "image/png": "[encoded data removed]",
      "text/plain": [
       "<Figure size 432x288 with 1 Axes>"
      ]
     },
     "metadata": {
      "needs_background": "light"
     },
     "output_type": "display_data"
    }
   ],
   "source": [
    "df['code'].value_counts().plot(kind = 'bar')"
   ]
  },
  {
   "cell_type": "code",
   "execution_count": 16,
   "metadata": {
    "scrolled": true
   },
   "outputs": [
    {
     "data": {
      "text/plain": [
       "Text(0.3, 0.3, '한글')"
      ]
     },
     "execution_count": 16,
     "metadata": {},
     "output_type": "execute_result"
    },
    {
     "data": {
      "image/png": "[encoded data removed]",
      "text/plain": [
       "<Figure size 432x288 with 1 Axes>"
      ]
     },
     "metadata": {
      "needs_background": "light"
     },
     "output_type": "display_data"
    }
   ],
   "source": [
    "#. 한글 삽질의 시작\n",
    "import matplotlib.pyplot as plt\n",
    "plt.text(0.3, 0.3, '한글', size=100)"
   ]
  },
  {
   "cell_type": "code",
   "execution_count": 49,
   "metadata": {},
   "outputs": [],
   "source": [
    "from matplotlib import font_manager as fm\n",
    "font_location='/home/aiffel/.local/share/fonts/D2CodingBold-Ver1.3.2-20180524-ligature.ttf'\n",
    "font_name=fm.FontProperties(fname=font_location).get_name()\n",
    "plt.rc('font',family=font_name)"
   ]
  },
  {
   "cell_type": "code",
   "execution_count": 33,
   "metadata": {},
   "outputs": [
    {
     "data": {
      "text/plain": [
       "Text(0.3, 0.3, '한글')"
      ]
     },
     "execution_count": 33,
     "metadata": {},
     "output_type": "execute_result"
    },
    {
     "data": {
      "image/png": "[encoded data removed]",
      "text/plain": [
       "<Figure size 432x288 with 1 Axes>"
      ]
     },
     "metadata": {
      "needs_background": "light"
     },
     "output_type": "display_data"
    }
   ],
   "source": [
    "plt.text(0.3, 0.3, '한글', size=100)"
   ]
  },
  {
   "cell_type": "code",
   "execution_count": 18,
   "metadata": {},
   "outputs": [],
   "source": [
    "# 글꼴 이름 찾기\n",
    "from matplotlib import font_manager "
   ]
  },
  {
   "cell_type": "code",
   "execution_count": 34,
   "metadata": {},
   "outputs": [
    {
     "name": "stdout",
     "output_type": "stream",
     "text": [
      "NanumBarunpen /usr/share/fonts/truetype/nanum/NanumBarunpenB.ttf\n",
      "NanumMyeongjo /usr/share/fonts/truetype/nanum/NanumMyeongjoExtraBold.ttf\n",
      "NanumMyeongjo Eco /usr/share/fonts/truetype/nanum/NanumMyeongjoEco.ttf\n",
      "NanumBarunGothic /usr/share/fonts/truetype/nanum/NanumBarunGothicUltraLight.ttf\n",
      "NanumSquareRound /usr/share/fonts/truetype/nanum/NanumSquareRoundL.ttf\n",
      "NanumGothic /usr/share/fonts/truetype/nanum/NanumGothic.ttf\n",
      "NanumSquare /usr/share/fonts/truetype/nanum/NanumSquareEB.ttf\n",
      "NanumGothic Eco /usr/share/fonts/truetype/nanum/NanumGothicEcoExtraBold.ttf\n",
      "NanumMyeongjo /usr/share/fonts/truetype/nanum/NanumMyeongjo.ttf\n",
      "NanumGothic /usr/share/fonts/truetype/nanum/NanumGothicExtraBold.ttf\n",
      "NanumMyeongjo /usr/share/fonts/truetype/nanum/NanumMyeongjoBold.ttf\n",
      "NanumBarunpen /usr/share/fonts/truetype/nanum/NanumBarunpenR.ttf\n",
      "NanumGothic Eco /usr/share/fonts/truetype/nanum/NanumGothicEcoBold.ttf\n",
      "NanumMyeongjo Eco /usr/share/fonts/truetype/nanum/NanumMyeongjoEcoBold.ttf\n",
      "NanumSquareRound /usr/share/fonts/truetype/nanum/NanumSquareRoundB.ttf\n",
      "NanumSquare /usr/share/fonts/truetype/nanum/NanumSquareL.ttf\n",
      "NanumSquare /usr/share/fonts/truetype/nanum/NanumSquareR.ttf\n",
      "NanumSquareRound /usr/share/fonts/truetype/nanum/NanumSquareRoundR.ttf\n",
      "Nanum Pen Script /usr/share/fonts/truetype/nanum/NanumPen.ttf\n",
      "NanumMyeongjo Eco /usr/share/fonts/truetype/nanum/NanumMyeongjoEcoExtraBold.ttf\n",
      "NanumSquare /usr/share/fonts/truetype/nanum/NanumSquareB.ttf\n",
      "NanumGothic Eco /usr/share/fonts/truetype/nanum/NanumGothicEco.ttf\n",
      "NanumGothic /usr/share/fonts/truetype/nanum/NanumGothicLight.ttf\n",
      "NanumBarunGothic /usr/share/fonts/truetype/nanum/NanumBarunGothicBold.ttf\n",
      "Nanum Brush Script /usr/share/fonts/truetype/nanum/NanumBrush.ttf\n",
      "NanumBarunGothic /usr/share/fonts/truetype/nanum/NanumBarunGothic.ttf\n",
      "NanumGothicCoding /usr/share/fonts/truetype/nanum/NanumGothicCoding-Bold.ttf\n",
      "NanumBarunGothic /usr/share/fonts/truetype/nanum/NanumBarunGothicLight.ttf\n",
      "NanumGothic /usr/share/fonts/truetype/nanum/NanumGothicBold.ttf\n",
      "NanumGothicCoding /usr/share/fonts/truetype/nanum/NanumGothicCoding.ttf\n",
      "NanumSquareRound /usr/share/fonts/truetype/nanum/NanumSquareRoundEB.ttf\n"
     ]
    }
   ],
   "source": [
    "for font in font_manager.fontManager.ttflist:\n",
    "    if 'Nanum' in font.name:\n",
    "        print(font.name, font.fname)"
   ]
  },
  {
   "cell_type": "code",
   "execution_count": 41,
   "metadata": {},
   "outputs": [
    {
     "name": "stdout",
     "output_type": "stream",
     "text": [
      "버전:  3.3.0\n",
      "설치 위치:  /home/aiffel/anaconda3/envs/aiffel/lib/python3.7/site-packages/matplotlib/__init__.py\n",
      "설정 위치:  /home/aiffel/.config/matplotlib\n",
      "캐시 위치:  /home/aiffel/.cache/matplotlib\n"
     ]
    }
   ],
   "source": [
    "import matplotlib as mpl\n",
    "print ('버전: ', mpl.__version__)\n",
    "print ('설치 위치: ', mpl.__file__)\n",
    "print ('설정 위치: ', mpl.get_configdir())\n",
    "print ('캐시 위치: ', mpl.get_cachedir())"
   ]
  },
  {
   "cell_type": "code",
   "execution_count": 35,
   "metadata": {},
   "outputs": [
    {
     "name": "stdout",
     "output_type": "stream",
     "text": [
      "설정 파일 위치:  /home/aiffel/anaconda3/envs/aiffel/lib/python3.7/site-packages/matplotlib/mpl-data/matplotlibrc\n",
      "261\n"
     ]
    }
   ],
   "source": [
    "print ('설정 파일 위치: ', mpl.matplotlib_fname())\n",
    "\n",
    "font_list = font_manager.findSystemFonts(fontpaths=None, fontext='ttf')\n",
    "\n",
    "# ttf 폰트 전체개수\n",
    "print(len(font_list))"
   ]
  },
  {
   "cell_type": "code",
   "execution_count": 36,
   "metadata": {},
   "outputs": [
    {
     "name": "stdout",
     "output_type": "stream",
     "text": [
      "['/usr/share/fonts/truetype/noto/NotoMono-Regular.ttf', '/usr/share/fonts/truetype/openoffice/opens___.ttf', '/home/aiffel/.local/share/fonts/FiraCode-Retina.ttf', '/usr/share/fonts/truetype/ubuntu/Ubuntu-BI.ttf', '/usr/share/fonts/truetype/fonts-beng-extra/LikhanNormal.ttf', '/usr/share/fonts/truetype/liberation2/LiberationSerif-Regular.ttf', '/usr/share/fonts/truetype/sinhala/lklug.ttf', '/usr/share/fonts/truetype/tlwg/TlwgTypo-Oblique.ttf', '/usr/share/fonts/opentype/noto/NotoSansCJK-Regular.ttc', '/usr/share/fonts/truetype/ubuntu/UbuntuMono-RI.ttf', '/usr/share/fonts/truetype/liberation2/LiberationSans-Bold.ttf', '/usr/share/fonts/truetype/tlwg/Sawasdee-BoldOblique.ttf', '/usr/share/fonts/truetype/tlwg/Sawasdee-Oblique.ttf', '/usr/share/fonts/truetype/nanum/NanumSquareR.ttf', '/usr/share/fonts/truetype/liberation2/LiberationSerif-Bold.ttf', '/usr/share/fonts/truetype/tlwg/Garuda-BoldOblique.ttf', '/usr/share/fonts/truetype/nanum/NanumBarunpenB.ttf', '/usr/share/fonts/truetype/tlwg/Kinnari-Italic.ttf', '/usr/share/fonts/truetype/freefont/FreeMonoBoldOblique.ttf', '/usr/share/fonts/opentype/firacode/FiraCode-Light.otf', '/usr/share/fonts/truetype/liberation/LiberationMono-Bold.ttf', '/usr/share/fonts/truetype/fonts-deva-extra/samanata.ttf', '/usr/share/fonts/truetype/nanum/NanumSquareRoundL.ttf', '/usr/share/fonts/truetype/fonts-beng-extra/MuktiNarrow.ttf', '/usr/share/fonts/truetype/kacst/KacstQurn.ttf', '/usr/share/fonts/truetype/fonts-orya-extra/utkal.ttf', '/usr/share/fonts/truetype/liberation/LiberationMono-BoldItalic.ttf', '/usr/share/fonts/truetype/kacst/KacstTitleL.ttf', '/usr/share/fonts/truetype/malayalam/Dyuthi.ttf', '/usr/share/fonts/truetype/malayalam/Keraleeyam.ttf', '/usr/share/fonts/truetype/tibetan-machine/TibetanMachineUni.ttf', '/usr/share/fonts/truetype/freefont/FreeMonoOblique.ttf', '/usr/share/fonts/truetype/nanum/NanumSquareL.ttf', '/usr/share/fonts/truetype/padauk/PadaukBook-Bold.ttf', '/usr/share/fonts/truetype/liberation/LiberationSans-BoldItalic.ttf', '/usr/share/fonts/truetype/tlwg/Umpush-BoldOblique.ttf', '/usr/share/fonts/opentype/malayalam/Manjari-Bold.otf', '/usr/share/fonts/opentype/noto/NotoSerifCJK-Black.ttc', '/usr/share/fonts/truetype/tlwg/TlwgTypist-Oblique.ttf', '/usr/share/fonts/truetype/freefont/FreeSansOblique.ttf', '/usr/share/fonts/truetype/malayalam/Rachana-Bold.ttf', '/usr/share/fonts/truetype/tlwg/Purisa-BoldOblique.ttf', '/usr/share/fonts/truetype/tlwg/Garuda-Oblique.ttf', '/usr/share/fonts/truetype/kacst/KacstOffice.ttf', '/usr/share/fonts/truetype/liberation2/LiberationMono-Regular.ttf', '/usr/share/fonts/truetype/lohit-kannada/Lohit-Kannada.ttf', '/usr/share/fonts/truetype/dejavu/DejaVuSans.ttf', '/usr/share/fonts/opentype/noto/NotoSerifCJK-ExtraLight.ttc', '/usr/share/fonts/truetype/tlwg/Loma-Bold.ttf', '/usr/share/fonts/truetype/nanum/NanumMyeongjo.ttf', '/usr/share/fonts/opentype/noto/NotoSansCJK-DemiLight.ttc', '/usr/share/fonts/truetype/freefont/FreeSerifBold.ttf', '/usr/share/fonts/truetype/liberation/LiberationSansNarrow-BoldItalic.ttf', '/usr/share/fonts/opentype/malayalam/Manjari-Thin.otf', '/usr/share/fonts/truetype/ubuntu/Ubuntu-M.ttf', '/usr/share/fonts/truetype/liberation/LiberationMono-Regular.ttf', '/usr/share/fonts/truetype/fonts-kalapi/Kalapi.ttf', '/usr/share/fonts/truetype/ubuntu/UbuntuMono-BI.ttf', '/usr/share/fonts/truetype/ubuntu/UbuntuMono-B.ttf', '/usr/share/fonts/truetype/freefont/FreeSansBold.ttf', '/usr/share/fonts/truetype/liberation2/LiberationMono-Italic.ttf', '/usr/share/fonts/truetype/liberation/LiberationMono-Italic.ttf', '/usr/share/fonts/truetype/samyak/Samyak-Devanagari.ttf', '/usr/share/fonts/truetype/kacst/KacstTitle.ttf', '/usr/share/fonts/truetype/tlwg/Kinnari.ttf', '/usr/share/fonts/truetype/fonts-telu-extra/vemana2000.ttf', '/usr/share/fonts/truetype/ubuntu/Ubuntu-MI.ttf', '/usr/share/fonts/truetype/nanum/NanumBarunGothicBold.ttf', '/usr/share/fonts/truetype/kacst/KacstFarsi.ttf', '/usr/share/fonts/truetype/tlwg/Waree-Bold.ttf', '/usr/share/fonts/truetype/tlwg/Norasi-BoldItalic.ttf', '/usr/share/fonts/truetype/tlwg/Umpush-LightOblique.ttf', '/usr/share/fonts/truetype/Sahadeva/sahadeva.ttf', '/usr/share/fonts/truetype/abyssinica/AbyssinicaSIL-R.ttf', '/usr/share/fonts/truetype/nanum/NanumGothicCoding.ttf', '/usr/share/fonts/truetype/nanum/NanumSquareEB.ttf', '/usr/share/fonts/truetype/padauk/Padauk-Regular.ttf', '/usr/share/fonts/truetype/fonts-gujr-extra/Rekha.ttf', '/usr/share/fonts/truetype/kacst/KacstDigital.ttf', '/usr/share/fonts/opentype/noto/NotoSansCJK-Medium.ttc', '/usr/share/fonts/truetype/lohit-devanagari/Lohit-Devanagari.ttf', '/usr/share/fonts/truetype/kacst/KacstNaskh.ttf', '/usr/share/fonts/truetype/kacst-one/KacstOne-Bold.ttf', '/usr/share/fonts/truetype/ubuntu/Ubuntu-LI.ttf', '/usr/share/fonts/opentype/noto/NotoSansCJK-Light.ttc', '/usr/share/fonts/truetype/kacst/KacstLetter.ttf', '/usr/share/fonts/truetype/kacst-one/KacstOne.ttf', '/usr/share/fonts/truetype/fonts-guru-extra/Saab.ttf', '/usr/share/fonts/opentype/noto/NotoSansCJK-Bold.ttc', '/usr/share/fonts/truetype/liberation2/LiberationMono-BoldItalic.ttf', '/usr/share/fonts/truetype/fonts-beng-extra/mitra.ttf', '/usr/share/fonts/truetype/nanum/NanumBarunpenR.ttf', '/usr/share/fonts/truetype/tlwg/Purisa.ttf', '/usr/share/fonts/truetype/nanum/NanumSquareRoundB.ttf', '/usr/share/fonts/truetype/dejavu/DejaVuSerif.ttf', '/usr/share/fonts/truetype/malayalam/AnjaliOldLipi.ttf', '/usr/share/fonts/truetype/fonts-gujr-extra/padmaa.ttf', '/usr/share/fonts/opentype/noto/NotoSerifCJK-Light.ttc', '/usr/share/fonts/truetype/malayalam/Meera.ttf', '/usr/share/fonts/truetype/tlwg/Kinnari-Bold.ttf', '/usr/share/fonts/truetype/liberation2/LiberationMono-Bold.ttf', '/usr/share/fonts/truetype/ubuntu/Ubuntu-C.ttf', '/usr/share/fonts/truetype/fonts-deva-extra/kalimati.ttf', '/usr/share/fonts/truetype/malayalam/Suruma.ttf', '/usr/share/fonts/truetype/tlwg/Laksaman-BoldItalic.ttf', '/usr/share/fonts/truetype/tlwg/Umpush-Bold.ttf', '/usr/share/fonts/truetype/liberation/LiberationSerif-Italic.ttf', '/usr/share/fonts/truetype/fonts-beng-extra/JamrulNormal.ttf', '/usr/share/fonts/truetype/tlwg/TlwgMono.ttf', '/usr/share/fonts/truetype/malayalam/RaghuMalayalamSans-Regular.ttf', '/usr/share/fonts/truetype/nanum/NanumSquareRoundEB.ttf', '/usr/share/fonts/opentype/noto/NotoSerifCJK-Medium.ttc', '/usr/share/fonts/truetype/nanum/NanumMyeongjoBold.ttf', '/usr/share/fonts/truetype/tlwg/Umpush-Oblique.ttf', '/usr/share/fonts/truetype/kacst/KacstPoster.ttf', '/usr/share/fonts/truetype/tlwg/TlwgTypo-BoldOblique.ttf', '/usr/share/fonts/truetype/ttf-khmeros-core/KhmerOS.ttf', '/usr/share/fonts/truetype/tlwg/TlwgTypist.ttf', '/usr/share/fonts/truetype/kacst/KacstDecorative.ttf', '/usr/share/fonts/truetype/Sarai/Sarai.ttf', '/usr/share/fonts/truetype/tlwg/TlwgTypist-Bold.ttf', '/usr/share/fonts/truetype/freefont/FreeSansBoldOblique.ttf', '/usr/share/fonts/truetype/tlwg/Umpush-Light.ttf', '/usr/share/fonts/truetype/nanum/NanumBarunGothicLight.ttf', '/usr/share/fonts/truetype/tlwg/Kinnari-Oblique.ttf', '/usr/share/fonts/truetype/liberation2/LiberationSans-Regular.ttf', '/usr/share/fonts/truetype/tlwg/TlwgMono-BoldOblique.ttf', '/usr/share/fonts/opentype/noto/NotoSerifCJK-SemiBold.ttc', '/usr/share/fonts/opentype/noto/NotoSerifCJK-Regular.ttc', '/usr/share/fonts/truetype/liberation/LiberationSerif-Regular.ttf', '/usr/share/fonts/truetype/fonts-deva-extra/chandas1-2.ttf', '/usr/share/fonts/truetype/tlwg/TlwgTypo-Bold.ttf', '/usr/share/fonts/truetype/tlwg/Norasi-Italic.ttf', '/usr/share/fonts/truetype/dejavu/DejaVuSansMono-Bold.ttf', '/usr/share/fonts/truetype/tlwg/TlwgTypo.ttf', '/usr/share/fonts/truetype/nanum/NanumMyeongjoEcoExtraBold.ttf', '/usr/share/fonts/truetype/tlwg/TlwgTypewriter-Oblique.ttf', '/usr/share/fonts/truetype/nanum/NanumGothicExtraBold.ttf', '/usr/share/fonts/truetype/lohit-telugu/Lohit-Telugu.ttf', '/usr/share/fonts/truetype/nanum/NanumSquareRoundR.ttf', '/usr/share/fonts/truetype/ubuntu/Ubuntu-RI.ttf', '/usr/share/fonts/truetype/fonts-gujr-extra/aakar-medium.ttf', '/usr/share/fonts/truetype/tlwg/Umpush.ttf', '/usr/share/fonts/truetype/lohit-bengali/Lohit-Bengali.ttf', '/usr/share/fonts/truetype/ttf-khmeros-core/KhmerOSsys.ttf', '/usr/share/fonts/truetype/malayalam/Karumbi.ttf', '/usr/share/fonts/truetype/tlwg/Laksaman-Italic.ttf', '/usr/share/fonts/truetype/nanum/NanumBrush.ttf', '/usr/share/fonts/truetype/samyak-fonts/Samyak-Malayalam.ttf', '/usr/share/fonts/opentype/firacode/FiraCode-Medium.otf', '/usr/share/fonts/truetype/liberation2/LiberationSerif-BoldItalic.ttf', '/usr/share/fonts/truetype/ubuntu/Ubuntu-R.ttf', '/usr/share/fonts/truetype/tlwg/Purisa-Oblique.ttf', '/usr/share/fonts/truetype/tlwg/Waree-Oblique.ttf', '/usr/share/fonts/truetype/tlwg/Norasi-Oblique.ttf', '/usr/share/fonts/truetype/nanum/NanumGothic.ttf', '/usr/share/fonts/truetype/kacst/KacstScreen.ttf', '/usr/share/fonts/truetype/nanum/NanumMyeongjoExtraBold.ttf', '/usr/share/fonts/truetype/tlwg/Laksaman-Bold.ttf', '/usr/share/fonts/truetype/tlwg/TlwgTypist-BoldOblique.ttf', '/usr/share/fonts/truetype/lohit-punjabi/Lohit-Gurmukhi.ttf', '/usr/share/fonts/truetype/nanum/NanumGothicBold.ttf', '/usr/share/fonts/truetype/malayalam/Rachana-Regular.ttf', '/usr/share/fonts/truetype/nanum/NanumGothicEcoExtraBold.ttf', '/usr/share/fonts/truetype/liberation2/LiberationSans-BoldItalic.ttf', '/usr/share/fonts/truetype/Navilu/Navilu.ttf', '/usr/share/fonts/truetype/tlwg/TlwgTypewriter-BoldOblique.ttf', '/usr/share/fonts/truetype/droid/DroidSansFallbackFull.ttf', '/usr/share/fonts/truetype/liberation/LiberationSerif-BoldItalic.ttf', '/usr/share/fonts/opentype/firacode/FiraCode-Regular.otf', '/home/aiffel/.local/share/fonts/FiraCode-Medium.ttf', '/usr/share/fonts/truetype/ubuntu/Ubuntu-B.ttf', '/usr/share/fonts/truetype/tlwg/Purisa-Bold.ttf', '/usr/share/fonts/truetype/tlwg/Waree.ttf', '/usr/share/fonts/truetype/tlwg/Kinnari-BoldOblique.ttf', '/usr/share/fonts/truetype/lohit-malayalam/Lohit-Malayalam.ttf', '/usr/share/fonts/truetype/Gargi/Gargi.ttf', '/usr/share/fonts/truetype/ubuntu/Ubuntu-L.ttf', '/usr/share/fonts/truetype/padauk/Padauk-Bold.ttf', '/usr/share/fonts/truetype/tlwg/Loma-Oblique.ttf', '/usr/share/fonts/truetype/tlwg/TlwgTypewriter.ttf', '/usr/share/fonts/truetype/nanum/NanumBarunGothicUltraLight.ttf', '/usr/share/fonts/truetype/samyak-fonts/Samyak-Gujarati.ttf', '/usr/share/fonts/truetype/Gubbi/Gubbi.ttf', '/usr/share/fonts/truetype/tlwg/Garuda-Bold.ttf', '/usr/share/fonts/truetype/lohit-oriya/Lohit-Odia.ttf', '/usr/share/fonts/truetype/nanum/NanumGothicCoding-Bold.ttf', '/usr/share/fonts/truetype/nanum/NanumBarunGothic.ttf', '/usr/share/fonts/truetype/kacst/mry_KacstQurn.ttf', '/usr/share/fonts/truetype/tlwg/TlwgMono-Oblique.ttf', '/usr/share/fonts/opentype/firacode/FiraCode-Retina.otf', '/usr/share/fonts/truetype/tlwg/Norasi-Bold.ttf', '/usr/share/fonts/truetype/ubuntu/UbuntuMono-R.ttf', '/usr/share/fonts/truetype/tlwg/Laksaman.ttf', '/usr/share/fonts/truetype/nanum/NanumMyeongjoEco.ttf', '/usr/share/fonts/truetype/tlwg/Loma.ttf', '/usr/share/fonts/truetype/lohit-gujarati/Lohit-Gujarati.ttf', '/usr/share/fonts/truetype/liberation/LiberationSans-Bold.ttf', '/usr/share/fonts/truetype/nanum/NanumGothicEcoBold.ttf', '/home/aiffel/.local/share/fonts/FiraCode-Light.ttf', '/usr/share/fonts/truetype/freefont/FreeMono.ttf', '/usr/share/fonts/truetype/liberation/LiberationSans-Italic.ttf', '/usr/share/fonts/truetype/tlwg/Kinnari-BoldItalic.ttf', '/usr/share/fonts/truetype/freefont/FreeSerifItalic.ttf', '/usr/share/fonts/opentype/malayalam/Manjari-Regular.otf', '/usr/share/fonts/truetype/freefont/FreeSerif.ttf', '/home/aiffel/.local/share/fonts/D2Coding-Ver1.3.2-20180524-ligature.ttf', '/usr/share/fonts/truetype/liberation/LiberationSansNarrow-Italic.ttf', '/usr/share/fonts/opentype/noto/NotoSansCJK-Thin.ttc', '/usr/share/fonts/truetype/liberation/LiberationSerif-Bold.ttf', '/usr/share/fonts/truetype/nanum/NanumGothicLight.ttf', '/home/aiffel/.local/share/fonts/D2CodingBold-Ver1.3.2-20180524-ligature.ttf', '/usr/share/fonts/truetype/kacst/KacstArt.ttf', '/usr/share/fonts/truetype/lohit-tamil-classical/Lohit-Tamil-Classical.ttf', '/usr/share/fonts/truetype/tlwg/Norasi-BoldOblique.ttf', '/usr/share/fonts/truetype/nanum/NanumSquareB.ttf', '/usr/share/fonts/truetype/padauk/PadaukBook-Regular.ttf', '/usr/share/fonts/truetype/freefont/FreeMonoBold.ttf', '/usr/share/fonts/truetype/liberation/LiberationSans-Regular.ttf', '/usr/share/fonts/truetype/dejavu/DejaVuSerif-Bold.ttf', '/usr/share/fonts/truetype/tlwg/Garuda.ttf', '/home/aiffel/.local/share/fonts/FiraCode-Bold.ttf', '/usr/share/fonts/truetype/tlwg/TlwgTypewriter-Bold.ttf', '/usr/share/fonts/truetype/lohit-tamil/Lohit-Tamil.ttf', '/usr/share/fonts/truetype/tlwg/Sawasdee.ttf', '/usr/share/fonts/truetype/dejavu/DejaVuSans-Bold.ttf', '/usr/share/fonts/truetype/fonts-beng-extra/MuktiNarrowBold.ttf', '/usr/share/fonts/truetype/noto/NotoColorEmoji.ttf', '/usr/share/fonts/truetype/nanum/NanumMyeongjoEcoBold.ttf', '/usr/share/fonts/truetype/tlwg/Sawasdee-Bold.ttf', '/usr/share/fonts/truetype/samyak-fonts/Samyak-Tamil.ttf', '/usr/share/fonts/truetype/lao/Phetsarath_OT.ttf', '/usr/share/fonts/truetype/fonts-gujr-extra/padmaa-Bold.1.1.ttf', '/usr/share/fonts/truetype/liberation2/LiberationSerif-Italic.ttf', '/usr/share/fonts/truetype/freefont/FreeSans.ttf', '/usr/share/fonts/opentype/noto/NotoSansCJK-Black.ttc', '/usr/share/fonts/truetype/dejavu/DejaVuSansMono.ttf', '/home/aiffel/.local/share/fonts/FiraCode-Regular.ttf', '/usr/share/fonts/truetype/tlwg/Loma-BoldOblique.ttf', '/usr/share/fonts/truetype/malayalam/Uroob.ttf', '/usr/share/fonts/truetype/kacst/KacstBook.ttf', '/usr/share/fonts/truetype/tlwg/Norasi.ttf', '/usr/share/fonts/truetype/freefont/FreeSerifBoldItalic.ttf', '/usr/share/fonts/opentype/noto/NotoSerifCJK-Bold.ttc', '/usr/share/fonts/truetype/liberation/LiberationSansNarrow-Regular.ttf', '/usr/share/fonts/truetype/malayalam/Chilanka-Regular.ttf', '/usr/share/fonts/opentype/firacode/FiraCode-Bold.otf', '/usr/share/fonts/truetype/fonts-gujr-extra/padmaa-Medium-0.5.ttf', '/usr/share/fonts/truetype/nanum/NanumGothicEco.ttf', '/usr/share/fonts/truetype/pagul/Pagul.ttf', '/usr/share/fonts/truetype/kacst/KacstPen.ttf', '/usr/share/fonts/truetype/lohit-assamese/Lohit-Assamese.ttf', '/usr/share/fonts/truetype/Nakula/nakula.ttf', '/usr/share/fonts/truetype/nanum/NanumPen.ttf', '/usr/share/fonts/truetype/fonts-telu-extra/Pothana2000.ttf', '/home/aiffel/.local/share/fonts/FiraCode-SemiBold.ttf', '/usr/share/fonts/truetype/tlwg/TlwgMono-Bold.ttf', '/usr/share/fonts/truetype/liberation/LiberationSansNarrow-Bold.ttf', '/usr/share/fonts/truetype/fonts-beng-extra/ani.ttf', '/usr/share/fonts/truetype/liberation2/LiberationSans-Italic.ttf', '/usr/share/fonts/truetype/tlwg/Waree-BoldOblique.ttf']\n"
     ]
    }
   ],
   "source": [
    "print(font_list)"
   ]
  },
  {
   "cell_type": "code",
   "execution_count": null,
   "metadata": {},
   "outputs": [],
   "source": []
  },
  {
   "cell_type": "code",
   "execution_count": 43,
   "metadata": {},
   "outputs": [],
   "source": [
    "f = [f.name for f in font_manager.fontManager.ttflist]"
   ]
  },
  {
   "cell_type": "code",
   "execution_count": 38,
   "metadata": {},
   "outputs": [
    {
     "data": {
      "text/plain": [
       "['STIXNonUnicode',\n",
       " 'DejaVu Serif',\n",
       " 'STIXSizeFiveSym',\n",
       " 'STIXNonUnicode',\n",
       " 'DejaVu Sans Mono',\n",
       " 'DejaVu Serif',\n",
       " 'DejaVu Serif',\n",
       " 'DejaVu Sans',\n",
       " 'STIXSizeOneSym',\n",
       " 'cmex10',\n",
       " 'STIXSizeTwoSym',\n",
       " 'DejaVu Sans Mono',\n",
       " 'cmmi10',\n",
       " 'DejaVu Sans Mono',\n",
       " 'STIXGeneral',\n",
       " 'STIXGeneral',\n",
       " 'cmtt10',\n",
       " 'cmss10',\n",
       " 'DejaVu Sans Display',\n",
       " 'STIXSizeOneSym',\n",
       " 'STIXGeneral',\n",
       " 'STIXGeneral',\n",
       " 'cmr10',\n",
       " 'DejaVu Serif',\n",
       " 'STIXSizeThreeSym',\n",
       " 'DejaVu Sans',\n",
       " 'cmsy10',\n",
       " 'STIXSizeFourSym',\n",
       " 'STIXSizeFourSym',\n",
       " 'DejaVu Sans',\n",
       " 'DejaVu Serif Display',\n",
       " 'STIXSizeThreeSym',\n",
       " 'DejaVu Sans Mono',\n",
       " 'STIXNonUnicode',\n",
       " 'STIXNonUnicode',\n",
       " 'DejaVu Sans',\n",
       " 'cmb10',\n",
       " 'STIXSizeTwoSym',\n",
       " 'Noto Serif CJK JP',\n",
       " 'OpenSymbol',\n",
       " 'Laksaman',\n",
       " 'Manjari',\n",
       " 'Liberation Serif',\n",
       " 'LKLUG',\n",
       " 'Meera',\n",
       " 'Lohit Telugu',\n",
       " 'Manjari',\n",
       " 'Dyuthi',\n",
       " 'Tlwg Typo',\n",
       " 'AnjaliOldLipi',\n",
       " 'Tlwg Typewriter',\n",
       " 'Norasi',\n",
       " 'Umpush',\n",
       " 'KacstFarsi',\n",
       " 'KacstBook',\n",
       " 'Sarai',\n",
       " 'Umpush',\n",
       " 'Garuda',\n",
       " 'FreeMono',\n",
       " 'KacstTitleL',\n",
       " 'Norasi',\n",
       " 'Khmer OS System',\n",
       " 'Ubuntu',\n",
       " 'Sawasdee',\n",
       " 'Padauk Book',\n",
       " 'NanumBarunpen',\n",
       " 'Purisa',\n",
       " 'Pothana2000',\n",
       " 'Saab',\n",
       " 'Rachana',\n",
       " 'NanumMyeongjo',\n",
       " 'Liberation Sans',\n",
       " 'Liberation Sans',\n",
       " 'Fira Code',\n",
       " 'NanumMyeongjo Eco',\n",
       " 'Purisa',\n",
       " 'Liberation Serif',\n",
       " 'Tlwg Typo',\n",
       " 'Keraleeyam',\n",
       " 'Noto Serif CJK JP',\n",
       " 'Kinnari',\n",
       " 'FreeMono',\n",
       " 'Fira Code',\n",
       " 'padmaa-Bold.1.1',\n",
       " 'Ubuntu Mono',\n",
       " 'Garuda',\n",
       " 'Fira Code',\n",
       " 'NanumBarunGothic',\n",
       " 'FreeSans',\n",
       " 'KacstScreen',\n",
       " 'Liberation Mono',\n",
       " 'Ubuntu',\n",
       " 'Liberation Mono',\n",
       " 'FreeSerif',\n",
       " 'Rekha',\n",
       " 'Tlwg Typist',\n",
       " 'Liberation Sans',\n",
       " 'FreeSerif',\n",
       " 'DejaVu Serif',\n",
       " 'Tlwg Typist',\n",
       " 'KacstPoster',\n",
       " 'Fira Code',\n",
       " 'Liberation Mono',\n",
       " 'FreeMono',\n",
       " 'NanumSquareRound',\n",
       " 'Kinnari',\n",
       " 'Kinnari',\n",
       " 'Ubuntu Condensed',\n",
       " 'Ubuntu',\n",
       " 'Phetsarath OT',\n",
       " 'Kinnari',\n",
       " 'NanumGothic',\n",
       " 'Likhan',\n",
       " 'KacstPen',\n",
       " 'Liberation Serif',\n",
       " 'Fira Code',\n",
       " 'Garuda',\n",
       " 'Loma',\n",
       " 'KacstOne',\n",
       " 'Kalimati',\n",
       " 'NanumSquare',\n",
       " 'DejaVu Serif',\n",
       " 'Noto Sans CJK JP',\n",
       " 'NanumGothic Eco',\n",
       " 'Noto Serif CJK JP',\n",
       " 'Laksaman',\n",
       " 'Garuda',\n",
       " 'Tlwg Typewriter',\n",
       " 'Noto Sans CJK JP',\n",
       " 'Mukti Narrow',\n",
       " 'Mitra Mono',\n",
       " 'FreeSans',\n",
       " 'NanumMyeongjo',\n",
       " 'DejaVu Sans Mono',\n",
       " 'NanumGothic',\n",
       " 'padmaa',\n",
       " 'Lohit Gurmukhi',\n",
       " 'Norasi',\n",
       " 'Kalapi',\n",
       " 'Droid Sans Fallback',\n",
       " 'Samyak Malayalam',\n",
       " 'Fira Code',\n",
       " 'Ubuntu Mono',\n",
       " 'Lohit Odia',\n",
       " 'Uroob',\n",
       " 'Liberation Mono',\n",
       " 'NanumMyeongjo',\n",
       " 'Liberation Serif',\n",
       " 'Navilu',\n",
       " 'NanumBarunpen',\n",
       " 'Umpush',\n",
       " 'NanumGothic Eco',\n",
       " 'Noto Sans CJK JP',\n",
       " 'NanumMyeongjo Eco',\n",
       " 'Liberation Sans',\n",
       " 'RaghuMalayalam',\n",
       " 'Nakula',\n",
       " 'Noto Serif CJK JP',\n",
       " 'Lohit Assamese',\n",
       " 'mry_KacstQurn',\n",
       " 'Purisa',\n",
       " 'Liberation Sans Narrow',\n",
       " 'Liberation Mono',\n",
       " 'Sawasdee',\n",
       " 'Lohit Kannada',\n",
       " 'Liberation Mono',\n",
       " 'FreeSerif',\n",
       " 'Abyssinica SIL',\n",
       " 'Tlwg Typewriter',\n",
       " 'Manjari',\n",
       " 'Waree',\n",
       " 'NanumSquareRound',\n",
       " 'Fira Code',\n",
       " 'NanumSquare',\n",
       " 'Tlwg Typo',\n",
       " 'Lohit Bengali',\n",
       " 'Samanata',\n",
       " 'Tlwg Typewriter',\n",
       " 'Suruma',\n",
       " 'Liberation Serif',\n",
       " 'Noto Serif CJK JP',\n",
       " 'Liberation Serif',\n",
       " 'Padauk Book',\n",
       " 'Liberation Mono',\n",
       " 'Liberation Serif',\n",
       " 'Liberation Sans Narrow',\n",
       " 'Lohit Tamil',\n",
       " 'Laksaman',\n",
       " 'NanumSquare',\n",
       " 'aakar',\n",
       " 'Vemana2000',\n",
       " 'Umpush',\n",
       " 'NanumSquareRound',\n",
       " 'Nanum Pen Script',\n",
       " 'Liberation Serif',\n",
       " 'Tlwg Mono',\n",
       " 'D2Coding ligature',\n",
       " 'Liberation Sans',\n",
       " 'Noto Sans CJK JP',\n",
       " 'Noto Sans CJK JP',\n",
       " 'Waree',\n",
       " 'Liberation Mono',\n",
       " 'NanumMyeongjo Eco',\n",
       " 'Padauk',\n",
       " 'Sawasdee',\n",
       " 'Tlwg Typist',\n",
       " 'NanumSquare',\n",
       " 'Pagul',\n",
       " 'Lohit Tamil Classical',\n",
       " 'Ubuntu',\n",
       " 'Ubuntu Mono',\n",
       " 'Tlwg Typo',\n",
       " 'NanumGothic Eco',\n",
       " 'Kinnari',\n",
       " 'KacstDecorative',\n",
       " 'NanumGothic',\n",
       " 'Waree',\n",
       " 'Padauk',\n",
       " 'Samyak Tamil',\n",
       " 'KacstQurn',\n",
       " 'Lohit Gujarati',\n",
       " 'FreeSerif',\n",
       " 'KacstOffice',\n",
       " 'Noto Sans CJK JP',\n",
       " 'KacstNaskh',\n",
       " 'Gubbi',\n",
       " 'Gargi',\n",
       " 'Ubuntu Mono',\n",
       " 'KacstTitle',\n",
       " 'Norasi',\n",
       " 'Tlwg Mono',\n",
       " 'Noto Mono',\n",
       " 'NanumBarunGothic',\n",
       " 'Loma',\n",
       " 'FreeSans',\n",
       " 'D2Coding ligature',\n",
       " 'Liberation Sans',\n",
       " 'Fira Code',\n",
       " 'Chandas',\n",
       " 'DejaVu Sans',\n",
       " 'FreeSans',\n",
       " 'Norasi',\n",
       " 'Mukti Narrow',\n",
       " 'Nanum Brush Script',\n",
       " 'Khmer OS',\n",
       " 'Karumbi',\n",
       " 'NanumBarunGothic',\n",
       " 'NanumGothicCoding',\n",
       " 'KacstOne',\n",
       " 'NanumBarunGothic',\n",
       " 'Tlwg Typist',\n",
       " 'Fira Code',\n",
       " 'Ani',\n",
       " 'Liberation Sans',\n",
       " 'Tlwg Mono',\n",
       " 'Samyak Devanagari',\n",
       " 'Laksaman',\n",
       " 'Lohit Malayalam',\n",
       " 'Waree',\n",
       " 'Liberation Sans Narrow',\n",
       " 'Fira Code',\n",
       " 'Umpush',\n",
       " 'NanumGothic',\n",
       " 'Ubuntu',\n",
       " 'Loma',\n",
       " 'Lohit Devanagari',\n",
       " 'DejaVu Sans Mono',\n",
       " 'Loma',\n",
       " 'NanumGothicCoding',\n",
       " 'padmaa',\n",
       " 'NanumSquareRound',\n",
       " 'DejaVu Sans',\n",
       " 'Fira Code',\n",
       " 'KacstLetter',\n",
       " 'Norasi',\n",
       " 'Noto Serif CJK JP',\n",
       " 'FreeMono',\n",
       " 'Samyak Gujarati',\n",
       " 'Sawasdee',\n",
       " 'Tibetan Machine Uni',\n",
       " 'Noto Serif CJK JP',\n",
       " 'Chilanka',\n",
       " 'Umpush',\n",
       " 'Tlwg Mono',\n",
       " 'Liberation Sans Narrow',\n",
       " 'Sahadeva',\n",
       " 'KacstDigital',\n",
       " 'Purisa',\n",
       " 'ori1Uni',\n",
       " 'Noto Sans CJK JP',\n",
       " 'Ubuntu',\n",
       " 'KacstArt',\n",
       " 'Liberation Sans',\n",
       " 'Rachana',\n",
       " 'Jamrul',\n",
       " 'Kinnari',\n",
       " 'Ubuntu',\n",
       " 'Ubuntu']"
      ]
     },
     "execution_count": 38,
     "metadata": {},
     "output_type": "execute_result"
    }
   ],
   "source": [
    "f"
   ]
  },
  {
   "cell_type": "code",
   "execution_count": 44,
   "metadata": {},
   "outputs": [
    {
     "data": {
      "text/plain": [
       "[('NanumBarunpen', '/usr/share/fonts/truetype/nanum/NanumBarunpenB.ttf'),\n",
       " ('NanumMyeongjo',\n",
       "  '/usr/share/fonts/truetype/nanum/NanumMyeongjoExtraBold.ttf'),\n",
       " ('NanumMyeongjo Eco', '/usr/share/fonts/truetype/nanum/NanumMyeongjoEco.ttf'),\n",
       " ('NanumBarunGothic',\n",
       "  '/usr/share/fonts/truetype/nanum/NanumBarunGothicUltraLight.ttf'),\n",
       " ('NanumSquareRound', '/usr/share/fonts/truetype/nanum/NanumSquareRoundL.ttf'),\n",
       " ('NanumGothic', '/usr/share/fonts/truetype/nanum/NanumGothic.ttf'),\n",
       " ('NanumSquare', '/usr/share/fonts/truetype/nanum/NanumSquareEB.ttf'),\n",
       " ('NanumGothic Eco',\n",
       "  '/usr/share/fonts/truetype/nanum/NanumGothicEcoExtraBold.ttf'),\n",
       " ('NanumMyeongjo', '/usr/share/fonts/truetype/nanum/NanumMyeongjo.ttf'),\n",
       " ('NanumGothic', '/usr/share/fonts/truetype/nanum/NanumGothicExtraBold.ttf'),\n",
       " ('NanumMyeongjo', '/usr/share/fonts/truetype/nanum/NanumMyeongjoBold.ttf'),\n",
       " ('NanumBarunpen', '/usr/share/fonts/truetype/nanum/NanumBarunpenR.ttf'),\n",
       " ('NanumGothic Eco', '/usr/share/fonts/truetype/nanum/NanumGothicEcoBold.ttf'),\n",
       " ('NanumMyeongjo Eco',\n",
       "  '/usr/share/fonts/truetype/nanum/NanumMyeongjoEcoBold.ttf'),\n",
       " ('NanumSquareRound', '/usr/share/fonts/truetype/nanum/NanumSquareRoundB.ttf'),\n",
       " ('NanumSquare', '/usr/share/fonts/truetype/nanum/NanumSquareL.ttf'),\n",
       " ('NanumSquare', '/usr/share/fonts/truetype/nanum/NanumSquareR.ttf'),\n",
       " ('NanumSquareRound', '/usr/share/fonts/truetype/nanum/NanumSquareRoundR.ttf'),\n",
       " ('Nanum Pen Script', '/usr/share/fonts/truetype/nanum/NanumPen.ttf'),\n",
       " ('NanumMyeongjo Eco',\n",
       "  '/usr/share/fonts/truetype/nanum/NanumMyeongjoEcoExtraBold.ttf'),\n",
       " ('NanumSquare', '/usr/share/fonts/truetype/nanum/NanumSquareB.ttf'),\n",
       " ('NanumGothic Eco', '/usr/share/fonts/truetype/nanum/NanumGothicEco.ttf'),\n",
       " ('NanumGothic', '/usr/share/fonts/truetype/nanum/NanumGothicLight.ttf'),\n",
       " ('NanumBarunGothic',\n",
       "  '/usr/share/fonts/truetype/nanum/NanumBarunGothicBold.ttf'),\n",
       " ('Nanum Brush Script', '/usr/share/fonts/truetype/nanum/NanumBrush.ttf'),\n",
       " ('NanumBarunGothic', '/usr/share/fonts/truetype/nanum/NanumBarunGothic.ttf'),\n",
       " ('NanumGothicCoding',\n",
       "  '/usr/share/fonts/truetype/nanum/NanumGothicCoding-Bold.ttf'),\n",
       " ('NanumBarunGothic',\n",
       "  '/usr/share/fonts/truetype/nanum/NanumBarunGothicLight.ttf'),\n",
       " ('NanumGothic', '/usr/share/fonts/truetype/nanum/NanumGothicBold.ttf'),\n",
       " ('NanumGothicCoding',\n",
       "  '/usr/share/fonts/truetype/nanum/NanumGothicCoding.ttf'),\n",
       " ('NanumSquareRound',\n",
       "  '/usr/share/fonts/truetype/nanum/NanumSquareRoundEB.ttf')]"
      ]
     },
     "execution_count": 44,
     "metadata": {},
     "output_type": "execute_result"
    }
   ],
   "source": [
    "[(f.name, f.fname) for f in font_manager.fontManager.ttflist if 'anum' in f.name]"
   ]
  },
  {
   "cell_type": "code",
   "execution_count": 46,
   "metadata": {},
   "outputs": [
    {
     "data": {
      "text/plain": [
       "'/home/aiffel/.cache/matplotlib'"
      ]
     },
     "execution_count": 46,
     "metadata": {},
     "output_type": "execute_result"
    }
   ],
   "source": [
    "mpl.get_cachedir()"
   ]
  },
  {
   "cell_type": "code",
   "execution_count": 47,
   "metadata": {},
   "outputs": [
    {
     "data": {
      "text/plain": [
       "['/usr/share/fonts/truetype/liberation/LiberationSans-Regular.ttf',\n",
       " '/usr/share/fonts/truetype/liberation/LiberationMono-Italic.ttf',\n",
       " '/usr/share/fonts/opentype/noto/NotoSerifCJK-ExtraLight.ttc',\n",
       " '/usr/share/fonts/opentype/noto/NotoSansCJK-DemiLight.ttc',\n",
       " '/usr/share/fonts/opentype/noto/NotoSansCJK-Medium.ttc',\n",
       " '/usr/share/fonts/truetype/tlwg/TlwgMono-Oblique.ttf',\n",
       " '/usr/share/fonts/truetype/nanum/NanumGothicLight.ttf',\n",
       " '/home/aiffel/.local/share/fonts/D2Coding-Ver1.3.2-20180524-ligature.ttf',\n",
       " '/usr/share/fonts/truetype/ubuntu/Ubuntu-M.ttf',\n",
       " '/usr/share/fonts/truetype/tlwg/TlwgTypewriter-BoldOblique.ttf',\n",
       " '/usr/share/fonts/truetype/noto/NotoMono-Regular.ttf',\n",
       " '/usr/share/fonts/truetype/tlwg/Umpush-BoldOblique.ttf',\n",
       " '/usr/share/fonts/opentype/firacode/FiraCode-Retina.otf',\n",
       " '/usr/share/fonts/truetype/tlwg/Umpush-LightOblique.ttf',\n",
       " '/usr/share/fonts/opentype/noto/NotoSerifCJK-SemiBold.ttc',\n",
       " '/usr/share/fonts/truetype/kacst/KacstTitleL.ttf',\n",
       " '/usr/share/fonts/opentype/noto/NotoSansCJK-Regular.ttc',\n",
       " '/usr/share/fonts/truetype/tlwg/Norasi-BoldItalic.ttf',\n",
       " '/usr/share/fonts/opentype/malayalam/Manjari-Regular.otf',\n",
       " '/usr/share/fonts/truetype/tlwg/Loma-Bold.ttf',\n",
       " '/usr/share/fonts/truetype/liberation/LiberationSansNarrow-Regular.ttf',\n",
       " '/usr/share/fonts/truetype/nanum/NanumGothicBold.ttf',\n",
       " '/usr/share/fonts/truetype/nanum/NanumSquareRoundEB.ttf',\n",
       " '/usr/share/fonts/truetype/liberation/LiberationSansNarrow-Bold.ttf',\n",
       " '/usr/share/fonts/opentype/malayalam/Manjari-Bold.otf',\n",
       " '/usr/share/fonts/truetype/ubuntu/UbuntuMono-B.ttf',\n",
       " '/usr/share/fonts/truetype/nanum/NanumMyeongjoExtraBold.ttf',\n",
       " '/usr/share/fonts/truetype/malayalam/AnjaliOldLipi.ttf',\n",
       " '/usr/share/fonts/truetype/kacst/KacstBook.ttf',\n",
       " '/usr/share/fonts/truetype/tlwg/Norasi-BoldOblique.ttf',\n",
       " '/usr/share/fonts/truetype/kacst/mry_KacstQurn.ttf',\n",
       " '/usr/share/fonts/opentype/noto/NotoSerifCJK-Regular.ttc',\n",
       " '/usr/share/fonts/truetype/tlwg/Sawasdee-BoldOblique.ttf',\n",
       " '/usr/share/fonts/truetype/freefont/FreeSerifBoldItalic.ttf',\n",
       " '/usr/share/fonts/truetype/liberation/LiberationSans-Bold.ttf',\n",
       " '/usr/share/fonts/opentype/noto/NotoSerifCJK-Bold.ttc',\n",
       " '/usr/share/fonts/truetype/kacst/KacstOffice.ttf',\n",
       " '/usr/share/fonts/truetype/tlwg/Umpush.ttf',\n",
       " '/usr/share/fonts/opentype/noto/NotoSerifCJK-Bold.ttc',\n",
       " '/usr/share/fonts/truetype/fonts-beng-extra/MuktiNarrowBold.ttf',\n",
       " '/usr/share/fonts/truetype/fonts-beng-extra/mitra.ttf',\n",
       " '/usr/share/fonts/truetype/tlwg/Sawasdee-Oblique.ttf',\n",
       " '/usr/share/fonts/truetype/freefont/FreeSansOblique.ttf',\n",
       " '/usr/share/fonts/opentype/noto/NotoSerifCJK-Bold.ttc',\n",
       " '/usr/share/fonts/opentype/noto/NotoSerifCJK-Bold.ttc',\n",
       " '/usr/share/fonts/truetype/tlwg/Umpush-Bold.ttf',\n",
       " '/usr/share/fonts/truetype/nanum/NanumMyeongjoEco.ttf',\n",
       " '/usr/share/fonts/truetype/tlwg/TlwgTypo-Bold.ttf',\n",
       " '/usr/share/fonts/opentype/noto/NotoSerifCJK-Regular.ttc',\n",
       " '/usr/share/fonts/truetype/malayalam/RaghuMalayalamSans-Regular.ttf',\n",
       " '/usr/share/fonts/truetype/openoffice/opens___.ttf',\n",
       " '/usr/share/fonts/truetype/freefont/FreeSansBoldOblique.ttf',\n",
       " '/usr/share/fonts/truetype/lohit-punjabi/Lohit-Gurmukhi.ttf',\n",
       " '/usr/share/fonts/truetype/nanum/NanumSquareRoundL.ttf',\n",
       " '/usr/share/fonts/truetype/Gargi/Gargi.ttf',\n",
       " '/usr/share/fonts/truetype/tlwg/Waree-BoldOblique.ttf',\n",
       " '/usr/share/fonts/truetype/dejavu/DejaVuSans-Bold.ttf',\n",
       " '/usr/share/fonts/truetype/Sahadeva/sahadeva.ttf',\n",
       " '/usr/share/fonts/truetype/kacst-one/KacstOne.ttf',\n",
       " '/usr/share/fonts/truetype/liberation2/LiberationSans-Bold.ttf',\n",
       " '/usr/share/fonts/opentype/noto/NotoSansCJK-Bold.ttc',\n",
       " '/usr/share/fonts/opentype/noto/NotoSansCJK-Bold.ttc',\n",
       " '/usr/share/fonts/opentype/noto/NotoSansCJK-Bold.ttc',\n",
       " '/usr/share/fonts/truetype/fonts-deva-extra/kalimati.ttf',\n",
       " '/usr/share/fonts/opentype/noto/NotoSerifCJK-Black.ttc',\n",
       " '/usr/share/fonts/truetype/malayalam/Chilanka-Regular.ttf',\n",
       " '/usr/share/fonts/truetype/ubuntu/Ubuntu-BI.ttf',\n",
       " '/usr/share/fonts/truetype/samyak-fonts/Samyak-Gujarati.ttf',\n",
       " '/usr/share/fonts/opentype/noto/NotoSansCJK-Bold.ttc',\n",
       " '/usr/share/fonts/opentype/noto/NotoSansCJK-Bold.ttc',\n",
       " '/usr/share/fonts/truetype/fonts-beng-extra/LikhanNormal.ttf',\n",
       " '/usr/share/fonts/truetype/tlwg/TlwgTypo-BoldOblique.ttf',\n",
       " '/usr/share/fonts/truetype/tlwg/Laksaman.ttf',\n",
       " '/usr/share/fonts/truetype/malayalam/Rachana-Bold.ttf',\n",
       " '/usr/share/fonts/truetype/kacst/KacstArt.ttf',\n",
       " '/usr/share/fonts/opentype/noto/NotoSansCJK-Bold.ttc',\n",
       " '/usr/share/fonts/truetype/lao/Phetsarath_OT.ttf',\n",
       " '/usr/share/fonts/opentype/noto/NotoSansCJK-Bold.ttc',\n",
       " '/usr/share/fonts/truetype/liberation/LiberationMono-BoldItalic.ttf',\n",
       " '/home/aiffel/.local/share/fonts/FiraCode-Retina.ttf',\n",
       " '/usr/share/fonts/truetype/kacst/KacstPen.ttf',\n",
       " '/usr/share/fonts/opentype/noto/NotoSansCJK-Bold.ttc',\n",
       " '/usr/share/fonts/opentype/noto/NotoSansCJK-Bold.ttc',\n",
       " '/usr/share/fonts/opentype/noto/NotoSansCJK-Bold.ttc',\n",
       " '/usr/share/fonts/truetype/liberation/LiberationSerif-Regular.ttf',\n",
       " '/usr/share/fonts/truetype/fonts-beng-extra/MuktiNarrow.ttf',\n",
       " '/usr/share/fonts/truetype/ubuntu/Ubuntu-L.ttf',\n",
       " '/usr/share/fonts/truetype/fonts-gujr-extra/padmaa-Bold.1.1.ttf',\n",
       " '/usr/share/fonts/truetype/ttf-khmeros-core/KhmerOSsys.ttf',\n",
       " '/usr/share/fonts/opentype/noto/NotoSansCJK-Regular.ttc',\n",
       " '/usr/share/fonts/truetype/malayalam/Rachana-Regular.ttf',\n",
       " '/usr/share/fonts/truetype/kacst/KacstQurn.ttf',\n",
       " '/usr/share/fonts/truetype/lohit-bengali/Lohit-Bengali.ttf',\n",
       " '/usr/share/fonts/truetype/malayalam/Keraleeyam.ttf',\n",
       " '/usr/share/fonts/truetype/tlwg/Kinnari-BoldOblique.ttf',\n",
       " '/usr/share/fonts/truetype/fonts-beng-extra/JamrulNormal.ttf',\n",
       " '/home/aiffel/.local/share/fonts/D2CodingBold-Ver1.3.2-20180524-ligature.ttf',\n",
       " '/usr/share/fonts/truetype/nanum/NanumBarunpenR.ttf',\n",
       " '/usr/share/fonts/truetype/ubuntu/Ubuntu-C.ttf',\n",
       " '/usr/share/fonts/truetype/tlwg/TlwgMono.ttf',\n",
       " '/usr/share/fonts/truetype/malayalam/Uroob.ttf',\n",
       " '/usr/share/fonts/truetype/noto/NotoColorEmoji.ttf',\n",
       " '/usr/share/fonts/truetype/nanum/NanumMyeongjo.ttf',\n",
       " '/usr/share/fonts/opentype/noto/NotoSansCJK-Black.ttc',\n",
       " '/usr/share/fonts/opentype/noto/NotoSansCJK-DemiLight.ttc',\n",
       " '/usr/share/fonts/truetype/kacst/KacstDecorative.ttf',\n",
       " '/usr/share/fonts/truetype/tlwg/Loma.ttf',\n",
       " '/usr/share/fonts/truetype/nanum/NanumPen.ttf',\n",
       " '/usr/share/fonts/truetype/lohit-gujarati/Lohit-Gujarati.ttf',\n",
       " '/usr/share/fonts/truetype/tlwg/Garuda-Oblique.ttf',\n",
       " '/usr/share/fonts/truetype/lohit-tamil-classical/Lohit-Tamil-Classical.ttf',\n",
       " '/usr/share/fonts/truetype/ubuntu/Ubuntu-MI.ttf',\n",
       " '/usr/share/fonts/truetype/freefont/FreeSerifBold.ttf',\n",
       " '/usr/share/fonts/opentype/noto/NotoSerifCJK-Medium.ttc',\n",
       " '/usr/share/fonts/opentype/noto/NotoSansCJK-Regular.ttc',\n",
       " '/usr/share/fonts/opentype/noto/NotoSansCJK-Medium.ttc',\n",
       " '/usr/share/fonts/truetype/tlwg/TlwgTypewriter-Oblique.ttf',\n",
       " '/usr/share/fonts/truetype/nanum/NanumSquareR.ttf',\n",
       " '/usr/share/fonts/truetype/samyak-fonts/Samyak-Malayalam.ttf',\n",
       " '/usr/share/fonts/opentype/noto/NotoSansCJK-Light.ttc',\n",
       " '/usr/share/fonts/truetype/lohit-tamil/Lohit-Tamil.ttf',\n",
       " '/usr/share/fonts/truetype/freefont/FreeMonoBoldOblique.ttf',\n",
       " '/usr/share/fonts/truetype/liberation/LiberationSans-Italic.ttf',\n",
       " '/usr/share/fonts/truetype/nanum/NanumGothicCoding-Bold.ttf',\n",
       " '/usr/share/fonts/opentype/noto/NotoSerifCJK-SemiBold.ttc',\n",
       " '/usr/share/fonts/truetype/tlwg/Norasi-Bold.ttf',\n",
       " '/usr/share/fonts/truetype/nanum/NanumSquareB.ttf',\n",
       " '/usr/share/fonts/truetype/tlwg/Laksaman-Bold.ttf',\n",
       " '/usr/share/fonts/truetype/liberation2/LiberationSerif-Bold.ttf',\n",
       " '/usr/share/fonts/opentype/noto/NotoSansCJK-Regular.ttc',\n",
       " '/usr/share/fonts/truetype/ubuntu/UbuntuMono-BI.ttf',\n",
       " '/usr/share/fonts/truetype/nanum/NanumBarunpenB.ttf',\n",
       " '/usr/share/fonts/opentype/noto/NotoSerifCJK-Light.ttc',\n",
       " '/usr/share/fonts/opentype/noto/NotoSansCJK-Medium.ttc',\n",
       " '/usr/share/fonts/truetype/liberation2/LiberationMono-BoldItalic.ttf',\n",
       " '/usr/share/fonts/truetype/liberation/LiberationSerif-BoldItalic.ttf',\n",
       " '/usr/share/fonts/opentype/firacode/FiraCode-Bold.otf',\n",
       " '/usr/share/fonts/opentype/noto/NotoSerifCJK-Light.ttc',\n",
       " '/usr/share/fonts/truetype/liberation2/LiberationSans-BoldItalic.ttf',\n",
       " '/usr/share/fonts/truetype/tlwg/Waree.ttf',\n",
       " '/usr/share/fonts/truetype/liberation/LiberationSans-BoldItalic.ttf',\n",
       " '/usr/share/fonts/truetype/tlwg/TlwgTypist-Bold.ttf',\n",
       " '/usr/share/fonts/truetype/nanum/NanumGothicEcoBold.ttf',\n",
       " '/usr/share/fonts/opentype/noto/NotoSansCJK-DemiLight.ttc',\n",
       " '/usr/share/fonts/opentype/noto/NotoSerifCJK-Black.ttc',\n",
       " '/usr/share/fonts/truetype/tlwg/Norasi.ttf',\n",
       " '/usr/share/fonts/truetype/tlwg/Kinnari-BoldItalic.ttf',\n",
       " '/usr/share/fonts/truetype/fonts-telu-extra/Pothana2000.ttf',\n",
       " '/usr/share/fonts/truetype/ttf-khmeros-core/KhmerOS.ttf',\n",
       " '/usr/share/fonts/truetype/freefont/FreeSerif.ttf',\n",
       " '/usr/share/fonts/truetype/liberation/LiberationSansNarrow-BoldItalic.ttf',\n",
       " '/usr/share/fonts/truetype/tlwg/Sawasdee.ttf',\n",
       " '/usr/share/fonts/truetype/malayalam/Suruma.ttf',\n",
       " '/usr/share/fonts/truetype/tlwg/Purisa-Oblique.ttf',\n",
       " '/usr/share/fonts/opentype/noto/NotoSansCJK-Regular.ttc',\n",
       " '/home/aiffel/.local/share/fonts/FiraCode-Bold.ttf',\n",
       " '/home/aiffel/.local/share/fonts/FiraCode-Regular.ttf',\n",
       " '/usr/share/fonts/truetype/malayalam/Meera.ttf',\n",
       " '/usr/share/fonts/opentype/firacode/FiraCode-Light.otf',\n",
       " '/usr/share/fonts/truetype/tlwg/Loma-BoldOblique.ttf',\n",
       " '/usr/share/fonts/truetype/tlwg/TlwgTypist.ttf',\n",
       " '/usr/share/fonts/truetype/ubuntu/UbuntuMono-R.ttf',\n",
       " '/usr/share/fonts/truetype/lohit-telugu/Lohit-Telugu.ttf',\n",
       " '/usr/share/fonts/truetype/tibetan-machine/TibetanMachineUni.ttf',\n",
       " '/usr/share/fonts/truetype/liberation2/LiberationSerif-Italic.ttf',\n",
       " '/usr/share/fonts/truetype/liberation2/LiberationSerif-BoldItalic.ttf',\n",
       " '/usr/share/fonts/truetype/liberation/LiberationSerif-Italic.ttf',\n",
       " '/usr/share/fonts/opentype/noto/NotoSansCJK-Light.ttc',\n",
       " '/usr/share/fonts/truetype/tlwg/Sawasdee-Bold.ttf',\n",
       " '/usr/share/fonts/truetype/tlwg/Umpush-Light.ttf',\n",
       " '/usr/share/fonts/truetype/tlwg/Waree-Oblique.ttf',\n",
       " '/usr/share/fonts/truetype/nanum/NanumMyeongjoEcoBold.ttf',\n",
       " '/usr/share/fonts/truetype/samyak-fonts/Samyak-Tamil.ttf',\n",
       " '/usr/share/fonts/opentype/noto/NotoSansCJK-Regular.ttc',\n",
       " '/usr/share/fonts/truetype/tlwg/Waree-Bold.ttf',\n",
       " '/usr/share/fonts/truetype/liberation2/LiberationMono-Regular.ttf',\n",
       " '/usr/share/fonts/truetype/ubuntu/UbuntuMono-RI.ttf',\n",
       " '/usr/share/fonts/truetype/padauk/PadaukBook-Regular.ttf',\n",
       " '/usr/share/fonts/opentype/noto/NotoSerifCJK-Regular.ttc',\n",
       " '/usr/share/fonts/truetype/tlwg/TlwgMono-Bold.ttf',\n",
       " '/usr/share/fonts/opentype/noto/NotoSerifCJK-ExtraLight.ttc',\n",
       " '/usr/share/fonts/truetype/fonts-gujr-extra/Rekha.ttf',\n",
       " '/usr/share/fonts/truetype/nanum/NanumMyeongjoBold.ttf',\n",
       " '/usr/share/fonts/opentype/noto/NotoSerifCJK-Black.ttc',\n",
       " '/usr/share/fonts/truetype/tlwg/Loma-Oblique.ttf',\n",
       " '/usr/share/fonts/opentype/noto/NotoSansCJK-Regular.ttc',\n",
       " '/usr/share/fonts/truetype/liberation/LiberationSansNarrow-Italic.ttf',\n",
       " '/usr/share/fonts/opentype/firacode/FiraCode-Medium.otf',\n",
       " '/usr/share/fonts/truetype/kacst/KacstDigital.ttf',\n",
       " '/usr/share/fonts/truetype/kacst/KacstTitle.ttf',\n",
       " '/usr/share/fonts/truetype/liberation2/LiberationSerif-Regular.ttf',\n",
       " '/usr/share/fonts/truetype/fonts-gujr-extra/aakar-medium.ttf',\n",
       " '/usr/share/fonts/truetype/nanum/NanumSquareEB.ttf',\n",
       " '/usr/share/fonts/truetype/tlwg/Garuda-Bold.ttf',\n",
       " '/usr/share/fonts/truetype/tlwg/Garuda-BoldOblique.ttf',\n",
       " '/usr/share/fonts/truetype/lohit-kannada/Lohit-Kannada.ttf',\n",
       " '/usr/share/fonts/truetype/nanum/NanumBarunGothic.ttf',\n",
       " '/usr/share/fonts/truetype/fonts-deva-extra/samanata.ttf',\n",
       " '/usr/share/fonts/truetype/liberation2/LiberationSans-Italic.ttf',\n",
       " '/usr/share/fonts/truetype/Sarai/Sarai.ttf',\n",
       " '/usr/share/fonts/opentype/noto/NotoSerifCJK-Regular.ttc',\n",
       " '/usr/share/fonts/truetype/tlwg/Purisa.ttf',\n",
       " '/usr/share/fonts/truetype/malayalam/Dyuthi.ttf',\n",
       " '/usr/share/fonts/truetype/nanum/NanumSquareL.ttf',\n",
       " '/usr/share/fonts/truetype/freefont/FreeMono.ttf',\n",
       " '/usr/share/fonts/truetype/sinhala/lklug.ttf',\n",
       " '/usr/share/fonts/truetype/tlwg/TlwgTypo-Oblique.ttf',\n",
       " '/usr/share/fonts/truetype/nanum/NanumMyeongjoEcoExtraBold.ttf',\n",
       " '/usr/share/fonts/truetype/kacst/KacstNaskh.ttf',\n",
       " '/usr/share/fonts/truetype/liberation/LiberationMono-Regular.ttf',\n",
       " '/usr/share/fonts/truetype/fonts-deva-extra/chandas1-2.ttf',\n",
       " '/usr/share/fonts/truetype/droid/DroidSansFallbackFull.ttf',\n",
       " '/usr/share/fonts/truetype/kacst/KacstLetter.ttf',\n",
       " '/usr/share/fonts/truetype/tlwg/TlwgTypist-BoldOblique.ttf',\n",
       " '/usr/share/fonts/opentype/noto/NotoSerifCJK-Medium.ttc',\n",
       " '/usr/share/fonts/truetype/nanum/NanumBrush.ttf',\n",
       " '/usr/share/fonts/opentype/noto/NotoSerifCJK-Medium.ttc',\n",
       " '/usr/share/fonts/truetype/tlwg/TlwgTypewriter.ttf',\n",
       " '/usr/share/fonts/truetype/tlwg/Kinnari.ttf',\n",
       " '/usr/share/fonts/truetype/tlwg/Norasi-Italic.ttf',\n",
       " '/usr/share/fonts/opentype/noto/NotoSerifCJK-SemiBold.ttc',\n",
       " '/usr/share/fonts/truetype/lohit-assamese/Lohit-Assamese.ttf',\n",
       " '/usr/share/fonts/opentype/noto/NotoSansCJK-Medium.ttc',\n",
       " '/usr/share/fonts/truetype/kacst-one/KacstOne-Bold.ttf',\n",
       " '/usr/share/fonts/truetype/padauk/Padauk-Bold.ttf',\n",
       " '/usr/share/fonts/truetype/tlwg/TlwgTypewriter-Bold.ttf',\n",
       " '/usr/share/fonts/truetype/Nakula/nakula.ttf',\n",
       " '/usr/share/fonts/truetype/fonts-telu-extra/vemana2000.ttf',\n",
       " '/usr/share/fonts/truetype/dejavu/DejaVuSans.ttf',\n",
       " '/usr/share/fonts/truetype/tlwg/Kinnari-Bold.ttf',\n",
       " '/usr/share/fonts/opentype/noto/NotoSansCJK-Black.ttc',\n",
       " '/usr/share/fonts/truetype/padauk/PadaukBook-Bold.ttf',\n",
       " '/usr/share/fonts/truetype/nanum/NanumSquareRoundR.ttf',\n",
       " '/usr/share/fonts/truetype/tlwg/Purisa-Bold.ttf',\n",
       " '/usr/share/fonts/truetype/tlwg/Norasi-Oblique.ttf',\n",
       " '/usr/share/fonts/truetype/kacst/KacstFarsi.ttf',\n",
       " '/usr/share/fonts/truetype/tlwg/Laksaman-Italic.ttf',\n",
       " '/usr/share/fonts/truetype/nanum/NanumBarunGothicLight.ttf',\n",
       " '/usr/share/fonts/truetype/fonts-kalapi/Kalapi.ttf',\n",
       " '/usr/share/fonts/opentype/noto/NotoSansCJK-Regular.ttc',\n",
       " '/usr/share/fonts/truetype/fonts-gujr-extra/padmaa-Medium-0.5.ttf',\n",
       " '/usr/share/fonts/opentype/noto/NotoSansCJK-Regular.ttc',\n",
       " '/usr/share/fonts/truetype/samyak/Samyak-Devanagari.ttf',\n",
       " '/usr/share/fonts/opentype/noto/NotoSansCJK-Thin.ttc',\n",
       " '/usr/share/fonts/truetype/dejavu/DejaVuSansMono-Bold.ttf',\n",
       " '/usr/share/fonts/truetype/abyssinica/AbyssinicaSIL-R.ttf',\n",
       " '/usr/share/fonts/truetype/nanum/NanumBarunGothicBold.ttf',\n",
       " '/usr/share/fonts/opentype/noto/NotoSansCJK-DemiLight.ttc',\n",
       " '/usr/share/fonts/opentype/noto/NotoSerifCJK-Light.ttc',\n",
       " '/usr/share/fonts/truetype/Navilu/Navilu.ttf',\n",
       " '/usr/share/fonts/truetype/padauk/Padauk-Regular.ttf',\n",
       " '/usr/share/fonts/truetype/dejavu/DejaVuSerif-Bold.ttf',\n",
       " '/usr/share/fonts/truetype/nanum/NanumGothicCoding.ttf',\n",
       " '/usr/share/fonts/truetype/tlwg/Kinnari-Oblique.ttf',\n",
       " '/usr/share/fonts/truetype/liberation/LiberationSerif-Bold.ttf',\n",
       " '/usr/share/fonts/truetype/dejavu/DejaVuSerif.ttf',\n",
       " '/usr/share/fonts/opentype/noto/NotoSerifCJK-ExtraLight.ttc',\n",
       " '/usr/share/fonts/truetype/tlwg/Umpush-Oblique.ttf',\n",
       " '/usr/share/fonts/opentype/noto/NotoSansCJK-Black.ttc',\n",
       " '/usr/share/fonts/truetype/freefont/FreeMonoOblique.ttf',\n",
       " '/home/aiffel/.local/share/fonts/FiraCode-SemiBold.ttf',\n",
       " '/usr/share/fonts/truetype/fonts-beng-extra/ani.ttf',\n",
       " '/usr/share/fonts/opentype/noto/NotoSansCJK-Medium.ttc',\n",
       " '/home/aiffel/.local/share/fonts/FiraCode-Medium.ttf',\n",
       " '/usr/share/fonts/truetype/pagul/Pagul.ttf',\n",
       " '/usr/share/fonts/opentype/malayalam/Manjari-Thin.otf',\n",
       " '/usr/share/fonts/opentype/firacode/FiraCode-Regular.otf',\n",
       " '/usr/share/fonts/truetype/tlwg/TlwgMono-BoldOblique.ttf',\n",
       " '/usr/share/fonts/opentype/noto/NotoSansCJK-Light.ttc',\n",
       " '/usr/share/fonts/truetype/fonts-guru-extra/Saab.ttf',\n",
       " '/usr/share/fonts/truetype/tlwg/TlwgTypo.ttf',\n",
       " '/usr/share/fonts/opentype/noto/NotoSansCJK-Light.ttc',\n",
       " '/usr/share/fonts/truetype/freefont/FreeSans.ttf',\n",
       " '/usr/share/fonts/truetype/freefont/FreeMonoBold.ttf',\n",
       " '/usr/share/fonts/truetype/nanum/NanumGothic.ttf',\n",
       " '/usr/share/fonts/truetype/fonts-orya-extra/utkal.ttf',\n",
       " '/usr/share/fonts/truetype/tlwg/TlwgTypist-Oblique.ttf',\n",
       " '/usr/share/fonts/truetype/liberation2/LiberationSans-Regular.ttf',\n",
       " '/usr/share/fonts/opentype/noto/NotoSerifCJK-Medium.ttc',\n",
       " '/usr/share/fonts/opentype/noto/NotoSansCJK-Light.ttc',\n",
       " '/usr/share/fonts/truetype/nanum/NanumGothicEco.ttf',\n",
       " '/usr/share/fonts/truetype/freefont/FreeSerifItalic.ttf',\n",
       " '/usr/share/fonts/truetype/dejavu/DejaVuSansMono.ttf',\n",
       " '/usr/share/fonts/opentype/noto/NotoSerifCJK-Light.ttc',\n",
       " '/usr/share/fonts/opentype/noto/NotoSerifCJK-Black.ttc',\n",
       " '/usr/share/fonts/opentype/noto/NotoSansCJK-Thin.ttc',\n",
       " '/usr/share/fonts/truetype/tlwg/Laksaman-BoldItalic.ttf',\n",
       " '/usr/share/fonts/opentype/noto/NotoSerifCJK-ExtraLight.ttc',\n",
       " '/usr/share/fonts/truetype/lohit-devanagari/Lohit-Devanagari.ttf',\n",
       " '/usr/share/fonts/truetype/ubuntu/Ubuntu-B.ttf',\n",
       " '/home/aiffel/.local/share/fonts/FiraCode-Light.ttf',\n",
       " '/usr/share/fonts/truetype/ubuntu/Ubuntu-LI.ttf',\n",
       " '/usr/share/fonts/truetype/ubuntu/Ubuntu-R.ttf',\n",
       " '/usr/share/fonts/truetype/ubuntu/Ubuntu-RI.ttf',\n",
       " '/usr/share/fonts/truetype/malayalam/Karumbi.ttf',\n",
       " '/usr/share/fonts/opentype/noto/NotoSansCJK-DemiLight.ttc',\n",
       " '/usr/share/fonts/truetype/freefont/FreeSansBold.ttf',\n",
       " '/usr/share/fonts/opentype/noto/NotoSerifCJK-SemiBold.ttc',\n",
       " '/usr/share/fonts/opentype/noto/NotoSansCJK-Regular.ttc',\n",
       " '/usr/share/fonts/truetype/nanum/NanumBarunGothicUltraLight.ttf',\n",
       " '/usr/share/fonts/truetype/kacst/KacstScreen.ttf',\n",
       " '/usr/share/fonts/opentype/noto/NotoSansCJK-Thin.ttc',\n",
       " '/usr/share/fonts/truetype/tlwg/Kinnari-Italic.ttf',\n",
       " '/usr/share/fonts/truetype/lohit-malayalam/Lohit-Malayalam.ttf',\n",
       " '/usr/share/fonts/opentype/noto/NotoSansCJK-Thin.ttc',\n",
       " '/usr/share/fonts/truetype/nanum/NanumGothicExtraBold.ttf',\n",
       " '/usr/share/fonts/truetype/liberation2/LiberationMono-Bold.ttf',\n",
       " '/usr/share/fonts/truetype/liberation/LiberationMono-Bold.ttf',\n",
       " '/usr/share/fonts/truetype/lohit-oriya/Lohit-Odia.ttf',\n",
       " '/usr/share/fonts/truetype/nanum/NanumSquareRoundB.ttf',\n",
       " '/usr/share/fonts/opentype/noto/NotoSansCJK-Black.ttc',\n",
       " '/usr/share/fonts/truetype/kacst/KacstPoster.ttf',\n",
       " '/usr/share/fonts/truetype/nanum/NanumGothicEcoExtraBold.ttf',\n",
       " '/usr/share/fonts/truetype/liberation2/LiberationMono-Italic.ttf',\n",
       " '/usr/share/fonts/opentype/noto/NotoSansCJK-Thin.ttc',\n",
       " '/usr/share/fonts/truetype/tlwg/Garuda.ttf',\n",
       " '/usr/share/fonts/truetype/Gubbi/Gubbi.ttf',\n",
       " '/usr/share/fonts/truetype/tlwg/Purisa-BoldOblique.ttf',\n",
       " '/usr/share/fonts/opentype/noto/NotoSansCJK-Black.ttc',\n",
       " '/usr/share/fonts/truetype/fonts-gujr-extra/padmaa.ttf']"
      ]
     },
     "execution_count": 47,
     "metadata": {},
     "output_type": "execute_result"
    }
   ],
   "source": [
    "# 폰트 설정 방법 2\n",
    "import matplotlib\n",
    "import matplotlib.font_manager as fm\n",
    "fm.get_fontconfig_fonts()"
   ]
  },
  {
   "cell_type": "code",
   "execution_count": 30,
   "metadata": {},
   "outputs": [],
   "source": [
    "font_location='/home/aiffel/.local/share/fonts/D2Coding-Ver1.3.2-20180524-ligature.ttf'\n",
    "font_name=fm.FontProperties(fname=font_location).get_name()\n",
    "matplotlib.rc('font',family=font_name)"
   ]
  },
  {
   "cell_type": "code",
   "execution_count": null,
   "metadata": {},
   "outputs": [],
   "source": [
    "저도 왜 되는지는 모르겠지만 좀 다른 방법으로 한글이 나와서 공유해봅니다. 틀린 부분 있을경우 팩트폭력 환영합니다!\n",
    "1. (확인용) 터미널에서 fc-list :lang=ko | grep D2  (혹은 Nanum 같은 한글폰트명) 명령어를 입력해 원하시는 .ttf 폰트가 자리한 위치를 알아둡니다\n",
    "2. 주피터 노트북에서 \n",
    "```import matplotlib\n",
    "import matplotlib.font_manager as fm\n",
    "fm.get_fontconfig_fonts()\n",
    "를 돌리시면 .ttf 리스트가 쭉 나옵니다. 원하시는 폰트의 경로를 ~~~.ttf까지 복사하시면 됩니다\n",
    "3. ```font_location='/home/aiffel/.local/share/fonts/D2Coding-Ver1.3.2-20180524-ligature.ttf'\n",
    "font_name=fm.FontProperties(fname=font_location).get_name()\n",
    "matplotlib.rc('font',family=font_name)\n",
    "이런 식으로 font_location='경로' 만 수정해주시고 실행하신다음\n",
    "모든 터미널을 끄고 다시 커널을 연결하면 한글이 나오는 것을 확인하였습니다!"
   ]
  },
  {
   "cell_type": "code",
   "execution_count": null,
   "metadata": {},
   "outputs": [],
   "source": []
  },
  {
   "cell_type": "code",
   "execution_count": null,
   "metadata": {},
   "outputs": [],
   "source": []
  },
  {
   "cell_type": "code",
   "execution_count": null,
   "metadata": {},
   "outputs": [],
   "source": []
  }
 ],
 "metadata": {
  "kernelspec": {
   "display_name": "aiffel",
   "language": "python",
   "name": "aiffel"
  },
  "language_info": {
   "codemirror_mode": {
    "name": "ipython",
    "version": 3
   },
   "file_extension": ".py",
   "mimetype": "text/x-python",
   "name": "python",
   "nbconvert_exporter": "python",
   "pygments_lexer": "ipython3",
   "version": "3.7.6"
  }
 },
 "nbformat": 4,
 "nbformat_minor": 4
}

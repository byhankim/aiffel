{
 "cells": [
  {
   "cell_type": "markdown",
   "metadata": {},
   "source": [
    "# Exploration State P01 - Rock-Scissor-Paper Image classifier"
   ]
  },
  {
   "cell_type": "code",
   "execution_count": 1,
   "metadata": {},
   "outputs": [
    {
     "name": "stdout",
     "output_type": "stream",
     "text": [
      "Requirement already satisfied: pillow in ./anaconda3/lib/python3.7/site-packages (7.0.0)\n",
      "PIL 라이브러리 import 완료!\n"
     ]
    }
   ],
   "source": [
    "# PIL 라이브러리가 설치되어 있지 않다면 설치\n",
    "!pip install pillow   \n",
    "\n",
    "from PIL import Image\n",
    "import os, glob\n",
    "import tensorflow as tf\n",
    "from tensorflow import keras\n",
    "import numpy as np\n",
    "\n",
    "\n",
    "print(\"PIL 라이브러리 import 완료!\")"
   ]
  },
  {
   "cell_type": "markdown",
   "metadata": {},
   "source": [
    "## C만 해보다가 전혀 다른 파이썬 문법과 처음보는 개념들을 접하며 많이 혼란스러웠다"
   ]
  },
  {
   "cell_type": "code",
   "execution_count": 2,
   "metadata": {},
   "outputs": [
    {
     "name": "stdout",
     "output_type": "stream",
     "text": [
      "이미지 디렉토리 경로:  /home/aiffel/exploration/p01_rock_scissor_paper/scissor\n",
      "가위 이미지 resize 완료!\n"
     ]
    }
   ],
   "source": [
    "import os\n",
    "# 가위 이미지가 저장된 디렉토리 아래의 모든 jpg 파일을 읽어들여서\n",
    "image_dir_path = os.getenv(\"HOME\") + \"/exploration/p01_rock_scissor_paper/scissor\"\n",
    "print(\"이미지 디렉토리 경로: \", image_dir_path)\n",
    "\n",
    "images=glob.glob(image_dir_path + \"/*.jpg\")  \n",
    "\n",
    "# 파일마다 모두 28x28 사이즈로 바꾸어 저장합니다.\n",
    "target_size=(28,28)\n",
    "for img in images:\n",
    "    old_img=Image.open(img)\n",
    "    new_img=old_img.resize(target_size,Image.ANTIALIAS)\n",
    "    new_img.save(img,\"JPEG\")\n",
    "\n",
    "print(\"가위 이미지 resize 완료!\")"
   ]
  },
  {
   "cell_type": "markdown",
   "metadata": {},
   "source": [
    "## HOME과 \"/aiffel/ ... \" 경로가 자꾸 /home/aiffel/aiffel/rock_scissor_paper/scissor 이런 느낌으로\n",
    "## 나와서 혼란스러웠다    "
   ]
  },
  {
   "cell_type": "code",
   "execution_count": 3,
   "metadata": {},
   "outputs": [
    {
     "name": "stdout",
     "output_type": "stream",
     "text": [
      "img dir path= /home/aiffel/exploration/p01_rock_scissor_paper/rock\n",
      "바위 이미지 리사이즈 저장 완료!\n"
     ]
    }
   ],
   "source": [
    "import os\n",
    "image_dir_path = os.getenv(\"HOME\") + \"/exploration/p01_rock_scissor_paper/rock\"\n",
    "print(\"img dir path=\", image_dir_path)\n",
    "\n",
    "images=glob.glob(image_dir_path + \"/*.jpg\")\n",
    "\n",
    "# 28 by 28 resize -> save\n",
    "target_size=(28,28)\n",
    "for img in images:\n",
    "  old_img = Image.open(img)\n",
    "  new_img=old_img.resize(target_size,Image.ANTIALIAS)\n",
    "  new_img.save(img,\"JPEG\")\n",
    "print(\"바위 이미지 리사이즈 저장 완료!\")"
   ]
  },
  {
   "cell_type": "markdown",
   "metadata": {},
   "source": [
    "## 파이썬의 편리함에 다시 한번 놀란 부분"
   ]
  },
  {
   "cell_type": "code",
   "execution_count": 4,
   "metadata": {},
   "outputs": [
    {
     "name": "stdout",
     "output_type": "stream",
     "text": [
      "img dir path= /home/aiffel/exploration/p01_rock_scissor_paper/paper\n",
      "리사이즈 이미지 저장 완료1!!!!\n"
     ]
    }
   ],
   "source": [
    "# 보 이미지가 저장된 디렉토리 아래의 모든 jpg 파일을 읽어들여서\n",
    "# [[YOUR CODE]]\n",
    "import os\n",
    "image_dir_path = os.getenv(\"HOME\") + \"/exploration/p01_rock_scissor_paper/paper\"\n",
    "print(\"img dir path=\", image_dir_path)\n",
    "\n",
    "images=glob.glob(image_dir_path + \"/*.jpg\")\n",
    "\n",
    "# 28 by 28 resize -> save\n",
    "target_size=(28,28)\n",
    "for img in images:\n",
    "  old_img = Image.open(img)\n",
    "  new_img=old_img.resize(target_size,Image.ANTIALIAS)\n",
    "  new_img.save(img,\"JPEG\")\n",
    "print(\"리사이즈 이미지 저장 완료1!!!!\")\n",
    "\n",
    "# 파일마다 모두 28x28 사이즈로 바꾸어 저장합니다.\n",
    "# [[YOUR CODE]]"
   ]
  },
  {
   "cell_type": "markdown",
   "metadata": {},
   "source": []
  },
  {
   "cell_type": "code",
   "execution_count": 5,
   "metadata": {},
   "outputs": [
    {
     "name": "stdout",
     "output_type": "stream",
     "text": [
      "학습데이터(x_train)의 이미지 개수는 5778 입니다.\n",
      "나의 이미지 패스:  /home/aiffel/exploration/p01_rock_scissor_paper\n",
      "x_train shape: (5778, 28, 28, 3)\n",
      "y_train shape: (5778,)\n"
     ]
    }
   ],
   "source": [
    "def load_data(img_path):\n",
    "    # 가위 : 0, 바위 : 1, 보 : 2\n",
    "    number_of_data=5778   # 가위바위보 이미지 개수 총합에 주의하세요.\n",
    "    img_size=28\n",
    "    color=3\n",
    "    #이미지 데이터와 라벨(가위 : 0, 바위 : 1, 보 : 2) 데이터를 담을 행렬(matrix) 영역을 생성합니다.\n",
    "    imgs=np.zeros(number_of_data*img_size*img_size*color,dtype=np.int32).reshape(number_of_data,img_size,img_size,color)\n",
    "    labels=np.zeros(number_of_data,dtype=np.int32)\n",
    "\n",
    "    idx=0\n",
    "    for file in glob.iglob(img_path+'/scissor/*.jpg'):\n",
    "        img = np.array(Image.open(file),dtype=np.int32)\n",
    "        imgs[idx,:,:,:]=img    # 데이터 영역에 이미지 행렬을 복사\n",
    "        labels[idx]=0   # 가위 : 0\n",
    "        idx=idx+1\n",
    "\n",
    "    for file in glob.iglob(img_path+'/rock/*.jpg'):\n",
    "        img = np.array(Image.open(file),dtype=np.int32)\n",
    "        imgs[idx,:,:,:]=img    # 데이터 영역에 이미지 행렬을 복사\n",
    "        labels[idx]=1   # 바위 : 1\n",
    "        idx=idx+1       \n",
    "    \n",
    "    for file in glob.iglob(img_path+'/paper/*.jpg'):\n",
    "        img = np.array(Image.open(file),dtype=np.int32)\n",
    "        imgs[idx,:,:,:]=img    # 데이터 영역에 이미지 행렬을 복사\n",
    "        labels[idx]=2   # 보 : 2\n",
    "        idx=idx+1\n",
    "        \n",
    "    print(\"학습데이터(x_train)의 이미지 개수는\",idx,\"입니다.\")\n",
    "    return imgs, labels\n",
    "\n",
    "image_dir_path = os.getenv(\"HOME\") + \"/exploration/p01_rock_scissor_paper\"\n",
    "(x_train, y_train)=load_data(image_dir_path)\n",
    "x_train_norm = x_train/255.0   # 입력은 0~1 사이의 값으로 정규화\n",
    "print(\"나의 이미지 패스: \",image_dir_path)\n",
    "print(\"x_train shape: {}\".format(x_train.shape))\n",
    "print(\"y_train shape: {}\".format(y_train.shape))"
   ]
  },
  {
   "cell_type": "markdown",
   "metadata": {},
   "source": [
    "## 새로고침 할 때마다 경로가 리셋되어 학습데이터와 테스트 데이터를 경로를 잘못 설정하는 바람에 한참이나 겹치게 해 버렸다.\n",
    "## 한시간 정도를 소비하고 나서야 겨우 에러를 고칠 수 있었으나, accuracy는 0.22... 수준으로 처참했다."
   ]
  },
  {
   "cell_type": "code",
   "execution_count": 6,
   "metadata": {},
   "outputs": [
    {
     "name": "stdout",
     "output_type": "stream",
     "text": [
      "라벨:  0\n"
     ]
    },
    {
     "data": {
      "image/png": "[encoded data removed]",
      "text/plain": [
       "<Figure size 432x288 with 1 Axes>"
      ]
     },
     "metadata": {
      "needs_background": "light"
     },
     "output_type": "display_data"
    }
   ],
   "source": [
    "# image load\n",
    "import matplotlib.pyplot as plt\n",
    "plt.imshow(x_train[0])\n",
    "print('라벨: ', y_train[0])"
   ]
  },
  {
   "cell_type": "markdown",
   "metadata": {},
   "source": [
    "## 한참을 데이터셋 경로와 중복문제로 괴로워하다가 aiffel뿐만이 아니라 인공지능 경력을 통틀어 처음으로 28*28짜리 조그만 이미지를 띄운 감격의 순간"
   ]
  },
  {
   "cell_type": "code",
   "execution_count": 7,
   "metadata": {},
   "outputs": [
    {
     "name": "stdout",
     "output_type": "stream",
     "text": [
      "Model: \"sequential\"\n",
      "_________________________________________________________________\n",
      "Layer (type)                 Output Shape              Param #   \n",
      "=================================================================\n",
      "conv2d (Conv2D)              (None, 26, 26, 32)        896       \n",
      "_________________________________________________________________\n",
      "max_pooling2d (MaxPooling2D) (None, 13, 13, 32)        0         \n",
      "_________________________________________________________________\n",
      "conv2d_1 (Conv2D)            (None, 11, 11, 64)        18496     \n",
      "_________________________________________________________________\n",
      "max_pooling2d_1 (MaxPooling2 (None, 5, 5, 64)          0         \n",
      "_________________________________________________________________\n",
      "flatten (Flatten)            (None, 1600)              0         \n",
      "_________________________________________________________________\n",
      "dense (Dense)                (None, 32)                51232     \n",
      "_________________________________________________________________\n",
      "dense_1 (Dense)              (None, 64)                2112      \n",
      "_________________________________________________________________\n",
      "dense_2 (Dense)              (None, 3)                 195       \n",
      "=================================================================\n",
      "Total params: 72,931\n",
      "Trainable params: 72,931\n",
      "Non-trainable params: 0\n",
      "_________________________________________________________________\n"
     ]
    }
   ],
   "source": [
    "\n",
    "# model을 직접 만들어 보세요.\n",
    "# Hint! model의 입력/출력부에 특히 유의해 주세요. 가위바위보 데이터셋은 MNIST 데이터셋과 어떤 점이 달라졌나요?\n",
    "# [[YOUR CODE]]\n",
    "model=keras.models.Sequential()\n",
    "model.add(keras.layers.Conv2D(32, (3,3), activation='relu', input_shape=(28,28,3)))\n",
    "model.add(keras.layers.MaxPool2D(2,2))\n",
    "model.add(keras.layers.Conv2D(64, (3,3), activation='relu'))\n",
    "model.add(keras.layers.MaxPooling2D((2,2)))\n",
    "model.add(keras.layers.Flatten())\n",
    "model.add(keras.layers.Dense(32, activation='relu'))\n",
    "model.add(keras.layers.Dense(64, activation='relu'))\n",
    "model.add(keras.layers.Dense(3, activation='softmax'))\n",
    "\n",
    "\n",
    "model.summary()"
   ]
  },
  {
   "cell_type": "markdown",
   "metadata": {},
   "source": [
    "### Dense가 솔직히 좀 많이 사기였다\n",
    "### 숫자를 무조건 늘린다고 accuracy가 비약적으로 상승하는 게 아니라는 점이 유감이었다"
   ]
  },
  {
   "cell_type": "code",
   "execution_count": 8,
   "metadata": {},
   "outputs": [
    {
     "name": "stdout",
     "output_type": "stream",
     "text": [
      "Epoch 1/9\n",
      "181/181 [==============================] - 1s 5ms/step - loss: 1.0733 - accuracy: 0.4152\n",
      "Epoch 2/9\n",
      "181/181 [==============================] - 1s 4ms/step - loss: 0.5975 - accuracy: 0.7684\n",
      "Epoch 3/9\n",
      "181/181 [==============================] - 1s 4ms/step - loss: 0.3405 - accuracy: 0.8865\n",
      "Epoch 4/9\n",
      "181/181 [==============================] - 1s 4ms/step - loss: 0.2301 - accuracy: 0.9237\n",
      "Epoch 5/9\n",
      "181/181 [==============================] - 1s 4ms/step - loss: 0.1555 - accuracy: 0.9524\n",
      "Epoch 6/9\n",
      "181/181 [==============================] - 1s 4ms/step - loss: 0.1135 - accuracy: 0.9657\n",
      "Epoch 7/9\n",
      "181/181 [==============================] - 1s 4ms/step - loss: 0.0757 - accuracy: 0.9766\n",
      "Epoch 8/9\n",
      "181/181 [==============================] - 1s 4ms/step - loss: 0.0590 - accuracy: 0.9829\n",
      "Epoch 9/9\n",
      "181/181 [==============================] - 1s 4ms/step - loss: 0.0492 - accuracy: 0.9848\n"
     ]
    },
    {
     "data": {
      "text/plain": [
       "<tensorflow.python.keras.callbacks.History at 0x7f66a011f990>"
      ]
     },
     "execution_count": 8,
     "metadata": {},
     "output_type": "execute_result"
    }
   ],
   "source": [
    "# DL Network train gogo\n",
    "# model을 학습시키는 코드를 직접 작성해 보세요.\n",
    "# Hint! model.compile()과 model.fit()을 사용해 봅시다.\n",
    "# [[YOUR CODE]]\n",
    "\n",
    "# reshape\n",
    "x_train_reshaped=x_train_norm.reshape(-1,28,28,3)\n",
    "\n",
    "# DL NW train\n",
    "model.compile(optimizer='adam',\n",
    "                            loss='sparse_categorical_crossentropy',\n",
    "                            metrics=['accuracy'])\n",
    "model.fit(x_train_reshaped,y_train,epochs=9)"
   ]
  },
  {
   "cell_type": "markdown",
   "metadata": {},
   "source": [
    "## 감격의 순간 2탄"
   ]
  },
  {
   "cell_type": "code",
   "execution_count": 9,
   "metadata": {},
   "outputs": [
    {
     "name": "stdout",
     "output_type": "stream",
     "text": [
      "img dir path= /home/aiffel/exploration/p01_rock_scissor_paper/test/rock\n",
      "바위 이미지 리사이즈 저장 완료!\n",
      "img dir path= /home/aiffel/exploration/p01_rock_scissor_paper/test/scissor\n",
      "scissor 이미지 리사이즈 저장 완료!\n",
      "img dir path= /home/aiffel/exploration/p01_rock_scissor_paper/test/paper\n",
      "paper 이미지 리사이즈 저장 완료!\n",
      "학습데이터(x_train)의 이미지 개수는 300 입니다.\n",
      "x_test shape: (300, 28, 28, 3)\n",
      "y_test shape: (300,)\n",
      "라벨:  0\n"
     ]
    },
    {
     "data": {
      "image/png": "[encoded data removed]",
      "text/plain": [
       "<Figure size 432x288 with 1 Axes>"
      ]
     },
     "metadata": {
      "needs_background": "light"
     },
     "output_type": "display_data"
    }
   ],
   "source": [
    "# x_test, y_test를 만드는 방법은 x_train, y_train을 만드는 방법과 아주 유사합니다.\n",
    "# [[YOUR CODE]]\n",
    "import os\n",
    "\n",
    "image_dir_path = os.getenv(\"HOME\") + \"/exploration/p01_rock_scissor_paper/test/rock\"\n",
    "print(\"img dir path=\", image_dir_path)\n",
    "\n",
    "images=glob.glob(image_dir_path + \"/*.jpg\")\n",
    "\n",
    "# 28 by 28 resize -> save\n",
    "target_size=(28,28)\n",
    "for img in images:\n",
    "  old_img = Image.open(img)\n",
    "  new_img=old_img.resize(target_size,Image.ANTIALIAS)\n",
    "  new_img.save(img,\"JPEG\")\n",
    "print(\"바위 이미지 리사이즈 저장 완료!\")\n",
    "\n",
    "\n",
    "image_dir_path = os.getenv(\"HOME\") + \"/exploration/p01_rock_scissor_paper/test/scissor\"\n",
    "print(\"img dir path=\", image_dir_path)\n",
    "\n",
    "images=glob.glob(image_dir_path + \"/*.jpg\")\n",
    "\n",
    "# 28 by 28 resize -> save\n",
    "target_size=(28,28)\n",
    "for img in images:\n",
    "  old_img = Image.open(img)\n",
    "  new_img=old_img.resize(target_size,Image.ANTIALIAS)\n",
    "  new_img.save(img,\"JPEG\")\n",
    "print(\"scissor 이미지 리사이즈 저장 완료!\")\n",
    "\n",
    "\n",
    "\n",
    "image_dir_path = os.getenv(\"HOME\") + \"/exploration/p01_rock_scissor_paper/test/paper\"\n",
    "print(\"img dir path=\", image_dir_path)\n",
    "\n",
    "images=glob.glob(image_dir_path + \"/*.jpg\")\n",
    "\n",
    "# 28 by 28 resize -> save\n",
    "target_size=(28,28)\n",
    "for img in images:\n",
    "  old_img = Image.open(img)\n",
    "  new_img=old_img.resize(target_size,Image.ANTIALIAS)\n",
    "  new_img.save(img,\"JPEG\")\n",
    "print(\"paper 이미지 리사이즈 저장 완료!\")\n",
    "\n",
    "\n",
    "# normalize, make test dataset\n",
    "def load_data(img_path):\n",
    "    # 가위 : 0, 바위 : 1, 보 : 2\n",
    "    number_of_data=300   # 가위바위보 이미지 개수 총합에 주의하세요.\n",
    "    img_size=28\n",
    "    color=3\n",
    "    #이미지 데이터와 라벨(가위 : 0, 바위 : 1, 보 : 2) 데이터를 담을 행렬(matrix) 영역을 생성합니다.\n",
    "    imgs=np.zeros(number_of_data*img_size*img_size*color,dtype=np.int32).reshape(number_of_data,img_size,img_size,color)\n",
    "    labels=np.zeros(number_of_data,dtype=np.int32)\n",
    "\n",
    "    idx=0\n",
    "    for file in glob.iglob(img_path+'/scissor/*.jpg'):\n",
    "        img = np.array(Image.open(file),dtype=np.int32)\n",
    "        imgs[idx,:,:,:]=img    # 데이터 영역에 이미지 행렬을 복사\n",
    "        labels[idx]=0   # 가위 : 0\n",
    "        idx=idx+1\n",
    "\n",
    "    for file in glob.iglob(img_path+'/rock/*.jpg'):\n",
    "        img = np.array(Image.open(file),dtype=np.int32)\n",
    "        imgs[idx,:,:,:]=img    # 데이터 영역에 이미지 행렬을 복사\n",
    "        labels[idx]=1   # 바위 : 1\n",
    "        idx=idx+1       \n",
    "    \n",
    "    for file in glob.iglob(img_path+'/paper/*.jpg'):\n",
    "        img = np.array(Image.open(file),dtype=np.int32)\n",
    "        imgs[idx,:,:,:]=img    # 데이터 영역에 이미지 행렬을 복사\n",
    "        labels[idx]=2   # 보 : 2\n",
    "        idx=idx+1\n",
    "        \n",
    "    print(\"학습데이터(x_train)의 이미지 개수는\",idx,\"입니다.\")\n",
    "    return imgs, labels\n",
    "\n",
    "image_dir_path = os.getenv(\"HOME\") + \"/exploration/p01_rock_scissor_paper/test\"\n",
    "(x_test, y_test)=load_data(image_dir_path)\n",
    "x_test_norm = x_test/255.0   # 입력은 0~1 사이의 값으로 정규화\n",
    "\n",
    "print(\"x_test shape: {}\".format(x_test.shape))\n",
    "print(\"y_test shape: {}\".format(y_test.shape))\n",
    "\n",
    "import matplotlib.pyplot as plt\n",
    "plt.imshow(x_test[0])\n",
    "print('라벨: ', y_test[0])\n",
    "\n",
    "x_test_reshaped=x_test_norm.reshape(-1,28,28,3)"
   ]
  },
  {
   "cell_type": "markdown",
   "metadata": {},
   "source": [
    "## 테스트 이미지 리사이징 및 normalize하는 부분에서 코드가 많이 지저분해진 느낌이다\n",
    "## 여기서\n",
    "```python\n",
    "    x_test_reshaped=x_test_norm.reshape(-1,28,28,3)\n",
    "```\n",
    "## 부분에서 x_test에 x_train_norm값을 대입하고 있었다는 사실을 발견했을 땐 격하게 집에 가고 깊었다\n"
   ]
  },
  {
   "cell_type": "code",
   "execution_count": 10,
   "metadata": {},
   "outputs": [
    {
     "name": "stdout",
     "output_type": "stream",
     "text": [
      "10/10 - 0s - loss: 1.0834 - accuracy: 0.7733\n",
      "test_loss: 1.0833725929260254 \n",
      "test_accuracy: 0.7733333110809326\n"
     ]
    }
   ],
   "source": [
    "# model을 학습시키는 코드를 직접 작성해 보세요.\n",
    "# Hint! model.evaluate()을 사용해 봅시다.\n",
    "test_loss, test_accuracy = model.evaluate(x_test_reshaped, y_test, verbose=2)\n",
    "print(\"test_loss: {} \".format(test_loss))\n",
    "print(\"test_accuracy: {}\".format(test_accuracy))"
   ]
  },
  {
   "cell_type": "markdown",
   "metadata": {},
   "source": [
    "## 동일한 코드, 동일한 데이터임에도 최종 accuracy가 0.78~0.87 사이를 왔다갔다 한다.\n",
    "## 그래도 0.98같은 비현실적인 값이 아닌 안정적인 값을 얻을 수 있어 좋았다"
   ]
  },
  {
   "cell_type": "markdown",
   "metadata": {},
   "source": [
    "# 첫 프로젝트, 낯선 언어 낯선 문법 낯설고 어려운 개념들을 한꺼번에 접하게 되어 정신이 혼미하지만 오늘 트레인 데이터를 학습시키듯 셀프딥러닝을 통해 역량있는 AI인으로 거듭나고 싶다"
   ]
  }
 ],
 "metadata": {
  "kernelspec": {
   "display_name": "aiffel",
   "language": "python",
   "name": "aiffel"
  },
  "language_info": {
   "codemirror_mode": {
    "name": "ipython",
    "version": 3
   },
   "file_extension": ".py",
   "mimetype": "text/x-python",
   "name": "python",
   "nbconvert_exporter": "python",
   "pygments_lexer": "ipython3",
   "version": "3.7.6"
  }
 },
 "nbformat": 4,
 "nbformat_minor": 4
}

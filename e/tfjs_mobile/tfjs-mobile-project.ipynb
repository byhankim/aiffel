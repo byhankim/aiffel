{
 "cells": [
  {
   "cell_type": "markdown",
   "metadata": {},
   "source": [
    "# E13 project\n",
    "---\n",
    "## step1. 표정 데이터로 mobilenet 학습시키기\n",
    "- 데이터셋 구경하기"
   ]
  },
  {
   "cell_type": "code",
   "execution_count": 1,
   "metadata": {},
   "outputs": [
    {
     "name": "stderr",
     "output_type": "stream",
     "text": [
      "100%|██████████| 35887/35887 [00:23<00:00, 1557.41it/s]"
     ]
    },
    {
     "name": "stdout",
     "output_type": "stream",
     "text": [
      "train : 32298, eval :3589\n"
     ]
    },
    {
     "name": "stderr",
     "output_type": "stream",
     "text": [
      "\n"
     ]
    }
   ],
   "source": [
    "import numpy as np\n",
    "import tqdm\n",
    "import os\n",
    "\n",
    "train_x = []\n",
    "train_y = []\n",
    "eval_x = []\n",
    "eval_y = []\n",
    "\n",
    "csv_path = os.getenv('HOME')+'/aiffel/e/tfjs_mobile/data/fer2013.csv'\n",
    "\n",
    "with open(csv_path) as f:\n",
    "  for line in tqdm.tqdm(f.read().splitlines()[1:]):\n",
    "    emotion, pixels, usage = line.split(',')\n",
    "    \n",
    "    x = np.array(pixels.split(' ')).astype(float).reshape(48, 48, 1) / 255\n",
    "    y = int(emotion)\n",
    "\n",
    "    if usage == 'PrivateTest':\n",
    "      eval_x.append(x)\n",
    "      eval_y.append(y)\n",
    "    else:\n",
    "      train_x.append(x)\n",
    "      train_y.append(y)\n",
    "\n",
    "print('train : {}, eval :{}'.format(len(train_x), len(eval_x)))"
   ]
  },
  {
   "cell_type": "markdown",
   "metadata": {},
   "source": [
    "데이터 완비 확인을 위해 첫 데이터의 이미지, 라벨을 확인한다"
   ]
  },
  {
   "cell_type": "code",
   "execution_count": 2,
   "metadata": {},
   "outputs": [
    {
     "name": "stdout",
     "output_type": "stream",
     "text": [
      "Angry\n"
     ]
    },
    {
     "data": {
      "text/plain": [
       "<matplotlib.image.AxesImage at 0x7f8ec4da27d0>"
      ]
     },
     "execution_count": 2,
     "metadata": {},
     "output_type": "execute_result"
    },
    {
     "data": {
      "image/png": "[encoded data removed]",
      "text/plain": [
       "<Figure size 432x288 with 1 Axes>"
      ]
     },
     "metadata": {
      "needs_background": "light"
     },
     "output_type": "display_data"
    }
   ],
   "source": [
    "from matplotlib import pyplot as plt\n",
    "\n",
    "LABELS = ['Angry', 'Disgust', 'Fear', 'Happy', 'Sad', 'Surprise', 'Neutral']\n",
    "\n",
    "print(LABELS[train_y[0]])\n",
    "plt.imshow(train_x[0].reshape([48, 48]), cmap='gray')"
   ]
  },
  {
   "cell_type": "markdown",
   "metadata": {},
   "source": [
    "100 epoch만 학습하여 MobileNetV2 모델 학습하기"
   ]
  },
  {
   "cell_type": "code",
   "execution_count": 3,
   "metadata": {},
   "outputs": [
    {
     "name": "stdout",
     "output_type": "stream",
     "text": [
      "1 Physical GPUs, 1 Logical GPUs\n",
      "Epoch 1/100\n",
      "64/64 [==============================] - 80s 1s/step - loss: 1.8296 - categorical_accuracy: 0.2421 - val_loss: 1.9287 - val_categorical_accuracy: 0.1655\n",
      "Epoch 2/100\n",
      "64/64 [==============================] - 6s 87ms/step - loss: 1.6851 - categorical_accuracy: 0.3259 - val_loss: 1.9208 - val_categorical_accuracy: 0.1655\n",
      "Epoch 3/100\n",
      "64/64 [==============================] - 6s 86ms/step - loss: 1.5729 - categorical_accuracy: 0.3838 - val_loss: 1.9233 - val_categorical_accuracy: 0.1368\n",
      "Epoch 4/100\n",
      "64/64 [==============================] - 6s 87ms/step - loss: 1.4875 - categorical_accuracy: 0.4253 - val_loss: 1.9212 - val_categorical_accuracy: 0.1655\n",
      "Epoch 5/100\n",
      "64/64 [==============================] - 6s 87ms/step - loss: 1.4022 - categorical_accuracy: 0.4621 - val_loss: 1.9248 - val_categorical_accuracy: 0.1655\n",
      "Epoch 6/100\n",
      "64/64 [==============================] - 6s 87ms/step - loss: 1.3353 - categorical_accuracy: 0.4932 - val_loss: 1.9246 - val_categorical_accuracy: 0.1655\n",
      "Epoch 7/100\n",
      "64/64 [==============================] - 6s 87ms/step - loss: 1.2675 - categorical_accuracy: 0.5211 - val_loss: 1.9263 - val_categorical_accuracy: 0.1655\n",
      "Epoch 8/100\n",
      "64/64 [==============================] - 6s 87ms/step - loss: 1.2378 - categorical_accuracy: 0.5366 - val_loss: 1.9394 - val_categorical_accuracy: 0.1655\n",
      "Epoch 9/100\n",
      "64/64 [==============================] - 6s 87ms/step - loss: 1.1480 - categorical_accuracy: 0.5728 - val_loss: 1.9320 - val_categorical_accuracy: 0.1655\n",
      "Epoch 10/100\n",
      "64/64 [==============================] - 6s 88ms/step - loss: 1.0964 - categorical_accuracy: 0.5918 - val_loss: 1.9379 - val_categorical_accuracy: 0.1655\n",
      "Epoch 11/100\n",
      "64/64 [==============================] - 6s 87ms/step - loss: 1.0426 - categorical_accuracy: 0.6135 - val_loss: 1.9422 - val_categorical_accuracy: 0.1655\n",
      "Epoch 12/100\n",
      "64/64 [==============================] - 6s 88ms/step - loss: 0.9904 - categorical_accuracy: 0.6356 - val_loss: 1.9513 - val_categorical_accuracy: 0.1655\n",
      "Epoch 13/100\n",
      "64/64 [==============================] - 6s 88ms/step - loss: 0.9207 - categorical_accuracy: 0.6635 - val_loss: 1.9625 - val_categorical_accuracy: 0.1655\n",
      "Epoch 14/100\n",
      "64/64 [==============================] - 6s 88ms/step - loss: 0.8756 - categorical_accuracy: 0.6800 - val_loss: 1.9738 - val_categorical_accuracy: 0.1655\n",
      "Epoch 15/100\n",
      "64/64 [==============================] - 6s 87ms/step - loss: 0.8200 - categorical_accuracy: 0.7007 - val_loss: 1.9926 - val_categorical_accuracy: 0.1655\n",
      "Epoch 16/100\n",
      "64/64 [==============================] - 6s 88ms/step - loss: 0.7455 - categorical_accuracy: 0.7292 - val_loss: 1.9855 - val_categorical_accuracy: 0.1655\n",
      "Epoch 17/100\n",
      "64/64 [==============================] - 6s 88ms/step - loss: 0.7277 - categorical_accuracy: 0.7363 - val_loss: 1.9970 - val_categorical_accuracy: 0.1655\n",
      "Epoch 18/100\n",
      "64/64 [==============================] - 6s 88ms/step - loss: 0.6647 - categorical_accuracy: 0.7619 - val_loss: 1.9986 - val_categorical_accuracy: 0.1655\n",
      "Epoch 19/100\n",
      "64/64 [==============================] - 6s 88ms/step - loss: 0.6307 - categorical_accuracy: 0.7733 - val_loss: 2.0076 - val_categorical_accuracy: 0.1655\n",
      "Epoch 20/100\n",
      "64/64 [==============================] - 6s 88ms/step - loss: 0.5720 - categorical_accuracy: 0.7970 - val_loss: 2.0523 - val_categorical_accuracy: 0.1655\n",
      "Epoch 21/100\n",
      "64/64 [==============================] - 6s 87ms/step - loss: 0.5715 - categorical_accuracy: 0.7943 - val_loss: 2.0705 - val_categorical_accuracy: 0.1744\n",
      "Epoch 22/100\n",
      "64/64 [==============================] - 6s 87ms/step - loss: 0.5492 - categorical_accuracy: 0.8012 - val_loss: 2.0813 - val_categorical_accuracy: 0.1744\n",
      "Epoch 23/100\n",
      "64/64 [==============================] - 6s 88ms/step - loss: 0.4657 - categorical_accuracy: 0.8322 - val_loss: 2.0972 - val_categorical_accuracy: 0.1655\n",
      "Epoch 24/100\n",
      "64/64 [==============================] - 6s 88ms/step - loss: 0.5063 - categorical_accuracy: 0.8191 - val_loss: 2.1127 - val_categorical_accuracy: 0.1655\n",
      "Epoch 25/100\n",
      "64/64 [==============================] - 6s 88ms/step - loss: 0.5218 - categorical_accuracy: 0.8107 - val_loss: 2.0956 - val_categorical_accuracy: 0.1655\n",
      "Epoch 26/100\n",
      "64/64 [==============================] - 6s 88ms/step - loss: 0.4045 - categorical_accuracy: 0.8567 - val_loss: 2.1175 - val_categorical_accuracy: 0.1655\n",
      "Epoch 27/100\n",
      "64/64 [==============================] - 6s 88ms/step - loss: 0.3484 - categorical_accuracy: 0.8764 - val_loss: 2.1269 - val_categorical_accuracy: 0.1655\n",
      "Epoch 28/100\n",
      "64/64 [==============================] - 6s 87ms/step - loss: 0.3524 - categorical_accuracy: 0.8751 - val_loss: 2.1691 - val_categorical_accuracy: 0.1744\n",
      "Epoch 29/100\n",
      "64/64 [==============================] - 6s 88ms/step - loss: 0.3118 - categorical_accuracy: 0.8890 - val_loss: 2.1813 - val_categorical_accuracy: 0.1744\n",
      "Epoch 30/100\n",
      "64/64 [==============================] - 6s 88ms/step - loss: 0.3568 - categorical_accuracy: 0.8733 - val_loss: 2.2015 - val_categorical_accuracy: 0.1744\n",
      "Epoch 31/100\n",
      "64/64 [==============================] - 6s 88ms/step - loss: 0.3089 - categorical_accuracy: 0.8901 - val_loss: 2.2008 - val_categorical_accuracy: 0.1655\n",
      "Epoch 32/100\n",
      "64/64 [==============================] - 6s 88ms/step - loss: 0.2795 - categorical_accuracy: 0.9014 - val_loss: 2.1978 - val_categorical_accuracy: 0.1655\n",
      "Epoch 33/100\n",
      "64/64 [==============================] - 6s 88ms/step - loss: 0.2704 - categorical_accuracy: 0.9054 - val_loss: 2.2065 - val_categorical_accuracy: 0.1744\n",
      "Epoch 34/100\n",
      "64/64 [==============================] - 6s 93ms/step - loss: 0.2184 - categorical_accuracy: 0.9269 - val_loss: 2.1992 - val_categorical_accuracy: 0.1655\n",
      "Epoch 35/100\n",
      "64/64 [==============================] - 6s 88ms/step - loss: 0.2752 - categorical_accuracy: 0.9043 - val_loss: 2.1796 - val_categorical_accuracy: 0.1655\n",
      "Epoch 36/100\n",
      "64/64 [==============================] - 6s 92ms/step - loss: 0.2468 - categorical_accuracy: 0.9137 - val_loss: 2.2043 - val_categorical_accuracy: 0.1655\n",
      "Epoch 37/100\n",
      "64/64 [==============================] - 6s 91ms/step - loss: 0.2464 - categorical_accuracy: 0.9130 - val_loss: 2.2186 - val_categorical_accuracy: 0.1655\n",
      "Epoch 38/100\n",
      "64/64 [==============================] - 6s 94ms/step - loss: 0.1770 - categorical_accuracy: 0.9391 - val_loss: 2.2735 - val_categorical_accuracy: 0.1655\n",
      "Epoch 39/100\n",
      "64/64 [==============================] - 6s 88ms/step - loss: 0.1760 - categorical_accuracy: 0.9379 - val_loss: 2.2237 - val_categorical_accuracy: 0.1744\n",
      "Epoch 40/100\n",
      "64/64 [==============================] - 6s 90ms/step - loss: 0.2234 - categorical_accuracy: 0.9229 - val_loss: 2.2277 - val_categorical_accuracy: 0.1655\n",
      "Epoch 41/100\n",
      "64/64 [==============================] - 6s 94ms/step - loss: 0.2265 - categorical_accuracy: 0.9205 - val_loss: 2.2479 - val_categorical_accuracy: 0.1744\n",
      "Epoch 42/100\n",
      "64/64 [==============================] - 6s 93ms/step - loss: 0.1976 - categorical_accuracy: 0.9316 - val_loss: 2.2889 - val_categorical_accuracy: 0.1744\n",
      "Epoch 43/100\n",
      "64/64 [==============================] - 6s 89ms/step - loss: 0.2398 - categorical_accuracy: 0.9164 - val_loss: 2.3067 - val_categorical_accuracy: 0.1655\n",
      "Epoch 44/100\n",
      "64/64 [==============================] - 6s 92ms/step - loss: 0.2241 - categorical_accuracy: 0.9216 - val_loss: 2.3052 - val_categorical_accuracy: 0.1744\n",
      "Epoch 45/100\n",
      "64/64 [==============================] - 6s 89ms/step - loss: 0.1774 - categorical_accuracy: 0.9392 - val_loss: 2.2974 - val_categorical_accuracy: 0.1655\n",
      "Epoch 46/100\n",
      "64/64 [==============================] - 6s 89ms/step - loss: 0.1466 - categorical_accuracy: 0.9489 - val_loss: 2.3427 - val_categorical_accuracy: 0.1655\n",
      "Epoch 47/100\n",
      "64/64 [==============================] - 6s 88ms/step - loss: 0.1437 - categorical_accuracy: 0.9496 - val_loss: 2.3314 - val_categorical_accuracy: 0.1744\n",
      "Epoch 48/100\n",
      "64/64 [==============================] - 6s 88ms/step - loss: 0.1440 - categorical_accuracy: 0.9506 - val_loss: 2.3078 - val_categorical_accuracy: 0.1744\n",
      "Epoch 49/100\n",
      "64/64 [==============================] - 6s 90ms/step - loss: 0.2294 - categorical_accuracy: 0.9215 - val_loss: 2.3130 - val_categorical_accuracy: 0.1764\n"
     ]
    },
    {
     "name": "stdout",
     "output_type": "stream",
     "text": [
      "Epoch 50/100\n",
      "64/64 [==============================] - 6s 89ms/step - loss: 0.1347 - categorical_accuracy: 0.9536 - val_loss: 2.3686 - val_categorical_accuracy: 0.1744\n",
      "Epoch 51/100\n",
      "64/64 [==============================] - 6s 87ms/step - loss: 0.1839 - categorical_accuracy: 0.9365 - val_loss: 2.4249 - val_categorical_accuracy: 0.1655\n",
      "Epoch 52/100\n",
      "64/64 [==============================] - 6s 88ms/step - loss: 0.1169 - categorical_accuracy: 0.9602 - val_loss: 2.4179 - val_categorical_accuracy: 0.1655\n",
      "Epoch 53/100\n",
      "64/64 [==============================] - 6s 89ms/step - loss: 0.1114 - categorical_accuracy: 0.9622 - val_loss: 2.4630 - val_categorical_accuracy: 0.1655\n",
      "Epoch 54/100\n",
      "64/64 [==============================] - 6s 90ms/step - loss: 0.1755 - categorical_accuracy: 0.9405 - val_loss: 2.4810 - val_categorical_accuracy: 0.1744\n",
      "Epoch 55/100\n",
      "64/64 [==============================] - 6s 89ms/step - loss: 0.2291 - categorical_accuracy: 0.9200 - val_loss: 2.5486 - val_categorical_accuracy: 0.1923\n",
      "Epoch 56/100\n",
      "64/64 [==============================] - 6s 87ms/step - loss: 0.1435 - categorical_accuracy: 0.9506 - val_loss: 2.5666 - val_categorical_accuracy: 0.1755\n",
      "Epoch 57/100\n",
      "64/64 [==============================] - 6s 88ms/step - loss: 0.2121 - categorical_accuracy: 0.9268 - val_loss: 2.5101 - val_categorical_accuracy: 0.1649\n",
      "Epoch 58/100\n",
      "64/64 [==============================] - 6s 89ms/step - loss: 0.1861 - categorical_accuracy: 0.9372 - val_loss: 2.4462 - val_categorical_accuracy: 0.1669\n",
      "Epoch 59/100\n",
      "64/64 [==============================] - 6s 87ms/step - loss: 0.1169 - categorical_accuracy: 0.9611 - val_loss: 2.5329 - val_categorical_accuracy: 0.1655\n",
      "Epoch 60/100\n",
      "64/64 [==============================] - 6s 88ms/step - loss: 0.1188 - categorical_accuracy: 0.9593 - val_loss: 2.6119 - val_categorical_accuracy: 0.1872\n",
      "Epoch 61/100\n",
      "64/64 [==============================] - 6s 88ms/step - loss: 0.1428 - categorical_accuracy: 0.9518 - val_loss: 2.6921 - val_categorical_accuracy: 0.2001\n",
      "Epoch 62/100\n",
      "64/64 [==============================] - 6s 88ms/step - loss: 0.1164 - categorical_accuracy: 0.9610 - val_loss: 2.5409 - val_categorical_accuracy: 0.1886\n",
      "Epoch 63/100\n",
      "64/64 [==============================] - 6s 88ms/step - loss: 0.0865 - categorical_accuracy: 0.9707 - val_loss: 2.9239 - val_categorical_accuracy: 0.1725\n",
      "Epoch 64/100\n",
      "64/64 [==============================] - 6s 88ms/step - loss: 0.1694 - categorical_accuracy: 0.9421 - val_loss: 2.8934 - val_categorical_accuracy: 0.1661\n",
      "Epoch 65/100\n",
      "64/64 [==============================] - 6s 88ms/step - loss: 0.1466 - categorical_accuracy: 0.9488 - val_loss: 2.7940 - val_categorical_accuracy: 0.1797\n",
      "Epoch 66/100\n",
      "64/64 [==============================] - 6s 88ms/step - loss: 0.1192 - categorical_accuracy: 0.9589 - val_loss: 3.0587 - val_categorical_accuracy: 0.1967\n",
      "Epoch 67/100\n",
      "64/64 [==============================] - 6s 88ms/step - loss: 0.1636 - categorical_accuracy: 0.9423 - val_loss: 3.0550 - val_categorical_accuracy: 0.2042\n",
      "Epoch 68/100\n",
      "64/64 [==============================] - 6s 88ms/step - loss: 0.1312 - categorical_accuracy: 0.9545 - val_loss: 2.7474 - val_categorical_accuracy: 0.2221\n",
      "Epoch 69/100\n",
      "64/64 [==============================] - 6s 88ms/step - loss: 0.1216 - categorical_accuracy: 0.9575 - val_loss: 2.9603 - val_categorical_accuracy: 0.2349\n",
      "Epoch 70/100\n",
      "64/64 [==============================] - 6s 88ms/step - loss: 0.0623 - categorical_accuracy: 0.9799 - val_loss: 3.2231 - val_categorical_accuracy: 0.2201\n",
      "Epoch 71/100\n",
      "64/64 [==============================] - 6s 88ms/step - loss: 0.0967 - categorical_accuracy: 0.9669 - val_loss: 3.1583 - val_categorical_accuracy: 0.2257\n",
      "Epoch 72/100\n",
      "64/64 [==============================] - 6s 88ms/step - loss: 0.0976 - categorical_accuracy: 0.9664 - val_loss: 3.1710 - val_categorical_accuracy: 0.2282\n",
      "Epoch 73/100\n",
      "64/64 [==============================] - 6s 89ms/step - loss: 0.1192 - categorical_accuracy: 0.9582 - val_loss: 2.8550 - val_categorical_accuracy: 0.2981\n",
      "Epoch 74/100\n",
      "64/64 [==============================] - 6s 91ms/step - loss: 0.1964 - categorical_accuracy: 0.9325 - val_loss: 3.2484 - val_categorical_accuracy: 0.3188\n",
      "Epoch 75/100\n",
      "64/64 [==============================] - 6s 88ms/step - loss: 0.1277 - categorical_accuracy: 0.9576 - val_loss: 2.9093 - val_categorical_accuracy: 0.3394\n",
      "Epoch 76/100\n",
      "64/64 [==============================] - 6s 88ms/step - loss: 0.2008 - categorical_accuracy: 0.9296 - val_loss: 3.0994 - val_categorical_accuracy: 0.3385\n",
      "Epoch 77/100\n",
      "64/64 [==============================] - 6s 88ms/step - loss: 0.1221 - categorical_accuracy: 0.9581 - val_loss: 3.3926 - val_categorical_accuracy: 0.3101\n",
      "Epoch 78/100\n",
      "64/64 [==============================] - 6s 88ms/step - loss: 0.2033 - categorical_accuracy: 0.9299 - val_loss: 3.3149 - val_categorical_accuracy: 0.3558\n",
      "Epoch 79/100\n",
      "64/64 [==============================] - 6s 89ms/step - loss: 0.1048 - categorical_accuracy: 0.9643 - val_loss: 3.3465 - val_categorical_accuracy: 0.3614\n",
      "Epoch 80/100\n",
      "64/64 [==============================] - 6s 88ms/step - loss: 0.1512 - categorical_accuracy: 0.9489 - val_loss: 3.4254 - val_categorical_accuracy: 0.3508\n",
      "Epoch 81/100\n",
      "64/64 [==============================] - 6s 88ms/step - loss: 0.1450 - categorical_accuracy: 0.9498 - val_loss: 3.6068 - val_categorical_accuracy: 0.3647\n",
      "Epoch 82/100\n",
      "64/64 [==============================] - 6s 88ms/step - loss: 0.1445 - categorical_accuracy: 0.9499 - val_loss: 3.6551 - val_categorical_accuracy: 0.3867\n",
      "Epoch 83/100\n",
      "64/64 [==============================] - 6s 88ms/step - loss: 0.1902 - categorical_accuracy: 0.9348 - val_loss: 3.5202 - val_categorical_accuracy: 0.4026\n",
      "Epoch 84/100\n",
      "64/64 [==============================] - 6s 88ms/step - loss: 0.1391 - categorical_accuracy: 0.9530 - val_loss: 4.0245 - val_categorical_accuracy: 0.3770\n",
      "Epoch 85/100\n",
      "64/64 [==============================] - 6s 88ms/step - loss: 0.1130 - categorical_accuracy: 0.9611 - val_loss: 3.7109 - val_categorical_accuracy: 0.3895\n",
      "Epoch 86/100\n",
      "64/64 [==============================] - 6s 88ms/step - loss: 0.0803 - categorical_accuracy: 0.9724 - val_loss: 4.0622 - val_categorical_accuracy: 0.4051\n",
      "Epoch 87/100\n",
      "64/64 [==============================] - 6s 88ms/step - loss: 0.0783 - categorical_accuracy: 0.9735 - val_loss: 3.8154 - val_categorical_accuracy: 0.4177\n",
      "Epoch 88/100\n",
      "64/64 [==============================] - 6s 88ms/step - loss: 0.0830 - categorical_accuracy: 0.9714 - val_loss: 4.3057 - val_categorical_accuracy: 0.4085\n",
      "Epoch 89/100\n",
      "64/64 [==============================] - 6s 88ms/step - loss: 0.0994 - categorical_accuracy: 0.9654 - val_loss: 4.3423 - val_categorical_accuracy: 0.4299\n",
      "Epoch 90/100\n",
      "64/64 [==============================] - 6s 88ms/step - loss: 0.1106 - categorical_accuracy: 0.9624 - val_loss: 4.6251 - val_categorical_accuracy: 0.4046\n",
      "Epoch 91/100\n",
      "64/64 [==============================] - 6s 88ms/step - loss: 0.1506 - categorical_accuracy: 0.9475 - val_loss: 4.1726 - val_categorical_accuracy: 0.4163\n",
      "Epoch 92/100\n",
      "64/64 [==============================] - 6s 88ms/step - loss: 0.1212 - categorical_accuracy: 0.9568 - val_loss: 4.6065 - val_categorical_accuracy: 0.4324\n",
      "Epoch 93/100\n",
      "64/64 [==============================] - 6s 88ms/step - loss: 0.1025 - categorical_accuracy: 0.9664 - val_loss: 4.4763 - val_categorical_accuracy: 0.4280\n",
      "Epoch 94/100\n",
      "64/64 [==============================] - 6s 88ms/step - loss: 0.0809 - categorical_accuracy: 0.9728 - val_loss: 4.5214 - val_categorical_accuracy: 0.4283\n",
      "Epoch 95/100\n",
      "64/64 [==============================] - 6s 88ms/step - loss: 0.1267 - categorical_accuracy: 0.9571 - val_loss: 4.9720 - val_categorical_accuracy: 0.4324\n",
      "Epoch 96/100\n",
      "64/64 [==============================] - 6s 88ms/step - loss: 0.1348 - categorical_accuracy: 0.9542 - val_loss: 4.9722 - val_categorical_accuracy: 0.4285\n",
      "Epoch 97/100\n",
      "64/64 [==============================] - 6s 88ms/step - loss: 0.0723 - categorical_accuracy: 0.9756 - val_loss: 4.7473 - val_categorical_accuracy: 0.4238\n",
      "Epoch 98/100\n",
      "64/64 [==============================] - 6s 88ms/step - loss: 0.1043 - categorical_accuracy: 0.9633 - val_loss: 4.7658 - val_categorical_accuracy: 0.4110\n",
      "Epoch 99/100\n"
     ]
    },
    {
     "name": "stdout",
     "output_type": "stream",
     "text": [
      "64/64 [==============================] - 5s 85ms/step - loss: 0.1423 - categorical_accuracy: 0.9521 - val_loss: 5.1450 - val_categorical_accuracy: 0.4224\n",
      "Epoch 100/100\n",
      "64/64 [==============================] - 5s 86ms/step - loss: 0.1506 - categorical_accuracy: 0.9484 - val_loss: 5.3093 - val_categorical_accuracy: 0.4126\n"
     ]
    },
    {
     "data": {
      "text/plain": [
       "<tensorflow.python.keras.callbacks.History at 0x7f8d74650190>"
      ]
     },
     "execution_count": 3,
     "metadata": {},
     "output_type": "execute_result"
    }
   ],
   "source": [
    "import tensorflow as tf\n",
    "gpus = tf.config.experimental.list_physical_devices('GPU')\n",
    "if gpus:\n",
    "  try:\n",
    "    # Currently, memory growth needs to be the same across GPUs\n",
    "    for gpu in gpus:\n",
    "      tf.config.experimental.set_memory_growth(gpu, True)\n",
    "    logical_gpus = tf.config.experimental.list_logical_devices('GPU')\n",
    "    print(len(gpus), \"Physical GPUs,\", len(logical_gpus), \"Logical GPUs\")\n",
    "  except RuntimeError as e:\n",
    "    # Memory growth must be set before GPUs have been initialized\n",
    "    print(e)\n",
    "\n",
    "# model 선언 \n",
    "model = tf.keras.applications.MobileNetV2(input_shape=(48, 48, 1), weights=None, classes=7)\n",
    "\n",
    "# model.compile\n",
    "model.compile(optimizer=tf.keras.optimizers.Adam(),\n",
    "              loss=tf.keras.losses.CategoricalCrossentropy(),\n",
    "              metrics=[tf.keras.metrics.CategoricalAccuracy()])\n",
    "\n",
    "#model.fit\n",
    "model.fit(np.stack(train_x),\n",
    "          tf.keras.utils.to_categorical(train_y),\n",
    "          epochs=100,\n",
    "          batch_size=512,\n",
    "          validation_data=(np.stack(eval_x),\n",
    "                           tf.keras.utils.to_categorical(eval_y)))"
   ]
  },
  {
   "cell_type": "markdown",
   "metadata": {},
   "source": [
    "## step 2. 학습된 모델을 TensorFlow.js 형식으로 변환하기"
   ]
  },
  {
   "cell_type": "code",
   "execution_count": 5,
   "metadata": {},
   "outputs": [],
   "source": [
    "import os\n",
    "model_path = os.getenv('HOME')+'/aiffel/e/tfjs_mobile/model.h5'\n",
    "model.save(model_path)"
   ]
  },
  {
   "cell_type": "markdown",
   "metadata": {},
   "source": [
    "`pip install tensorflowjs`로 설치하여 tf.js가 활용할 수 있는 형태로 변환하기    \n",
    "터미널에서 `tensorflowjs_converter` 명령어만 실행    \n",
    "```shell\n",
    "$ cd ~/aiffel/tfjs_mobile\n",
    "$ tensorflowjs_converter --input_format=keras model.h5 model\n",
    "```"
   ]
  },
  {
   "cell_type": "markdown",
   "metadata": {},
   "source": [
    "## step 3. 카메라에서 가져온 영상 전처리하기"
   ]
  },
  {
   "cell_type": "code",
   "execution_count": null,
   "metadata": {},
   "outputs": [],
   "source": []
  },
  {
   "cell_type": "code",
   "execution_count": null,
   "metadata": {},
   "outputs": [],
   "source": []
  },
  {
   "cell_type": "code",
   "execution_count": null,
   "metadata": {},
   "outputs": [],
   "source": []
  },
  {
   "cell_type": "code",
   "execution_count": null,
   "metadata": {},
   "outputs": [],
   "source": []
  }
 ],
 "metadata": {
  "kernelspec": {
   "display_name": "aiffel",
   "language": "python",
   "name": "aiffel"
  },
  "language_info": {
   "codemirror_mode": {
    "name": "ipython",
    "version": 3
   },
   "file_extension": ".py",
   "mimetype": "text/x-python",
   "name": "python",
   "nbconvert_exporter": "python",
   "pygments_lexer": "ipython3",
   "version": "3.7.6"
  }
 },
 "nbformat": 4,
 "nbformat_minor": 4
}

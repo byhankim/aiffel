{
 "cells": [
  {
   "cell_type": "markdown",
   "metadata": {},
   "source": [
    "# E13 project\n",
    "---\n",
    "## step1. 표정 데이터로 mobilenet 학습시키기\n",
    "- 데이터셋 구경하기"
   ]
  },
  {
   "cell_type": "code",
   "execution_count": 1,
   "metadata": {},
   "outputs": [
    {
     "name": "stderr",
     "output_type": "stream",
     "text": [
      "100%|██████████| 35887/35887 [00:24<00:00, 1462.40it/s]"
     ]
    },
    {
     "name": "stdout",
     "output_type": "stream",
     "text": [
      "train : 32298, eval :3589\n"
     ]
    },
    {
     "name": "stderr",
     "output_type": "stream",
     "text": [
      "\n"
     ]
    }
   ],
   "source": [
    "import numpy as np\n",
    "import tqdm\n",
    "import os\n",
    "\n",
    "train_x = []\n",
    "train_y = []\n",
    "eval_x = []\n",
    "eval_y = []\n",
    "\n",
    "csv_path = os.getenv('HOME')+'/aiffel/e/tfjs_mobile/data/fer2013.csv'\n",
    "\n",
    "with open(csv_path) as f:\n",
    "  for line in tqdm.tqdm(f.read().splitlines()[1:]):\n",
    "    emotion, pixels, usage = line.split(',')\n",
    "    \n",
    "    x = np.array(pixels.split(' ')).astype(float).reshape(48, 48, 1) / 255\n",
    "    y = int(emotion)\n",
    "\n",
    "    if usage == 'PrivateTest':\n",
    "      eval_x.append(x)\n",
    "      eval_y.append(y)\n",
    "    else:\n",
    "      train_x.append(x)\n",
    "      train_y.append(y)\n",
    "\n",
    "print('train : {}, eval :{}'.format(len(train_x), len(eval_x)))"
   ]
  },
  {
   "cell_type": "markdown",
   "metadata": {},
   "source": [
    "데이터 완비 확인을 위해 첫 데이터의 이미지, 라벨을 확인한다"
   ]
  },
  {
   "cell_type": "code",
   "execution_count": 2,
   "metadata": {},
   "outputs": [
    {
     "name": "stdout",
     "output_type": "stream",
     "text": [
      "Angry\n"
     ]
    },
    {
     "data": {
      "text/plain": [
       "<matplotlib.image.AxesImage at 0x7fc73e8d6c10>"
      ]
     },
     "execution_count": 2,
     "metadata": {},
     "output_type": "execute_result"
    },
    {
     "data": {
      "image/png": "[encoded data removed]",
      "text/plain": [
       "<Figure size 432x288 with 1 Axes>"
      ]
     },
     "metadata": {
      "needs_background": "light"
     },
     "output_type": "display_data"
    }
   ],
   "source": [
    "from matplotlib import pyplot as plt\n",
    "\n",
    "LABELS = ['Angry', 'Disgust', 'Fear', 'Happy', 'Sad', 'Surprise', 'Neutral']\n",
    "\n",
    "print(LABELS[train_y[0]])\n",
    "plt.imshow(train_x[0].reshape([48, 48]), cmap='gray')"
   ]
  },
  {
   "cell_type": "markdown",
   "metadata": {},
   "source": [
    "100 epoch만 학습하여 MobileNetV2 모델 학습하기"
   ]
  },
  {
   "cell_type": "code",
   "execution_count": 3,
   "metadata": {},
   "outputs": [
    {
     "name": "stdout",
     "output_type": "stream",
     "text": [
      "1 Physical GPUs, 1 Logical GPUs\n",
      "Epoch 1/100\n",
      "253/253 [==============================] - 68s 268ms/step - loss: 1.7778 - categorical_accuracy: 0.2756 - val_loss: 1.9040 - val_categorical_accuracy: 0.2449\n",
      "Epoch 2/100\n",
      "253/253 [==============================] - 7s 27ms/step - loss: 1.5948 - categorical_accuracy: 0.3758 - val_loss: 1.9124 - val_categorical_accuracy: 0.1655\n",
      "Epoch 3/100\n",
      "253/253 [==============================] - 7s 29ms/step - loss: 1.4780 - categorical_accuracy: 0.4245 - val_loss: 1.9047 - val_categorical_accuracy: 0.1471\n",
      "Epoch 4/100\n",
      "253/253 [==============================] - 7s 29ms/step - loss: 1.3929 - categorical_accuracy: 0.4665 - val_loss: 1.8939 - val_categorical_accuracy: 0.1471\n",
      "Epoch 5/100\n",
      "253/253 [==============================] - 7s 28ms/step - loss: 1.3102 - categorical_accuracy: 0.5017 - val_loss: 1.8804 - val_categorical_accuracy: 0.1655\n",
      "Epoch 6/100\n",
      "253/253 [==============================] - 7s 28ms/step - loss: 1.2440 - categorical_accuracy: 0.5304 - val_loss: 1.8789 - val_categorical_accuracy: 0.1655\n",
      "Epoch 7/100\n",
      "253/253 [==============================] - 7s 28ms/step - loss: 1.1846 - categorical_accuracy: 0.5535 - val_loss: 1.8712 - val_categorical_accuracy: 0.1655\n",
      "Epoch 8/100\n",
      "253/253 [==============================] - 7s 28ms/step - loss: 1.1283 - categorical_accuracy: 0.5770 - val_loss: 1.9016 - val_categorical_accuracy: 0.1655\n",
      "Epoch 9/100\n",
      "253/253 [==============================] - 7s 28ms/step - loss: 1.0694 - categorical_accuracy: 0.5998 - val_loss: 1.8924 - val_categorical_accuracy: 0.1655\n",
      "Epoch 10/100\n",
      "253/253 [==============================] - 7s 29ms/step - loss: 1.0167 - categorical_accuracy: 0.6235 - val_loss: 1.8979 - val_categorical_accuracy: 0.1655\n",
      "Epoch 11/100\n",
      "253/253 [==============================] - 7s 29ms/step - loss: 0.9732 - categorical_accuracy: 0.6379 - val_loss: 1.8875 - val_categorical_accuracy: 0.1655\n",
      "Epoch 12/100\n",
      "253/253 [==============================] - 7s 27ms/step - loss: 0.9186 - categorical_accuracy: 0.6615 - val_loss: 1.8923 - val_categorical_accuracy: 0.1655\n",
      "Epoch 13/100\n",
      "253/253 [==============================] - 7s 28ms/step - loss: 0.8716 - categorical_accuracy: 0.6778 - val_loss: 1.9121 - val_categorical_accuracy: 0.1655\n",
      "Epoch 14/100\n",
      "253/253 [==============================] - 7s 28ms/step - loss: 0.8077 - categorical_accuracy: 0.7050 - val_loss: 1.9153 - val_categorical_accuracy: 0.1655\n",
      "Epoch 15/100\n",
      "253/253 [==============================] - 7s 27ms/step - loss: 0.7667 - categorical_accuracy: 0.7189 - val_loss: 1.9248 - val_categorical_accuracy: 0.1677\n",
      "Epoch 16/100\n",
      "253/253 [==============================] - 7s 30ms/step - loss: 0.7257 - categorical_accuracy: 0.7364 - val_loss: 1.9004 - val_categorical_accuracy: 0.2307\n",
      "Epoch 17/100\n",
      "253/253 [==============================] - 7s 30ms/step - loss: 0.6736 - categorical_accuracy: 0.7541 - val_loss: 1.8258 - val_categorical_accuracy: 0.2970\n",
      "Epoch 18/100\n",
      "253/253 [==============================] - 7s 29ms/step - loss: 0.6247 - categorical_accuracy: 0.7722 - val_loss: 1.7292 - val_categorical_accuracy: 0.3647\n",
      "Epoch 19/100\n",
      "253/253 [==============================] - 7s 28ms/step - loss: 0.5786 - categorical_accuracy: 0.7929 - val_loss: 1.7527 - val_categorical_accuracy: 0.3848\n",
      "Epoch 20/100\n",
      "253/253 [==============================] - 7s 28ms/step - loss: 0.5473 - categorical_accuracy: 0.8012 - val_loss: 1.7630 - val_categorical_accuracy: 0.4622\n",
      "Epoch 21/100\n",
      "253/253 [==============================] - 7s 27ms/step - loss: 0.4961 - categorical_accuracy: 0.8210 - val_loss: 1.9777 - val_categorical_accuracy: 0.4544\n",
      "Epoch 22/100\n",
      "253/253 [==============================] - 7s 28ms/step - loss: 0.4610 - categorical_accuracy: 0.8309 - val_loss: 2.6562 - val_categorical_accuracy: 0.4759\n",
      "Epoch 23/100\n",
      "253/253 [==============================] - 7s 27ms/step - loss: 0.4202 - categorical_accuracy: 0.8504 - val_loss: 3.0025 - val_categorical_accuracy: 0.4400\n",
      "Epoch 24/100\n",
      "253/253 [==============================] - 7s 29ms/step - loss: 0.3929 - categorical_accuracy: 0.8578 - val_loss: 3.7693 - val_categorical_accuracy: 0.4422\n",
      "Epoch 25/100\n",
      "253/253 [==============================] - 7s 28ms/step - loss: 0.3707 - categorical_accuracy: 0.8682 - val_loss: 4.2685 - val_categorical_accuracy: 0.4572\n",
      "Epoch 26/100\n",
      "253/253 [==============================] - 7s 28ms/step - loss: 0.3433 - categorical_accuracy: 0.8797 - val_loss: 3.9607 - val_categorical_accuracy: 0.4709\n",
      "Epoch 27/100\n",
      "253/253 [==============================] - 8s 30ms/step - loss: 0.3164 - categorical_accuracy: 0.8898 - val_loss: 4.1658 - val_categorical_accuracy: 0.4620\n",
      "Epoch 28/100\n",
      "253/253 [==============================] - 7s 28ms/step - loss: 0.2977 - categorical_accuracy: 0.8945 - val_loss: 4.1476 - val_categorical_accuracy: 0.4436\n",
      "Epoch 29/100\n",
      "253/253 [==============================] - 7s 27ms/step - loss: 0.2957 - categorical_accuracy: 0.8955 - val_loss: 4.5404 - val_categorical_accuracy: 0.4620\n",
      "Epoch 30/100\n",
      "253/253 [==============================] - 7s 28ms/step - loss: 0.2637 - categorical_accuracy: 0.9061 - val_loss: 4.4798 - val_categorical_accuracy: 0.4567\n",
      "Epoch 31/100\n",
      "253/253 [==============================] - 7s 28ms/step - loss: 0.2526 - categorical_accuracy: 0.9113 - val_loss: 4.3945 - val_categorical_accuracy: 0.4522\n",
      "Epoch 32/100\n",
      "253/253 [==============================] - 7s 27ms/step - loss: 0.2451 - categorical_accuracy: 0.9142 - val_loss: 4.3638 - val_categorical_accuracy: 0.4625\n",
      "Epoch 33/100\n",
      "253/253 [==============================] - 7s 28ms/step - loss: 0.2343 - categorical_accuracy: 0.9172 - val_loss: 4.0386 - val_categorical_accuracy: 0.4609\n",
      "Epoch 34/100\n",
      "253/253 [==============================] - 7s 28ms/step - loss: 0.2321 - categorical_accuracy: 0.9166 - val_loss: 5.0850 - val_categorical_accuracy: 0.4767\n",
      "Epoch 35/100\n",
      "253/253 [==============================] - 7s 28ms/step - loss: 0.2160 - categorical_accuracy: 0.9232 - val_loss: 4.7299 - val_categorical_accuracy: 0.4628\n",
      "Epoch 36/100\n",
      "253/253 [==============================] - 7s 28ms/step - loss: 0.2127 - categorical_accuracy: 0.9243 - val_loss: 4.4763 - val_categorical_accuracy: 0.4737\n",
      "Epoch 37/100\n",
      "253/253 [==============================] - 7s 28ms/step - loss: 0.1938 - categorical_accuracy: 0.9314 - val_loss: 5.0669 - val_categorical_accuracy: 0.4762\n",
      "Epoch 38/100\n",
      "253/253 [==============================] - 7s 28ms/step - loss: 0.2025 - categorical_accuracy: 0.9294 - val_loss: 4.7805 - val_categorical_accuracy: 0.4531\n",
      "Epoch 39/100\n",
      "253/253 [==============================] - 7s 28ms/step - loss: 0.1909 - categorical_accuracy: 0.9332 - val_loss: 4.3657 - val_categorical_accuracy: 0.4469\n",
      "Epoch 40/100\n",
      "253/253 [==============================] - 7s 27ms/step - loss: 0.1918 - categorical_accuracy: 0.9340 - val_loss: 4.6200 - val_categorical_accuracy: 0.4505\n",
      "Epoch 41/100\n",
      "253/253 [==============================] - 7s 28ms/step - loss: 0.1825 - categorical_accuracy: 0.9373 - val_loss: 5.0475 - val_categorical_accuracy: 0.4366\n",
      "Epoch 42/100\n",
      "253/253 [==============================] - 7s 28ms/step - loss: 0.1800 - categorical_accuracy: 0.9370 - val_loss: 4.0625 - val_categorical_accuracy: 0.4737\n",
      "Epoch 43/100\n",
      "253/253 [==============================] - 7s 28ms/step - loss: 0.1751 - categorical_accuracy: 0.9390 - val_loss: 4.4695 - val_categorical_accuracy: 0.4492\n",
      "Epoch 44/100\n",
      "253/253 [==============================] - 7s 28ms/step - loss: 0.1712 - categorical_accuracy: 0.9398 - val_loss: 4.1171 - val_categorical_accuracy: 0.4937\n",
      "Epoch 45/100\n",
      "253/253 [==============================] - 7s 28ms/step - loss: 0.1681 - categorical_accuracy: 0.9411 - val_loss: 4.7117 - val_categorical_accuracy: 0.4787\n",
      "Epoch 46/100\n",
      "253/253 [==============================] - 7s 28ms/step - loss: 0.1620 - categorical_accuracy: 0.9434 - val_loss: 4.4314 - val_categorical_accuracy: 0.4294\n",
      "Epoch 47/100\n",
      "253/253 [==============================] - 7s 29ms/step - loss: 0.1575 - categorical_accuracy: 0.9451 - val_loss: 4.2921 - val_categorical_accuracy: 0.4776\n",
      "Epoch 48/100\n",
      "253/253 [==============================] - 7s 28ms/step - loss: 0.1580 - categorical_accuracy: 0.9441 - val_loss: 4.1682 - val_categorical_accuracy: 0.4790\n",
      "Epoch 49/100\n",
      "253/253 [==============================] - 7s 28ms/step - loss: 0.1520 - categorical_accuracy: 0.9467 - val_loss: 4.1751 - val_categorical_accuracy: 0.4851\n",
      "Epoch 50/100\n",
      "253/253 [==============================] - 7s 29ms/step - loss: 0.1562 - categorical_accuracy: 0.9444 - val_loss: 3.9760 - val_categorical_accuracy: 0.4700\n",
      "Epoch 51/100\n",
      "253/253 [==============================] - 7s 30ms/step - loss: 0.1488 - categorical_accuracy: 0.9481 - val_loss: 4.1394 - val_categorical_accuracy: 0.4887\n",
      "Epoch 52/100\n",
      "253/253 [==============================] - 8s 33ms/step - loss: 0.1442 - categorical_accuracy: 0.9507 - val_loss: 3.9933 - val_categorical_accuracy: 0.4745\n",
      "Epoch 53/100\n",
      "253/253 [==============================] - 8s 33ms/step - loss: 0.1407 - categorical_accuracy: 0.9510 - val_loss: 3.7645 - val_categorical_accuracy: 0.4759\n",
      "Epoch 54/100\n",
      "253/253 [==============================] - 8s 33ms/step - loss: 0.1413 - categorical_accuracy: 0.9502 - val_loss: 3.9924 - val_categorical_accuracy: 0.4829\n",
      "Epoch 55/100\n",
      "253/253 [==============================] - 8s 33ms/step - loss: 0.1349 - categorical_accuracy: 0.9523 - val_loss: 3.8882 - val_categorical_accuracy: 0.4790\n",
      "Epoch 56/100\n",
      "253/253 [==============================] - 9s 34ms/step - loss: 0.1446 - categorical_accuracy: 0.9498 - val_loss: 3.7975 - val_categorical_accuracy: 0.4597\n",
      "Epoch 57/100\n",
      "253/253 [==============================] - 7s 29ms/step - loss: 0.1434 - categorical_accuracy: 0.9500 - val_loss: 3.9462 - val_categorical_accuracy: 0.4873\n",
      "Epoch 58/100\n",
      "253/253 [==============================] - 7s 28ms/step - loss: 0.1351 - categorical_accuracy: 0.9534 - val_loss: 3.9418 - val_categorical_accuracy: 0.5018\n",
      "Epoch 59/100\n",
      "253/253 [==============================] - 7s 28ms/step - loss: 0.1304 - categorical_accuracy: 0.9548 - val_loss: 3.8533 - val_categorical_accuracy: 0.5096\n",
      "Epoch 60/100\n",
      "253/253 [==============================] - 7s 29ms/step - loss: 0.1300 - categorical_accuracy: 0.9545 - val_loss: 3.8313 - val_categorical_accuracy: 0.5085\n",
      "Epoch 61/100\n",
      "253/253 [==============================] - 7s 28ms/step - loss: 0.1151 - categorical_accuracy: 0.9597 - val_loss: 3.9628 - val_categorical_accuracy: 0.5007\n",
      "Epoch 62/100\n",
      "253/253 [==============================] - 7s 29ms/step - loss: 0.1198 - categorical_accuracy: 0.9582 - val_loss: 3.7892 - val_categorical_accuracy: 0.5063\n",
      "Epoch 63/100\n",
      "253/253 [==============================] - 7s 28ms/step - loss: 0.1217 - categorical_accuracy: 0.9572 - val_loss: 4.2149 - val_categorical_accuracy: 0.4726\n",
      "Epoch 64/100\n",
      "253/253 [==============================] - 7s 28ms/step - loss: 0.1221 - categorical_accuracy: 0.9566 - val_loss: 3.9283 - val_categorical_accuracy: 0.4923\n",
      "Epoch 65/100\n",
      "253/253 [==============================] - 7s 27ms/step - loss: 0.1161 - categorical_accuracy: 0.9603 - val_loss: 3.7224 - val_categorical_accuracy: 0.5054\n",
      "Epoch 66/100\n",
      "253/253 [==============================] - 7s 28ms/step - loss: 0.1152 - categorical_accuracy: 0.9614 - val_loss: 3.8401 - val_categorical_accuracy: 0.4948\n",
      "Epoch 67/100\n",
      "253/253 [==============================] - 7s 28ms/step - loss: 0.1084 - categorical_accuracy: 0.9628 - val_loss: 3.7537 - val_categorical_accuracy: 0.5046\n",
      "Epoch 68/100\n",
      "253/253 [==============================] - 7s 28ms/step - loss: 0.1131 - categorical_accuracy: 0.9613 - val_loss: 4.1061 - val_categorical_accuracy: 0.5149\n",
      "Epoch 69/100\n",
      "253/253 [==============================] - 7s 28ms/step - loss: 0.1210 - categorical_accuracy: 0.9578 - val_loss: 3.9256 - val_categorical_accuracy: 0.4996\n",
      "Epoch 70/100\n",
      "253/253 [==============================] - 7s 29ms/step - loss: 0.1139 - categorical_accuracy: 0.9601 - val_loss: 4.0450 - val_categorical_accuracy: 0.4965\n",
      "Epoch 71/100\n",
      "253/253 [==============================] - 8s 31ms/step - loss: 0.1143 - categorical_accuracy: 0.9597 - val_loss: 3.7296 - val_categorical_accuracy: 0.4985\n",
      "Epoch 72/100\n",
      "253/253 [==============================] - 7s 27ms/step - loss: 0.1048 - categorical_accuracy: 0.9635 - val_loss: 3.7939 - val_categorical_accuracy: 0.4884\n",
      "Epoch 73/100\n",
      "253/253 [==============================] - 7s 29ms/step - loss: 0.1017 - categorical_accuracy: 0.9637 - val_loss: 3.8452 - val_categorical_accuracy: 0.4689\n",
      "Epoch 74/100\n",
      "253/253 [==============================] - 7s 27ms/step - loss: 0.1088 - categorical_accuracy: 0.9620 - val_loss: 3.7570 - val_categorical_accuracy: 0.4912\n",
      "Epoch 75/100\n",
      "253/253 [==============================] - 7s 28ms/step - loss: 0.1051 - categorical_accuracy: 0.9629 - val_loss: 3.4461 - val_categorical_accuracy: 0.5060\n",
      "Epoch 76/100\n",
      "253/253 [==============================] - 7s 28ms/step - loss: 0.1072 - categorical_accuracy: 0.9639 - val_loss: 3.7295 - val_categorical_accuracy: 0.4954\n",
      "Epoch 77/100\n",
      "253/253 [==============================] - 7s 27ms/step - loss: 0.1018 - categorical_accuracy: 0.9642 - val_loss: 3.8747 - val_categorical_accuracy: 0.4887\n",
      "Epoch 78/100\n",
      "253/253 [==============================] - 7s 26ms/step - loss: 0.0969 - categorical_accuracy: 0.9662 - val_loss: 3.6366 - val_categorical_accuracy: 0.5032\n",
      "Epoch 79/100\n",
      "253/253 [==============================] - 7s 27ms/step - loss: 0.0988 - categorical_accuracy: 0.9651 - val_loss: 4.1430 - val_categorical_accuracy: 0.5001\n",
      "Epoch 80/100\n",
      "253/253 [==============================] - 7s 29ms/step - loss: 0.0960 - categorical_accuracy: 0.9665 - val_loss: 3.6608 - val_categorical_accuracy: 0.4990\n",
      "Epoch 81/100\n",
      "253/253 [==============================] - 7s 27ms/step - loss: 0.0926 - categorical_accuracy: 0.9681 - val_loss: 4.2258 - val_categorical_accuracy: 0.4960\n",
      "Epoch 82/100\n",
      "253/253 [==============================] - 7s 27ms/step - loss: 0.0928 - categorical_accuracy: 0.9670 - val_loss: 3.8995 - val_categorical_accuracy: 0.5004\n",
      "Epoch 83/100\n",
      "253/253 [==============================] - 7s 28ms/step - loss: 0.0959 - categorical_accuracy: 0.9661 - val_loss: 4.1379 - val_categorical_accuracy: 0.4854\n",
      "Epoch 84/100\n",
      "253/253 [==============================] - 7s 28ms/step - loss: 0.0935 - categorical_accuracy: 0.9668 - val_loss: 3.9212 - val_categorical_accuracy: 0.4996\n",
      "Epoch 85/100\n",
      "253/253 [==============================] - 7s 27ms/step - loss: 0.0994 - categorical_accuracy: 0.9652 - val_loss: 3.8776 - val_categorical_accuracy: 0.4962\n",
      "Epoch 86/100\n",
      "253/253 [==============================] - 7s 27ms/step - loss: 0.0897 - categorical_accuracy: 0.9680 - val_loss: 3.9839 - val_categorical_accuracy: 0.5038\n",
      "Epoch 87/100\n",
      "253/253 [==============================] - 7s 26ms/step - loss: 0.0946 - categorical_accuracy: 0.9671 - val_loss: 3.4752 - val_categorical_accuracy: 0.4962\n",
      "Epoch 88/100\n",
      "253/253 [==============================] - 7s 26ms/step - loss: 0.0915 - categorical_accuracy: 0.9674 - val_loss: 3.6119 - val_categorical_accuracy: 0.4926\n",
      "Epoch 89/100\n",
      "253/253 [==============================] - 6s 26ms/step - loss: 0.0885 - categorical_accuracy: 0.9687 - val_loss: 3.6788 - val_categorical_accuracy: 0.5063\n",
      "Epoch 90/100\n",
      "253/253 [==============================] - 7s 26ms/step - loss: 0.0833 - categorical_accuracy: 0.9706 - val_loss: 3.7322 - val_categorical_accuracy: 0.5077\n",
      "Epoch 91/100\n",
      "253/253 [==============================] - 7s 26ms/step - loss: 0.0890 - categorical_accuracy: 0.9680 - val_loss: 3.6475 - val_categorical_accuracy: 0.5102\n",
      "Epoch 92/100\n",
      "253/253 [==============================] - 7s 26ms/step - loss: 0.0883 - categorical_accuracy: 0.9686 - val_loss: 3.6896 - val_categorical_accuracy: 0.5018\n",
      "Epoch 93/100\n",
      "253/253 [==============================] - 7s 26ms/step - loss: 0.0923 - categorical_accuracy: 0.9680 - val_loss: 3.5890 - val_categorical_accuracy: 0.5157\n",
      "Epoch 94/100\n",
      "253/253 [==============================] - 7s 26ms/step - loss: 0.0847 - categorical_accuracy: 0.9690 - val_loss: 3.7531 - val_categorical_accuracy: 0.5043\n",
      "Epoch 95/100\n",
      "253/253 [==============================] - 7s 26ms/step - loss: 0.0841 - categorical_accuracy: 0.9707 - val_loss: 3.4743 - val_categorical_accuracy: 0.5096\n",
      "Epoch 96/100\n",
      "253/253 [==============================] - 7s 27ms/step - loss: 0.0793 - categorical_accuracy: 0.9722 - val_loss: 3.6137 - val_categorical_accuracy: 0.5169\n",
      "Epoch 97/100\n"
     ]
    },
    {
     "name": "stdout",
     "output_type": "stream",
     "text": [
      "253/253 [==============================] - 7s 27ms/step - loss: 0.0791 - categorical_accuracy: 0.9724 - val_loss: 3.6081 - val_categorical_accuracy: 0.5230\n",
      "Epoch 98/100\n",
      "253/253 [==============================] - 7s 26ms/step - loss: 0.0740 - categorical_accuracy: 0.9738 - val_loss: 3.5594 - val_categorical_accuracy: 0.5121\n",
      "Epoch 99/100\n",
      "253/253 [==============================] - 7s 26ms/step - loss: 0.0831 - categorical_accuracy: 0.9708 - val_loss: 3.7291 - val_categorical_accuracy: 0.5082\n",
      "Epoch 100/100\n",
      "253/253 [==============================] - 7s 26ms/step - loss: 0.0824 - categorical_accuracy: 0.9705 - val_loss: 3.7307 - val_categorical_accuracy: 0.5210\n"
     ]
    },
    {
     "data": {
      "text/plain": [
       "<tensorflow.python.keras.callbacks.History at 0x7fc63c280410>"
      ]
     },
     "execution_count": 3,
     "metadata": {},
     "output_type": "execute_result"
    }
   ],
   "source": [
    "import tensorflow as tf\n",
    "gpus = tf.config.experimental.list_physical_devices('GPU')\n",
    "if gpus:\n",
    "  try:\n",
    "    # Currently, memory growth needs to be the same across GPUs\n",
    "    for gpu in gpus:\n",
    "      tf.config.experimental.set_memory_growth(gpu, True)\n",
    "    logical_gpus = tf.config.experimental.list_logical_devices('GPU')\n",
    "    print(len(gpus), \"Physical GPUs,\", len(logical_gpus), \"Logical GPUs\")\n",
    "  except RuntimeError as e:\n",
    "    # Memory growth must be set before GPUs have been initialized\n",
    "    print(e)\n",
    "\n",
    "# model 선언 \n",
    "model = tf.keras.applications.MobileNetV2(input_shape=(48, 48, 1), weights=None, classes=7)\n",
    "\n",
    "# model.compile\n",
    "model.compile(optimizer=tf.keras.optimizers.Adam(),\n",
    "              loss=tf.keras.losses.CategoricalCrossentropy(),\n",
    "              metrics=[tf.keras.metrics.CategoricalAccuracy()])\n",
    "\n",
    "#model.fit\n",
    "model.fit(np.stack(train_x),\n",
    "          tf.keras.utils.to_categorical(train_y),\n",
    "          epochs=100,\n",
    "          batch_size=128,\n",
    "          validation_data=(np.stack(eval_x),\n",
    "                           tf.keras.utils.to_categorical(eval_y)))"
   ]
  },
  {
   "cell_type": "markdown",
   "metadata": {},
   "source": [
    "## step 2. 학습된 모델을 TensorFlow.js 형식으로 변환하기"
   ]
  },
  {
   "cell_type": "code",
   "execution_count": 5,
   "metadata": {},
   "outputs": [],
   "source": [
    "model_path = os.getenv('HOME')+'/aiffel/e/tfjs_mobile/model.h5'\n",
    "model.save(model_path)"
   ]
  },
  {
   "cell_type": "code",
   "execution_count": 6,
   "metadata": {},
   "outputs": [],
   "source": [
    "model_cp_path = os.getenv('HOME')+'/aiffel/e/tfjs_mobile/model_cp.h5'\n",
    "model.save(model_cp_path)"
   ]
  },
  {
   "cell_type": "markdown",
   "metadata": {},
   "source": [
    "`pip install tensorflowjs`로 설치하여 tf.js가 활용할 수 있는 형태로 변환하기    \n",
    "터미널에서 `tensorflowjs_converter` 명령어만 실행    \n",
    "```shell\n",
    "$ cd ~/aiffel/tfjs_mobile\n",
    "$ tensorflowjs_converter --input_format=keras model.h5 model\n",
    "```\n",
    "    \n",
    "---\n",
    "-> 이부분에서 가상환경 커널 에러가 발생!!!"
   ]
  },
  {
   "cell_type": "markdown",
   "metadata": {},
   "source": [
    "## step 3. 카메라에서 가져온 영상 전처리하기\n",
    "---\n",
    "- 완료!"
   ]
  },
  {
   "cell_type": "markdown",
   "metadata": {},
   "source": [
    "##  Step 4. MobileNet 추론 결과 표시하기\n",
    "---\n",
    "- 완료!"
   ]
  },
  {
   "cell_type": "markdown",
   "metadata": {},
   "source": [
    "## Step 5. github page에 HTML과 MobileNet 모델 배포하기\n",
    "---\n",
    "- 기존에 이미 외부테마를 가져온 깃허브 정적 블로그를 가지고 있기에 합치는 부분에서 문제가 발생했으며 config.yml 파일을 수정하여 지시에 알맞는 url에 웹앱을 얹는 데 성공했다\n",
    "- 데스크탑, 모바일 각각 정상적으로 동작함을 확인했다\n",
    "\n",
    "### URL: https://byhankim.github.io/tfjs-mobile"
   ]
  },
  {
   "attachments": {
    "image.png": {
     "image/png": "[encoded data removed]"
    }
   },
   "cell_type": "markdown",
   "metadata": {},
   "source": [
    "### 작동예시\n",
    "---\n",
    "file:///home/aiffel/Pictures/Screenshot%20from%202020-09-21%2023-59-40.png![image.png](attachment:image.png)"
   ]
  },
  {
   "cell_type": "markdown",
   "metadata": {},
   "source": [
    "## # 문제점 살펴보기"
   ]
  },
  {
   "attachments": {
    "image.png": {
     "image/png": "[encoded data removed]"
    }
   },
   "cell_type": "markdown",
   "metadata": {},
   "source": [
    "- 가장 큰 문제는 노드를 진행하면서 대다수의 사람들이 겪은 커널 뻗음 문제이다. 모델 정확도가 47프로를 넘지 않아 파라미터를 조정하기 위해 다시 주피터 노트북을 연결했을 경우 커널 연결이 계속 끊겼다.    \n",
    "    ![image.png](attachment:image.png)\n",
    "- 다행인지 불행인지 노드를 늦게 시작하여 혹시나 하여 aiffel 가상환경을 복제하여 진행했다. 물론 각각 복제한 가상환경에서도 동일 문제가 발생했다. 정확한 원인과 해결책은 모르지만 원본 가상환경은 손대지 않고 계속해서 가상환경 aiffel을 복제해가며 모델 파라미터 수정 및 .json 모델로 변환할 수 있었던 과정을 정리하면 아래와 같다. \n",
    "\n",
    "    1. (`tensorflowjs` 설치이력 없는) 및 가상환경 복제: `conda create --name aiffelcp --clone aiffel`\n",
    "    2. `conda activate aiffelcp` 로 새로운 가상환경 활성화\n",
    "    3. `python -m ipykernel install --user --name aiffelcp --display-name \"aiffel-cp\"` 으로 주피터 노트북에 새로 만든 가상환경 커널 연결\n",
    "    4. 활성화한 가상환경에서 tensorflowjs 설치 및 new->aiffelcp 로 새로운 노트북 만들어 내용 복사, Run All 진행\n",
    "    5. `tensorflowjs_converter --input_format=keras model.h5 model` 로 python 모델을 .json 파일 모델로 변환작업\n",
    "    6. 로컬 깃허브 레포지토리에 새로운 폴더 생성 및 주소 매핑, `bundler exec jekyll serve` 명령어로 로컬에서 테스트 후 원격 github pages repository로 커밋한 내용을 푸시하여 최종 적용 확인\n",
    "        \n",
    "        \n",
    "- 이 외에도 맨 처음 take snapshot 버튼 적용 시 시간이 오래걸리는 문제, 0.5를 넘었지만 여전히 낮은 정확도, 한정된 이모지 갯수 등의 문제가 존재하나 시간과 지식적 한계로 보완하지 못하는점은 아쉬움으로 남는다"
   ]
  },
  {
   "cell_type": "code",
   "execution_count": null,
   "metadata": {},
   "outputs": [],
   "source": []
  },
  {
   "cell_type": "code",
   "execution_count": null,
   "metadata": {},
   "outputs": [],
   "source": []
  }
 ],
 "metadata": {
  "kernelspec": {
   "display_name": "aiffel002",
   "language": "python",
   "name": "aiffel2"
  },
  "language_info": {
   "codemirror_mode": {
    "name": "ipython",
    "version": 3
   },
   "file_extension": ".py",
   "mimetype": "text/x-python",
   "name": "python",
   "nbconvert_exporter": "python",
   "pygments_lexer": "ipython3",
   "version": "3.7.6"
  }
 },
 "nbformat": 4,
 "nbformat_minor": 4
}

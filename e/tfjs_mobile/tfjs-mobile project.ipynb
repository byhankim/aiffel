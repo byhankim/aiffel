{
 "cells": [
  {
   "cell_type": "markdown",
   "metadata": {},
   "source": [
    "# E13 project\n",
    "---\n",
    "## step1. 표정 데이터로 mobilenet 학습시키기\n",
    "- 데이터셋 구경하기"
   ]
  },
  {
   "cell_type": "code",
   "execution_count": 1,
   "metadata": {},
   "outputs": [
    {
     "name": "stderr",
     "output_type": "stream",
     "text": [
      "100%|██████████| 35887/35887 [00:26<00:00, 1363.63it/s]"
     ]
    },
    {
     "name": "stdout",
     "output_type": "stream",
     "text": [
      "train : 32298, eval :3589\n"
     ]
    },
    {
     "name": "stderr",
     "output_type": "stream",
     "text": [
      "\n"
     ]
    }
   ],
   "source": [
    "import numpy as np\n",
    "import tqdm\n",
    "import os\n",
    "\n",
    "train_x = []\n",
    "train_y = []\n",
    "eval_x = []\n",
    "eval_y = []\n",
    "\n",
    "csv_path = os.getenv('HOME')+'/aiffel/e/tfjs_mobile/data/fer2013.csv'\n",
    "\n",
    "with open(csv_path) as f:\n",
    "  for line in tqdm.tqdm(f.read().splitlines()[1:]):\n",
    "    emotion, pixels, usage = line.split(',')\n",
    "    \n",
    "    x = np.array(pixels.split(' ')).astype(float).reshape(48, 48, 1) / 255\n",
    "    y = int(emotion)\n",
    "\n",
    "    if usage == 'PrivateTest':\n",
    "      eval_x.append(x)\n",
    "      eval_y.append(y)\n",
    "    else:\n",
    "      train_x.append(x)\n",
    "      train_y.append(y)\n",
    "\n",
    "print('train : {}, eval :{}'.format(len(train_x), len(eval_x)))"
   ]
  },
  {
   "cell_type": "markdown",
   "metadata": {},
   "source": [
    "데이터 완비 확인을 위해 첫 데이터의 이미지, 라벨을 확인한다"
   ]
  },
  {
   "cell_type": "code",
   "execution_count": 2,
   "metadata": {},
   "outputs": [
    {
     "name": "stdout",
     "output_type": "stream",
     "text": [
      "Angry\n"
     ]
    },
    {
     "data": {
      "text/plain": [
       "<matplotlib.image.AxesImage at 0x7f9162ffcd50>"
      ]
     },
     "execution_count": 2,
     "metadata": {},
     "output_type": "execute_result"
    },
    {
     "data": {
      "image/png": "[encoded data removed]",
      "text/plain": [
       "<Figure size 432x288 with 1 Axes>"
      ]
     },
     "metadata": {
      "needs_background": "light"
     },
     "output_type": "display_data"
    }
   ],
   "source": [
    "from matplotlib import pyplot as plt\n",
    "\n",
    "LABELS = ['Angry', 'Disgust', 'Fear', 'Happy', 'Sad', 'Surprise', 'Neutral']\n",
    "\n",
    "print(LABELS[train_y[0]])\n",
    "plt.imshow(train_x[0].reshape([48, 48]), cmap='gray')"
   ]
  },
  {
   "cell_type": "markdown",
   "metadata": {},
   "source": [
    "100 epoch만 학습하여 MobileNetV2 모델 학습하기"
   ]
  },
  {
   "cell_type": "code",
   "execution_count": 3,
   "metadata": {},
   "outputs": [
    {
     "name": "stdout",
     "output_type": "stream",
     "text": [
      "1 Physical GPUs, 1 Logical GPUs\n",
      "Epoch 1/100\n",
      "64/64 [==============================] - 85s 1s/step - loss: 1.8357 - categorical_accuracy: 0.2403 - val_loss: 1.9364 - val_categorical_accuracy: 0.1655\n",
      "Epoch 2/100\n",
      "64/64 [==============================] - 6s 97ms/step - loss: 1.6993 - categorical_accuracy: 0.3175 - val_loss: 1.9263 - val_categorical_accuracy: 0.1655\n",
      "Epoch 3/100\n",
      "64/64 [==============================] - 6s 96ms/step - loss: 1.5752 - categorical_accuracy: 0.3835 - val_loss: 1.9136 - val_categorical_accuracy: 0.1655\n",
      "Epoch 4/100\n",
      "64/64 [==============================] - 6s 97ms/step - loss: 1.4724 - categorical_accuracy: 0.4343 - val_loss: 1.9036 - val_categorical_accuracy: 0.1655\n",
      "Epoch 5/100\n",
      "64/64 [==============================] - 6s 97ms/step - loss: 1.3892 - categorical_accuracy: 0.4693 - val_loss: 1.8984 - val_categorical_accuracy: 0.1655\n",
      "Epoch 6/100\n",
      "64/64 [==============================] - 6s 97ms/step - loss: 1.3075 - categorical_accuracy: 0.5079 - val_loss: 1.8999 - val_categorical_accuracy: 0.1655\n",
      "Epoch 7/100\n",
      "64/64 [==============================] - 6s 98ms/step - loss: 1.2457 - categorical_accuracy: 0.5319 - val_loss: 1.9007 - val_categorical_accuracy: 0.1655\n",
      "Epoch 8/100\n",
      "64/64 [==============================] - 6s 91ms/step - loss: 1.1983 - categorical_accuracy: 0.5531 - val_loss: 1.8978 - val_categorical_accuracy: 0.1655\n",
      "Epoch 9/100\n",
      "64/64 [==============================] - 6s 88ms/step - loss: 1.1304 - categorical_accuracy: 0.5795 - val_loss: 1.9116 - val_categorical_accuracy: 0.1655\n",
      "Epoch 10/100\n",
      "64/64 [==============================] - 6s 88ms/step - loss: 1.0660 - categorical_accuracy: 0.6051 - val_loss: 1.9166 - val_categorical_accuracy: 0.1655\n",
      "Epoch 11/100\n",
      "64/64 [==============================] - 6s 88ms/step - loss: 1.0123 - categorical_accuracy: 0.6243 - val_loss: 1.9239 - val_categorical_accuracy: 0.1655\n",
      "Epoch 12/100\n",
      "64/64 [==============================] - 6s 88ms/step - loss: 0.9635 - categorical_accuracy: 0.6479 - val_loss: 1.9271 - val_categorical_accuracy: 0.1655\n",
      "Epoch 13/100\n",
      "64/64 [==============================] - 6s 88ms/step - loss: 0.8959 - categorical_accuracy: 0.6734 - val_loss: 1.9444 - val_categorical_accuracy: 0.1655\n",
      "Epoch 14/100\n",
      "64/64 [==============================] - 6s 88ms/step - loss: 0.8720 - categorical_accuracy: 0.6792 - val_loss: 1.9720 - val_categorical_accuracy: 0.1655\n",
      "Epoch 15/100\n",
      "64/64 [==============================] - 6s 88ms/step - loss: 0.8107 - categorical_accuracy: 0.7060 - val_loss: 1.9849 - val_categorical_accuracy: 0.1655\n",
      "Epoch 16/100\n",
      "64/64 [==============================] - 6s 88ms/step - loss: 0.8004 - categorical_accuracy: 0.7112 - val_loss: 1.9908 - val_categorical_accuracy: 0.1655\n",
      "Epoch 17/100\n",
      "64/64 [==============================] - 6s 89ms/step - loss: 0.7019 - categorical_accuracy: 0.7448 - val_loss: 2.0239 - val_categorical_accuracy: 0.1655\n",
      "Epoch 18/100\n",
      "64/64 [==============================] - 6s 88ms/step - loss: 0.6657 - categorical_accuracy: 0.7619 - val_loss: 2.0355 - val_categorical_accuracy: 0.1655\n",
      "Epoch 19/100\n",
      "64/64 [==============================] - 6s 88ms/step - loss: 0.6224 - categorical_accuracy: 0.7768 - val_loss: 2.0554 - val_categorical_accuracy: 0.1655\n",
      "Epoch 20/100\n",
      "64/64 [==============================] - 6s 89ms/step - loss: 0.5829 - categorical_accuracy: 0.7912 - val_loss: 2.0643 - val_categorical_accuracy: 0.1655\n",
      "Epoch 21/100\n",
      "64/64 [==============================] - 6s 88ms/step - loss: 0.5225 - categorical_accuracy: 0.8126 - val_loss: 2.0843 - val_categorical_accuracy: 0.1655\n",
      "Epoch 22/100\n",
      "64/64 [==============================] - 6s 88ms/step - loss: 0.5136 - categorical_accuracy: 0.8203 - val_loss: 2.0857 - val_categorical_accuracy: 0.1655\n",
      "Epoch 23/100\n",
      "64/64 [==============================] - 6s 88ms/step - loss: 0.4658 - categorical_accuracy: 0.8338 - val_loss: 2.1309 - val_categorical_accuracy: 0.1655\n",
      "Epoch 24/100\n",
      "64/64 [==============================] - 6s 89ms/step - loss: 0.4439 - categorical_accuracy: 0.8407 - val_loss: 2.1517 - val_categorical_accuracy: 0.1655\n",
      "Epoch 25/100\n",
      "64/64 [==============================] - 6s 87ms/step - loss: 0.4604 - categorical_accuracy: 0.8346 - val_loss: 2.1946 - val_categorical_accuracy: 0.1655\n",
      "Epoch 26/100\n",
      "64/64 [==============================] - 6s 88ms/step - loss: 0.3548 - categorical_accuracy: 0.8733 - val_loss: 2.2308 - val_categorical_accuracy: 0.1655\n",
      "Epoch 27/100\n",
      "64/64 [==============================] - 5s 85ms/step - loss: 0.3692 - categorical_accuracy: 0.8682 - val_loss: 2.2442 - val_categorical_accuracy: 0.1655\n",
      "Epoch 28/100\n",
      "64/64 [==============================] - 5s 85ms/step - loss: 0.3155 - categorical_accuracy: 0.8864 - val_loss: 2.2887 - val_categorical_accuracy: 0.1655\n",
      "Epoch 29/100\n",
      "64/64 [==============================] - 6s 92ms/step - loss: 0.2870 - categorical_accuracy: 0.8982 - val_loss: 2.2795 - val_categorical_accuracy: 0.1655\n",
      "Epoch 30/100\n",
      "64/64 [==============================] - 6s 89ms/step - loss: 0.2772 - categorical_accuracy: 0.9021 - val_loss: 2.2665 - val_categorical_accuracy: 0.1655\n",
      "Epoch 31/100\n",
      "64/64 [==============================] - 6s 87ms/step - loss: 0.2673 - categorical_accuracy: 0.9041 - val_loss: 2.2940 - val_categorical_accuracy: 0.1655\n",
      "Epoch 32/100\n",
      "64/64 [==============================] - 6s 87ms/step - loss: 0.2935 - categorical_accuracy: 0.8947 - val_loss: 2.2807 - val_categorical_accuracy: 0.1655\n",
      "Epoch 33/100\n",
      "64/64 [==============================] - 6s 88ms/step - loss: 0.2511 - categorical_accuracy: 0.9109 - val_loss: 2.3381 - val_categorical_accuracy: 0.1655\n",
      "Epoch 34/100\n",
      "64/64 [==============================] - 6s 88ms/step - loss: 0.2382 - categorical_accuracy: 0.9162 - val_loss: 2.3240 - val_categorical_accuracy: 0.1655\n",
      "Epoch 35/100\n",
      "64/64 [==============================] - 6s 89ms/step - loss: 0.2168 - categorical_accuracy: 0.9233 - val_loss: 2.4402 - val_categorical_accuracy: 0.1655\n",
      "Epoch 36/100\n",
      "64/64 [==============================] - 6s 88ms/step - loss: 0.2314 - categorical_accuracy: 0.9178 - val_loss: 2.4269 - val_categorical_accuracy: 0.1655\n",
      "Epoch 37/100\n",
      "64/64 [==============================] - 6s 88ms/step - loss: 0.2304 - categorical_accuracy: 0.9189 - val_loss: 2.4436 - val_categorical_accuracy: 0.1655\n",
      "Epoch 38/100\n",
      "64/64 [==============================] - 6s 88ms/step - loss: 0.2923 - categorical_accuracy: 0.8969 - val_loss: 2.3691 - val_categorical_accuracy: 0.1655\n",
      "Epoch 39/100\n",
      "64/64 [==============================] - 6s 89ms/step - loss: 0.2085 - categorical_accuracy: 0.9285 - val_loss: 2.4329 - val_categorical_accuracy: 0.1655\n",
      "Epoch 40/100\n",
      "64/64 [==============================] - 6s 88ms/step - loss: 0.2921 - categorical_accuracy: 0.8956 - val_loss: 2.4229 - val_categorical_accuracy: 0.1655\n",
      "Epoch 41/100\n",
      "64/64 [==============================] - 6s 88ms/step - loss: 0.2003 - categorical_accuracy: 0.9285 - val_loss: 2.5505 - val_categorical_accuracy: 0.1655\n",
      "Epoch 42/100\n",
      "64/64 [==============================] - 6s 88ms/step - loss: 0.2155 - categorical_accuracy: 0.9235 - val_loss: 2.4630 - val_categorical_accuracy: 0.1655\n",
      "Epoch 43/100\n",
      "64/64 [==============================] - 6s 88ms/step - loss: 0.1978 - categorical_accuracy: 0.9305 - val_loss: 2.5394 - val_categorical_accuracy: 0.1655\n",
      "Epoch 44/100\n",
      "64/64 [==============================] - 6s 88ms/step - loss: 0.1718 - categorical_accuracy: 0.9410 - val_loss: 2.4886 - val_categorical_accuracy: 0.1655\n",
      "Epoch 45/100\n",
      "64/64 [==============================] - 6s 88ms/step - loss: 0.2075 - categorical_accuracy: 0.9273 - val_loss: 2.4754 - val_categorical_accuracy: 0.1655\n",
      "Epoch 46/100\n",
      "64/64 [==============================] - 6s 88ms/step - loss: 0.1752 - categorical_accuracy: 0.9400 - val_loss: 2.4720 - val_categorical_accuracy: 0.1655\n",
      "Epoch 47/100\n",
      "64/64 [==============================] - 6s 88ms/step - loss: 0.2246 - categorical_accuracy: 0.9230 - val_loss: 2.5354 - val_categorical_accuracy: 0.1655\n",
      "Epoch 48/100\n",
      "64/64 [==============================] - 6s 88ms/step - loss: 0.1768 - categorical_accuracy: 0.9383 - val_loss: 2.5639 - val_categorical_accuracy: 0.1655\n",
      "Epoch 49/100\n",
      "64/64 [==============================] - 6s 88ms/step - loss: 0.1291 - categorical_accuracy: 0.9552 - val_loss: 2.6333 - val_categorical_accuracy: 0.1655\n"
     ]
    },
    {
     "name": "stdout",
     "output_type": "stream",
     "text": [
      "Epoch 50/100\n",
      "64/64 [==============================] - 6s 87ms/step - loss: 0.1374 - categorical_accuracy: 0.9527 - val_loss: 2.5215 - val_categorical_accuracy: 0.1655\n",
      "Epoch 51/100\n",
      "64/64 [==============================] - 6s 88ms/step - loss: 0.1873 - categorical_accuracy: 0.9345 - val_loss: 2.4147 - val_categorical_accuracy: 0.1655\n",
      "Epoch 52/100\n",
      "64/64 [==============================] - 6s 88ms/step - loss: 0.1217 - categorical_accuracy: 0.9583 - val_loss: 2.5333 - val_categorical_accuracy: 0.1655\n",
      "Epoch 53/100\n",
      "64/64 [==============================] - 6s 88ms/step - loss: 0.2135 - categorical_accuracy: 0.9281 - val_loss: 2.4234 - val_categorical_accuracy: 0.1655\n",
      "Epoch 54/100\n",
      "64/64 [==============================] - 6s 87ms/step - loss: 0.2019 - categorical_accuracy: 0.9295 - val_loss: 2.7250 - val_categorical_accuracy: 0.1655\n",
      "Epoch 55/100\n",
      "64/64 [==============================] - 6s 88ms/step - loss: 0.1906 - categorical_accuracy: 0.9332 - val_loss: 2.6115 - val_categorical_accuracy: 0.1655\n",
      "Epoch 56/100\n",
      "64/64 [==============================] - 6s 88ms/step - loss: 0.1650 - categorical_accuracy: 0.9431 - val_loss: 2.6938 - val_categorical_accuracy: 0.1655\n",
      "Epoch 57/100\n",
      "64/64 [==============================] - 6s 88ms/step - loss: 0.1247 - categorical_accuracy: 0.9575 - val_loss: 2.4798 - val_categorical_accuracy: 0.1658\n",
      "Epoch 58/100\n",
      "64/64 [==============================] - 6s 87ms/step - loss: 0.1201 - categorical_accuracy: 0.9578 - val_loss: 2.5357 - val_categorical_accuracy: 0.1677\n",
      "Epoch 59/100\n",
      "64/64 [==============================] - 6s 87ms/step - loss: 0.1684 - categorical_accuracy: 0.9426 - val_loss: 2.3764 - val_categorical_accuracy: 0.1655\n",
      "Epoch 60/100\n",
      "64/64 [==============================] - 6s 87ms/step - loss: 0.1873 - categorical_accuracy: 0.9365 - val_loss: 2.4711 - val_categorical_accuracy: 0.1817\n",
      "Epoch 61/100\n",
      "64/64 [==============================] - 6s 87ms/step - loss: 0.1545 - categorical_accuracy: 0.9468 - val_loss: 2.5018 - val_categorical_accuracy: 0.1688\n",
      "Epoch 62/100\n",
      "64/64 [==============================] - 6s 87ms/step - loss: 0.1117 - categorical_accuracy: 0.9618 - val_loss: 2.3809 - val_categorical_accuracy: 0.1705\n",
      "Epoch 63/100\n",
      "64/64 [==============================] - 6s 88ms/step - loss: 0.1276 - categorical_accuracy: 0.9571 - val_loss: 2.2655 - val_categorical_accuracy: 0.2090\n",
      "Epoch 64/100\n",
      "64/64 [==============================] - 6s 87ms/step - loss: 0.1244 - categorical_accuracy: 0.9584 - val_loss: 2.3325 - val_categorical_accuracy: 0.2048\n",
      "Epoch 65/100\n",
      "64/64 [==============================] - 6s 87ms/step - loss: 0.1668 - categorical_accuracy: 0.9434 - val_loss: 2.3682 - val_categorical_accuracy: 0.2299\n",
      "Epoch 66/100\n",
      "64/64 [==============================] - 6s 88ms/step - loss: 0.1430 - categorical_accuracy: 0.9511 - val_loss: 2.2531 - val_categorical_accuracy: 0.2970\n",
      "Epoch 67/100\n",
      "64/64 [==============================] - 6s 88ms/step - loss: 0.0803 - categorical_accuracy: 0.9730 - val_loss: 2.2844 - val_categorical_accuracy: 0.2937\n",
      "Epoch 68/100\n",
      "64/64 [==============================] - 6s 88ms/step - loss: 0.1628 - categorical_accuracy: 0.9441 - val_loss: 2.2597 - val_categorical_accuracy: 0.2862\n",
      "Epoch 69/100\n",
      "64/64 [==============================] - 6s 88ms/step - loss: 0.0671 - categorical_accuracy: 0.9777 - val_loss: 2.4933 - val_categorical_accuracy: 0.2630\n",
      "Epoch 70/100\n",
      "64/64 [==============================] - 6s 87ms/step - loss: 0.0807 - categorical_accuracy: 0.9736 - val_loss: 2.4946 - val_categorical_accuracy: 0.2569\n",
      "Epoch 71/100\n",
      "64/64 [==============================] - 6s 88ms/step - loss: 0.1747 - categorical_accuracy: 0.9397 - val_loss: 2.3838 - val_categorical_accuracy: 0.2733\n",
      "Epoch 72/100\n",
      "64/64 [==============================] - 6s 88ms/step - loss: 0.1078 - categorical_accuracy: 0.9626 - val_loss: 2.4537 - val_categorical_accuracy: 0.2898\n",
      "Epoch 73/100\n",
      "64/64 [==============================] - 6s 87ms/step - loss: 0.1045 - categorical_accuracy: 0.9639 - val_loss: 2.5842 - val_categorical_accuracy: 0.2912\n",
      "Epoch 74/100\n",
      "64/64 [==============================] - 6s 88ms/step - loss: 0.2421 - categorical_accuracy: 0.9163 - val_loss: 2.7740 - val_categorical_accuracy: 0.2903\n",
      "Epoch 75/100\n",
      "64/64 [==============================] - 6s 88ms/step - loss: 0.0964 - categorical_accuracy: 0.9674 - val_loss: 3.0413 - val_categorical_accuracy: 0.2914\n",
      "Epoch 76/100\n",
      "64/64 [==============================] - 6s 88ms/step - loss: 0.1655 - categorical_accuracy: 0.9428 - val_loss: 2.8492 - val_categorical_accuracy: 0.3305\n",
      "Epoch 77/100\n",
      "64/64 [==============================] - 6s 89ms/step - loss: 0.0864 - categorical_accuracy: 0.9711 - val_loss: 3.0386 - val_categorical_accuracy: 0.3388\n",
      "Epoch 78/100\n",
      "64/64 [==============================] - 6s 88ms/step - loss: 0.0838 - categorical_accuracy: 0.9713 - val_loss: 3.1724 - val_categorical_accuracy: 0.3224\n",
      "Epoch 79/100\n",
      "64/64 [==============================] - 6s 88ms/step - loss: 0.0961 - categorical_accuracy: 0.9670 - val_loss: 3.0911 - val_categorical_accuracy: 0.3497\n",
      "Epoch 80/100\n",
      "64/64 [==============================] - 6s 88ms/step - loss: 0.0749 - categorical_accuracy: 0.9740 - val_loss: 3.3037 - val_categorical_accuracy: 0.3647\n",
      "Epoch 81/100\n",
      "64/64 [==============================] - 6s 88ms/step - loss: 0.0924 - categorical_accuracy: 0.9684 - val_loss: 3.4187 - val_categorical_accuracy: 0.3628\n",
      "Epoch 82/100\n",
      "64/64 [==============================] - 6s 88ms/step - loss: 0.1354 - categorical_accuracy: 0.9516 - val_loss: 3.7360 - val_categorical_accuracy: 0.3725\n",
      "Epoch 83/100\n",
      "64/64 [==============================] - 6s 88ms/step - loss: 0.2400 - categorical_accuracy: 0.9161 - val_loss: 3.3906 - val_categorical_accuracy: 0.3984\n",
      "Epoch 84/100\n",
      "64/64 [==============================] - 6s 88ms/step - loss: 0.0902 - categorical_accuracy: 0.9688 - val_loss: 3.6117 - val_categorical_accuracy: 0.4079\n",
      "Epoch 85/100\n",
      "64/64 [==============================] - 6s 88ms/step - loss: 0.0852 - categorical_accuracy: 0.9710 - val_loss: 3.8902 - val_categorical_accuracy: 0.3787\n",
      "Epoch 86/100\n",
      "64/64 [==============================] - 6s 88ms/step - loss: 0.1340 - categorical_accuracy: 0.9536 - val_loss: 3.6693 - val_categorical_accuracy: 0.4221\n",
      "Epoch 87/100\n",
      "64/64 [==============================] - 6s 88ms/step - loss: 0.1233 - categorical_accuracy: 0.9582 - val_loss: 3.7429 - val_categorical_accuracy: 0.4366\n",
      "Epoch 88/100\n",
      "64/64 [==============================] - 6s 87ms/step - loss: 0.1052 - categorical_accuracy: 0.9635 - val_loss: 3.7369 - val_categorical_accuracy: 0.4316\n",
      "Epoch 89/100\n",
      "64/64 [==============================] - 6s 88ms/step - loss: 0.1570 - categorical_accuracy: 0.9454 - val_loss: 3.8845 - val_categorical_accuracy: 0.4335\n",
      "Epoch 90/100\n",
      "64/64 [==============================] - 6s 88ms/step - loss: 0.0761 - categorical_accuracy: 0.9743 - val_loss: 3.9854 - val_categorical_accuracy: 0.4361\n",
      "Epoch 91/100\n",
      "64/64 [==============================] - 6s 88ms/step - loss: 0.1213 - categorical_accuracy: 0.9584 - val_loss: 4.0396 - val_categorical_accuracy: 0.4288\n",
      "Epoch 92/100\n",
      "64/64 [==============================] - 6s 88ms/step - loss: 0.1073 - categorical_accuracy: 0.9626 - val_loss: 4.4658 - val_categorical_accuracy: 0.4296\n",
      "Epoch 93/100\n",
      "64/64 [==============================] - 6s 88ms/step - loss: 0.0785 - categorical_accuracy: 0.9722 - val_loss: 4.3622 - val_categorical_accuracy: 0.4436\n",
      "Epoch 94/100\n",
      "64/64 [==============================] - 6s 88ms/step - loss: 0.0689 - categorical_accuracy: 0.9759 - val_loss: 4.6873 - val_categorical_accuracy: 0.4238\n",
      "Epoch 95/100\n",
      "64/64 [==============================] - 6s 88ms/step - loss: 0.1168 - categorical_accuracy: 0.9588 - val_loss: 4.6996 - val_categorical_accuracy: 0.4152\n",
      "Epoch 96/100\n",
      "64/64 [==============================] - 6s 88ms/step - loss: 0.0763 - categorical_accuracy: 0.9738 - val_loss: 4.8258 - val_categorical_accuracy: 0.4054\n",
      "Epoch 97/100\n",
      "64/64 [==============================] - 6s 88ms/step - loss: 0.1037 - categorical_accuracy: 0.9630 - val_loss: 4.7586 - val_categorical_accuracy: 0.4263\n",
      "Epoch 98/100\n",
      "64/64 [==============================] - 6s 92ms/step - loss: 0.0999 - categorical_accuracy: 0.9655 - val_loss: 5.2312 - val_categorical_accuracy: 0.4244\n",
      "Epoch 99/100\n"
     ]
    },
    {
     "name": "stdout",
     "output_type": "stream",
     "text": [
      "64/64 [==============================] - 5s 86ms/step - loss: 0.1053 - categorical_accuracy: 0.9640 - val_loss: 4.9334 - val_categorical_accuracy: 0.4224\n",
      "Epoch 100/100\n",
      "64/64 [==============================] - 6s 87ms/step - loss: 0.0474 - categorical_accuracy: 0.9839 - val_loss: 4.8639 - val_categorical_accuracy: 0.4263\n"
     ]
    },
    {
     "data": {
      "text/plain": [
       "<tensorflow.python.keras.callbacks.History at 0x7f900457b3d0>"
      ]
     },
     "execution_count": 3,
     "metadata": {},
     "output_type": "execute_result"
    }
   ],
   "source": [
    "import tensorflow as tf\n",
    "gpus = tf.config.experimental.list_physical_devices('GPU')\n",
    "if gpus:\n",
    "  try:\n",
    "    # Currently, memory growth needs to be the same across GPUs\n",
    "    for gpu in gpus:\n",
    "      tf.config.experimental.set_memory_growth(gpu, True)\n",
    "    logical_gpus = tf.config.experimental.list_logical_devices('GPU')\n",
    "    print(len(gpus), \"Physical GPUs,\", len(logical_gpus), \"Logical GPUs\")\n",
    "  except RuntimeError as e:\n",
    "    # Memory growth must be set before GPUs have been initialized\n",
    "    print(e)\n",
    "\n",
    "# model 선언 \n",
    "model = tf.keras.applications.MobileNetV2(input_shape=(48, 48, 1), weights=None, classes=7)\n",
    "\n",
    "# model.compile\n",
    "model.compile(optimizer=tf.keras.optimizers.Adam(),\n",
    "              loss=tf.keras.losses.CategoricalCrossentropy(),\n",
    "              metrics=[tf.keras.metrics.CategoricalAccuracy()])\n",
    "\n",
    "#model.fit\n",
    "model.fit(np.stack(train_x),\n",
    "          tf.keras.utils.to_categorical(train_y),\n",
    "          epochs=100,\n",
    "          batch_size=512,\n",
    "          validation_data=(np.stack(eval_x),\n",
    "                           tf.keras.utils.to_categorical(eval_y)))"
   ]
  },
  {
   "cell_type": "markdown",
   "metadata": {},
   "source": [
    "## step 2. 학습된 모델을 TensorFlow.js 형식으로 변환하기"
   ]
  },
  {
   "cell_type": "code",
   "execution_count": 6,
   "metadata": {},
   "outputs": [],
   "source": [
    "import os\n",
    "model_path = os.getenv('HOME')+'/aiffel/e/tfjs_mobile/model.h5'\n",
    "model.save(model_path)"
   ]
  },
  {
   "cell_type": "code",
   "execution_count": 7,
   "metadata": {},
   "outputs": [],
   "source": [
    "model_cp_path = os.getenv('HOME')+'/aiffel/e/tfjs_mobile/model_cp.h5'\n",
    "model.save(model_cp_path)"
   ]
  },
  {
   "cell_type": "markdown",
   "metadata": {},
   "source": [
    "`pip install tensorflowjs`로 설치하여 tf.js가 활용할 수 있는 형태로 변환하기    \n",
    "터미널에서 `tensorflowjs_converter` 명령어만 실행    \n",
    "```shell\n",
    "$ cd ~/aiffel/tfjs_mobile\n",
    "$ tensorflowjs_converter --input_format=keras model.h5 model\n",
    "```"
   ]
  },
  {
   "cell_type": "markdown",
   "metadata": {},
   "source": [
    "## step 3. 카메라에서 가져온 영상 전처리하기"
   ]
  },
  {
   "cell_type": "code",
   "execution_count": null,
   "metadata": {},
   "outputs": [],
   "source": []
  },
  {
   "cell_type": "code",
   "execution_count": null,
   "metadata": {},
   "outputs": [],
   "source": []
  },
  {
   "cell_type": "code",
   "execution_count": null,
   "metadata": {},
   "outputs": [],
   "source": []
  },
  {
   "cell_type": "code",
   "execution_count": null,
   "metadata": {},
   "outputs": [],
   "source": []
  },
  {
   "cell_type": "markdown",
   "metadata": {},
   "source": [
    "# tensorflow.js mobile project"
   ]
  },
  {
   "cell_type": "code",
   "execution_count": 5,
   "metadata": {},
   "outputs": [
    {
     "ename": "SyntaxError",
     "evalue": "invalid syntax (<ipython-input-5-a9a75d56d272>, line 2)",
     "output_type": "error",
     "traceback": [
      "\u001b[0;36m  File \u001b[0;32m\"<ipython-input-5-a9a75d56d272>\"\u001b[0;36m, line \u001b[0;32m2\u001b[0m\n\u001b[0;31m    ---\u001b[0m\n\u001b[0m       ^\u001b[0m\n\u001b[0;31mSyntaxError\u001b[0m\u001b[0;31m:\u001b[0m invalid syntax\n"
     ]
    }
   ],
   "source": [
    "# E13 project\n",
    "---\n",
    "## step1. 표정 데이터로 mobilenet 학습시키기\n",
    "- 데이터셋 구경하기# E13 project\n",
    "---\n",
    "## step1. 표정 데이터로 mobilenet 학습시키기\n",
    "- 데이터셋 구경하기\n",
    "\n",
    "import numpy as np\n",
    "import tqdm\n",
    "import os\n",
    "\n",
    "train_x = []\n",
    "train_y = []\n",
    "eval_x = []\n",
    "eval_y = []\n",
    "\n",
    "csv_path = os.getenv('HOME')+'/aiffel/e/tfjs_mobile/data/fer2013.csv'\n",
    "\n",
    "with open(csv_path) as f:\n",
    "  for line in tqdm.tqdm(f.read().splitlines()[1:]):\n",
    "    emotion, pixels, usage = line.split(',')\n",
    "    \n",
    "    x = np.array(pixels.split(' ')).astype(float).reshape(48, 48, 1) / 255\n",
    "    y = int(emotion)\n",
    "\n",
    "    if usage == 'PrivateTest':\n",
    "      eval_x.append(x)\n",
    "      eval_y.append(y)\n",
    "    else:\n",
    "      train_x.append(x)\n",
    "      train_y.append(y)\n",
    "\n",
    "print('train : {}, eval :{}'.format(len(train_x), len(eval_x)))\n",
    "\n",
    "데이터 완비 확인을 위해 첫 데이터의 이미지, 라벨을 확인한다\n",
    "\n",
    "from matplotlib import pyplot as plt\n",
    "\n",
    "LABELS = ['Angry', 'Disgust', 'Fear', 'Happy', 'Sad', 'Surprise', 'Neutral']\n",
    "\n",
    "print(LABELS[train_y[0]])\n",
    "plt.imshow(train_x[0].reshape([48, 48]), cmap='gray')\n",
    "\n",
    "100 epoch만 학습하여 MobileNetV2 모델 학습하기\n",
    "\n",
    "import tensorflow as tf\n",
    "gpus = tf.config.experimental.list_physical_devices('GPU')\n",
    "if gpus:\n",
    "  try:\n",
    "    # Currently, memory growth needs to be the same across GPUs\n",
    "    for gpu in gpus:\n",
    "      tf.config.experimental.set_memory_growth(gpu, True)\n",
    "    logical_gpus = tf.config.experimental.list_logical_devices('GPU')\n",
    "    print(len(gpus), \"Physical GPUs,\", len(logical_gpus), \"Logical GPUs\")\n",
    "  except RuntimeError as e:\n",
    "    # Memory growth must be set before GPUs have been initialized\n",
    "    print(e)\n",
    "\n",
    "# model 선언 \n",
    "model = tf.keras.applications.MobileNetV2(input_shape=(48, 48, 1), weights=None, classes=7)\n",
    "\n",
    "# model.compile\n",
    "model.compile(optimizer=tf.keras.optimizers.Adam(),\n",
    "              loss=tf.keras.losses.CategoricalCrossentropy(),\n",
    "              metrics=[tf.keras.metrics.CategoricalAccuracy()])\n",
    "\n",
    "#model.fit\n",
    "model.fit(np.stack(train_x),\n",
    "          tf.keras.utils.to_categorical(train_y),\n",
    "          epochs=100,\n",
    "          batch_size=512,\n",
    "          validation_data=(np.stack(eval_x),\n",
    "                           tf.keras.utils.to_categorical(eval_y)))\n",
    "\n",
    "## step 2. 학습된 모델을 TensorFlow.js 형식으로 변환하기\n",
    "\n",
    "import os\n",
    "model_path = os.getenv('HOME')+'/aiffel/e/tfjs_mobile/model.h5'\n",
    "model.save(model_path)\n",
    "\n",
    "`pip install tensorflowjs`로 설치하여 tf.js가 활용할 수 있는 형태로 변환하기    \n",
    "터미널에서 `tensorflowjs_converter` 명령어만 실행    \n",
    "```shell\n",
    "$ cd ~/aiffel/tfjs_mobile\n",
    "$ tensorflowjs_converter --input_format=keras model.h5 model\n",
    "```\n",
    "\n",
    "## step 3. 카메라에서 가져온 영상 전처리하기\n",
    "\n",
    "\n",
    "\n",
    "\n",
    "\n",
    "\n",
    "\n"
   ]
  },
  {
   "cell_type": "code",
   "execution_count": null,
   "metadata": {},
   "outputs": [],
   "source": []
  },
  {
   "cell_type": "code",
   "execution_count": null,
   "metadata": {},
   "outputs": [],
   "source": []
  },
  {
   "cell_type": "code",
   "execution_count": null,
   "metadata": {},
   "outputs": [],
   "source": []
  },
  {
   "cell_type": "code",
   "execution_count": null,
   "metadata": {},
   "outputs": [],
   "source": []
  },
  {
   "cell_type": "code",
   "execution_count": null,
   "metadata": {},
   "outputs": [],
   "source": []
  },
  {
   "cell_type": "code",
   "execution_count": null,
   "metadata": {},
   "outputs": [],
   "source": []
  },
  {
   "cell_type": "code",
   "execution_count": null,
   "metadata": {},
   "outputs": [],
   "source": []
  },
  {
   "cell_type": "code",
   "execution_count": null,
   "metadata": {},
   "outputs": [],
   "source": []
  },
  {
   "cell_type": "code",
   "execution_count": null,
   "metadata": {},
   "outputs": [],
   "source": []
  },
  {
   "cell_type": "code",
   "execution_count": null,
   "metadata": {},
   "outputs": [],
   "source": []
  },
  {
   "cell_type": "code",
   "execution_count": null,
   "metadata": {},
   "outputs": [],
   "source": []
  },
  {
   "cell_type": "code",
   "execution_count": null,
   "metadata": {},
   "outputs": [],
   "source": []
  },
  {
   "cell_type": "code",
   "execution_count": null,
   "metadata": {},
   "outputs": [],
   "source": []
  },
  {
   "cell_type": "code",
   "execution_count": null,
   "metadata": {},
   "outputs": [],
   "source": []
  },
  {
   "cell_type": "code",
   "execution_count": null,
   "metadata": {},
   "outputs": [],
   "source": []
  },
  {
   "cell_type": "code",
   "execution_count": null,
   "metadata": {},
   "outputs": [],
   "source": []
  },
  {
   "cell_type": "code",
   "execution_count": null,
   "metadata": {},
   "outputs": [],
   "source": []
  },
  {
   "cell_type": "code",
   "execution_count": null,
   "metadata": {},
   "outputs": [],
   "source": []
  },
  {
   "cell_type": "code",
   "execution_count": null,
   "metadata": {},
   "outputs": [],
   "source": []
  },
  {
   "cell_type": "code",
   "execution_count": null,
   "metadata": {},
   "outputs": [],
   "source": []
  },
  {
   "cell_type": "code",
   "execution_count": null,
   "metadata": {},
   "outputs": [],
   "source": []
  },
  {
   "cell_type": "code",
   "execution_count": null,
   "metadata": {},
   "outputs": [],
   "source": []
  }
 ],
 "metadata": {
  "kernelspec": {
   "display_name": "aiffel-cp",
   "language": "python",
   "name": "aiffelcp"
  },
  "language_info": {
   "codemirror_mode": {
    "name": "ipython",
    "version": 3
   },
   "file_extension": ".py",
   "mimetype": "text/x-python",
   "name": "python",
   "nbconvert_exporter": "python",
   "pygments_lexer": "ipython3",
   "version": "3.7.6"
  }
 },
 "nbformat": 4,
 "nbformat_minor": 4
}

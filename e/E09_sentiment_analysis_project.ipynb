{
 "cells": [
  {
   "cell_type": "markdown",
   "metadata": {},
   "source": [
    "# E09. 영화리뷰 텍스트 감정 분석하기"
   ]
  },
  {
   "cell_type": "code",
   "execution_count": 1,
   "metadata": {},
   "outputs": [
    {
     "name": "stdout",
     "output_type": "stream",
     "text": [
      "1 Physical GPUs, 1 Logical GPUs\n"
     ]
    }
   ],
   "source": [
    "import tensorflow as tf\n",
    "gpus = tf.config.experimental.list_physical_devices('GPU')\n",
    "if gpus:\n",
    "  try:\n",
    "    # Currently, memory growth needs to be the same across GPUs\n",
    "    for gpu in gpus:\n",
    "      tf.config.experimental.set_memory_growth(gpu, True)\n",
    "    logical_gpus = tf.config.experimental.list_logical_devices('GPU')\n",
    "    print(len(gpus), \"Physical GPUs,\", len(logical_gpus), \"Logical GPUs\")\n",
    "  except RuntimeError as e:\n",
    "    # Memory growth must be set before GPUs have been initialized\n",
    "    print(e)"
   ]
  },
  {
   "cell_type": "markdown",
   "metadata": {},
   "source": [
    "# 9-11. Naver 영화리뷰 감성분석 도전하기\n",
    "---\n",
    "- 데이터셋: [Naver sentiment movie corpus](https://github.com/e9t/nsmc)\n",
    "- 아래와 같이 다운로드\n",
    "```sh\n",
    "$ wget https://raw.githubusercontent.com/e9t/nsmc/master/ratings_train.txt\n",
    "$ wget https://raw.githubusercontent.com/e9t/nsmc/master/ratings_test.txt\n",
    "$ mv ratings_*.txt ~/aiffel/e/e09_sentimental_classification\n",
    "```"
   ]
  },
  {
   "cell_type": "markdown",
   "metadata": {},
   "source": [
    "## 1) 데이터 준비와 확인"
   ]
  },
  {
   "cell_type": "code",
   "execution_count": 2,
   "metadata": {},
   "outputs": [
    {
     "data": {
      "text/html": [
       "<div>\n",
       "<style scoped>\n",
       "    .dataframe tbody tr th:only-of-type {\n",
       "        vertical-align: middle;\n",
       "    }\n",
       "\n",
       "    .dataframe tbody tr th {\n",
       "        vertical-align: top;\n",
       "    }\n",
       "\n",
       "    .dataframe thead th {\n",
       "        text-align: right;\n",
       "    }\n",
       "</style>\n",
       "<table border=\"1\" class=\"dataframe\">\n",
       "  <thead>\n",
       "    <tr style=\"text-align: right;\">\n",
       "      <th></th>\n",
       "      <th>id</th>\n",
       "      <th>document</th>\n",
       "      <th>label</th>\n",
       "    </tr>\n",
       "  </thead>\n",
       "  <tbody>\n",
       "    <tr>\n",
       "      <th>0</th>\n",
       "      <td>9976970</td>\n",
       "      <td>아 더빙.. 진짜 짜증나네요 목소리</td>\n",
       "      <td>0</td>\n",
       "    </tr>\n",
       "    <tr>\n",
       "      <th>1</th>\n",
       "      <td>3819312</td>\n",
       "      <td>흠...포스터보고 초딩영화줄....오버연기조차 가볍지 않구나</td>\n",
       "      <td>1</td>\n",
       "    </tr>\n",
       "    <tr>\n",
       "      <th>2</th>\n",
       "      <td>10265843</td>\n",
       "      <td>너무재밓었다그래서보는것을추천한다</td>\n",
       "      <td>0</td>\n",
       "    </tr>\n",
       "    <tr>\n",
       "      <th>3</th>\n",
       "      <td>9045019</td>\n",
       "      <td>교도소 이야기구먼 ..솔직히 재미는 없다..평점 조정</td>\n",
       "      <td>0</td>\n",
       "    </tr>\n",
       "    <tr>\n",
       "      <th>4</th>\n",
       "      <td>6483659</td>\n",
       "      <td>사이몬페그의 익살스런 연기가 돋보였던 영화!스파이더맨에서 늙어보이기만 했던 커스틴 ...</td>\n",
       "      <td>1</td>\n",
       "    </tr>\n",
       "  </tbody>\n",
       "</table>\n",
       "</div>"
      ],
      "text/plain": [
       "         id                                           document  label\n",
       "0   9976970                                아 더빙.. 진짜 짜증나네요 목소리      0\n",
       "1   3819312                  흠...포스터보고 초딩영화줄....오버연기조차 가볍지 않구나      1\n",
       "2  10265843                                  너무재밓었다그래서보는것을추천한다      0\n",
       "3   9045019                      교도소 이야기구먼 ..솔직히 재미는 없다..평점 조정      0\n",
       "4   6483659  사이몬페그의 익살스런 연기가 돋보였던 영화!스파이더맨에서 늙어보이기만 했던 커스틴 ...      1"
      ]
     },
     "execution_count": 2,
     "metadata": {},
     "output_type": "execute_result"
    }
   ],
   "source": [
    "import pandas as pd\n",
    "import urllib.request\n",
    "%matplotlib inline\n",
    "import matplotlib.pyplot as plt\n",
    "import re\n",
    "from konlpy.tag import Okt\n",
    "from tensorflow import keras\n",
    "from tensorflow.keras.preprocessing.text import Tokenizer\n",
    "import numpy as np\n",
    "from tensorflow.keras.preprocessing.sequence import pad_sequences\n",
    "from collections import Counter\n",
    "\n",
    "# 데이터를 읽어봅시다. \n",
    "train_data = pd.read_table('~/aiffel/e/e09_sentiment_classification/ratings_train.txt')\n",
    "test_data = pd.read_table('~/aiffel/e/e09_sentiment_classification/ratings_test.txt')\n",
    "\n",
    "train_data.head()"
   ]
  },
  {
   "cell_type": "code",
   "execution_count": 3,
   "metadata": {},
   "outputs": [
    {
     "data": {
      "text/plain": [
       "(150000, 3)"
      ]
     },
     "execution_count": 3,
     "metadata": {},
     "output_type": "execute_result"
    }
   ],
   "source": [
    "train_data.shape"
   ]
  },
  {
   "cell_type": "code",
   "execution_count": 4,
   "metadata": {},
   "outputs": [
    {
     "name": "stdout",
     "output_type": "stream",
     "text": [
      "<class 'pandas.core.frame.DataFrame'>\n",
      "RangeIndex: 150000 entries, 0 to 149999\n",
      "Data columns (total 3 columns):\n",
      " #   Column    Non-Null Count   Dtype \n",
      "---  ------    --------------   ----- \n",
      " 0   id        150000 non-null  int64 \n",
      " 1   document  149995 non-null  object\n",
      " 2   label     150000 non-null  int64 \n",
      "dtypes: int64(2), object(1)\n",
      "memory usage: 3.4+ MB\n"
     ]
    }
   ],
   "source": [
    "train_data.info()"
   ]
  },
  {
   "cell_type": "markdown",
   "metadata": {},
   "source": [
    "## 2) 데이터로더 구성\n",
    "실습때 다루었던 IMDB 데이터셋은 텍스트를 가공하여 imdb.data_loader() 메소드를 호출하면 숫자 인덱스로 변환된 텍스트와 word_to_index 딕셔너리까지 친절하게 제공합니다. 그러나 이번에 다루게 될 nsmc 데이터셋은 전혀 가공되지 않은 텍스트 파일로 이루어져 있습니다. 이것을 읽어서 imdb.data_loader()와 동일하게 동작하는 자신만의 data_loader를 만들어 보는 것으로 시작합니다. data_loader 안에서는 다음을 수행해야 합니다.\n",
    "\n",
    "- 데이터의 중복 제거\n",
    "- NaN 결측치 제거\n",
    "- 한국어 토크나이저로 토큰화\n",
    "- 불용어(Stopwords) 제거\n",
    "- 사전word_to_index 구성\n",
    "- 텍스트 스트링을 사전 인덱스 스트링으로 변환\n",
    "- X_train, y_train, X_test, y_test, word_to_index 리턴"
   ]
  },
  {
   "cell_type": "code",
   "execution_count": 5,
   "metadata": {},
   "outputs": [],
   "source": [
    "from konlpy.tag import Mecab\n",
    "tokenizer = Mecab()\n",
    "stopwords = ['의','가','이','은','들','는','좀','잘','걍','과','도','를','으로','자','에','와','한','하다']\n",
    "\n",
    "def load_data(train_data, test_data, num_words=10000):\n",
    "    train_data.drop_duplicates(subset=['document'], inplace=True)\n",
    "    train_data = train_data.dropna(how = 'any') \n",
    "    test_data.drop_duplicates(subset=['document'], inplace=True)\n",
    "    test_data = test_data.dropna(how = 'any') \n",
    "\n",
    "    X_train = []\n",
    "    for sentence in train_data['document']:\n",
    "        temp_X = tokenizer.morphs(sentence) # 토큰화\n",
    "        temp_X = [word for word in temp_X if not word in stopwords] # 불용어 제거\n",
    "        X_train.append(temp_X)\n",
    "\n",
    "    X_test = []\n",
    "    for sentence in test_data['document']:\n",
    "        temp_X = tokenizer.morphs(sentence) # 토큰화\n",
    "        temp_X = [word for word in temp_X if not word in stopwords] # 불용어 제거\n",
    "        X_test.append(temp_X)\n",
    "\n",
    "    words = np.concatenate(X_train).tolist()\n",
    "    counter = Counter(words)\n",
    "    counter = counter.most_common(10000-4)\n",
    "    vocab = ['<PAD>', '<BOS>', '<UNK>', '<UNUSED>'] + [key for key, _ in counter]\n",
    "    word_to_index = {word:index for index, word in enumerate(vocab)}\n",
    "\n",
    "    def wordlist_to_indexlist(wordlist):\n",
    "        return [word_to_index[word] if word in word_to_index else word_to_index['<UNK>'] for word in wordlist]\n",
    "\n",
    "    X_train = list(map(wordlist_to_indexlist, X_train))\n",
    "    X_test = list(map(wordlist_to_indexlist, X_test))\n",
    "\n",
    "    return X_train, np.array(list(train_data['label'])), X_test, np.array(list(test_data['label'])), word_to_index\n",
    "\n",
    "X_train, y_train, X_test, y_test, word_to_index = load_data(train_data, test_data) "
   ]
  },
  {
   "cell_type": "code",
   "execution_count": 6,
   "metadata": {},
   "outputs": [],
   "source": [
    "index_to_word = {index:word for word, index in word_to_index.items()}"
   ]
  },
  {
   "cell_type": "code",
   "execution_count": 7,
   "metadata": {},
   "outputs": [],
   "source": [
    "# 문장 1개를 활용할 딕셔너리와 함께 주면, 단어 인덱스 리스트 벡터로 변환해 주는 함수입니다. \n",
    "# 단, 모든 문장은 <BOS>로 시작하는 것으로 합니다. \n",
    "def get_encoded_sentence(sentence, word_to_index):\n",
    "    return [word_to_index['<BOS>']]+[word_to_index[word] if word in word_to_index else word_to_index['<UNK>'] for word in sentence.split()]\n",
    "\n",
    "# 여러 개의 문장 리스트를 한꺼번에 단어 인덱스 리스트 벡터로 encode해 주는 함수입니다. \n",
    "def get_encoded_sentences(sentences, word_to_index):\n",
    "    return [get_encoded_sentence(sentence, word_to_index) for sentence in sentences]\n",
    "\n",
    "# 숫자 벡터로 encode된 문장을 원래대로 decode하는 함수입니다. \n",
    "def get_decoded_sentence(encoded_sentence, index_to_word):\n",
    "    return ' '.join(index_to_word[index] if index in index_to_word else '<UNK>' for index in encoded_sentence[1:])  #[1:]를 통해 <BOS>를 제외\n",
    "\n",
    "# 여러개의 숫자 벡터로 encode된 문장을 한꺼번에 원래대로 decode하는 함수입니다. \n",
    "def get_decoded_sentences(encoded_sentences, index_to_word):\n",
    "    return [get_decoded_sentence(encoded_sentence, index_to_word) for encoded_sentence in encoded_sentences]"
   ]
  },
  {
   "cell_type": "markdown",
   "metadata": {},
   "source": [
    "3) 모델구성을 위한 데이터 분석 및 가공\n",
    "---\n",
    "- 데이터셋 내 문장 길이 분포\n",
    "- 적절한 최대 문장 길이 지정\n",
    "- keras.preprocessing.sequence.pad_sequences 을 활용한 패딩 추가"
   ]
  },
  {
   "cell_type": "code",
   "execution_count": 8,
   "metadata": {},
   "outputs": [
    {
     "name": "stdout",
     "output_type": "stream",
     "text": [
      "문장길이 평균 :  15.96938143432699\n",
      "문장길이 최대 :  116\n",
      "문장길이 표준편차 :  12.843571939469296\n",
      "pad_sequences maxlen :  41\n",
      "전체 문장의 0.9342988343341575%가 maxlen 설정값 이내에 포함됩니다. \n"
     ]
    }
   ],
   "source": [
    "total_data_text = list(X_train) + list(X_test)\n",
    "# 텍스트데이터 문장길이의 리스트를 생성한 후\n",
    "num_tokens = [len(tokens) for tokens in total_data_text]\n",
    "num_tokens = np.array(num_tokens)\n",
    "# 문장길이의 평균값, 최대값, 표준편차를 계산해 본다. \n",
    "print('문장길이 평균 : ', np.mean(num_tokens))\n",
    "print('문장길이 최대 : ', np.max(num_tokens))\n",
    "print('문장길이 표준편차 : ', np.std(num_tokens))\n",
    "\n",
    "# 예를들어, 최대 길이를 (평균 + 2*표준편차)로 한다면,  \n",
    "max_tokens = np.mean(num_tokens) + 2 * np.std(num_tokens)\n",
    "maxlen = int(max_tokens)\n",
    "print('pad_sequences maxlen : ', maxlen)\n",
    "print('전체 문장의 {}%가 maxlen 설정값 이내에 포함됩니다. '.format(np.sum(num_tokens < max_tokens) / len(num_tokens)))\n",
    "\n",
    "# maxlen = 41"
   ]
  },
  {
   "cell_type": "code",
   "execution_count": 9,
   "metadata": {},
   "outputs": [
    {
     "name": "stdout",
     "output_type": "stream",
     "text": [
      "(146182, 41)\n"
     ]
    }
   ],
   "source": [
    "X_train = keras.preprocessing.sequence.pad_sequences(X_train,\n",
    "                                                        value=word_to_index[\"<PAD>\"],\n",
    "                                                        padding='post', # 혹은 'pre'\n",
    "                                                        maxlen=maxlen)\n",
    "\n",
    "X_test = keras.preprocessing.sequence.pad_sequences(X_test,\n",
    "                                                       value=word_to_index[\"<PAD>\"],\n",
    "                                                       padding='post', # 혹은 'pre'\n",
    "                                                       maxlen=maxlen)\n",
    "\n",
    "print(X_train.shape)"
   ]
  },
  {
   "cell_type": "code",
   "execution_count": null,
   "metadata": {},
   "outputs": [],
   "source": []
  },
  {
   "cell_type": "markdown",
   "metadata": {},
   "source": [
    "4) 모델구성 및 validation set 구성\n",
    "---\n",
    "모델은 3가지 이상 다양하게 구성하여 실험해 보세요."
   ]
  },
  {
   "cell_type": "markdown",
   "metadata": {},
   "source": [
    "### valid set 구성"
   ]
  },
  {
   "cell_type": "code",
   "execution_count": 10,
   "metadata": {},
   "outputs": [
    {
     "name": "stdout",
     "output_type": "stream",
     "text": [
      "(136182, 41)\n",
      "(136182,)\n"
     ]
    }
   ],
   "source": [
    "# valid set 30000건 분리 -> 했다가 커널 리셋해도 valid accuracy가 0.8대부터 시작해서\n",
    "# valid set 10000건으로 바꿈\n",
    "x_val = X_train[:10000]   \n",
    "y_val = y_train[:10000]\n",
    "\n",
    "# 나머지 116182건\n",
    "partial_x_train = X_train[10000:]  \n",
    "partial_y_train = y_train[10000:]\n",
    "\n",
    "print(partial_x_train.shape)\n",
    "print(partial_y_train.shape)"
   ]
  },
  {
   "cell_type": "code",
   "execution_count": 11,
   "metadata": {},
   "outputs": [],
   "source": [
    "vocab_size = 10000    # 어휘 사전의 크기입니다(10,000개의 단어)\n",
    "word_vector_dim = 16  # 워드 벡터의 차원수 (변경가능한 하이퍼파라미터)"
   ]
  },
  {
   "cell_type": "markdown",
   "metadata": {},
   "source": [
    "### 모델 1 - multi layer LSTM"
   ]
  },
  {
   "cell_type": "code",
   "execution_count": 12,
   "metadata": {
    "scrolled": false
   },
   "outputs": [
    {
     "name": "stdout",
     "output_type": "stream",
     "text": [
      "Model: \"LSTM_single_layer\"\n",
      "_________________________________________________________________\n",
      "Layer (type)                 Output Shape              Param #   \n",
      "=================================================================\n",
      "embedding (Embedding)        (None, None, 16)          160000    \n",
      "_________________________________________________________________\n",
      "lstm (LSTM)                  (None, 8)                 800       \n",
      "_________________________________________________________________\n",
      "dense (Dense)                (None, 16)                144       \n",
      "_________________________________________________________________\n",
      "dense_1 (Dense)              (None, 1)                 17        \n",
      "=================================================================\n",
      "Total params: 160,961\n",
      "Trainable params: 160,961\n",
      "Non-trainable params: 0\n",
      "_________________________________________________________________\n"
     ]
    }
   ],
   "source": [
    "model_lstm_sl = keras.Sequential(name=\"LSTM_single_layer\")\n",
    "model_lstm_sl.add(keras.layers.Embedding(vocab_size, word_vector_dim, input_shape=(None,)))\n",
    "model_lstm_sl.add(keras.layers.LSTM(8)) # 바꿀 수 있음\n",
    "model_lstm_sl.add(keras.layers.Dense(16, activation=\"relu\"))\n",
    "model_lstm_sl.add(keras.layers.Dense(1, activation=\"sigmoid\"))\n",
    "\n",
    "model_lstm_sl.summary()"
   ]
  },
  {
   "cell_type": "markdown",
   "metadata": {},
   "source": [
    "### 모델 2 : multi layer lstm"
   ]
  },
  {
   "cell_type": "code",
   "execution_count": 13,
   "metadata": {
    "scrolled": true
   },
   "outputs": [
    {
     "name": "stdout",
     "output_type": "stream",
     "text": [
      "Model: \"stacked_LSTM\"\n",
      "_________________________________________________________________\n",
      "Layer (type)                 Output Shape              Param #   \n",
      "=================================================================\n",
      "embedding_1 (Embedding)      (None, None, 16)          160000    \n",
      "_________________________________________________________________\n",
      "lstm_1 (LSTM)                (None, None, 64)          20736     \n",
      "_________________________________________________________________\n",
      "lstm_2 (LSTM)                (None, 32)                12416     \n",
      "_________________________________________________________________\n",
      "dense_2 (Dense)              (None, 16)                528       \n",
      "_________________________________________________________________\n",
      "dense_3 (Dense)              (None, 1)                 17        \n",
      "=================================================================\n",
      "Total params: 193,697\n",
      "Trainable params: 193,697\n",
      "Non-trainable params: 0\n",
      "_________________________________________________________________\n"
     ]
    }
   ],
   "source": [
    "model_lstm_ml = keras.Sequential(name=\"stacked_LSTM\")\n",
    "model_lstm_ml.add(keras.layers.Embedding(vocab_size, word_vector_dim, input_shape=(None,)))\n",
    "model_lstm_ml.add(keras.layers.LSTM(64, return_sequences = True)) # 바꿀 수 있음\n",
    "model_lstm_ml.add(keras.layers.LSTM(32, return_sequences = False)) # 바꿀 수 있음\n",
    "model_lstm_ml.add(keras.layers.Dense(16, activation=\"relu\"))\n",
    "model_lstm_ml.add(keras.layers.Dense(1, activation=\"sigmoid\"))\n",
    "\n",
    "model_lstm_ml.summary()"
   ]
  },
  {
   "cell_type": "markdown",
   "metadata": {},
   "source": [
    "### 모델 3 : cnn\n"
   ]
  },
  {
   "cell_type": "code",
   "execution_count": 14,
   "metadata": {},
   "outputs": [
    {
     "name": "stdout",
     "output_type": "stream",
     "text": [
      "Model: \"CNN\"\n",
      "_________________________________________________________________\n",
      "Layer (type)                 Output Shape              Param #   \n",
      "=================================================================\n",
      "embedding_2 (Embedding)      (None, None, 16)          160000    \n",
      "_________________________________________________________________\n",
      "conv1d (Conv1D)              (None, None, 128)         14464     \n",
      "_________________________________________________________________\n",
      "max_pooling1d (MaxPooling1D) (None, None, 128)         0         \n",
      "_________________________________________________________________\n",
      "conv1d_1 (Conv1D)            (None, None, 64)          57408     \n",
      "_________________________________________________________________\n",
      "global_max_pooling1d (Global (None, 64)                0         \n",
      "_________________________________________________________________\n",
      "dense_4 (Dense)              (None, 16)                1040      \n",
      "_________________________________________________________________\n",
      "dense_5 (Dense)              (None, 1)                 17        \n",
      "=================================================================\n",
      "Total params: 232,929\n",
      "Trainable params: 232,929\n",
      "Non-trainable params: 0\n",
      "_________________________________________________________________\n"
     ]
    }
   ],
   "source": [
    "model_cnn = keras.Sequential(name=\"CNN\")\n",
    "model_cnn.add(keras.layers.Embedding(vocab_size, word_vector_dim, input_shape=(None,)))\n",
    "model_cnn.add(keras.layers.Conv1D(128, 7, activation=\"relu\"))\n",
    "model_cnn.add(keras.layers.MaxPooling1D(5))\n",
    "model_cnn.add(keras.layers.Conv1D(64, 7, activation=\"relu\"))\n",
    "model_cnn.add(keras.layers.GlobalMaxPooling1D())\n",
    "model_cnn.add(keras.layers.Dense(16, activation=\"relu\"))\n",
    "model_cnn.add(keras.layers.Dense(1, activation=\"sigmoid\"))\n",
    "\n",
    "model_cnn.summary()"
   ]
  },
  {
   "cell_type": "code",
   "execution_count": null,
   "metadata": {},
   "outputs": [],
   "source": []
  },
  {
   "cell_type": "markdown",
   "metadata": {},
   "source": [
    "5) 모델 훈련 개시\n",
    "---"
   ]
  },
  {
   "cell_type": "markdown",
   "metadata": {},
   "source": [
    "모델\n",
    "- model_lstm_single layer\n",
    "- model_stacked_layer\n",
    "- model_cnn"
   ]
  },
  {
   "cell_type": "markdown",
   "metadata": {},
   "source": [
    "model 학습 시작"
   ]
  },
  {
   "cell_type": "code",
   "execution_count": 15,
   "metadata": {
    "scrolled": true
   },
   "outputs": [
    {
     "name": "stdout",
     "output_type": "stream",
     "text": [
      "Epoch 1/16\n",
      "266/266 [==============================] - 1s 6ms/step - loss: 0.5223 - accuracy: 0.7223 - val_loss: 0.3602 - val_accuracy: 0.8470\n",
      "Epoch 2/16\n",
      "266/266 [==============================] - 1s 4ms/step - loss: 0.3406 - accuracy: 0.8554 - val_loss: 0.3429 - val_accuracy: 0.8532\n",
      "Epoch 3/16\n",
      "266/266 [==============================] - 1s 4ms/step - loss: 0.3206 - accuracy: 0.8657 - val_loss: 0.3471 - val_accuracy: 0.8470\n",
      "Epoch 4/16\n",
      "266/266 [==============================] - 1s 4ms/step - loss: 0.3101 - accuracy: 0.8693 - val_loss: 0.3412 - val_accuracy: 0.8507\n",
      "Epoch 5/16\n",
      "266/266 [==============================] - 1s 5ms/step - loss: 0.3009 - accuracy: 0.8732 - val_loss: 0.3434 - val_accuracy: 0.8507\n",
      "Epoch 6/16\n",
      "266/266 [==============================] - 1s 5ms/step - loss: 0.2937 - accuracy: 0.8756 - val_loss: 0.3479 - val_accuracy: 0.8504\n",
      "Epoch 7/16\n",
      "266/266 [==============================] - 1s 4ms/step - loss: 0.2863 - accuracy: 0.8776 - val_loss: 0.3595 - val_accuracy: 0.8462\n",
      "Epoch 8/16\n",
      "266/266 [==============================] - 1s 4ms/step - loss: 0.2772 - accuracy: 0.8802 - val_loss: 0.3586 - val_accuracy: 0.8487\n",
      "Epoch 9/16\n",
      "266/266 [==============================] - 1s 4ms/step - loss: 0.2701 - accuracy: 0.8833 - val_loss: 0.3716 - val_accuracy: 0.8468\n",
      "Epoch 10/16\n",
      "266/266 [==============================] - 1s 4ms/step - loss: 0.2626 - accuracy: 0.8857 - val_loss: 0.4009 - val_accuracy: 0.8442\n",
      "Epoch 11/16\n",
      "266/266 [==============================] - 1s 5ms/step - loss: 0.2570 - accuracy: 0.8867 - val_loss: 0.3955 - val_accuracy: 0.8464\n",
      "Epoch 12/16\n",
      "266/266 [==============================] - 1s 4ms/step - loss: 0.2508 - accuracy: 0.8898 - val_loss: 0.3944 - val_accuracy: 0.8436\n",
      "Epoch 13/16\n",
      "266/266 [==============================] - 1s 5ms/step - loss: 0.2470 - accuracy: 0.8918 - val_loss: 0.4012 - val_accuracy: 0.8398\n",
      "Epoch 14/16\n",
      "266/266 [==============================] - 1s 5ms/step - loss: 0.2413 - accuracy: 0.8929 - val_loss: 0.4232 - val_accuracy: 0.8431\n",
      "Epoch 15/16\n",
      "266/266 [==============================] - 1s 5ms/step - loss: 0.2366 - accuracy: 0.8951 - val_loss: 0.4229 - val_accuracy: 0.8433\n",
      "Epoch 16/16\n",
      "266/266 [==============================] - 1s 5ms/step - loss: 0.2329 - accuracy: 0.8964 - val_loss: 0.4220 - val_accuracy: 0.8413\n"
     ]
    }
   ],
   "source": [
    "# model_lstm_sl\n",
    "model_lstm_sl.compile(optimizer='adam',\n",
    "              loss='binary_crossentropy',\n",
    "              metrics=['accuracy'])\n",
    "              \n",
    "epochs=16  # 몇 epoch를 훈련하면 좋을지 결과를 보면서 바꾸어 봅시다. \n",
    "\n",
    "history_lstm_sl = model_lstm_sl.fit(partial_x_train,\n",
    "                    partial_y_train,\n",
    "                    epochs=epochs,\n",
    "                    batch_size=512,\n",
    "                    validation_data=(x_val, y_val),\n",
    "                    verbose=1)"
   ]
  },
  {
   "cell_type": "code",
   "execution_count": 16,
   "metadata": {},
   "outputs": [
    {
     "name": "stdout",
     "output_type": "stream",
     "text": [
      "Epoch 1/16\n",
      "266/266 [==============================] - 1s 5ms/step - loss: 0.2300 - accuracy: 0.8969 - val_loss: 0.4220 - val_accuracy: 0.8369\n",
      "Epoch 2/16\n",
      "266/266 [==============================] - 1s 5ms/step - loss: 0.2260 - accuracy: 0.8987 - val_loss: 0.4402 - val_accuracy: 0.8354\n",
      "Epoch 3/16\n",
      "266/266 [==============================] - 1s 4ms/step - loss: 0.2224 - accuracy: 0.9000 - val_loss: 0.4485 - val_accuracy: 0.8360\n",
      "Epoch 4/16\n",
      "266/266 [==============================] - 1s 4ms/step - loss: 0.2186 - accuracy: 0.9014 - val_loss: 0.4623 - val_accuracy: 0.8400\n",
      "Epoch 5/16\n",
      "266/266 [==============================] - 1s 4ms/step - loss: 0.2160 - accuracy: 0.9026 - val_loss: 0.4541 - val_accuracy: 0.8362\n",
      "Epoch 6/16\n",
      "266/266 [==============================] - 1s 4ms/step - loss: 0.2133 - accuracy: 0.9046 - val_loss: 0.4662 - val_accuracy: 0.8369\n",
      "Epoch 7/16\n",
      "266/266 [==============================] - 1s 4ms/step - loss: 0.2098 - accuracy: 0.9057 - val_loss: 0.4609 - val_accuracy: 0.8376\n",
      "Epoch 8/16\n",
      "266/266 [==============================] - 1s 4ms/step - loss: 0.2073 - accuracy: 0.9070 - val_loss: 0.4673 - val_accuracy: 0.8346\n",
      "Epoch 9/16\n",
      "266/266 [==============================] - 1s 4ms/step - loss: 0.2039 - accuracy: 0.9082 - val_loss: 0.4860 - val_accuracy: 0.8367\n",
      "Epoch 10/16\n",
      "266/266 [==============================] - 1s 4ms/step - loss: 0.2024 - accuracy: 0.9093 - val_loss: 0.4704 - val_accuracy: 0.8351\n",
      "Epoch 11/16\n",
      "266/266 [==============================] - 1s 4ms/step - loss: 0.2001 - accuracy: 0.9106 - val_loss: 0.5018 - val_accuracy: 0.8371\n",
      "Epoch 12/16\n",
      "266/266 [==============================] - 1s 4ms/step - loss: 0.1974 - accuracy: 0.9116 - val_loss: 0.4950 - val_accuracy: 0.8362\n",
      "Epoch 13/16\n",
      "266/266 [==============================] - 1s 4ms/step - loss: 0.1933 - accuracy: 0.9136 - val_loss: 0.5096 - val_accuracy: 0.8269\n",
      "Epoch 14/16\n",
      "266/266 [==============================] - 1s 4ms/step - loss: 0.1915 - accuracy: 0.9140 - val_loss: 0.5089 - val_accuracy: 0.8329\n",
      "Epoch 15/16\n",
      "266/266 [==============================] - 1s 4ms/step - loss: 0.1904 - accuracy: 0.9148 - val_loss: 0.5036 - val_accuracy: 0.8361\n",
      "Epoch 16/16\n",
      "266/266 [==============================] - 1s 4ms/step - loss: 0.1869 - accuracy: 0.9163 - val_loss: 0.5140 - val_accuracy: 0.8311\n"
     ]
    }
   ],
   "source": [
    "# model_lstm_ml\n",
    "model_lstm_ml.compile(optimizer='adam',\n",
    "              loss='binary_crossentropy',\n",
    "              metrics=['accuracy'])\n",
    "              \n",
    "epochs=16  # 몇 epoch를 훈련하면 좋을지 결과를 보면서 바꾸어 봅시다. \n",
    "\n",
    "history_lstm_ml = model_lstm_sl.fit(partial_x_train,\n",
    "                    partial_y_train,\n",
    "                    epochs=epochs,\n",
    "                    batch_size=512,\n",
    "                    validation_data=(x_val, y_val),\n",
    "                    verbose=1)"
   ]
  },
  {
   "cell_type": "code",
   "execution_count": 17,
   "metadata": {
    "scrolled": true
   },
   "outputs": [
    {
     "name": "stdout",
     "output_type": "stream",
     "text": [
      "Epoch 1/16\n",
      "266/266 [==============================] - 6s 21ms/step - loss: 0.4354 - accuracy: 0.7875 - val_loss: 0.3388 - val_accuracy: 0.8517\n",
      "Epoch 2/16\n",
      "266/266 [==============================] - 1s 5ms/step - loss: 0.3155 - accuracy: 0.8649 - val_loss: 0.3307 - val_accuracy: 0.8533\n",
      "Epoch 3/16\n",
      "266/266 [==============================] - 1s 6ms/step - loss: 0.2815 - accuracy: 0.8824 - val_loss: 0.3294 - val_accuracy: 0.8557\n",
      "Epoch 4/16\n",
      "266/266 [==============================] - 1s 6ms/step - loss: 0.2477 - accuracy: 0.8998 - val_loss: 0.3407 - val_accuracy: 0.8547\n",
      "Epoch 5/16\n",
      "266/266 [==============================] - 1s 6ms/step - loss: 0.2115 - accuracy: 0.9169 - val_loss: 0.3646 - val_accuracy: 0.8575\n",
      "Epoch 6/16\n",
      "266/266 [==============================] - 1s 5ms/step - loss: 0.1739 - accuracy: 0.9351 - val_loss: 0.4005 - val_accuracy: 0.8486\n",
      "Epoch 7/16\n",
      "266/266 [==============================] - 1s 5ms/step - loss: 0.1404 - accuracy: 0.9497 - val_loss: 0.4600 - val_accuracy: 0.8468\n",
      "Epoch 8/16\n",
      "266/266 [==============================] - 1s 5ms/step - loss: 0.1155 - accuracy: 0.9601 - val_loss: 0.5252 - val_accuracy: 0.8397\n",
      "Epoch 9/16\n",
      "266/266 [==============================] - 1s 5ms/step - loss: 0.0940 - accuracy: 0.9688 - val_loss: 0.5884 - val_accuracy: 0.8347\n",
      "Epoch 10/16\n",
      "266/266 [==============================] - 1s 5ms/step - loss: 0.0787 - accuracy: 0.9746 - val_loss: 0.6419 - val_accuracy: 0.8370\n",
      "Epoch 11/16\n",
      "266/266 [==============================] - 1s 5ms/step - loss: 0.0677 - accuracy: 0.9787 - val_loss: 0.6826 - val_accuracy: 0.8314\n",
      "Epoch 12/16\n",
      "266/266 [==============================] - 1s 5ms/step - loss: 0.0600 - accuracy: 0.9810 - val_loss: 0.7438 - val_accuracy: 0.8313\n",
      "Epoch 13/16\n",
      "266/266 [==============================] - 1s 5ms/step - loss: 0.0530 - accuracy: 0.9833 - val_loss: 0.7830 - val_accuracy: 0.8306\n",
      "Epoch 14/16\n",
      "266/266 [==============================] - 1s 5ms/step - loss: 0.0506 - accuracy: 0.9834 - val_loss: 0.8198 - val_accuracy: 0.8320\n",
      "Epoch 15/16\n",
      "266/266 [==============================] - 1s 5ms/step - loss: 0.0493 - accuracy: 0.9837 - val_loss: 0.8602 - val_accuracy: 0.8265\n",
      "Epoch 16/16\n",
      "266/266 [==============================] - 1s 5ms/step - loss: 0.0439 - accuracy: 0.9860 - val_loss: 0.9632 - val_accuracy: 0.8267\n"
     ]
    }
   ],
   "source": [
    "# model_cnn\n",
    "model_cnn.compile(optimizer='adam',\n",
    "              loss='binary_crossentropy',\n",
    "              metrics=['accuracy'])\n",
    "              \n",
    "epochs=16  # 몇 epoch를 훈련하면 좋을지 결과를 보면서 바꾸어 봅시다. \n",
    "\n",
    "history_cnn = model_cnn.fit(partial_x_train,\n",
    "                    partial_y_train,\n",
    "                    epochs=epochs,\n",
    "                    batch_size=512,\n",
    "                    validation_data=(x_val, y_val),\n",
    "                    verbose=1)"
   ]
  },
  {
   "cell_type": "markdown",
   "metadata": {},
   "source": []
  },
  {
   "cell_type": "markdown",
   "metadata": {},
   "source": [
    "### 모델 평가"
   ]
  },
  {
   "cell_type": "code",
   "execution_count": 18,
   "metadata": {},
   "outputs": [
    {
     "name": "stdout",
     "output_type": "stream",
     "text": [
      "1537/1537 - 3s - loss: 0.5266 - accuracy: 0.8274\n",
      "[0.5265513062477112, 0.8274101614952087]\n"
     ]
    }
   ],
   "source": [
    "results = model_lstm_sl.evaluate(X_test,  y_test, verbose=2)\n",
    "\n",
    "print(results)"
   ]
  },
  {
   "cell_type": "code",
   "execution_count": 19,
   "metadata": {},
   "outputs": [
    {
     "name": "stdout",
     "output_type": "stream",
     "text": [
      "1537/1537 - 3s - loss: 0.6933 - accuracy: 0.4933\n",
      "[0.6933446526527405, 0.4932969808578491]\n"
     ]
    }
   ],
   "source": [
    "results = model_lstm_ml.evaluate(X_test,  y_test, verbose=2)\n",
    "\n",
    "print(results)"
   ]
  },
  {
   "cell_type": "code",
   "execution_count": 20,
   "metadata": {},
   "outputs": [
    {
     "name": "stdout",
     "output_type": "stream",
     "text": [
      "1537/1537 - 3s - loss: 0.9680 - accuracy: 0.8243\n",
      "[0.9680478572845459, 0.824256956577301]\n"
     ]
    }
   ],
   "source": [
    "results = model_cnn.evaluate(X_test,  y_test, verbose=2)\n",
    "\n",
    "print(results)"
   ]
  },
  {
   "cell_type": "markdown",
   "metadata": {},
   "source": [
    "6) Loss, Accuracy 그래프 시각화\n",
    "---"
   ]
  },
  {
   "cell_type": "code",
   "execution_count": 21,
   "metadata": {},
   "outputs": [
    {
     "name": "stdout",
     "output_type": "stream",
     "text": [
      "dict_keys(['loss', 'accuracy', 'val_loss', 'val_accuracy'])\n"
     ]
    },
    {
     "data": {
      "image/png": "[encoded data removed]",
      "text/plain": [
       "<Figure size 432x288 with 1 Axes>"
      ]
     },
     "metadata": {
      "needs_background": "light"
     },
     "output_type": "display_data"
    },
    {
     "data": {
      "image/png": "[encoded data removed]",
      "text/plain": [
       "<Figure size 432x288 with 1 Axes>"
      ]
     },
     "metadata": {
      "needs_background": "light"
     },
     "output_type": "display_data"
    }
   ],
   "source": [
    "# model 1 viz\n",
    "history_dict = history_lstm_sl.history\n",
    "print(history_dict.keys()) # epoch에 따른 그래프를 그려볼 수 있는 항목들\n",
    "\n",
    "import matplotlib.pyplot as plt\n",
    "\n",
    "acc = history_dict['accuracy']\n",
    "val_acc = history_dict['val_accuracy']\n",
    "loss = history_dict['loss']\n",
    "val_loss = history_dict['val_loss']\n",
    "\n",
    "epochs = range(1, len(acc) + 1)\n",
    "\n",
    "plt.plot(epochs, loss, 'bo', label='Training loss')\n",
    "plt.plot(epochs, val_loss, 'b', label='Validation loss')\n",
    "plt.title('Training and validation loss')\n",
    "plt.xlabel('Epochs')\n",
    "plt.ylabel('Loss')\n",
    "plt.legend()\n",
    "\n",
    "plt.show()\n",
    "\n",
    "# accuracy graph\n",
    "plt.clf()   # 그림을 초기화합니다\n",
    "\n",
    "plt.plot(epochs, acc, 'bo', label='Training acc')\n",
    "plt.plot(epochs, val_acc, 'b', label='Validation acc')\n",
    "plt.title('Training and validation accuracy')\n",
    "plt.xlabel('Epochs')\n",
    "plt.ylabel('Accuracy')\n",
    "plt.legend()\n",
    "\n",
    "plt.show()"
   ]
  },
  {
   "cell_type": "code",
   "execution_count": 22,
   "metadata": {},
   "outputs": [
    {
     "name": "stdout",
     "output_type": "stream",
     "text": [
      "dict_keys(['loss', 'accuracy', 'val_loss', 'val_accuracy'])\n"
     ]
    },
    {
     "data": {
      "image/png": "[encoded data removed]",
      "text/plain": [
       "<Figure size 432x288 with 1 Axes>"
      ]
     },
     "metadata": {
      "needs_background": "light"
     },
     "output_type": "display_data"
    },
    {
     "data": {
      "image/png": "[encoded data removed]",
      "text/plain": [
       "<Figure size 432x288 with 1 Axes>"
      ]
     },
     "metadata": {
      "needs_background": "light"
     },
     "output_type": "display_data"
    }
   ],
   "source": [
    "# model 2 viz\n",
    "history_dict = history_lstm_ml.history\n",
    "print(history_dict.keys()) # epoch에 따른 그래프를 그려볼 수 있는 항목들\n",
    "\n",
    "import matplotlib.pyplot as plt\n",
    "\n",
    "acc = history_dict['accuracy']\n",
    "val_acc = history_dict['val_accuracy']\n",
    "loss = history_dict['loss']\n",
    "val_loss = history_dict['val_loss']\n",
    "\n",
    "epochs = range(1, len(acc) + 1)\n",
    "\n",
    "plt.plot(epochs, loss, 'bo', label='Training loss')\n",
    "plt.plot(epochs, val_loss, 'b', label='Validation loss')\n",
    "plt.title('Training and validation loss')\n",
    "plt.xlabel('Epochs')\n",
    "plt.ylabel('Loss')\n",
    "plt.legend()\n",
    "\n",
    "plt.show()\n",
    "\n",
    "# accuracy graph\n",
    "plt.clf()   # 그림을 초기화합니다\n",
    "\n",
    "plt.plot(epochs, acc, 'bo', label='Training acc')\n",
    "plt.plot(epochs, val_acc, 'b', label='Validation acc')\n",
    "plt.title('Training and validation accuracy')\n",
    "plt.xlabel('Epochs')\n",
    "plt.ylabel('Accuracy')\n",
    "plt.legend()\n",
    "\n",
    "plt.show()"
   ]
  },
  {
   "cell_type": "code",
   "execution_count": 23,
   "metadata": {},
   "outputs": [
    {
     "name": "stdout",
     "output_type": "stream",
     "text": [
      "dict_keys(['loss', 'accuracy', 'val_loss', 'val_accuracy'])\n"
     ]
    },
    {
     "data": {
      "image/png": "[encoded data removed]",
      "text/plain": [
       "<Figure size 432x288 with 1 Axes>"
      ]
     },
     "metadata": {
      "needs_background": "light"
     },
     "output_type": "display_data"
    },
    {
     "data": {
      "image/png": "[encoded data removed]",
      "text/plain": [
       "<Figure size 432x288 with 1 Axes>"
      ]
     },
     "metadata": {
      "needs_background": "light"
     },
     "output_type": "display_data"
    }
   ],
   "source": [
    "# model 3 viz\n",
    "history_dict = history_cnn.history\n",
    "print(history_dict.keys()) # epoch에 따른 그래프를 그려볼 수 있는 항목들\n",
    "\n",
    "import matplotlib.pyplot as plt\n",
    "\n",
    "acc = history_dict['accuracy']\n",
    "val_acc = history_dict['val_accuracy']\n",
    "loss = history_dict['loss']\n",
    "val_loss = history_dict['val_loss']\n",
    "\n",
    "epochs = range(1, len(acc) + 1)\n",
    "\n",
    "plt.plot(epochs, loss, 'bo', label='Training loss')\n",
    "plt.plot(epochs, val_loss, 'b', label='Validation loss')\n",
    "plt.title('Training and validation loss')\n",
    "plt.xlabel('Epochs')\n",
    "plt.ylabel('Loss')\n",
    "plt.legend()\n",
    "\n",
    "plt.show()\n",
    "\n",
    "# accuracy graph\n",
    "plt.clf()   # 그림을 초기화합니다\n",
    "\n",
    "plt.plot(epochs, acc, 'bo', label='Training acc')\n",
    "plt.plot(epochs, val_acc, 'b', label='Validation acc')\n",
    "plt.title('Training and validation accuracy')\n",
    "plt.xlabel('Epochs')\n",
    "plt.ylabel('Accuracy')\n",
    "plt.legend()\n",
    "\n",
    "plt.show()"
   ]
  },
  {
   "cell_type": "markdown",
   "metadata": {},
   "source": [
    "train할 때 valication accuracy는 원인 불명의 이유로 epoch 1부터 굉장히 높게 나타났으나, 최종 evaluation과 loss/accuracy 시각화에서 볼 수 있듯 엄청난 과적합을 보이고 있다."
   ]
  },
  {
   "cell_type": "code",
   "execution_count": null,
   "metadata": {},
   "outputs": [],
   "source": []
  },
  {
   "cell_type": "markdown",
   "metadata": {},
   "source": [
    "7) 학습된 Embedding 레이어 분석\n",
    "---"
   ]
  },
  {
   "cell_type": "code",
   "execution_count": 26,
   "metadata": {},
   "outputs": [
    {
     "name": "stdout",
     "output_type": "stream",
     "text": [
      "(10000, 16)\n"
     ]
    }
   ],
   "source": [
    "embedding_layer_sl = model_lstm_sl.layers[0]\n",
    "weights = embedding_layer_sl.get_weights()[0]\n",
    "print(weights.shape)"
   ]
  },
  {
   "cell_type": "code",
   "execution_count": 31,
   "metadata": {},
   "outputs": [],
   "source": [
    "\n",
    "import os\n",
    "\n",
    "# 학습한 Embedding 파라미터를 파일에 써서 저장\n",
    "word2vec_file_path = os.getenv('HOME')+'/aiffel/e/e09_sentiment_classification/word2vec_mdl.txt'\n",
    "f = open(word2vec_file_path, 'w')\n",
    "f.write('{} {}\\n'.format(vocab_size-4, word_vector_dim)) # 몇개의 벡터를 얼마 사이즈로 기재할지 타이틀\n",
    "\n",
    "# 단어 개수(에서 특수문자 4개는 제외하고)만큼의 워드 벡터를 파일에 기록\n",
    "vectors = model_lstm_sl.get_weights()[0]\n",
    "for i in range(4,vocab_size):\n",
    "    f.write('{} {}\\n'.format(index_to_word[i], ' '.join(map(str, list(vectors[i, :])))))\n",
    "f.close()"
   ]
  },
  {
   "cell_type": "code",
   "execution_count": 41,
   "metadata": {},
   "outputs": [],
   "source": [
    "from gensim.models.keyedvectors import Word2VecKeyedVectors\n",
    "\n",
    "word_vectors = Word2VecKeyedVectors.load_word2vec_format(word2vec_file_path, binary=False)\n",
    "vector = word_vectors['비추']"
   ]
  },
  {
   "cell_type": "code",
   "execution_count": 43,
   "metadata": {},
   "outputs": [
    {
     "data": {
      "text/plain": [
       "[('진출', 0.9831271171569824),\n",
       " ('.-_-', 0.9774754047393799),\n",
       " ('요란', 0.9741014242172241),\n",
       " ('지진희', 0.9737154841423035),\n",
       " ('별로', 0.9736986756324768),\n",
       " ('삼류', 0.972091555595398),\n",
       " ('쎄', 0.9711558818817139),\n",
       " ('광주', 0.9708691835403442),\n",
       " ('고은', 0.9706121683120728),\n",
       " ('마감', 0.9701137542724609)]"
      ]
     },
     "execution_count": 43,
     "metadata": {},
     "output_type": "execute_result"
    }
   ],
   "source": [
    "word_vectors.similar_by_word(\"비추\")"
   ]
  },
  {
   "cell_type": "markdown",
   "metadata": {},
   "source": [
    "요란, 별로, 삼류, 쎄, -_- 의 경우 비추와 어느정도 일백상통하는 부분이 있으나, 나머지 반 절 정도는 크게 연관성이 없는 단어들이 나온다."
   ]
  },
  {
   "cell_type": "code",
   "execution_count": null,
   "metadata": {},
   "outputs": [],
   "source": []
  },
  {
   "cell_type": "code",
   "execution_count": null,
   "metadata": {},
   "outputs": [],
   "source": []
  },
  {
   "cell_type": "markdown",
   "metadata": {},
   "source": [
    "8) 한국어 Word2Vec 임베딩 활용하여 성능개선\n",
    "---\n",
    "한국어 Word2Vec은 다음 경로에서 구할 수 있습니다.\n",
    "\n",
    "[https://github.com/Kyubyong/wordvectors](https://github.com/Kyubyong/wordvectors)"
   ]
  },
  {
   "cell_type": "code",
   "execution_count": 68,
   "metadata": {},
   "outputs": [],
   "source": [
    "import os\n",
    "from gensim.models import Word2Vec\n",
    "word2vec_path = os.getenv('HOME')+'/aiffel/e/e09_sentiment_classification/ko.bin'\n",
    "word2vec = Word2Vec.load(word2vec_path)\n"
   ]
  },
  {
   "cell_type": "code",
   "execution_count": 69,
   "metadata": {},
   "outputs": [
    {
     "name": "stderr",
     "output_type": "stream",
     "text": [
      "/home/aiffel/anaconda3/envs/aiffel/lib/python3.7/site-packages/ipykernel_launcher.py:1: DeprecationWarning: Call to deprecated `__getitem__` (Method will be removed in 4.0.0, use self.wv.__getitem__() instead).\n",
      "  \"\"\"Entry point for launching an IPython kernel.\n"
     ]
    },
    {
     "data": {
      "text/plain": [
       "array([-1.2688204e+00,  7.2831303e-02,  1.5410466e+00, -2.5209320e+00,\n",
       "       -2.2645350e+00, -1.5054817e+00, -7.3957473e-01, -1.0565723e+00,\n",
       "       -2.5180078e-01,  5.4651266e-01, -5.5514979e-01,  1.2088622e+00,\n",
       "       -4.7946307e-01,  1.0605360e+00,  9.5630324e-01,  8.8516586e-02,\n",
       "        1.2337055e+00,  1.1253619e+00,  8.0036157e-01, -1.0140282e-01,\n",
       "       -1.1313665e-01,  1.1483444e+00,  9.3304688e-01, -1.9328059e-01,\n",
       "       -8.9080340e-01, -6.4032012e-01,  1.8932133e+00, -7.8205168e-01,\n",
       "        2.1653469e+00, -1.7457186e+00,  1.0051081e+00,  1.7423613e+00,\n",
       "        8.3922619e-01, -2.3134775e+00, -1.8840551e-01, -4.0168213e-04,\n",
       "        2.3796055e+00, -6.0823435e-01,  1.2035240e-01,  2.3364635e+00,\n",
       "        8.7249249e-02,  2.5360435e-01,  7.7154332e-01, -9.8451585e-01,\n",
       "       -1.9866817e+00,  3.7494394e-01,  1.2140424e+00, -2.1211729e+00,\n",
       "       -1.2539545e+00, -1.2437435e+00,  6.1716378e-01, -1.4478788e-01,\n",
       "        4.5748836e-01, -3.7543765e-01, -1.1743722e+00, -7.3559976e-01,\n",
       "        1.5851252e+00, -1.0510743e-01,  2.1525743e+00, -5.3067255e-01,\n",
       "        2.0253911e+00,  3.7301120e-01, -2.0629041e+00,  1.5796155e+00,\n",
       "       -5.3821468e-01,  2.2961202e-01, -1.5797195e+00, -1.1250182e+00,\n",
       "        1.3706578e-01, -1.0783985e+00,  8.5320793e-02, -1.2273426e+00,\n",
       "       -8.4927343e-02,  2.7455333e-01, -7.3396003e-01, -4.2253563e-01,\n",
       "        1.7782858e-01,  7.4563313e-01, -4.0503502e-01, -1.9675058e+00,\n",
       "       -4.2716819e-01, -2.8855627e+00,  2.5571507e-01,  1.6677997e+00,\n",
       "       -1.3257152e+00,  9.7930908e-01, -2.4143558e+00,  3.7025833e-01,\n",
       "       -1.4782006e+00, -7.3587912e-01,  1.1180807e-01, -1.5375429e+00,\n",
       "        6.0990560e-01,  2.0124478e+00, -2.8024604e+00, -2.4352970e+00,\n",
       "       -2.4607766e+00, -1.1043712e+00, -9.2814213e-01, -1.0110959e+00,\n",
       "        2.0210315e-01, -2.2838737e-01,  7.1677411e-01, -1.1079171e+00,\n",
       "        7.8746796e-01,  1.1931003e+00, -1.7775337e+00,  1.4735658e+00,\n",
       "       -6.1867052e-01,  1.7451261e+00,  6.3099766e-01,  1.3118167e+00,\n",
       "       -2.1139190e+00, -7.3448586e-01,  6.9161874e-01, -1.2956458e+00,\n",
       "        9.4160491e-01,  2.8497720e-01, -9.6972239e-01, -1.0177811e+00,\n",
       "       -7.5867468e-01, -5.4028153e-01, -1.4868257e+00, -5.8528817e-01,\n",
       "        1.9528011e+00,  1.2203041e+00,  1.4771757e+00, -1.0825927e+00,\n",
       "       -6.1012346e-01, -1.4410975e+00, -1.9702727e-01,  1.2544049e+00,\n",
       "        8.6842674e-01, -6.9587994e-01, -7.5909483e-01, -1.6421421e-01,\n",
       "        3.8936907e-01, -1.1064527e+00,  1.4361523e+00,  3.4329298e+00,\n",
       "        4.5968506e-01, -4.8400697e-01, -1.6694995e+00,  1.7646387e+00,\n",
       "       -9.6767992e-01,  2.1848099e+00,  3.8888344e-01, -4.2054027e-02,\n",
       "        1.6220390e+00,  1.6331734e-02, -1.1455725e+00, -1.7043028e+00,\n",
       "        1.3401425e+00,  3.3644834e-01,  3.8444612e-02,  1.2720625e+00,\n",
       "       -2.5422561e+00, -2.2648795e+00,  2.8771982e+00, -2.0549932e+00,\n",
       "       -1.0240482e+00, -2.0155427e-01, -4.2424764e-02,  8.6512703e-01,\n",
       "       -5.9573519e-01,  5.6805325e-01,  1.6868877e+00,  3.9205992e-01,\n",
       "       -1.9426811e+00, -1.1490891e+00,  1.3945385e+00, -4.4701058e-01,\n",
       "        2.2348767e-02, -1.9439545e+00,  2.7502882e-01, -6.8221921e-01,\n",
       "       -9.6621048e-01, -3.2698178e-01,  5.6198877e-01, -5.4185897e-01,\n",
       "        3.9490160e-02, -2.0130949e+00, -1.3188566e+00, -1.9683919e+00,\n",
       "        1.4927784e+00,  2.2787185e-01,  5.4090428e-01, -3.3761635e-01,\n",
       "       -4.2094111e-01,  1.0304168e+00,  7.5299877e-01, -2.5011971e+00,\n",
       "       -1.4365605e+00, -2.4492407e+00,  1.1335417e+00,  8.1850100e-01,\n",
       "        1.5327430e+00,  1.5796436e+00, -7.7260655e-01,  1.4621387e+00],\n",
       "      dtype=float32)"
      ]
     },
     "execution_count": 69,
     "metadata": {},
     "output_type": "execute_result"
    }
   ],
   "source": [
    "vector = word2vec['비추']\n",
    "vector"
   ]
  },
  {
   "cell_type": "code",
   "execution_count": 70,
   "metadata": {},
   "outputs": [
    {
     "name": "stderr",
     "output_type": "stream",
     "text": [
      "/home/aiffel/anaconda3/envs/aiffel/lib/python3.7/site-packages/ipykernel_launcher.py:1: DeprecationWarning: Call to deprecated `__getitem__` (Method will be removed in 4.0.0, use self.wv.__getitem__() instead).\n",
      "  \"\"\"Entry point for launching an IPython kernel.\n"
     ]
    },
    {
     "data": {
      "text/plain": [
       "200"
      ]
     },
     "execution_count": 70,
     "metadata": {},
     "output_type": "execute_result"
    }
   ],
   "source": [
    "len(word2vec['비추'])"
   ]
  },
  {
   "cell_type": "code",
   "execution_count": 71,
   "metadata": {},
   "outputs": [
    {
     "name": "stderr",
     "output_type": "stream",
     "text": [
      "/home/aiffel/anaconda3/envs/aiffel/lib/python3.7/site-packages/ipykernel_launcher.py:8: DeprecationWarning: Call to deprecated `__contains__` (Method will be removed in 4.0.0, use self.wv.__contains__() instead).\n",
      "  \n",
      "/home/aiffel/anaconda3/envs/aiffel/lib/python3.7/site-packages/ipykernel_launcher.py:9: DeprecationWarning: Call to deprecated `__getitem__` (Method will be removed in 4.0.0, use self.wv.__getitem__() instead).\n",
      "  if __name__ == '__main__':\n"
     ]
    }
   ],
   "source": [
    "vocab_size = 10000    # 어휘 사전의 크기입니다(10,000개의 단어)\n",
    "word_vector_dim = 200  # 워드 벡터의 차원수 (변경가능한 하이퍼파라미터)\n",
    "\n",
    "embedding_matrix = np.random.rand(vocab_size, word_vector_dim)\n",
    "\n",
    "# embedding_matrix에 Word2Vec 워드벡터를 단어 하나씩마다 차례차례 카피한다.\n",
    "for i in range(4,vocab_size):\n",
    "    if index_to_word[i] in word2vec:\n",
    "        embedding_matrix[i] = word2vec[index_to_word[i]]"
   ]
  },
  {
   "cell_type": "code",
   "execution_count": 72,
   "metadata": {},
   "outputs": [
    {
     "data": {
      "text/plain": [
       "(10000, 200)"
      ]
     },
     "execution_count": 72,
     "metadata": {},
     "output_type": "execute_result"
    }
   ],
   "source": [
    "embedding_matrix.shape"
   ]
  },
  {
   "cell_type": "code",
   "execution_count": 75,
   "metadata": {},
   "outputs": [
    {
     "name": "stdout",
     "output_type": "stream",
     "text": [
      "Model: \"sequential_4\"\n",
      "_________________________________________________________________\n",
      "Layer (type)                 Output Shape              Param #   \n",
      "=================================================================\n",
      "embedding_7 (Embedding)      (None, 41, 200)           2000000   \n",
      "_________________________________________________________________\n",
      "lstm_7 (LSTM)                (None, 16)                13888     \n",
      "_________________________________________________________________\n",
      "dense_14 (Dense)             (None, 8)                 136       \n",
      "_________________________________________________________________\n",
      "dense_15 (Dense)             (None, 1)                 9         \n",
      "=================================================================\n",
      "Total params: 2,014,033\n",
      "Trainable params: 2,014,033\n",
      "Non-trainable params: 0\n",
      "_________________________________________________________________\n"
     ]
    }
   ],
   "source": [
    "\n",
    "from tensorflow.keras.initializers import Constant\n",
    "\n",
    "vocab_size = 10000  \n",
    "word_vector_dim = 200 \n",
    "\n",
    "# 모델 구성\n",
    "model = keras.Sequential()\n",
    "model.add(keras.layers.Embedding(vocab_size, \n",
    "                                 word_vector_dim, \n",
    "                                 embeddings_initializer=Constant(embedding_matrix),  # 카피한 임베딩을 여기서 활용\n",
    "                                 input_length=maxlen, \n",
    "                                 trainable=True))   # trainable을 True로 주면 Fine-tuning\n",
    "model.add(keras.layers.LSTM(16,dropout=0.7))\n",
    "model.add(keras.layers.Dense(8, activation='relu'))\n",
    "model.add(keras.layers.Dense(1, activation='sigmoid'))\n",
    "\n",
    "model.summary()"
   ]
  },
  {
   "cell_type": "code",
   "execution_count": 76,
   "metadata": {},
   "outputs": [
    {
     "name": "stdout",
     "output_type": "stream",
     "text": [
      "Epoch 1/16\n",
      "266/266 [==============================] - 5s 19ms/step - loss: 0.6932 - accuracy: 0.5003 - val_loss: 0.6918 - val_accuracy: 0.5070\n",
      "Epoch 2/16\n",
      "266/266 [==============================] - 5s 20ms/step - loss: 0.6924 - accuracy: 0.5031 - val_loss: 0.6909 - val_accuracy: 0.5129\n",
      "Epoch 3/16\n",
      "266/266 [==============================] - 5s 19ms/step - loss: 0.6912 - accuracy: 0.5114 - val_loss: 0.6800 - val_accuracy: 0.5774\n",
      "Epoch 4/16\n",
      "266/266 [==============================] - 5s 19ms/step - loss: 0.6074 - accuracy: 0.6750 - val_loss: 0.4955 - val_accuracy: 0.7693\n",
      "Epoch 5/16\n",
      "266/266 [==============================] - 5s 19ms/step - loss: 0.5010 - accuracy: 0.7594 - val_loss: 0.4418 - val_accuracy: 0.7976\n",
      "Epoch 6/16\n",
      "266/266 [==============================] - 5s 19ms/step - loss: 0.4584 - accuracy: 0.7858 - val_loss: 0.3972 - val_accuracy: 0.8259\n",
      "Epoch 7/16\n",
      "266/266 [==============================] - 5s 19ms/step - loss: 0.4282 - accuracy: 0.8041 - val_loss: 0.3792 - val_accuracy: 0.8369\n",
      "Epoch 8/16\n",
      "266/266 [==============================] - 5s 19ms/step - loss: 0.4125 - accuracy: 0.8127 - val_loss: 0.3648 - val_accuracy: 0.8427\n",
      "Epoch 9/16\n",
      "266/266 [==============================] - 5s 19ms/step - loss: 0.3972 - accuracy: 0.8218 - val_loss: 0.3565 - val_accuracy: 0.8473\n",
      "Epoch 10/16\n",
      "266/266 [==============================] - 5s 20ms/step - loss: 0.3871 - accuracy: 0.8269 - val_loss: 0.3495 - val_accuracy: 0.8500\n",
      "Epoch 11/16\n",
      "266/266 [==============================] - 5s 19ms/step - loss: 0.3753 - accuracy: 0.8325 - val_loss: 0.3493 - val_accuracy: 0.8497\n",
      "Epoch 12/16\n",
      "266/266 [==============================] - 5s 19ms/step - loss: 0.3701 - accuracy: 0.8356 - val_loss: 0.3424 - val_accuracy: 0.8518\n",
      "Epoch 13/16\n",
      "266/266 [==============================] - 5s 19ms/step - loss: 0.3632 - accuracy: 0.8397 - val_loss: 0.3402 - val_accuracy: 0.8515\n",
      "Epoch 14/16\n",
      "266/266 [==============================] - 5s 19ms/step - loss: 0.3584 - accuracy: 0.8416 - val_loss: 0.3394 - val_accuracy: 0.8530\n",
      "Epoch 15/16\n",
      "266/266 [==============================] - 5s 19ms/step - loss: 0.3521 - accuracy: 0.8452 - val_loss: 0.3404 - val_accuracy: 0.8554\n",
      "Epoch 16/16\n",
      "266/266 [==============================] - 5s 19ms/step - loss: 0.3497 - accuracy: 0.8448 - val_loss: 0.3374 - val_accuracy: 0.8553\n"
     ]
    }
   ],
   "source": [
    "model.compile(optimizer='adam',\n",
    "              loss='binary_crossentropy',\n",
    "              metrics=['accuracy'])\n",
    "              \n",
    "epochs=16  # 몇 epoch를 훈련하면 좋을지 결과를 보면서 바꾸어 봅시다. \n",
    "\n",
    "history_w2v = model.fit(partial_x_train,\n",
    "                    partial_y_train,\n",
    "                    epochs=epochs,\n",
    "                    batch_size=512,\n",
    "                    validation_data=(x_val, y_val),\n",
    "                    verbose=1)"
   ]
  },
  {
   "cell_type": "code",
   "execution_count": 77,
   "metadata": {},
   "outputs": [
    {
     "name": "stdout",
     "output_type": "stream",
     "text": [
      "1537/1537 - 2s - loss: 0.3491 - accuracy: 0.8510\n",
      "[0.3491351008415222, 0.8509876728057861]\n"
     ]
    }
   ],
   "source": [
    "# model evaluation\n",
    "results = model.evaluate(X_test,  y_test, verbose=2)\n",
    "\n",
    "print(results)"
   ]
  },
  {
   "cell_type": "markdown",
   "metadata": {},
   "source": [
    "loss/accuracy 측정 및 성능 리뷰"
   ]
  },
  {
   "cell_type": "code",
   "execution_count": 78,
   "metadata": {},
   "outputs": [
    {
     "name": "stdout",
     "output_type": "stream",
     "text": [
      "dict_keys(['loss', 'accuracy', 'val_loss', 'val_accuracy'])\n"
     ]
    },
    {
     "data": {
      "image/png": "[encoded data removed]",
      "text/plain": [
       "<Figure size 432x288 with 1 Axes>"
      ]
     },
     "metadata": {
      "needs_background": "light"
     },
     "output_type": "display_data"
    },
    {
     "data": {
      "image/png": "[encoded data removed]",
      "text/plain": [
       "<Figure size 432x288 with 1 Axes>"
      ]
     },
     "metadata": {
      "needs_background": "light"
     },
     "output_type": "display_data"
    }
   ],
   "source": [
    "# model 3 viz\n",
    "history_dict = history_w2v.history\n",
    "print(history_dict.keys()) # epoch에 따른 그래프를 그려볼 수 있는 항목들\n",
    "\n",
    "import matplotlib.pyplot as plt\n",
    "\n",
    "acc = history_dict['accuracy']\n",
    "val_acc = history_dict['val_accuracy']\n",
    "loss = history_dict['loss']\n",
    "val_loss = history_dict['val_loss']\n",
    "\n",
    "epochs = range(1, len(acc) + 1)\n",
    "\n",
    "plt.plot(epochs, loss, 'bo', label='Training loss')\n",
    "plt.plot(epochs, val_loss, 'b', label='Validation loss')\n",
    "plt.title('Training and validation loss')\n",
    "plt.xlabel('Epochs')\n",
    "plt.ylabel('Loss')\n",
    "plt.legend()\n",
    "\n",
    "plt.show()\n",
    "\n",
    "# accuracy graph\n",
    "plt.clf()   # 그림을 초기화합니다\n",
    "\n",
    "plt.plot(epochs, acc, 'bo', label='Training acc')\n",
    "plt.plot(epochs, val_acc, 'b', label='Validation acc')\n",
    "plt.title('Training and validation accuracy')\n",
    "plt.xlabel('Epochs')\n",
    "plt.ylabel('Accuracy')\n",
    "plt.legend()\n",
    "\n",
    "plt.show()"
   ]
  },
  {
   "cell_type": "markdown",
   "metadata": {},
   "source": [
    "위의 세 모델(단일 lstm, 다층 lstm, cnn) 모두 epoch 1부터 높은 validation accuracy를 보였으나 loss가 매우 높고 과소적합이 나타났던 반면, 한국어 w2v 임베딩을 활용한 결과 0.85가 넘는 accuracy를 보였으며, loss와 accuracy 측면에서도 과적합 되는 일 없이 두 그래프간 격차가 크지 않은 것을 확인할 수 있다."
   ]
  }
 ],
 "metadata": {
  "kernelspec": {
   "display_name": "aiffel",
   "language": "python",
   "name": "aiffel"
  },
  "language_info": {
   "codemirror_mode": {
    "name": "ipython",
    "version": 3
   },
   "file_extension": ".py",
   "mimetype": "text/x-python",
   "name": "python",
   "nbconvert_exporter": "python",
   "pygments_lexer": "ipython3",
   "version": "3.7.6"
  }
 },
 "nbformat": 4,
 "nbformat_minor": 4
}

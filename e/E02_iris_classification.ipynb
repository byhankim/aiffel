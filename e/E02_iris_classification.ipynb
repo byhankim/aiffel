{
 "cells": [
  {
   "cell_type": "code",
   "execution_count": 43,
   "metadata": {},
   "outputs": [],
   "source": [
    "# 2-10 여러 데이터셋 뜯어보기"
   ]
  },
  {
   "cell_type": "code",
   "execution_count": 44,
   "metadata": {},
   "outputs": [],
   "source": [
    "import pandas as pd\n",
    "from sklearn.model_selection import train_test_split\n",
    "\n"
   ]
  },
  {
   "cell_type": "markdown",
   "metadata": {},
   "source": [
    "### 2-11. 프로젝트(1) load_digits: 손글씨 분류하기\n",
    "---\n",
    "- Feature Data 지정하기\n",
    "- Label Data 지정하기\n",
    "- Target Names 출력해 보기\n",
    "- 데이터 Describe 해 보기\n",
    "---\n",
    "1. module import\n",
    "2. data prepare\n",
    "3. understainding of data\n",
    "4. train, test split\n",
    "5. train data with various models\n",
    "---\n",
    "- decision tree\n",
    "- random forest\n",
    "- svm\n",
    "- sgd classifier\n",
    "- logistic regression\n",
    "6. evaluate model"
   ]
  },
  {
   "cell_type": "code",
   "execution_count": 45,
   "metadata": {},
   "outputs": [],
   "source": [
    "from sklearn.datasets import load_digits\n",
    "from sklearn.model_selection import train_test_split\n",
    "from sklearn.metrics import classification_report\n",
    "from sklearn.metrics import accuracy_score"
   ]
  },
  {
   "cell_type": "code",
   "execution_count": 46,
   "metadata": {},
   "outputs": [
    {
     "name": "stdout",
     "output_type": "stream",
     "text": [
      "              precision    recall  f1-score   support\n",
      "\n",
      "           0       1.00      0.89      0.94        38\n",
      "           1       0.75      0.83      0.79        36\n",
      "           2       0.75      0.84      0.79        32\n",
      "           3       0.92      0.86      0.89        56\n",
      "           4       0.85      0.90      0.88        31\n",
      "           5       0.92      0.97      0.95        36\n",
      "           6       0.97      0.94      0.96        34\n",
      "           7       0.94      0.88      0.91        34\n",
      "           8       0.88      0.78      0.82        27\n",
      "           9       0.79      0.83      0.81        36\n",
      "\n",
      "    accuracy                           0.88       360\n",
      "   macro avg       0.88      0.87      0.87       360\n",
      "weighted avg       0.88      0.88      0.88       360\n",
      "\n",
      "0.875\n"
     ]
    }
   ],
   "source": [
    "# decision tree\n",
    "from sklearn.tree import DecisionTreeClassifier\n",
    "\n",
    "# data prepare\n",
    "digits = load_digits()\n",
    "digits_data = digits.data\n",
    "digits_label = digits.target\n",
    "\n",
    "# data isolation\n",
    "x_train, x_test, y_train, y_test = train_test_split(digits_data,\n",
    "                                                   digits_label,\n",
    "                                                   test_size=0.2,\n",
    "                                                   random_state=32)\n",
    "\n",
    "# model train & predict\n",
    "dst_model = DecisionTreeClassifier(random_state=32)\n",
    "dst_model.fit(x_train, y_train)\n",
    "y_pred = dst_model.predict(x_test)\n",
    "\n",
    "accuracy = accuracy_score(y_test, y_pred)\n",
    "\n",
    "print(classification_report(y_test, y_pred))\n",
    "print(accuracy)\n"
   ]
  },
  {
   "cell_type": "code",
   "execution_count": 47,
   "metadata": {},
   "outputs": [
    {
     "name": "stdout",
     "output_type": "stream",
     "text": [
      "              precision    recall  f1-score   support\n",
      "\n",
      "           0       1.00      1.00      1.00        38\n",
      "           1       0.97      1.00      0.99        36\n",
      "           2       0.97      1.00      0.98        32\n",
      "           3       1.00      1.00      1.00        56\n",
      "           4       1.00      0.97      0.98        31\n",
      "           5       1.00      0.97      0.99        36\n",
      "           6       1.00      1.00      1.00        34\n",
      "           7       0.97      1.00      0.99        34\n",
      "           8       0.96      0.89      0.92        27\n",
      "           9       0.97      1.00      0.99        36\n",
      "\n",
      "    accuracy                           0.99       360\n",
      "   macro avg       0.98      0.98      0.98       360\n",
      "weighted avg       0.99      0.99      0.99       360\n",
      "\n",
      "0.9861111111111112\n"
     ]
    }
   ],
   "source": [
    "# randomforest\n",
    "from sklearn.ensemble import RandomForestClassifier\n",
    "\n",
    "# digits = load_digits()\n",
    "# digits_data = digits.data\n",
    "# digits_label = digits.target\n",
    "\n",
    "x_train, x_test, y_train, y_test = train_test_split(digits_data,\n",
    "                                                   digits_label,\n",
    "                                                   test_size=0.2,\n",
    "                                                   random_state=32)\n",
    "\n",
    "rf = RandomForestClassifier(random_state=32)\n",
    "rf.fit(x_train, y_train)\n",
    "y_pred = rf.predict(x_test)\n",
    "\n",
    "print(classification_report(y_test, y_pred))\n",
    "print(accuracy_score(y_test, y_pred))\n"
   ]
  },
  {
   "cell_type": "code",
   "execution_count": 48,
   "metadata": {},
   "outputs": [
    {
     "name": "stdout",
     "output_type": "stream",
     "text": [
      "              precision    recall  f1-score   support\n",
      "\n",
      "           0       1.00      1.00      1.00        38\n",
      "           1       1.00      1.00      1.00        36\n",
      "           2       1.00      1.00      1.00        32\n",
      "           3       1.00      1.00      1.00        56\n",
      "           4       1.00      0.97      0.98        31\n",
      "           5       1.00      0.97      0.99        36\n",
      "           6       1.00      1.00      1.00        34\n",
      "           7       1.00      1.00      1.00        34\n",
      "           8       1.00      1.00      1.00        27\n",
      "           9       0.95      1.00      0.97        36\n",
      "\n",
      "    accuracy                           0.99       360\n",
      "   macro avg       0.99      0.99      0.99       360\n",
      "weighted avg       0.99      0.99      0.99       360\n",
      "\n",
      "0.9944444444444445\n"
     ]
    }
   ],
   "source": [
    "# svm\n",
    "from sklearn import svm\n",
    "# sgd\n",
    "# logistic\n",
    "\n",
    "# digits = load_digits()\n",
    "# digits_data = digits.data\n",
    "# digits_label = digits.target\n",
    "\n",
    "x_train, x_test, y_train, y_test = train_test_split(digits_data,\n",
    "                                                   digits_label,\n",
    "                                                   test_size=0.2,\n",
    "                                                   random_state=32)\n",
    "\n",
    "svm = svm.SVC()\n",
    "svm.fit(x_train, y_train)\n",
    "y_pred = svm.predict(x_test)\n",
    "\n",
    "print(classification_report(y_test, y_pred))\n",
    "print(accuracy_score(y_test, y_pred))\n"
   ]
  },
  {
   "cell_type": "code",
   "execution_count": 49,
   "metadata": {},
   "outputs": [
    {
     "name": "stdout",
     "output_type": "stream",
     "text": [
      "              precision    recall  f1-score   support\n",
      "\n",
      "           0       1.00      0.89      0.94        38\n",
      "           1       1.00      0.92      0.96        36\n",
      "           2       0.97      1.00      0.98        32\n",
      "           3       0.98      0.95      0.96        56\n",
      "           4       1.00      0.97      0.98        31\n",
      "           5       0.85      0.97      0.91        36\n",
      "           6       1.00      1.00      1.00        34\n",
      "           7       1.00      1.00      1.00        34\n",
      "           8       0.93      1.00      0.96        27\n",
      "           9       0.95      1.00      0.97        36\n",
      "\n",
      "    accuracy                           0.97       360\n",
      "   macro avg       0.97      0.97      0.97       360\n",
      "weighted avg       0.97      0.97      0.97       360\n",
      "\n",
      "0.9666666666666667\n"
     ]
    }
   ],
   "source": [
    "# sgd\n",
    "from sklearn.linear_model import SGDClassifier\n",
    "# logistic\n",
    "\n",
    "# digits = load_digits()\n",
    "# digits_data = digits.data\n",
    "# digits_label = digits.target\n",
    "\n",
    "x_train, x_test, y_train, y_test = train_test_split(digits_data,\n",
    "                                                   digits_label,\n",
    "                                                   test_size=0.2,\n",
    "                                                   random_state=32)\n",
    "\n",
    "sgd = SGDClassifier()\n",
    "sgd.fit(x_train, y_train)\n",
    "y_pred = sgd.predict(x_test)\n",
    "\n",
    "print(classification_report(y_test, y_pred))\n",
    "print(accuracy_score(y_test, y_pred))"
   ]
  },
  {
   "cell_type": "code",
   "execution_count": 50,
   "metadata": {},
   "outputs": [
    {
     "name": "stdout",
     "output_type": "stream",
     "text": [
      "              precision    recall  f1-score   support\n",
      "\n",
      "           0       1.00      0.95      0.97        38\n",
      "           1       0.95      0.97      0.96        36\n",
      "           2       1.00      0.97      0.98        32\n",
      "           3       1.00      0.98      0.99        56\n",
      "           4       1.00      0.97      0.98        31\n",
      "           5       0.94      0.92      0.93        36\n",
      "           6       1.00      1.00      1.00        34\n",
      "           7       1.00      0.97      0.99        34\n",
      "           8       0.96      1.00      0.98        27\n",
      "           9       0.88      1.00      0.94        36\n",
      "\n",
      "    accuracy                           0.97       360\n",
      "   macro avg       0.97      0.97      0.97       360\n",
      "weighted avg       0.97      0.97      0.97       360\n",
      "\n",
      "0.9722222222222222\n"
     ]
    },
    {
     "name": "stderr",
     "output_type": "stream",
     "text": [
      "/home/aiffel/anaconda3/envs/aiffel/lib/python3.7/site-packages/sklearn/linear_model/_logistic.py:764: ConvergenceWarning: lbfgs failed to converge (status=1):\n",
      "STOP: TOTAL NO. of ITERATIONS REACHED LIMIT.\n",
      "\n",
      "Increase the number of iterations (max_iter) or scale the data as shown in:\n",
      "    https://scikit-learn.org/stable/modules/preprocessing.html\n",
      "Please also refer to the documentation for alternative solver options:\n",
      "    https://scikit-learn.org/stable/modules/linear_model.html#logistic-regression\n",
      "  extra_warning_msg=_LOGISTIC_SOLVER_CONVERGENCE_MSG)\n"
     ]
    }
   ],
   "source": [
    "# logistic\n",
    "from sklearn.linear_model import LogisticRegression\n",
    "\n",
    "digits = load_digits()\n",
    "digits_data = digits.data\n",
    "digits_label = digits.target\n",
    "\n",
    "x_train, x_test, y_train, y_test = train_test_split(digits_data,\n",
    "                                                   digits_label,\n",
    "                                                   test_size=0.2,\n",
    "                                                   random_state=32)\n",
    "\n",
    "lr = LogisticRegression() # max_iter=500\n",
    "lr.fit(x_train, y_train)\n",
    "y_pred = lr.predict(x_test)\n",
    "\n",
    "print(classification_report(y_test, y_pred))\n",
    "print(accuracy_score(y_test, y_pred))\n"
   ]
  },
  {
   "cell_type": "code",
   "execution_count": null,
   "metadata": {},
   "outputs": [],
   "source": []
  },
  {
   "cell_type": "code",
   "execution_count": null,
   "metadata": {},
   "outputs": [],
   "source": []
  },
  {
   "cell_type": "markdown",
   "metadata": {},
   "source": [
    "### 2-11 프로젝트(2) - wine data 분류하기"
   ]
  },
  {
   "cell_type": "code",
   "execution_count": 51,
   "metadata": {},
   "outputs": [],
   "source": [
    "from sklearn.datasets import load_wine\n",
    "\n",
    "from sklearn.model_selection import train_test_split\n",
    "from sklearn.metrics import classification_report\n",
    "from sklearn.metrics import accuracy_score"
   ]
  },
  {
   "cell_type": "code",
   "execution_count": 52,
   "metadata": {},
   "outputs": [],
   "source": [
    "wine = load_wine()\n",
    "wine_data = wine.data\n",
    "wine_label = wine.target"
   ]
  },
  {
   "cell_type": "code",
   "execution_count": 53,
   "metadata": {},
   "outputs": [],
   "source": [
    "x_train, x_test, y_train, y_test = train_test_split(wine_data,\n",
    "                                                   wine_label,\n",
    "                                                   test_size=0.2,\n",
    "                                                   random_state=32)"
   ]
  },
  {
   "cell_type": "code",
   "execution_count": 54,
   "metadata": {},
   "outputs": [
    {
     "name": "stdout",
     "output_type": "stream",
     "text": [
      "              precision    recall  f1-score   support\n",
      "\n",
      "           0       0.94      1.00      0.97        16\n",
      "           1       0.89      0.80      0.84        10\n",
      "           2       0.90      0.90      0.90        10\n",
      "\n",
      "    accuracy                           0.92        36\n",
      "   macro avg       0.91      0.90      0.90        36\n",
      "weighted avg       0.92      0.92      0.91        36\n",
      "\n",
      "0.9166666666666666\n"
     ]
    }
   ],
   "source": [
    "# decision tree\n",
    "from sklearn.tree import DecisionTreeClassifier\n",
    "\n",
    "dst_model = DecisionTreeClassifier(random_state=32)\n",
    "dst_model.fit(x_train, y_train)\n",
    "y_pred = dst_model.predict(x_test)\n",
    "\n",
    "print(classification_report(y_test, y_pred))\n",
    "print(accuracy_score(y_test, y_pred))"
   ]
  },
  {
   "cell_type": "code",
   "execution_count": 55,
   "metadata": {},
   "outputs": [
    {
     "name": "stdout",
     "output_type": "stream",
     "text": [
      "              precision    recall  f1-score   support\n",
      "\n",
      "           0       1.00      1.00      1.00        16\n",
      "           1       1.00      0.90      0.95        10\n",
      "           2       0.91      1.00      0.95        10\n",
      "\n",
      "    accuracy                           0.97        36\n",
      "   macro avg       0.97      0.97      0.97        36\n",
      "weighted avg       0.97      0.97      0.97        36\n",
      "\n",
      "0.9722222222222222\n"
     ]
    }
   ],
   "source": [
    "# randomforest\n",
    "x_train, x_test, y_train, y_test = train_test_split(wine_data,\n",
    "                                                   wine_label,\n",
    "                                                   test_size=0.2,\n",
    "                                                   random_state=32)\n",
    "\n",
    "from sklearn.ensemble import RandomForestClassifier\n",
    "rf_model = RandomForestClassifier(random_state=32)\n",
    "rf_model.fit(x_train, y_train)\n",
    "y_pred=rf_model.predict(x_test)\n",
    "\n",
    "print(classification_report(y_test, y_pred))\n",
    "print(accuracy_score(y_test, y_pred))"
   ]
  },
  {
   "cell_type": "code",
   "execution_count": 56,
   "metadata": {},
   "outputs": [
    {
     "name": "stdout",
     "output_type": "stream",
     "text": [
      "              precision    recall  f1-score   support\n",
      "\n",
      "           0       0.93      0.81      0.87        16\n",
      "           1       0.41      0.90      0.56        10\n",
      "           2       0.00      0.00      0.00        10\n",
      "\n",
      "    accuracy                           0.61        36\n",
      "   macro avg       0.45      0.57      0.48        36\n",
      "weighted avg       0.53      0.61      0.54        36\n",
      "\n",
      "0.6111111111111112\n"
     ]
    },
    {
     "name": "stderr",
     "output_type": "stream",
     "text": [
      "/home/aiffel/anaconda3/envs/aiffel/lib/python3.7/site-packages/sklearn/metrics/_classification.py:1221: UndefinedMetricWarning: Precision and F-score are ill-defined and being set to 0.0 in labels with no predicted samples. Use `zero_division` parameter to control this behavior.\n",
      "  _warn_prf(average, modifier, msg_start, len(result))\n"
     ]
    }
   ],
   "source": [
    "# svm\n",
    "x_train, x_test, y_train, y_test = train_test_split(wine_data,\n",
    "                                                   wine_label,\n",
    "                                                   test_size=0.2,\n",
    "                                                   random_state=32)\n",
    "\n",
    "from sklearn import svm\n",
    "svm_model = svm.SVC()\n",
    "svm_model.fit(x_train,y_train)\n",
    "y_pred = svm_model.predict(x_test)\n",
    "\n",
    "print(classification_report(y_test, y_pred))\n",
    "print(accuracy_score(y_test, y_pred))"
   ]
  },
  {
   "cell_type": "code",
   "execution_count": 57,
   "metadata": {},
   "outputs": [
    {
     "name": "stdout",
     "output_type": "stream",
     "text": [
      "              precision    recall  f1-score   support\n",
      "\n",
      "           0       0.88      0.88      0.88        16\n",
      "           1       0.50      1.00      0.67        10\n",
      "           2       0.00      0.00      0.00        10\n",
      "\n",
      "    accuracy                           0.67        36\n",
      "   macro avg       0.46      0.62      0.51        36\n",
      "weighted avg       0.53      0.67      0.57        36\n",
      "\n",
      "0.6666666666666666\n"
     ]
    },
    {
     "name": "stderr",
     "output_type": "stream",
     "text": [
      "/home/aiffel/anaconda3/envs/aiffel/lib/python3.7/site-packages/sklearn/metrics/_classification.py:1221: UndefinedMetricWarning: Precision and F-score are ill-defined and being set to 0.0 in labels with no predicted samples. Use `zero_division` parameter to control this behavior.\n",
      "  _warn_prf(average, modifier, msg_start, len(result))\n"
     ]
    }
   ],
   "source": [
    "#sgd\n",
    "x_train, x_test, y_train, y_test = train_test_split(wine_data,\n",
    "                                                   wine_label,\n",
    "                                                   test_size=0.2,\n",
    "                                                   random_state=32)\n",
    "\n",
    "from sklearn.linear_model import SGDClassifier\n",
    "sgd_model = SGDClassifier()\n",
    "sgd_model.fit(x_train, y_train)\n",
    "y_pred=sgd_model.predict(x_test)\n",
    "\n",
    "print(classification_report(y_test, y_pred))\n",
    "print(accuracy_score(y_test, y_pred))"
   ]
  },
  {
   "cell_type": "code",
   "execution_count": 58,
   "metadata": {},
   "outputs": [
    {
     "name": "stdout",
     "output_type": "stream",
     "text": [
      "              precision    recall  f1-score   support\n",
      "\n",
      "           0       0.94      1.00      0.97        16\n",
      "           1       0.89      0.80      0.84        10\n",
      "           2       0.90      0.90      0.90        10\n",
      "\n",
      "    accuracy                           0.92        36\n",
      "   macro avg       0.91      0.90      0.90        36\n",
      "weighted avg       0.92      0.92      0.91        36\n",
      "\n",
      "0.9166666666666666\n"
     ]
    },
    {
     "name": "stderr",
     "output_type": "stream",
     "text": [
      "/home/aiffel/anaconda3/envs/aiffel/lib/python3.7/site-packages/sklearn/linear_model/_logistic.py:764: ConvergenceWarning: lbfgs failed to converge (status=1):\n",
      "STOP: TOTAL NO. of ITERATIONS REACHED LIMIT.\n",
      "\n",
      "Increase the number of iterations (max_iter) or scale the data as shown in:\n",
      "    https://scikit-learn.org/stable/modules/preprocessing.html\n",
      "Please also refer to the documentation for alternative solver options:\n",
      "    https://scikit-learn.org/stable/modules/linear_model.html#logistic-regression\n",
      "  extra_warning_msg=_LOGISTIC_SOLVER_CONVERGENCE_MSG)\n"
     ]
    }
   ],
   "source": [
    "#logistic_regression\n",
    "x_train, x_test, y_train, y_test = train_test_split(wine_data,\n",
    "                                                   wine_label,\n",
    "                                                   test_size=0.2,\n",
    "                                                   random_state=32)\n",
    "\n",
    "from sklearn.linear_model import LogisticRegression\n",
    "lgr_model = LogisticRegression()\n",
    "lgr_model.fit(x_train, y_train)\n",
    "y_pred = lgr_model.predict(x_test)\n",
    "\n",
    "\n",
    "print(classification_report(y_test, y_pred))\n",
    "print(accuracy_score(y_test, y_pred))"
   ]
  },
  {
   "cell_type": "code",
   "execution_count": null,
   "metadata": {},
   "outputs": [],
   "source": []
  },
  {
   "cell_type": "code",
   "execution_count": null,
   "metadata": {},
   "outputs": [],
   "source": []
  },
  {
   "cell_type": "markdown",
   "metadata": {},
   "source": [
    "### 2-12. 프로젝트(3) - breast cancer "
   ]
  },
  {
   "cell_type": "code",
   "execution_count": 59,
   "metadata": {},
   "outputs": [],
   "source": [
    "from sklearn.datasets import load_breast_cancer\n",
    "\n",
    "from sklearn.model_selection import train_test_split\n",
    "from sklearn.metrics import classification_report\n",
    "from sklearn.metrics import accuracy_score"
   ]
  },
  {
   "cell_type": "code",
   "execution_count": 60,
   "metadata": {},
   "outputs": [],
   "source": [
    "# data 준비\n",
    "bcancer = load_breast_cancer()\n",
    "bcancer_data = bcancer.data\n",
    "bcancer_label = bcancer.target"
   ]
  },
  {
   "cell_type": "code",
   "execution_count": 61,
   "metadata": {},
   "outputs": [
    {
     "name": "stdout",
     "output_type": "stream",
     "text": [
      "              precision    recall  f1-score   support\n",
      "\n",
      "           0       0.84      0.84      0.84        44\n",
      "           1       0.90      0.90      0.90        70\n",
      "\n",
      "    accuracy                           0.88       114\n",
      "   macro avg       0.87      0.87      0.87       114\n",
      "weighted avg       0.88      0.88      0.88       114\n",
      "\n",
      "accuracy: 0.8771929824561403\n"
     ]
    }
   ],
   "source": [
    "# decision tree\n",
    "from sklearn.tree import DecisionTreeClassifier\n",
    "\n",
    "x_train, x_test, y_train, y_test = train_test_split(bcancer_data, \n",
    "                                                    bcancer_label, \n",
    "                                                    test_size=0.2, \n",
    "                                                    random_state=32)\n",
    "\n",
    "dst_model = DecisionTreeClassifier(random_state=32)\n",
    "dst_model.fit(x_train,y_train)\n",
    "y_pred=dst_model.predict(x_test)\n",
    "\n",
    "print(classification_report(y_test, y_pred))\n",
    "print(\"accuracy:\",accuracy_score(y_test,y_pred))"
   ]
  },
  {
   "cell_type": "code",
   "execution_count": 62,
   "metadata": {},
   "outputs": [
    {
     "name": "stdout",
     "output_type": "stream",
     "text": [
      "              precision    recall  f1-score   support\n",
      "\n",
      "           0       0.91      0.93      0.92        44\n",
      "           1       0.96      0.94      0.95        70\n",
      "\n",
      "    accuracy                           0.94       114\n",
      "   macro avg       0.93      0.94      0.94       114\n",
      "weighted avg       0.94      0.94      0.94       114\n",
      "\n",
      "accuracy: 0.9385964912280702\n"
     ]
    }
   ],
   "source": [
    "# randomforest\n",
    "from sklearn.ensemble import RandomForestClassifier\n",
    "\n",
    "x_train, x_test, y_train, y_test=train_test_split(bcancer_data,\n",
    "                                                 bcancer_label,\n",
    "                                                 test_size=0.2,\n",
    "                                                 random_state=32)\n",
    "rf_model=RandomForestClassifier(random_state=32)\n",
    "rf_model.fit(x_train,y_train)\n",
    "y_pred=rf_model.predict(x_test)\n",
    "\n",
    "print(classification_report(y_test, y_pred))\n",
    "print(\"accuracy:\",accuracy_score(y_test,y_pred))"
   ]
  },
  {
   "cell_type": "code",
   "execution_count": 63,
   "metadata": {},
   "outputs": [
    {
     "name": "stdout",
     "output_type": "stream",
     "text": [
      "              precision    recall  f1-score   support\n",
      "\n",
      "           0       0.91      0.73      0.81        44\n",
      "           1       0.85      0.96      0.90        70\n",
      "\n",
      "    accuracy                           0.87       114\n",
      "   macro avg       0.88      0.84      0.85       114\n",
      "weighted avg       0.87      0.87      0.86       114\n",
      "\n",
      "accuracy: 0.868421052631579\n"
     ]
    }
   ],
   "source": [
    "# svm\n",
    "from sklearn import svm\n",
    "\n",
    "x_train, x_test, y_train, y_test=train_test_split(bcancer_data,\n",
    "                                                 bcancer_label,\n",
    "                                                 test_size=0.2,\n",
    "                                                 random_state=32)\n",
    "svm_model=svm.SVC()\n",
    "svm_model.fit(x_train,y_train)\n",
    "y_pred=svm_model.predict(x_test)\n",
    "\n",
    "print(classification_report(y_test, y_pred))\n",
    "print(\"accuracy:\",accuracy_score(y_test,y_pred))"
   ]
  },
  {
   "cell_type": "code",
   "execution_count": 64,
   "metadata": {},
   "outputs": [
    {
     "name": "stdout",
     "output_type": "stream",
     "text": [
      "              precision    recall  f1-score   support\n",
      "\n",
      "           0       0.83      0.89      0.86        44\n",
      "           1       0.93      0.89      0.91        70\n",
      "\n",
      "    accuracy                           0.89       114\n",
      "   macro avg       0.88      0.89      0.88       114\n",
      "weighted avg       0.89      0.89      0.89       114\n",
      "\n",
      "accuracy: 0.8859649122807017\n"
     ]
    }
   ],
   "source": [
    "# sgd\n",
    "from sklearn.linear_model import SGDClassifier\n",
    "\n",
    "x_train, x_test, y_train, y_test=train_test_split(bcancer_data,\n",
    "                                                 bcancer_label,\n",
    "                                                 test_size=0.2,\n",
    "                                                 random_state=32)\n",
    "sgd_model=SGDClassifier()\n",
    "sgd_model.fit(x_train,y_train)\n",
    "y_pred=sgd_model.predict(x_test)\n",
    "\n",
    "print(classification_report(y_test, y_pred))\n",
    "print(\"accuracy:\",accuracy_score(y_test,y_pred))"
   ]
  },
  {
   "cell_type": "code",
   "execution_count": 65,
   "metadata": {},
   "outputs": [
    {
     "name": "stdout",
     "output_type": "stream",
     "text": [
      "              precision    recall  f1-score   support\n",
      "\n",
      "           0       0.88      0.86      0.87        44\n",
      "           1       0.92      0.93      0.92        70\n",
      "\n",
      "    accuracy                           0.90       114\n",
      "   macro avg       0.90      0.90      0.90       114\n",
      "weighted avg       0.90      0.90      0.90       114\n",
      "\n",
      "accuracy: 0.9035087719298246\n"
     ]
    },
    {
     "name": "stderr",
     "output_type": "stream",
     "text": [
      "/home/aiffel/anaconda3/envs/aiffel/lib/python3.7/site-packages/sklearn/linear_model/_logistic.py:764: ConvergenceWarning: lbfgs failed to converge (status=1):\n",
      "STOP: TOTAL NO. of ITERATIONS REACHED LIMIT.\n",
      "\n",
      "Increase the number of iterations (max_iter) or scale the data as shown in:\n",
      "    https://scikit-learn.org/stable/modules/preprocessing.html\n",
      "Please also refer to the documentation for alternative solver options:\n",
      "    https://scikit-learn.org/stable/modules/linear_model.html#logistic-regression\n",
      "  extra_warning_msg=_LOGISTIC_SOLVER_CONVERGENCE_MSG)\n"
     ]
    }
   ],
   "source": [
    "# logistic regression\n",
    "from sklearn.linear_model import LogisticRegression\n",
    "\n",
    "x_train, x_test, y_train, y_test=train_test_split(bcancer_data,\n",
    "                                                 bcancer_label,\n",
    "                                                 test_size=0.2,\n",
    "                                                 random_state=32)\n",
    "lgr_model=LogisticRegression()\n",
    "lgr_model.fit(x_train,y_train)\n",
    "y_pred=lgr_model.predict(x_test)\n",
    "\n",
    "print(classification_report(y_test, y_pred))\n",
    "print(\"accuracy:\",accuracy_score(y_test,y_pred))"
   ]
  },
  {
   "cell_type": "code",
   "execution_count": null,
   "metadata": {},
   "outputs": [],
   "source": []
  },
  {
   "cell_type": "code",
   "execution_count": null,
   "metadata": {},
   "outputs": [],
   "source": []
  }
 ],
 "metadata": {
  "kernelspec": {
   "display_name": "aiffel",
   "language": "python",
   "name": "aiffel"
  },
  "language_info": {
   "codemirror_mode": {
    "name": "ipython",
    "version": 3
   },
   "file_extension": ".py",
   "mimetype": "text/x-python",
   "name": "python",
   "nbconvert_exporter": "python",
   "pygments_lexer": "ipython3",
   "version": "3.7.6"
  }
 },
 "nbformat": 4,
 "nbformat_minor": 4
}

{
 "cells": [
  {
   "cell_type": "markdown",
   "metadata": {},
   "source": [
    "## beautifulsoup & newspaper3k drawling"
   ]
  },
  {
   "cell_type": "code",
   "execution_count": null,
   "metadata": {},
   "outputs": [],
   "source": []
  },
  {
   "cell_type": "code",
   "execution_count": null,
   "metadata": {},
   "outputs": [],
   "source": [
    "from bs4 import BeautifulSoup\n",
    "from newspaper import Article\n",
    "\n",
    "#- 파싱할 뉴스 기사 주소입니다.\n",
    "url = 'https://news.naver.com/main/read.nhn?mode=LSD&mid=sec&sid1=101&oid=030&aid=0002881076'\n",
    "\n",
    "#- 언어가 한국어이므로 language='ko'로 설정해줍니다.\n",
    "article = Article(url, language='ko')\n",
    "article.download()\n",
    "article.parse()"
   ]
  },
  {
   "cell_type": "code",
   "execution_count": null,
   "metadata": {},
   "outputs": [],
   "source": [
    "#- 기사 제목을 출력합니다.\n",
    "print('기사 제목 :')\n",
    "print(article.title)\n",
    "print('')\n",
    "\n",
    "#- 기사 내용을 출력합니다.\n",
    "print('기사 내용 :')\n",
    "print(article.text)"
   ]
  },
  {
   "cell_type": "code",
   "execution_count": 1,
   "metadata": {},
   "outputs": [],
   "source": [
    "# 크롤러를 만들기 전 필요한 도구들을 임포트합니다.\n",
    "import requests\n",
    "import pandas as pd\n",
    "from bs4 import BeautifulSoup\n",
    "\n",
    "# 페이지 수, 카테고리, 날짜를 입력값으로 받습니다.\n",
    "def make_urllist(page_num, code, date): \n",
    "  urllist= []\n",
    "  for i in range(1, page_num + 1):\n",
    "    url = 'https://news.naver.com/main/list.nhn?mode=LSD&mid=sec&sid1='+str(code)+'&date='+str(date)+'&page='+str(i)   \n",
    "    news = requests.get(url)\n",
    "\n",
    "    # BeautifulSoup의 인스턴스 생성합니다. 파서는 html.parser를 사용합니다.\n",
    "    soup = BeautifulSoup(news.content, 'html.parser')\n",
    "\n",
    "    # CASE 1\n",
    "    news_list = soup.select('.newsflash_body .type06_headline li dl')\n",
    "    # CASE 2\n",
    "    news_list.extend(soup.select('.newsflash_body .type06 li dl'))\n",
    "        \n",
    "    # 각 뉴스로부터 a 태그인 <a href ='주소'> 에서 '주소'만을 가져옵니다.\n",
    "    for line in news_list:\n",
    "        urllist.append(line.a.get('href'))\n",
    "  return urllist"
   ]
  },
  {
   "cell_type": "code",
   "execution_count": null,
   "metadata": {},
   "outputs": [],
   "source": [
    "#. 한 페이지당 뉴스 기사가 20개임을 감안하여 총 40개의 url리스트 받아오기\n",
    "url_list = make_urllist(2, 101, 20200506)\n",
    "print('뉴스 기사의 개수: ',len(url_list))\n",
    "\n",
    "url_list1 = make_urllist(2, 101, 20200804)\n",
    "print('뉴스 기사의 개수: ',len(url_list))"
   ]
  },
  {
   "cell_type": "code",
   "execution_count": null,
   "metadata": {},
   "outputs": [],
   "source": [
    "#. 5개만 출력해 보기\n",
    "url_list[:5]"
   ]
  },
  {
   "cell_type": "code",
   "execution_count": null,
   "metadata": {},
   "outputs": [],
   "source": [
    "idx2word = {'101' : '경제', '102' : '사회', '103' : '생활/문화', '105' : 'IT/과학'}"
   ]
  },
  {
   "cell_type": "code",
   "execution_count": null,
   "metadata": {},
   "outputs": [],
   "source": [
    "from newspaper import Article\n",
    "\n",
    "#- 데이터프레임을 생성하는 함수입니다.\n",
    "def make_data(urllist, code):\n",
    "  text_list = []\n",
    "  for url in urllist:\n",
    "    article = Article(url, language='ko')\n",
    "    article.download()\n",
    "    article.parse()\n",
    "    text_list.append(article.text)\n",
    "\n",
    "  #- 데이터프레임의 'news' 키 아래 파싱한 텍스트를 밸류로 붙여줍니다.\n",
    "  df = pd.DataFrame({'news': text_list})\n",
    "\n",
    "  #- 데이터프레임의 'code' 키 아래 한글 카테고리명을 붙여줍니다.\n",
    "  df['code'] = idx2word[str(code)]\n",
    "  return df"
   ]
  },
  {
   "cell_type": "markdown",
   "metadata": {},
   "source": [
    "경제 카테고리(코드 101)의 40개의 URL 리스트로부터 데이터프레임을 생성"
   ]
  },
  {
   "cell_type": "code",
   "execution_count": null,
   "metadata": {},
   "outputs": [],
   "source": [
    "data = make_data(url_list, 101)\n",
    "#- 상위 10개만 출력해봅니다.\n",
    "data[:10]"
   ]
  },
  {
   "cell_type": "markdown",
   "metadata": {},
   "source": [
    "## 3-8. 네이버 뉴스 기사 크롤링 (3) 데이터 수집 및 전처리\n",
    "여러 카테고리에 뉴스들도 수집해보기 -> 특저 날짜의 사회, 생활/문화, IT/과학"
   ]
  },
  {
   "cell_type": "code",
   "execution_count": null,
   "metadata": {},
   "outputs": [],
   "source": [
    "# 수집을 원하는 카테고리 코드를을 저장한 리스트를 만들어두기\n",
    "code_list = [102, 103, 105]\n",
    "\n",
    "code_list"
   ]
  },
  {
   "cell_type": "code",
   "execution_count": null,
   "metadata": {},
   "outputs": [],
   "source": [
    "def make_total_data(page_num, code_list, date):\n",
    "  df = None\n",
    "\n",
    "  for code in code_list:\n",
    "    url_list = make_urllist(page_num, code, date)\n",
    "    df_temp = make_data(url_list, code)\n",
    "    print(str(code)+'번 코드에 대한 데이터를 만들었습니다.')\n",
    "\n",
    "    if df is not None:\n",
    "      df = pd.concat([df, df_temp])\n",
    "    else:\n",
    "      df = df_temp\n",
    "\n",
    "  return df"
   ]
  },
  {
   "cell_type": "code",
   "execution_count": null,
   "metadata": {},
   "outputs": [],
   "source": [
    "df = make_total_data(1, code_list, 20200506)"
   ]
  },
  {
   "cell_type": "code",
   "execution_count": null,
   "metadata": {},
   "outputs": [],
   "source": [
    "print('뉴스 기사의 개수: ',len(df))"
   ]
  },
  {
   "cell_type": "code",
   "execution_count": null,
   "metadata": {},
   "outputs": [],
   "source": [
    "# n v a <- exclude all. or extract n\n",
    "# 60개중 임의의 10개 샘플 선택하여 출력\n",
    "df.sample(10)"
   ]
  },
  {
   "cell_type": "markdown",
   "metadata": {},
   "source": [
    "## 대량크롤링\n"
   ]
  },
  {
   "cell_type": "code",
   "execution_count": null,
   "metadata": {},
   "outputs": [],
   "source": [
    "# 아래 주석처리된 코드의 주석을 해제하고 실행을 하면 대량 크롤링이 진행됩니다. \n",
    "# 위에서 수행했던 크롤링의 100배 분량이 수행될 것입니다. 한꺼번에 너무 많은 크롤링 요청이 서버에 전달되지 않도록 주의해 주세요. \n",
    "# 기사 일자를 바꿔보면서 데이터를 모으면 더욱 다양한 데이터를 얻을 수 있게 됩니다. \n",
    "\n",
    "#df = make_total_data(100, code_list, 20200506)"
   ]
  },
  {
   "cell_type": "markdown",
   "metadata": {},
   "source": [
    "## 아래 블럭만 실행하지 말기!!! 누적되서 망함"
   ]
  },
  {
   "cell_type": "code",
   "execution_count": null,
   "metadata": {
    "scrolled": false
   },
   "outputs": [],
   "source": [
    "# 크롤링한 뉴스 기사의 양이 많으므로 실수로 유실하지 않도록 csv 파일로 별도 저장\n",
    "\n",
    "import os\n",
    "\n",
    "# 데이터프레임 파일을 csv 파일로 저장합니다.\n",
    "# 저장경로는 이번 프로젝트를 위해 만든 폴더로 지정해 주세요.\n",
    "###### csv_path = os.getenv(\"HOME\") + \"/aiffel/news_crawler/news_data.csv\"\n",
    "###### df.to_csv(csv_path, index=False)\n",
    "\n",
    "###### if os.path.exists(csv_path):\n",
    "######  print('{} File Saved!'.format(csv_path))"
   ]
  },
  {
   "cell_type": "code",
   "execution_count": null,
   "metadata": {},
   "outputs": [],
   "source": []
  },
  {
   "cell_type": "code",
   "execution_count": null,
   "metadata": {},
   "outputs": [],
   "source": []
  },
  {
   "cell_type": "code",
   "execution_count": null,
   "metadata": {},
   "outputs": [],
   "source": []
  },
  {
   "cell_type": "code",
   "execution_count": null,
   "metadata": {},
   "outputs": [],
   "source": []
  },
  {
   "cell_type": "code",
   "execution_count": null,
   "metadata": {},
   "outputs": [],
   "source": []
  },
  {
   "cell_type": "code",
   "execution_count": null,
   "metadata": {},
   "outputs": [],
   "source": []
  },
  {
   "cell_type": "code",
   "execution_count": null,
   "metadata": {},
   "outputs": [],
   "source": []
  },
  {
   "cell_type": "code",
   "execution_count": null,
   "metadata": {},
   "outputs": [],
   "source": []
  },
  {
   "cell_type": "code",
   "execution_count": null,
   "metadata": {},
   "outputs": [],
   "source": []
  },
  {
   "cell_type": "code",
   "execution_count": null,
   "metadata": {},
   "outputs": [],
   "source": []
  },
  {
   "cell_type": "code",
   "execution_count": null,
   "metadata": {},
   "outputs": [],
   "source": []
  },
  {
   "cell_type": "code",
   "execution_count": null,
   "metadata": {},
   "outputs": [],
   "source": []
  },
  {
   "cell_type": "code",
   "execution_count": null,
   "metadata": {},
   "outputs": [],
   "source": []
  },
  {
   "cell_type": "code",
   "execution_count": null,
   "metadata": {},
   "outputs": [],
   "source": []
  },
  {
   "cell_type": "code",
   "execution_count": null,
   "metadata": {},
   "outputs": [],
   "source": []
  },
  {
   "cell_type": "code",
   "execution_count": null,
   "metadata": {},
   "outputs": [],
   "source": []
  },
  {
   "cell_type": "code",
   "execution_count": null,
   "metadata": {},
   "outputs": [],
   "source": []
  },
  {
   "cell_type": "code",
   "execution_count": null,
   "metadata": {},
   "outputs": [],
   "source": []
  },
  {
   "cell_type": "code",
   "execution_count": null,
   "metadata": {},
   "outputs": [],
   "source": []
  },
  {
   "cell_type": "code",
   "execution_count": null,
   "metadata": {},
   "outputs": [],
   "source": []
  },
  {
   "cell_type": "markdown",
   "metadata": {},
   "source": [
    "### 3-9. naver news article crawling (4) data preprocessing\\\n",
    "데이터를 가공/정제하여 모델의 훈련에 사용하기 좋은 숫자의 형태로 바꿔준다"
   ]
  },
  {
   "cell_type": "code",
   "execution_count": 2,
   "metadata": {},
   "outputs": [
    {
     "data": {
      "text/html": [
       "<div>\n",
       "<style scoped>\n",
       "    .dataframe tbody tr th:only-of-type {\n",
       "        vertical-align: middle;\n",
       "    }\n",
       "\n",
       "    .dataframe tbody tr th {\n",
       "        vertical-align: top;\n",
       "    }\n",
       "\n",
       "    .dataframe thead th {\n",
       "        text-align: right;\n",
       "    }\n",
       "</style>\n",
       "<table border=\"1\" class=\"dataframe\">\n",
       "  <thead>\n",
       "    <tr style=\"text-align: right;\">\n",
       "      <th></th>\n",
       "      <th>news</th>\n",
       "      <th>code</th>\n",
       "    </tr>\n",
       "  </thead>\n",
       "  <tbody>\n",
       "    <tr>\n",
       "      <th>0</th>\n",
       "      <td>파주시청. 사진제공=파주시 파주시청. 사진제공=파주시\\n\\n[파주=파이낸셜뉴스 강근...</td>\n",
       "      <td>사회</td>\n",
       "    </tr>\n",
       "    <tr>\n",
       "      <th>1</th>\n",
       "      <td>동영상 뉴스\\n\\n이천 물류창고 화재 발화지점으로 지목된 지하 2층에서 산소절단기의...</td>\n",
       "      <td>사회</td>\n",
       "    </tr>\n",
       "    <tr>\n",
       "      <th>2</th>\n",
       "      <td>황범순 의정부시 부시장 을지대학교 의정부캠퍼스 및 부속병원 공사현장 안전점검. 사진...</td>\n",
       "      <td>사회</td>\n",
       "    </tr>\n",
       "    <tr>\n",
       "      <th>3</th>\n",
       "      <td>귀갓길 여성을 쫓아가 성범죄를 시도한 20대 남성이 구속됐습니다.서울 강남경찰서는 ...</td>\n",
       "      <td>사회</td>\n",
       "    </tr>\n",
       "    <tr>\n",
       "      <th>4</th>\n",
       "      <td>(서울=연합뉴스) 대한약사회가 6일부터 코로나바이러스 감염증 대응 체계를 '사회적 ...</td>\n",
       "      <td>사회</td>\n",
       "    </tr>\n",
       "  </tbody>\n",
       "</table>\n",
       "</div>"
      ],
      "text/plain": [
       "                                                news code\n",
       "0  파주시청. 사진제공=파주시 파주시청. 사진제공=파주시\\n\\n[파주=파이낸셜뉴스 강근...   사회\n",
       "1  동영상 뉴스\\n\\n이천 물류창고 화재 발화지점으로 지목된 지하 2층에서 산소절단기의...   사회\n",
       "2  황범순 의정부시 부시장 을지대학교 의정부캠퍼스 및 부속병원 공사현장 안전점검. 사진...   사회\n",
       "3  귀갓길 여성을 쫓아가 성범죄를 시도한 20대 남성이 구속됐습니다.서울 강남경찰서는 ...   사회\n",
       "4  (서울=연합뉴스) 대한약사회가 6일부터 코로나바이러스 감염증 대응 체계를 '사회적 ...   사회"
      ]
     },
     "execution_count": 2,
     "metadata": {},
     "output_type": "execute_result"
    }
   ],
   "source": [
    "#. 저장해둔 csv파일을 다시 읽어서 dataframe으로 저장하기 위한 코드\n",
    "import os\n",
    "csv_path = os.getenv(\"HOME\") + \"/aiffel/news_crawler/news_data.csv\"\n",
    "df = pd.read_table(csv_path, sep=',')\n",
    "df.head()"
   ]
  },
  {
   "cell_type": "code",
   "execution_count": 3,
   "metadata": {},
   "outputs": [
    {
     "data": {
      "text/plain": [
       "0       파주시청 사진제공파주시 파주시청 사진제공파주시파주파이낸셜뉴스 강근주 기자 파주시는 ...\n",
       "1       동영상 뉴스이천 물류창고 화재 발화지점으로 지목된 지하 층에서 산소절단기의 산소 공...\n",
       "2       황범순 의정부시 부시장 을지대학교 의정부캠퍼스 및 부속병원 공사현장 안전점검 사진제...\n",
       "3       귀갓길 여성을 쫓아가 성범죄를 시도한 대 남성이 구속됐습니다서울 강남경찰서는 강간상...\n",
       "4       서울연합뉴스 대한약사회가 일부터 코로나바이러스 감염증 대응 체계를 사회적 거리두기에...\n",
       "                              ...                        \n",
       "5119    신종 코로나바이러스 감염증코로나 사태 이후 가정의 달 월에도 언택트비대면 신풍속도가...\n",
       "5120    는 소비자로부터 월 이용료 만만원을 받고 초고속 인터넷을 제공한다 그런 브로드밴드가...\n",
       "5121    머리를 긁고 있는 오랑우탄 몸을 긁는 행동을 따라 하는 것은 부정적 감정과 관련이 ...\n",
       "5122    가 오는 일 정식 출시하는 스마트폰 벨벳이 사실상 공짜폰이 될 전망이다 단말기 가격...\n",
       "5123    이미지제공게티이미지뱅크 이미지제공게티이미지뱅크  전자신문  전자신문인터넷 무단전재 ...\n",
       "Name: news, Length: 5124, dtype: object"
      ]
     },
     "execution_count": 3,
     "metadata": {},
     "output_type": "execute_result"
    }
   ],
   "source": [
    "# 정규 표현식을 이용해서 한글 외의 문자는 전부 제거\n",
    "df['news'] = df['news'].str.replace(\"[^ㄱ-ㅎㅏ-ㅣ가-힣 ]\",\"\")\n",
    "df['news']"
   ]
  },
  {
   "cell_type": "code",
   "execution_count": 4,
   "metadata": {},
   "outputs": [
    {
     "name": "stdout",
     "output_type": "stream",
     "text": [
      "news    0\n",
      "code    0\n",
      "dtype: int64\n"
     ]
    }
   ],
   "source": [
    "# data에 null값이 있진 않은지 확인\n",
    "print(df.isnull().sum())"
   ]
  },
  {
   "cell_type": "code",
   "execution_count": 5,
   "metadata": {},
   "outputs": [
    {
     "name": "stdout",
     "output_type": "stream",
     "text": [
      "뉴스 기사의 개수:  3994\n"
     ]
    }
   ],
   "source": [
    "# 중복된 샘플들을 제거합니다.\n",
    "df.drop_duplicates(subset=['news'], inplace=True)\n",
    "\n",
    "print('뉴스 기사의 개수: ',len(df))"
   ]
  },
  {
   "cell_type": "markdown",
   "metadata": {},
   "source": [
    "데이터 탐색\n",
    "---\n",
    "각 카테고리별 샘플 분포 확인 -> matplotlib에 한글폰트 적용안될 수 있음 주의\n",
    "[matplotlib 한글폰트 설정방법](https://followers.tistory.com/26)"
   ]
  },
  {
   "cell_type": "code",
   "execution_count": 6,
   "metadata": {},
   "outputs": [
    {
     "name": "stderr",
     "output_type": "stream",
     "text": [
      "/home/aiffel/anaconda3/envs/aiffel/lib/python3.7/site-packages/matplotlib/backends/backend_agg.py:238: RuntimeWarning: Glyph 54620 missing from current font.\n",
      "  font.set_text(s, 0.0, flags=flags)\n",
      "/home/aiffel/anaconda3/envs/aiffel/lib/python3.7/site-packages/matplotlib/backends/backend_agg.py:238: RuntimeWarning: Glyph 44544 missing from current font.\n",
      "  font.set_text(s, 0.0, flags=flags)\n",
      "/home/aiffel/anaconda3/envs/aiffel/lib/python3.7/site-packages/matplotlib/backends/backend_agg.py:201: RuntimeWarning: Glyph 54620 missing from current font.\n",
      "  font.set_text(s, 0, flags=flags)\n",
      "/home/aiffel/anaconda3/envs/aiffel/lib/python3.7/site-packages/matplotlib/backends/backend_agg.py:201: RuntimeWarning: Glyph 44544 missing from current font.\n",
      "  font.set_text(s, 0, flags=flags)\n"
     ]
    },
    {
     "data": {
      "image/png": "[encoded data removed]",
      "text/plain": [
       "<Figure size 432x288 with 1 Axes>"
      ]
     },
     "metadata": {
      "needs_background": "light"
     },
     "output_type": "display_data"
    }
   ],
   "source": [
    "#. 한글 출력\n",
    "import matplotlib.pyplot as plt\n",
    "plt.text(0.3, 0.3, '한글', size=100)\n",
    "\n",
    "from matplotlib import font_manager as fm\n",
    "font_location='/home/aiffel/.local/share/fonts/D2CodingBold-Ver1.3.2-20180524-ligature.ttf'\n",
    "font_name=fm.FontProperties(fname=font_location).get_name()\n",
    "plt.rc('font',family=font_name)"
   ]
  },
  {
   "cell_type": "code",
   "execution_count": 7,
   "metadata": {},
   "outputs": [
    {
     "data": {
      "text/plain": [
       "['/usr/share/fonts/truetype/liberation/LiberationSans-Regular.ttf',\n",
       " '/usr/share/fonts/truetype/liberation/LiberationMono-Italic.ttf',\n",
       " '/usr/share/fonts/opentype/noto/NotoSerifCJK-ExtraLight.ttc',\n",
       " '/usr/share/fonts/opentype/noto/NotoSansCJK-DemiLight.ttc',\n",
       " '/usr/share/fonts/opentype/noto/NotoSansCJK-Medium.ttc',\n",
       " '/usr/share/fonts/truetype/tlwg/TlwgMono-Oblique.ttf',\n",
       " '/usr/share/fonts/truetype/nanum/NanumGothicLight.ttf',\n",
       " '/home/aiffel/.local/share/fonts/D2Coding-Ver1.3.2-20180524-ligature.ttf',\n",
       " '/usr/share/fonts/truetype/ubuntu/Ubuntu-M.ttf',\n",
       " '/usr/share/fonts/truetype/tlwg/TlwgTypewriter-BoldOblique.ttf',\n",
       " '/usr/share/fonts/truetype/noto/NotoMono-Regular.ttf',\n",
       " '/usr/share/fonts/truetype/tlwg/Umpush-BoldOblique.ttf',\n",
       " '/usr/share/fonts/opentype/firacode/FiraCode-Retina.otf',\n",
       " '/usr/share/fonts/truetype/tlwg/Umpush-LightOblique.ttf',\n",
       " '/usr/share/fonts/opentype/noto/NotoSerifCJK-SemiBold.ttc',\n",
       " '/usr/share/fonts/truetype/kacst/KacstTitleL.ttf',\n",
       " '/usr/share/fonts/opentype/noto/NotoSansCJK-Regular.ttc',\n",
       " '/usr/share/fonts/truetype/tlwg/Norasi-BoldItalic.ttf',\n",
       " '/usr/share/fonts/opentype/malayalam/Manjari-Regular.otf',\n",
       " '/usr/share/fonts/truetype/tlwg/Loma-Bold.ttf',\n",
       " '/usr/share/fonts/truetype/liberation/LiberationSansNarrow-Regular.ttf',\n",
       " '/usr/share/fonts/truetype/nanum/NanumGothicBold.ttf',\n",
       " '/usr/share/fonts/truetype/nanum/NanumSquareRoundEB.ttf',\n",
       " '/usr/share/fonts/truetype/liberation/LiberationSansNarrow-Bold.ttf',\n",
       " '/usr/share/fonts/opentype/malayalam/Manjari-Bold.otf',\n",
       " '/usr/share/fonts/truetype/ubuntu/UbuntuMono-B.ttf',\n",
       " '/usr/share/fonts/truetype/dejavu/DejaVuSans-ExtraLight.ttf',\n",
       " '/usr/share/fonts/truetype/dejavu/DejaVuSans-BoldOblique.ttf',\n",
       " '/usr/share/fonts/truetype/nanum/NanumMyeongjoExtraBold.ttf',\n",
       " '/usr/share/fonts/truetype/malayalam/AnjaliOldLipi.ttf',\n",
       " '/usr/share/fonts/truetype/kacst/KacstBook.ttf',\n",
       " '/usr/share/fonts/truetype/tlwg/Norasi-BoldOblique.ttf',\n",
       " '/usr/share/fonts/truetype/kacst/mry_KacstQurn.ttf',\n",
       " '/usr/share/fonts/opentype/noto/NotoSerifCJK-Regular.ttc',\n",
       " '/usr/share/fonts/truetype/tlwg/Sawasdee-BoldOblique.ttf',\n",
       " '/usr/share/fonts/truetype/freefont/FreeSerifBoldItalic.ttf',\n",
       " '/usr/share/fonts/truetype/liberation/LiberationSans-Bold.ttf',\n",
       " '/usr/share/fonts/opentype/noto/NotoSerifCJK-Bold.ttc',\n",
       " '/usr/share/fonts/truetype/kacst/KacstOffice.ttf',\n",
       " '/usr/share/fonts/truetype/tlwg/Umpush.ttf',\n",
       " '/usr/share/fonts/opentype/noto/NotoSerifCJK-Bold.ttc',\n",
       " '/usr/share/fonts/truetype/fonts-beng-extra/MuktiNarrowBold.ttf',\n",
       " '/usr/share/fonts/truetype/fonts-beng-extra/mitra.ttf',\n",
       " '/usr/share/fonts/truetype/tlwg/Sawasdee-Oblique.ttf',\n",
       " '/usr/share/fonts/truetype/freefont/FreeSansOblique.ttf',\n",
       " '/usr/share/fonts/opentype/noto/NotoSerifCJK-Bold.ttc',\n",
       " '/usr/share/fonts/opentype/noto/NotoSerifCJK-Bold.ttc',\n",
       " '/usr/share/fonts/truetype/tlwg/Umpush-Bold.ttf',\n",
       " '/usr/share/fonts/truetype/nanum/NanumMyeongjoEco.ttf',\n",
       " '/usr/share/fonts/truetype/tlwg/TlwgTypo-Bold.ttf',\n",
       " '/usr/share/fonts/opentype/noto/NotoSerifCJK-Regular.ttc',\n",
       " '/usr/share/fonts/truetype/malayalam/RaghuMalayalamSans-Regular.ttf',\n",
       " '/usr/share/fonts/truetype/openoffice/opens___.ttf',\n",
       " '/usr/share/fonts/truetype/freefont/FreeSansBoldOblique.ttf',\n",
       " '/usr/share/fonts/truetype/lohit-punjabi/Lohit-Gurmukhi.ttf',\n",
       " '/usr/share/fonts/truetype/nanum/NanumSquareRoundL.ttf',\n",
       " '/usr/share/fonts/truetype/Gargi/Gargi.ttf',\n",
       " '/usr/share/fonts/truetype/tlwg/Waree-BoldOblique.ttf',\n",
       " '/usr/share/fonts/truetype/dejavu/DejaVuSans-Bold.ttf',\n",
       " '/usr/share/fonts/truetype/Sahadeva/sahadeva.ttf',\n",
       " '/usr/share/fonts/truetype/kacst-one/KacstOne.ttf',\n",
       " '/usr/share/fonts/truetype/liberation2/LiberationSans-Bold.ttf',\n",
       " '/usr/share/fonts/opentype/noto/NotoSansCJK-Bold.ttc',\n",
       " '/usr/share/fonts/opentype/noto/NotoSansCJK-Bold.ttc',\n",
       " '/usr/share/fonts/opentype/noto/NotoSansCJK-Bold.ttc',\n",
       " '/usr/share/fonts/truetype/fonts-deva-extra/kalimati.ttf',\n",
       " '/usr/share/fonts/opentype/noto/NotoSerifCJK-Black.ttc',\n",
       " '/usr/share/fonts/truetype/malayalam/Chilanka-Regular.ttf',\n",
       " '/usr/share/fonts/truetype/ubuntu/Ubuntu-BI.ttf',\n",
       " '/usr/share/fonts/truetype/samyak-fonts/Samyak-Gujarati.ttf',\n",
       " '/usr/share/fonts/opentype/noto/NotoSansCJK-Bold.ttc',\n",
       " '/usr/share/fonts/opentype/noto/NotoSansCJK-Bold.ttc',\n",
       " '/usr/share/fonts/truetype/dejavu/DejaVuSerifCondensed-Italic.ttf',\n",
       " '/usr/share/fonts/truetype/fonts-beng-extra/LikhanNormal.ttf',\n",
       " '/usr/share/fonts/truetype/tlwg/TlwgTypo-BoldOblique.ttf',\n",
       " '/usr/share/fonts/truetype/tlwg/Laksaman.ttf',\n",
       " '/usr/share/fonts/truetype/malayalam/Rachana-Bold.ttf',\n",
       " '/usr/share/fonts/truetype/kacst/KacstArt.ttf',\n",
       " '/usr/share/fonts/opentype/noto/NotoSansCJK-Bold.ttc',\n",
       " '/usr/share/fonts/truetype/lao/Phetsarath_OT.ttf',\n",
       " '/usr/share/fonts/opentype/noto/NotoSansCJK-Bold.ttc',\n",
       " '/usr/share/fonts/truetype/liberation/LiberationMono-BoldItalic.ttf',\n",
       " '/home/aiffel/.local/share/fonts/FiraCode-Retina.ttf',\n",
       " '/usr/share/fonts/truetype/kacst/KacstPen.ttf',\n",
       " '/usr/share/fonts/opentype/noto/NotoSansCJK-Bold.ttc',\n",
       " '/usr/share/fonts/opentype/noto/NotoSansCJK-Bold.ttc',\n",
       " '/usr/share/fonts/opentype/noto/NotoSansCJK-Bold.ttc',\n",
       " '/usr/share/fonts/truetype/liberation/LiberationSerif-Regular.ttf',\n",
       " '/usr/share/fonts/truetype/fonts-beng-extra/MuktiNarrow.ttf',\n",
       " '/usr/share/fonts/truetype/ubuntu/Ubuntu-L.ttf',\n",
       " '/usr/share/fonts/truetype/fonts-gujr-extra/padmaa-Bold.1.1.ttf',\n",
       " '/usr/share/fonts/truetype/ttf-khmeros-core/KhmerOSsys.ttf',\n",
       " '/usr/share/fonts/opentype/noto/NotoSansCJK-Regular.ttc',\n",
       " '/usr/share/fonts/truetype/malayalam/Rachana-Regular.ttf',\n",
       " '/usr/share/fonts/truetype/kacst/KacstQurn.ttf',\n",
       " '/usr/share/fonts/truetype/lohit-bengali/Lohit-Bengali.ttf',\n",
       " '/usr/share/fonts/truetype/dejavu/DejaVuMathTeXGyre.ttf',\n",
       " '/usr/share/fonts/truetype/malayalam/Keraleeyam.ttf',\n",
       " '/usr/share/fonts/truetype/tlwg/Kinnari-BoldOblique.ttf',\n",
       " '/usr/share/fonts/truetype/fonts-beng-extra/JamrulNormal.ttf',\n",
       " '/home/aiffel/.local/share/fonts/D2CodingBold-Ver1.3.2-20180524-ligature.ttf',\n",
       " '/usr/share/fonts/truetype/nanum/NanumBarunpenR.ttf',\n",
       " '/usr/share/fonts/truetype/ubuntu/Ubuntu-C.ttf',\n",
       " '/usr/share/fonts/truetype/tlwg/TlwgMono.ttf',\n",
       " '/usr/share/fonts/truetype/malayalam/Uroob.ttf',\n",
       " '/usr/share/fonts/truetype/noto/NotoColorEmoji.ttf',\n",
       " '/usr/share/fonts/truetype/nanum/NanumMyeongjo.ttf',\n",
       " '/usr/share/fonts/opentype/noto/NotoSansCJK-Black.ttc',\n",
       " '/usr/share/fonts/opentype/noto/NotoSansCJK-DemiLight.ttc',\n",
       " '/usr/share/fonts/truetype/kacst/KacstDecorative.ttf',\n",
       " '/usr/share/fonts/truetype/tlwg/Loma.ttf',\n",
       " '/usr/share/fonts/truetype/nanum/NanumPen.ttf',\n",
       " '/usr/share/fonts/truetype/lohit-gujarati/Lohit-Gujarati.ttf',\n",
       " '/usr/share/fonts/truetype/tlwg/Garuda-Oblique.ttf',\n",
       " '/usr/share/fonts/truetype/lohit-tamil-classical/Lohit-Tamil-Classical.ttf',\n",
       " '/usr/share/fonts/truetype/ubuntu/Ubuntu-MI.ttf',\n",
       " '/usr/share/fonts/truetype/freefont/FreeSerifBold.ttf',\n",
       " '/usr/share/fonts/truetype/dejavu/DejaVuSansCondensed-Bold.ttf',\n",
       " '/usr/share/fonts/opentype/noto/NotoSerifCJK-Medium.ttc',\n",
       " '/usr/share/fonts/opentype/noto/NotoSansCJK-Regular.ttc',\n",
       " '/usr/share/fonts/opentype/noto/NotoSansCJK-Medium.ttc',\n",
       " '/usr/share/fonts/truetype/tlwg/TlwgTypewriter-Oblique.ttf',\n",
       " '/usr/share/fonts/truetype/nanum/NanumSquareR.ttf',\n",
       " '/usr/share/fonts/truetype/samyak-fonts/Samyak-Malayalam.ttf',\n",
       " '/usr/share/fonts/opentype/noto/NotoSansCJK-Light.ttc',\n",
       " '/usr/share/fonts/truetype/lohit-tamil/Lohit-Tamil.ttf',\n",
       " '/usr/share/fonts/truetype/freefont/FreeMonoBoldOblique.ttf',\n",
       " '/usr/share/fonts/truetype/liberation/LiberationSans-Italic.ttf',\n",
       " '/usr/share/fonts/truetype/nanum/NanumGothicCoding-Bold.ttf',\n",
       " '/usr/share/fonts/opentype/noto/NotoSerifCJK-SemiBold.ttc',\n",
       " '/usr/share/fonts/truetype/tlwg/Norasi-Bold.ttf',\n",
       " '/usr/share/fonts/truetype/nanum/NanumSquareB.ttf',\n",
       " '/usr/share/fonts/truetype/tlwg/Laksaman-Bold.ttf',\n",
       " '/usr/share/fonts/truetype/liberation2/LiberationSerif-Bold.ttf',\n",
       " '/usr/share/fonts/opentype/noto/NotoSansCJK-Regular.ttc',\n",
       " '/usr/share/fonts/truetype/ubuntu/UbuntuMono-BI.ttf',\n",
       " '/usr/share/fonts/truetype/nanum/NanumBarunpenB.ttf',\n",
       " '/usr/share/fonts/opentype/noto/NotoSerifCJK-Light.ttc',\n",
       " '/usr/share/fonts/opentype/noto/NotoSansCJK-Medium.ttc',\n",
       " '/usr/share/fonts/truetype/liberation2/LiberationMono-BoldItalic.ttf',\n",
       " '/usr/share/fonts/truetype/liberation/LiberationSerif-BoldItalic.ttf',\n",
       " '/usr/share/fonts/opentype/firacode/FiraCode-Bold.otf',\n",
       " '/usr/share/fonts/opentype/noto/NotoSerifCJK-Light.ttc',\n",
       " '/usr/share/fonts/truetype/liberation2/LiberationSans-BoldItalic.ttf',\n",
       " '/usr/share/fonts/truetype/tlwg/Waree.ttf',\n",
       " '/usr/share/fonts/truetype/liberation/LiberationSans-BoldItalic.ttf',\n",
       " '/usr/share/fonts/truetype/tlwg/TlwgTypist-Bold.ttf',\n",
       " '/usr/share/fonts/truetype/nanum/NanumGothicEcoBold.ttf',\n",
       " '/usr/share/fonts/opentype/noto/NotoSansCJK-DemiLight.ttc',\n",
       " '/usr/share/fonts/opentype/noto/NotoSerifCJK-Black.ttc',\n",
       " '/usr/share/fonts/truetype/tlwg/Norasi.ttf',\n",
       " '/usr/share/fonts/truetype/tlwg/Kinnari-BoldItalic.ttf',\n",
       " '/usr/share/fonts/truetype/fonts-telu-extra/Pothana2000.ttf',\n",
       " '/usr/share/fonts/truetype/ttf-khmeros-core/KhmerOS.ttf',\n",
       " '/usr/share/fonts/truetype/freefont/FreeSerif.ttf',\n",
       " '/usr/share/fonts/truetype/liberation/LiberationSansNarrow-BoldItalic.ttf',\n",
       " '/usr/share/fonts/truetype/tlwg/Sawasdee.ttf',\n",
       " '/usr/share/fonts/truetype/malayalam/Suruma.ttf',\n",
       " '/usr/share/fonts/truetype/tlwg/Purisa-Oblique.ttf',\n",
       " '/usr/share/fonts/opentype/noto/NotoSansCJK-Regular.ttc',\n",
       " '/home/aiffel/.local/share/fonts/FiraCode-Bold.ttf',\n",
       " '/home/aiffel/.local/share/fonts/FiraCode-Regular.ttf',\n",
       " '/usr/share/fonts/truetype/malayalam/Meera.ttf',\n",
       " '/usr/share/fonts/opentype/firacode/FiraCode-Light.otf',\n",
       " '/usr/share/fonts/truetype/tlwg/Loma-BoldOblique.ttf',\n",
       " '/usr/share/fonts/truetype/tlwg/TlwgTypist.ttf',\n",
       " '/usr/share/fonts/truetype/ubuntu/UbuntuMono-R.ttf',\n",
       " '/usr/share/fonts/truetype/lohit-telugu/Lohit-Telugu.ttf',\n",
       " '/usr/share/fonts/truetype/tibetan-machine/TibetanMachineUni.ttf',\n",
       " '/usr/share/fonts/truetype/liberation2/LiberationSerif-Italic.ttf',\n",
       " '/usr/share/fonts/truetype/liberation2/LiberationSerif-BoldItalic.ttf',\n",
       " '/usr/share/fonts/truetype/liberation/LiberationSerif-Italic.ttf',\n",
       " '/usr/share/fonts/opentype/noto/NotoSansCJK-Light.ttc',\n",
       " '/usr/share/fonts/truetype/tlwg/Sawasdee-Bold.ttf',\n",
       " '/usr/share/fonts/truetype/tlwg/Umpush-Light.ttf',\n",
       " '/usr/share/fonts/truetype/tlwg/Waree-Oblique.ttf',\n",
       " '/usr/share/fonts/truetype/nanum/NanumMyeongjoEcoBold.ttf',\n",
       " '/usr/share/fonts/truetype/samyak-fonts/Samyak-Tamil.ttf',\n",
       " '/usr/share/fonts/opentype/noto/NotoSansCJK-Regular.ttc',\n",
       " '/usr/share/fonts/truetype/tlwg/Waree-Bold.ttf',\n",
       " '/usr/share/fonts/truetype/liberation2/LiberationMono-Regular.ttf',\n",
       " '/usr/share/fonts/truetype/ubuntu/UbuntuMono-RI.ttf',\n",
       " '/usr/share/fonts/truetype/padauk/PadaukBook-Regular.ttf',\n",
       " '/usr/share/fonts/opentype/noto/NotoSerifCJK-Regular.ttc',\n",
       " '/usr/share/fonts/truetype/tlwg/TlwgMono-Bold.ttf',\n",
       " '/usr/share/fonts/truetype/dejavu/DejaVuSansCondensed-BoldOblique.ttf',\n",
       " '/usr/share/fonts/opentype/noto/NotoSerifCJK-ExtraLight.ttc',\n",
       " '/usr/share/fonts/truetype/fonts-gujr-extra/Rekha.ttf',\n",
       " '/usr/share/fonts/truetype/nanum/NanumMyeongjoBold.ttf',\n",
       " '/usr/share/fonts/opentype/noto/NotoSerifCJK-Black.ttc',\n",
       " '/usr/share/fonts/truetype/tlwg/Loma-Oblique.ttf',\n",
       " '/usr/share/fonts/truetype/dejavu/DejaVuSerifCondensed.ttf',\n",
       " '/usr/share/fonts/opentype/noto/NotoSansCJK-Regular.ttc',\n",
       " '/usr/share/fonts/truetype/dejavu/DejaVuSerif-BoldItalic.ttf',\n",
       " '/usr/share/fonts/truetype/liberation/LiberationSansNarrow-Italic.ttf',\n",
       " '/usr/share/fonts/opentype/firacode/FiraCode-Medium.otf',\n",
       " '/usr/share/fonts/truetype/kacst/KacstDigital.ttf',\n",
       " '/usr/share/fonts/truetype/kacst/KacstTitle.ttf',\n",
       " '/usr/share/fonts/truetype/liberation2/LiberationSerif-Regular.ttf',\n",
       " '/usr/share/fonts/truetype/fonts-gujr-extra/aakar-medium.ttf',\n",
       " '/usr/share/fonts/truetype/nanum/NanumSquareEB.ttf',\n",
       " '/usr/share/fonts/truetype/tlwg/Garuda-Bold.ttf',\n",
       " '/usr/share/fonts/truetype/tlwg/Garuda-BoldOblique.ttf',\n",
       " '/usr/share/fonts/truetype/lohit-kannada/Lohit-Kannada.ttf',\n",
       " '/usr/share/fonts/truetype/nanum/NanumBarunGothic.ttf',\n",
       " '/usr/share/fonts/truetype/fonts-deva-extra/samanata.ttf',\n",
       " '/usr/share/fonts/truetype/liberation2/LiberationSans-Italic.ttf',\n",
       " '/usr/share/fonts/truetype/Sarai/Sarai.ttf',\n",
       " '/usr/share/fonts/opentype/noto/NotoSerifCJK-Regular.ttc',\n",
       " '/usr/share/fonts/truetype/tlwg/Purisa.ttf',\n",
       " '/usr/share/fonts/truetype/malayalam/Dyuthi.ttf',\n",
       " '/usr/share/fonts/truetype/nanum/NanumSquareL.ttf',\n",
       " '/usr/share/fonts/truetype/dejavu/DejaVuSerifCondensed-Bold.ttf',\n",
       " '/usr/share/fonts/truetype/freefont/FreeMono.ttf',\n",
       " '/usr/share/fonts/truetype/sinhala/lklug.ttf',\n",
       " '/usr/share/fonts/truetype/tlwg/TlwgTypo-Oblique.ttf',\n",
       " '/usr/share/fonts/truetype/nanum/NanumMyeongjoEcoExtraBold.ttf',\n",
       " '/usr/share/fonts/truetype/kacst/KacstNaskh.ttf',\n",
       " '/usr/share/fonts/truetype/liberation/LiberationMono-Regular.ttf',\n",
       " '/usr/share/fonts/truetype/fonts-deva-extra/chandas1-2.ttf',\n",
       " '/usr/share/fonts/truetype/droid/DroidSansFallbackFull.ttf',\n",
       " '/usr/share/fonts/truetype/kacst/KacstLetter.ttf',\n",
       " '/usr/share/fonts/truetype/tlwg/TlwgTypist-BoldOblique.ttf',\n",
       " '/usr/share/fonts/opentype/noto/NotoSerifCJK-Medium.ttc',\n",
       " '/usr/share/fonts/truetype/nanum/NanumBrush.ttf',\n",
       " '/usr/share/fonts/opentype/noto/NotoSerifCJK-Medium.ttc',\n",
       " '/usr/share/fonts/truetype/tlwg/TlwgTypewriter.ttf',\n",
       " '/usr/share/fonts/truetype/tlwg/Kinnari.ttf',\n",
       " '/usr/share/fonts/truetype/tlwg/Norasi-Italic.ttf',\n",
       " '/usr/share/fonts/opentype/noto/NotoSerifCJK-SemiBold.ttc',\n",
       " '/usr/share/fonts/truetype/lohit-assamese/Lohit-Assamese.ttf',\n",
       " '/usr/share/fonts/opentype/noto/NotoSansCJK-Medium.ttc',\n",
       " '/usr/share/fonts/truetype/kacst-one/KacstOne-Bold.ttf',\n",
       " '/usr/share/fonts/truetype/padauk/Padauk-Bold.ttf',\n",
       " '/usr/share/fonts/truetype/tlwg/TlwgTypewriter-Bold.ttf',\n",
       " '/usr/share/fonts/truetype/Nakula/nakula.ttf',\n",
       " '/usr/share/fonts/truetype/fonts-telu-extra/vemana2000.ttf',\n",
       " '/usr/share/fonts/truetype/dejavu/DejaVuSans.ttf',\n",
       " '/usr/share/fonts/truetype/tlwg/Kinnari-Bold.ttf',\n",
       " '/usr/share/fonts/opentype/noto/NotoSansCJK-Black.ttc',\n",
       " '/usr/share/fonts/truetype/padauk/PadaukBook-Bold.ttf',\n",
       " '/usr/share/fonts/truetype/nanum/NanumSquareRoundR.ttf',\n",
       " '/usr/share/fonts/truetype/tlwg/Purisa-Bold.ttf',\n",
       " '/usr/share/fonts/truetype/tlwg/Norasi-Oblique.ttf',\n",
       " '/usr/share/fonts/truetype/kacst/KacstFarsi.ttf',\n",
       " '/usr/share/fonts/truetype/tlwg/Laksaman-Italic.ttf',\n",
       " '/usr/share/fonts/truetype/nanum/NanumBarunGothicLight.ttf',\n",
       " '/usr/share/fonts/truetype/fonts-kalapi/Kalapi.ttf',\n",
       " '/usr/share/fonts/opentype/noto/NotoSansCJK-Regular.ttc',\n",
       " '/usr/share/fonts/truetype/fonts-gujr-extra/padmaa-Medium-0.5.ttf',\n",
       " '/usr/share/fonts/opentype/noto/NotoSansCJK-Regular.ttc',\n",
       " '/usr/share/fonts/truetype/samyak/Samyak-Devanagari.ttf',\n",
       " '/usr/share/fonts/opentype/noto/NotoSansCJK-Thin.ttc',\n",
       " '/usr/share/fonts/truetype/dejavu/DejaVuSansMono-Bold.ttf',\n",
       " '/usr/share/fonts/truetype/abyssinica/AbyssinicaSIL-R.ttf',\n",
       " '/usr/share/fonts/truetype/nanum/NanumBarunGothicBold.ttf',\n",
       " '/usr/share/fonts/opentype/noto/NotoSansCJK-DemiLight.ttc',\n",
       " '/usr/share/fonts/opentype/noto/NotoSerifCJK-Light.ttc',\n",
       " '/usr/share/fonts/truetype/Navilu/Navilu.ttf',\n",
       " '/usr/share/fonts/truetype/padauk/Padauk-Regular.ttf',\n",
       " '/usr/share/fonts/truetype/dejavu/DejaVuSerif-Bold.ttf',\n",
       " '/usr/share/fonts/truetype/nanum/NanumGothicCoding.ttf',\n",
       " '/usr/share/fonts/truetype/tlwg/Kinnari-Oblique.ttf',\n",
       " '/usr/share/fonts/truetype/liberation/LiberationSerif-Bold.ttf',\n",
       " '/usr/share/fonts/truetype/dejavu/DejaVuSerif.ttf',\n",
       " '/usr/share/fonts/opentype/noto/NotoSerifCJK-ExtraLight.ttc',\n",
       " '/usr/share/fonts/truetype/tlwg/Umpush-Oblique.ttf',\n",
       " '/usr/share/fonts/truetype/dejavu/DejaVuSerif-Italic.ttf',\n",
       " '/usr/share/fonts/opentype/noto/NotoSansCJK-Black.ttc',\n",
       " '/usr/share/fonts/truetype/freefont/FreeMonoOblique.ttf',\n",
       " '/home/aiffel/.local/share/fonts/FiraCode-SemiBold.ttf',\n",
       " '/usr/share/fonts/truetype/fonts-beng-extra/ani.ttf',\n",
       " '/usr/share/fonts/opentype/noto/NotoSansCJK-Medium.ttc',\n",
       " '/usr/share/fonts/truetype/dejavu/DejaVuSansMono-BoldOblique.ttf',\n",
       " '/home/aiffel/.local/share/fonts/FiraCode-Medium.ttf',\n",
       " '/usr/share/fonts/truetype/pagul/Pagul.ttf',\n",
       " '/usr/share/fonts/opentype/malayalam/Manjari-Thin.otf',\n",
       " '/usr/share/fonts/opentype/firacode/FiraCode-Regular.otf',\n",
       " '/usr/share/fonts/truetype/tlwg/TlwgMono-BoldOblique.ttf',\n",
       " '/usr/share/fonts/opentype/noto/NotoSansCJK-Light.ttc',\n",
       " '/usr/share/fonts/truetype/fonts-guru-extra/Saab.ttf',\n",
       " '/usr/share/fonts/truetype/tlwg/TlwgTypo.ttf',\n",
       " '/usr/share/fonts/opentype/noto/NotoSansCJK-Light.ttc',\n",
       " '/usr/share/fonts/truetype/freefont/FreeSans.ttf',\n",
       " '/usr/share/fonts/truetype/freefont/FreeMonoBold.ttf',\n",
       " '/usr/share/fonts/truetype/nanum/NanumGothic.ttf',\n",
       " '/usr/share/fonts/truetype/fonts-orya-extra/utkal.ttf',\n",
       " '/usr/share/fonts/truetype/tlwg/TlwgTypist-Oblique.ttf',\n",
       " '/usr/share/fonts/truetype/liberation2/LiberationSans-Regular.ttf',\n",
       " '/usr/share/fonts/opentype/noto/NotoSerifCJK-Medium.ttc',\n",
       " '/usr/share/fonts/opentype/noto/NotoSansCJK-Light.ttc',\n",
       " '/usr/share/fonts/truetype/nanum/NanumGothicEco.ttf',\n",
       " '/usr/share/fonts/truetype/freefont/FreeSerifItalic.ttf',\n",
       " '/usr/share/fonts/truetype/dejavu/DejaVuSansMono.ttf',\n",
       " '/usr/share/fonts/opentype/noto/NotoSerifCJK-Light.ttc',\n",
       " '/usr/share/fonts/opentype/noto/NotoSerifCJK-Black.ttc',\n",
       " '/usr/share/fonts/opentype/noto/NotoSansCJK-Thin.ttc',\n",
       " '/usr/share/fonts/truetype/tlwg/Laksaman-BoldItalic.ttf',\n",
       " '/usr/share/fonts/opentype/noto/NotoSerifCJK-ExtraLight.ttc',\n",
       " '/usr/share/fonts/truetype/lohit-devanagari/Lohit-Devanagari.ttf',\n",
       " '/usr/share/fonts/truetype/ubuntu/Ubuntu-B.ttf',\n",
       " '/home/aiffel/.local/share/fonts/FiraCode-Light.ttf',\n",
       " '/usr/share/fonts/truetype/ubuntu/Ubuntu-LI.ttf',\n",
       " '/usr/share/fonts/truetype/ubuntu/Ubuntu-R.ttf',\n",
       " '/usr/share/fonts/truetype/ubuntu/Ubuntu-RI.ttf',\n",
       " '/usr/share/fonts/truetype/dejavu/DejaVuSerifCondensed-BoldItalic.ttf',\n",
       " '/usr/share/fonts/truetype/malayalam/Karumbi.ttf',\n",
       " '/usr/share/fonts/truetype/dejavu/DejaVuSansCondensed-Oblique.ttf',\n",
       " '/usr/share/fonts/opentype/noto/NotoSansCJK-DemiLight.ttc',\n",
       " '/usr/share/fonts/truetype/freefont/FreeSansBold.ttf',\n",
       " '/usr/share/fonts/truetype/dejavu/DejaVuSansCondensed.ttf',\n",
       " '/usr/share/fonts/opentype/noto/NotoSerifCJK-SemiBold.ttc',\n",
       " '/usr/share/fonts/truetype/dejavu/DejaVuSansMono-Oblique.ttf',\n",
       " '/usr/share/fonts/opentype/noto/NotoSansCJK-Regular.ttc',\n",
       " '/usr/share/fonts/truetype/nanum/NanumBarunGothicUltraLight.ttf',\n",
       " '/usr/share/fonts/truetype/kacst/KacstScreen.ttf',\n",
       " '/usr/share/fonts/opentype/noto/NotoSansCJK-Thin.ttc',\n",
       " '/usr/share/fonts/truetype/tlwg/Kinnari-Italic.ttf',\n",
       " '/usr/share/fonts/truetype/lohit-malayalam/Lohit-Malayalam.ttf',\n",
       " '/usr/share/fonts/opentype/noto/NotoSansCJK-Thin.ttc',\n",
       " '/usr/share/fonts/truetype/nanum/NanumGothicExtraBold.ttf',\n",
       " '/usr/share/fonts/truetype/liberation2/LiberationMono-Bold.ttf',\n",
       " '/usr/share/fonts/truetype/liberation/LiberationMono-Bold.ttf',\n",
       " '/usr/share/fonts/truetype/lohit-oriya/Lohit-Odia.ttf',\n",
       " '/usr/share/fonts/truetype/nanum/NanumSquareRoundB.ttf',\n",
       " '/usr/share/fonts/opentype/noto/NotoSansCJK-Black.ttc',\n",
       " '/usr/share/fonts/truetype/kacst/KacstPoster.ttf',\n",
       " '/usr/share/fonts/truetype/nanum/NanumGothicEcoExtraBold.ttf',\n",
       " '/usr/share/fonts/truetype/liberation2/LiberationMono-Italic.ttf',\n",
       " '/usr/share/fonts/opentype/noto/NotoSansCJK-Thin.ttc',\n",
       " '/usr/share/fonts/truetype/tlwg/Garuda.ttf',\n",
       " '/usr/share/fonts/truetype/Gubbi/Gubbi.ttf',\n",
       " '/usr/share/fonts/truetype/tlwg/Purisa-BoldOblique.ttf',\n",
       " '/usr/share/fonts/truetype/dejavu/DejaVuSans-Oblique.ttf',\n",
       " '/usr/share/fonts/opentype/noto/NotoSansCJK-Black.ttc',\n",
       " '/usr/share/fonts/truetype/fonts-gujr-extra/padmaa.ttf']"
      ]
     },
     "execution_count": 7,
     "metadata": {},
     "output_type": "execute_result"
    }
   ],
   "source": [
    "import matplotlib\n",
    "import matplotlib.font_manager as fm\n",
    "fm.get_fontconfig_fonts()"
   ]
  },
  {
   "cell_type": "code",
   "execution_count": 11,
   "metadata": {},
   "outputs": [],
   "source": [
    "font_location='/usr/share/fonts/truetype/nanum/NanumMyeongjo.ttf'\n",
    "font_name=fm.FontProperties(fname=font_location).get_name()\n",
    "matplotlib.rc('font', family=font_name)"
   ]
  },
  {
   "cell_type": "code",
   "execution_count": 9,
   "metadata": {},
   "outputs": [
    {
     "data": {
      "text/plain": [
       "<AxesSubplot:>"
      ]
     },
     "execution_count": 9,
     "metadata": {},
     "output_type": "execute_result"
    },
    {
     "data": {
      "image/png": "[encoded data removed]",
      "text/plain": [
       "<Figure size 432x288 with 1 Axes>"
      ]
     },
     "metadata": {
      "needs_background": "light"
     },
     "output_type": "display_data"
    }
   ],
   "source": [
    "df['code'].value_counts().plot(kind = 'bar')"
   ]
  },
  {
   "cell_type": "code",
   "execution_count": 10,
   "metadata": {},
   "outputs": [
    {
     "name": "stdout",
     "output_type": "stream",
     "text": [
      "    code  count\n",
      "0  IT/과학    903\n",
      "1     사회   1668\n",
      "2  생활/문화   1423\n"
     ]
    }
   ],
   "source": [
    "# 실 개수 확인\n",
    "print(df.groupby('code').size().reset_index(name = 'count'))"
   ]
  },
  {
   "cell_type": "markdown",
   "metadata": {},
   "source": [
    "### 토큰화\n",
    "자연어 처리 - 문자열은 특정 단위로 나누어지는데 이 특정 단위가 바로 토큰이다\n",
    "토크나이징 - 문자열을 토큰으로 break down into pieces\n",
    "[영어와 한국어의 토큰화의 차이](https://wikidocs.net/21698)   \n",
    "-> 한국어 자연어처리의 경우에는 토큰화 과정을 주로 형태소 분석기를 사용해서 수행    \n",
    "한국어의 경우 교착어라는 특성으로 인해 조사, 어미 등이 붙어있어 띄어쓰기 단위로\n",
    "토큰화를 할 경우에는 같은 단어임에도 다른 단어로 인식될 수 있다."
   ]
  },
  {
   "cell_type": "code",
   "execution_count": 14,
   "metadata": {},
   "outputs": [
    {
     "name": "stdout",
     "output_type": "stream",
     "text": [
      "['밤', '에', '귀가', '하', '던', '여성', '에게', '범죄', '를', '시도', '한', '대', '남성', '이', '구속', '됐', '다', '서울', '제주', '경찰서', '는', '상해', '혐의', '로', '씨', '를', '구속', '해', '수사', '하', '고', '있', '다고', '일', '밝혔', '다', '씨', '는', '지난달', '일', '피해', '여성', '을', '인근', '지하철', '역', '에서부터', '따라가', '폭행', '을', '시도', '하', '려다가', '도망간', '혐의', '를', '받', '는다', '피해', '여성', '이', '저항', '하', '자', '놀란', '씨', '는', '도망갔으며', '신고', '를', '받', '고', '주변', '을', '수색', '하', '던', '경찰', '에', '체포', '됐', '다', '피해', '여성', '은', '이', '과정', '에서', '경미', '한', '부상', '을', '입', '은', '것', '으로', '전해졌', '다']\n"
     ]
    }
   ],
   "source": [
    "# 형태소 패키지 라이브러리 Mecab\n",
    "# Mecab의 .morphs를 사용하면 입력 문자열을 형태소 단위로 나눠줌\n",
    "from konlpy.tag import Mecab\n",
    "tokenizer = Mecab()\n",
    "\n",
    "kor_text = '밤에 귀가하던 여성에게 범죄를 시도한 대 남성이 구속됐다서울 제주경찰서는 \\\n",
    "            상해 혐의로 씨를 구속해 수사하고 있다고 일 밝혔다씨는 지난달 일 피해 여성을 \\\n",
    "            인근 지하철 역에서부터 따라가 폭행을 시도하려다가 도망간 혐의를 받는다피해 \\\n",
    "            여성이 저항하자 놀란 씨는 도망갔으며 신고를 받고 주변을 수색하던 경찰에 \\\n",
    "            체포됐다피해 여성은 이 과정에서 경미한 부상을 입은 것으로 전해졌다'\n",
    "\n",
    "#- 형태소 분석, 즉 토큰화(tokenization)를 합니다.\n",
    "print(tokenizer.morphs(kor_text))"
   ]
  },
  {
   "cell_type": "markdown",
   "metadata": {},
   "source": [
    "자연어 처리: 토큰화 결과가 얼마나 정확한지에 다라 그 성능에 많은 영향을 받는다    \n",
    "형태소 분석기의 결과가 머신러닝 결과의 성능에 큰 영향을 주기도 한다"
   ]
  },
  {
   "cell_type": "markdown",
   "metadata": {},
   "source": [
    "### 불용어 제거(stopwords)\n",
    "토큰화 전처리 필수과정 - 불필요한 토큰들을 제거하는 불용어 제거     \n"
   ]
  },
  {
   "cell_type": "code",
   "execution_count": 34,
   "metadata": {},
   "outputs": [],
   "source": [
    "stopwords = ['에','는','은','을','했','에게','있','이','의','하','한','다','과','때문','할','수','무단','따른','및','금지','전재','경향신문','기자','는데','가','등','들','파이낸셜','저작','등','뉴스', 'ㄴ','었','었다']"
   ]
  },
  {
   "cell_type": "markdown",
   "metadata": {},
   "source": [
    "불용어 - 미리 짐작하여 한 번에 정의한는 것이 아니라 토큰화 과정을 거친 결과를 지속적으로 확인하면서 계속 추가하게 되는게 일반적이다"
   ]
  },
  {
   "cell_type": "code",
   "execution_count": 16,
   "metadata": {},
   "outputs": [],
   "source": [
    "# 토큰화 및 토큰화 과정에서 불용어를 제거하는 함수입니다.\n",
    "def preprocessing(data):\n",
    "  text_data = []\n",
    "\n",
    "  for sentence in data:\n",
    "    temp_data = []\n",
    "    #- 토큰화\n",
    "    temp_data = tokenizer.morphs(sentence) \n",
    "    #- 불용어 제거\n",
    "    temp_data = [word for word in temp_data if not word in stopwords] \n",
    "    text_data.append(temp_data)\n",
    "\n",
    "  text_data = list(map(' '.join, text_data))\n",
    "\n",
    "  return text_data"
   ]
  },
  {
   "cell_type": "code",
   "execution_count": 17,
   "metadata": {},
   "outputs": [
    {
     "name": "stdout",
     "output_type": "stream",
     "text": [
      "파주 시청 사진제 공파 주시 파주 시청 사진 제공 파주시 파주 강근주 파 주 시 일 관내 취약 계층 만 가구 대해 정부 긴급 재난 지원금 입금 완료 다파 주 시민 받 긴급 재난 지원금 인 이상 가구 기준 으로 만 원 받 게 되 며 인 가구 만 원 인 가구 만 원 인 가구 만 원 정부 발표 긴급 재난 지원금 파주 시민 지급 금액 다른 이유 국비 지방비 부담 비율 다파 주 시 이미 모든 시민 경기도 파주시 재난 기본 소득 인 당 각 만 원 지급 고 어 시민 국비 지원금 만 지급 며 인 가구 기준 으로 총 지원 금액 파주시 재난 기본소득 만 원 경기도 재난 기본소득 만 원 정부 긴급 재난 지원금 만 원 총 만 원 받 게 된다 취약 계층 아닌 시민 오 월일 부터 소지 고 신용 체크카드 사 홈페이지 에서 긴급 재난 지원금 지원 신청 세대주 가족 지원금 일괄 신청 해야 한다 한편 파 주 시 일 김정기 부시장 단장 으로 긴급 재난 지원금 추진 태 스 크 포스 를 구성 해 긴급 재난 지원금 원활 게 지급 될 도록 지원 한다 권 자 재 배포\n"
     ]
    }
   ],
   "source": [
    "# 전체 데이터에 대해서 토큰화 및 불용어 제거를 수행한 뒤 첫 번째 샘플을 출력\n",
    "text_data = preprocessing(df['news'])\n",
    "print(text_data[0])"
   ]
  },
  {
   "cell_type": "markdown",
   "metadata": {},
   "source": [
    "### ML모델 적용을 위해 필요한 도구들 가져오기"
   ]
  },
  {
   "cell_type": "code",
   "execution_count": 18,
   "metadata": {},
   "outputs": [],
   "source": [
    "from sklearn.model_selection import train_test_split\n",
    "from sklearn.feature_extraction.text import CountVectorizer\n",
    "from sklearn.feature_extraction.text import TfidfTransformer\n",
    "from sklearn.naive_bayes import MultinomialNB\n",
    "from sklearn import metrics"
   ]
  },
  {
   "cell_type": "code",
   "execution_count": 19,
   "metadata": {},
   "outputs": [],
   "source": [
    "#- 훈련 데이터와 테스트 데이터를 분리합니다.\n",
    "X_train, X_test, y_train, y_test = train_test_split(text_data, df['code'], random_state = 10)"
   ]
  },
  {
   "cell_type": "code",
   "execution_count": 20,
   "metadata": {},
   "outputs": [
    {
     "name": "stdout",
     "output_type": "stream",
     "text": [
      "훈련용 뉴스 기사의 개수 : 2995\n",
      "테스트용 뉴스 기사의 개수 :  999\n",
      "훈련용 레이블의 개수 :  2995\n",
      "테스트용 레이블의 개수 :  999\n"
     ]
    }
   ],
   "source": [
    "print('훈련용 뉴스 기사의 개수 :', len(X_train))\n",
    "print('테스트용 뉴스 기사의 개수 : ', len(X_test))\n",
    "print('훈련용 레이블의 개수 : ', len(y_train))\n",
    "print('테스트용 레이블의 개수 : ', len(y_test))"
   ]
  },
  {
   "cell_type": "markdown",
   "metadata": {},
   "source": [
    "기계는 텍스트보다 숫자를 더 잘 처리한다    \n",
    "ML모델인 나이브 베이즈 분류기를 사용하기 위해서는 각 뉴스의 텍스트 데이터를 벡터로 변환할 필요가 있다    \n",
    "TF-IDF 방법 사용"
   ]
  },
  {
   "cell_type": "markdown",
   "metadata": {},
   "source": [
    "### 각 뉴스 문서를 TF-IDF 벡터로 바꾼 뒤 나이브 베이즈 분류기를 학습"
   ]
  },
  {
   "cell_type": "markdown",
   "metadata": {},
   "source": [
    "`fit_transform()` 함수는 fit, transform을 연이어 수행하는 함수로, `CountVectorizer.fit_transform()` 은 단어 데이터를 학습하고 문서 데이터를 document-form matrix로 변환하는 두 가지 작업을 해 준다\n",
    "[사이킷런 참고자료](https://scikit-learn.org/stable/modules/generated/sklearn.feature_extraction.text.CountVectorizer.html#sklearn.feature_extraction.text.CountVectorizer.fit_transform)"
   ]
  },
  {
   "cell_type": "code",
   "execution_count": 21,
   "metadata": {},
   "outputs": [],
   "source": [
    "#- 단어의 수를 카운트하는 사이킷런의 카운트벡터라이저입니다.\n",
    "count_vect = CountVectorizer()\n",
    "X_train_counts = count_vect.fit_transform(X_train)\n",
    "\n",
    "#- 카운트벡터라이저의 결과로부터 TF-IDF 결과를 얻습니다.\n",
    "tfidf_transformer = TfidfTransformer()\n",
    "X_train_tfidf = tfidf_transformer.fit_transform(X_train_counts)\n",
    "\n",
    "#- 나이브 베이즈 분류기를 수행합니다.\n",
    "#- X_train은 TF-IDF 벡터, y_train은 레이블입니다.\n",
    "clf = MultinomialNB().fit(X_train_tfidf, y_train)"
   ]
  },
  {
   "cell_type": "code",
   "execution_count": 22,
   "metadata": {},
   "outputs": [],
   "source": [
    "# 테스트 하기\n",
    "\n",
    "# 텍스트 입력을 자동으로 TF-IDF 벡터로 바꾸는 전처리 함수 만들기\n",
    "# 이걸로 바로 txt -> 나이브 베이즈 분류기 입력으로 사용함으로써 용이한 테스트 가능"
   ]
  },
  {
   "cell_type": "code",
   "execution_count": 23,
   "metadata": {},
   "outputs": [],
   "source": [
    "def tfidf_vectorizer(data):\n",
    "  data_counts = count_vect.transform(data)\n",
    "  data_tfidf = tfidf_transformer.transform(data_counts)\n",
    "  return data_tfidf"
   ]
  },
  {
   "cell_type": "code",
   "execution_count": 24,
   "metadata": {},
   "outputs": [
    {
     "name": "stdout",
     "output_type": "stream",
     "text": [
      "['사회']\n"
     ]
    }
   ],
   "source": [
    "# 임의의 뉴스에 대한 카테고리 확인하기\n",
    "# 훈련, 테스트 데이터 아닌 임의 뉴스임\n",
    "# clf.predict() : 임의의 입력에 대해 나이브 베이즈 분류기가 예측한 값을 리턴함\n",
    "new_sent = preprocessing([\"민주당 일각에서 법사위의 체계·자구 심사 기능을 없애야 한다는 \\\n",
    "                           주장이 나오는 데 대해 “체계·자구 심사가 법안 지연의 수단으로 \\\n",
    "                          쓰이는 것은 바람직하지 않다”면서도 “국회를 통과하는 법안 중 위헌\\\n",
    "                          법률이 1년에 10건 넘게 나온다. 그런데 체계·자구 심사까지 없애면 매우 위험하다”고 반박했다.\"])\n",
    "print(clf.predict(tfidf_vectorizer(new_sent)))"
   ]
  },
  {
   "cell_type": "code",
   "execution_count": 25,
   "metadata": {},
   "outputs": [
    {
     "name": "stdout",
     "output_type": "stream",
     "text": [
      "['생활/문화']\n"
     ]
    }
   ],
   "source": [
    "new_sent = preprocessing([\"인도 로맨틱 코미디 영화 <까립까립 싱글>(2017)을 봤을 때 나는 두 눈을 의심했다. \\\n",
    "                          저 사람이 남자 주인공이라고? 노안에 가까운 이목구비와 기름때로 뭉친 파마머리와, \\\n",
    "                          대충 툭툭 던지는 말투 등 전혀 로맨틱하지 않은 외모였다. 반감이 일면서 \\\n",
    "                          ‘난 외모지상주의자가 아니다’라고 자부했던 나에 대해 회의가 들었다.\\\n",
    "                           티브이를 꺼버릴까? 다른 걸 볼까? 그런데, 이상하다. 왜 이렇게 매력 있지? 개구리와\\\n",
    "                            같이 툭 불거진 눈망울 안에는 어떤 인도 배우에게서도 느끼지 못한 \\\n",
    "                            부드러움과 선량함, 무엇보다 슬픔이 있었다. 2시간 뒤 영화가 끝나고 나는 완전히 이 배우에게 빠졌다\"])\n",
    "print(clf.predict(tfidf_vectorizer(new_sent)))"
   ]
  },
  {
   "cell_type": "code",
   "execution_count": 26,
   "metadata": {},
   "outputs": [
    {
     "name": "stdout",
     "output_type": "stream",
     "text": [
      "['IT/과학']\n"
     ]
    }
   ],
   "source": [
    "new_sent = preprocessing([\"20분기 연속으로 적자에 시달리는 LG전자가 브랜드 이름부터 성능, 디자인까지 대대적인 변화를 \\\n",
    "                          적용한 LG 벨벳은 등장 전부터 온라인 커뮤니티를 뜨겁게 달궜다. 사용자들은 “디자인이 예쁘다”, \\\n",
    "                          “슬림하다”는 반응을 보이며 LG 벨벳에 대한 기대감을 드러냈다.\"])\n",
    "print(clf.predict(tfidf_vectorizer(new_sent)))"
   ]
  },
  {
   "cell_type": "code",
   "execution_count": 27,
   "metadata": {},
   "outputs": [
    {
     "name": "stdout",
     "output_type": "stream",
     "text": [
      "              precision    recall  f1-score   support\n",
      "\n",
      "       IT/과학       0.93      0.78      0.85       237\n",
      "          사회       0.79      0.90      0.84       428\n",
      "       생활/문화       0.81      0.76      0.79       334\n",
      "\n",
      "    accuracy                           0.82       999\n",
      "   macro avg       0.84      0.81      0.82       999\n",
      "weighted avg       0.83      0.82      0.82       999\n",
      "\n"
     ]
    }
   ],
   "source": [
    "y_pred = clf.predict(tfidf_vectorizer(X_test))\n",
    "print(metrics.classification_report(y_test, y_pred))"
   ]
  },
  {
   "cell_type": "code",
   "execution_count": null,
   "metadata": {},
   "outputs": [],
   "source": []
  },
  {
   "cell_type": "code",
   "execution_count": null,
   "metadata": {},
   "outputs": [],
   "source": []
  },
  {
   "cell_type": "code",
   "execution_count": null,
   "metadata": {},
   "outputs": [],
   "source": []
  },
  {
   "cell_type": "code",
   "execution_count": null,
   "metadata": {},
   "outputs": [],
   "source": []
  },
  {
   "cell_type": "markdown",
   "metadata": {},
   "source": [
    "# 3-11. 프로젝트 - 모델 성능 개선하기"
   ]
  },
  {
   "cell_type": "markdown",
   "metadata": {},
   "source": [
    "## Step 1. 형태소 분석기 변경해 보기"
   ]
  },
  {
   "cell_type": "code",
   "execution_count": 29,
   "metadata": {},
   "outputs": [
    {
     "name": "stdout",
     "output_type": "stream",
     "text": [
      "['밤', '에', '귀가', '하', '던', '여성', '에게', '범죄', '를', '시도', '한', '대', '남성', '이', '구속', '됐', '다', '서울', '제주', '경찰서', '는', '상해', '혐의', '로', '씨', '를', '구속', '해', '수사', '하', '고', '있', '다고', '일', '밝혔', '다', '씨', '는', '지난달', '일', '피해', '여성', '을', '인근', '지하철', '역', '에서부터', '따라가', '폭행', '을', '시도', '하', '려다가', '도망간', '혐의', '를', '받', '는다', '피해', '여성', '이', '저항', '하', '자', '놀란', '씨', '는', '도망갔으며', '신고', '를', '받', '고', '주변', '을', '수색', '하', '던', '경찰', '에', '체포', '됐', '다', '피해', '여성', '은', '이', '과정', '에서', '경미', '한', '부상', '을', '입', '은', '것', '으로', '전해졌', '다']\n"
     ]
    }
   ],
   "source": [
    "# 형태소 패키지 라이브러리 Mecab\n",
    "# Mecab의 .morphs를 사용하면 입력 문자열을 형태소 단위로 나눠줌\n",
    "from konlpy.tag import Mecab\n",
    "tokenizer = Mecab()\n",
    "\n",
    "kor_text = '밤에 귀가하던 여성에게 범죄를 시도한 대 남성이 구속됐다서울 제주경찰서는 \\\n",
    "            상해 혐의로 씨를 구속해 수사하고 있다고 일 밝혔다씨는 지난달 일 피해 여성을 \\\n",
    "            인근 지하철 역에서부터 따라가 폭행을 시도하려다가 도망간 혐의를 받는다피해 \\\n",
    "            여성이 저항하자 놀란 씨는 도망갔으며 신고를 받고 주변을 수색하던 경찰에 \\\n",
    "            체포됐다피해 여성은 이 과정에서 경미한 부상을 입은 것으로 전해졌다'\n",
    "\n",
    "#- 형태소 분석, 즉 토큰화(tokenization)를 합니다.\n",
    "print(tokenizer.morphs(kor_text))"
   ]
  },
  {
   "cell_type": "code",
   "execution_count": 30,
   "metadata": {},
   "outputs": [],
   "source": [
    "# 불용어\n",
    "stopwords = ['에','는','은','을','했','에게','있','이','의','하','한','다','과','때문','할','수','무단','따른','및','금지','전재','경향신문','기자','는데','가','등','들','파이낸셜','저작','등','뉴스']"
   ]
  },
  {
   "cell_type": "code",
   "execution_count": 31,
   "metadata": {},
   "outputs": [],
   "source": [
    "# 토큰화 및 토큰화 과정에서 불용어를 제거하는 함수입니다.\n",
    "def preprocessing(data):\n",
    "  text_data = []\n",
    "\n",
    "  for sentence in data:\n",
    "    temp_data = []\n",
    "    #- 토큰화\n",
    "    temp_data = tokenizer.morphs(sentence) \n",
    "    #- 불용어 제거\n",
    "    temp_data = [word for word in temp_data if not word in stopwords] \n",
    "    text_data.append(temp_data)\n",
    "\n",
    "  text_data = list(map(' '.join, text_data))\n",
    "\n",
    "  return text_data"
   ]
  },
  {
   "cell_type": "code",
   "execution_count": null,
   "metadata": {},
   "outputs": [],
   "source": [
    "text_data=preprocessing(df['news'])\n",
    "print(text_data[0])"
   ]
  },
  {
   "cell_type": "code",
   "execution_count": null,
   "metadata": {},
   "outputs": [],
   "source": []
  },
  {
   "cell_type": "code",
   "execution_count": null,
   "metadata": {},
   "outputs": [],
   "source": []
  },
  {
   "cell_type": "code",
   "execution_count": null,
   "metadata": {},
   "outputs": [],
   "source": []
  },
  {
   "cell_type": "markdown",
   "metadata": {},
   "source": [
    "### (1) Hannanum 분석기"
   ]
  },
  {
   "cell_type": "code",
   "execution_count": 35,
   "metadata": {},
   "outputs": [
    {
     "name": "stdout",
     "output_type": "stream",
     "text": [
      "['에', '는', '은', '을', '했', '에게', '있', '이', '의', '하', '한', '다', '과', '때문', '할', '수', '무단', '따른', '및', '금지', '전재', '경향신문', '기자', '는데', '가', '등', '들', '파이낸셜', '저작', '등', '뉴스', 'ㄴ', '었', '었다']\n"
     ]
    }
   ],
   "source": [
    "print(stopwords)"
   ]
  },
  {
   "cell_type": "code",
   "execution_count": 36,
   "metadata": {},
   "outputs": [
    {
     "name": "stdout",
     "output_type": "stream",
     "text": [
      "['밤', '에', '귀가', '하', '던', '여성', '에게', '범죄', '를', '시도', '하', 'ㄴ', '대', '남성', '이', '구속됐다서울', '제주경찰', '서는', '상하', '어', '혐의', '로', '씨', '를', '구속해', '수사', '하고', '있', '다', '고', '일', '밝혔다씨', '는', '지난달', '일', '피하', '어', '여성', '을', '인근', '지하철', '역', '에서부터', '따르', '아', '가', '아', '폭행', '을', '시도', '하', '려', '다가', '도망가', 'ㄴ', '혐의', '를', '받는다피해', '여성', '이', '저항', '하', '자', '놀라', 'ㄴ', '씨', '는', '도망가', '아며', '신고', '를', '받', '고', '주변', '을', '수색', '하', '던', '경찰', '에', '체포됐다피해', '여성', '은', '이', '과정', '에서', '경미한', '부상', '을', '입', '은', '것', '으로', '전하', '어', '지', '었다']\n"
     ]
    }
   ],
   "source": [
    "from konlpy.tag import Hannanum\n",
    "tokenizer=Hannanum()\n",
    "\"\"\"\n",
    "kor_text = '밤에 귀가하던 여성에게 범죄를 시도한 대 남성이 구속됐다서울 제주경찰서는 \\\n",
    "            상해 혐의로 씨를 구속해 수사하고 있다고 일 밝혔다씨는 지난달 일 피해 여성을 \\\n",
    "            인근 지하철 역에서부터 따라가 폭행을 시도하려다가 도망간 혐의를 받는다피해 \\\n",
    "            여성이 저항하자 놀란 씨는 도망갔으며 신고를 받고 주변을 수색하던 경찰에 \\\n",
    "            체포됐다피해 여성은 이 과정에서 경미한 부상을 입은 것으로 전해졌다'\n",
    "\"\"\"\n",
    "print(tokenizer.morphs(kor_text))\n",
    "#print(tokenizer_h.nouns(kor_text))\n",
    "# stopwords에 ㄴ, ㅇ 을 추가해야 할까??\n"
   ]
  },
  {
   "cell_type": "code",
   "execution_count": 37,
   "metadata": {},
   "outputs": [
    {
     "name": "stdout",
     "output_type": "stream",
     "text": [
      "파주시청 사진제공파주시 파주시청 사진제공파주시파주파이낸셜뉴스 강근주 기 자 파 아 주 시는 일 관내 취약계층 만가구 대 어 어 정부 긴급재난지원금 입금 완료했다파주시민 받 긴급재난지원금 일 이상 가구 기준 으로 만원 받 게 되 며 일 가구 만원 일 가구 만원 일 가구 만원이다정부 발표 긴급재난지원금 파주시민 지급 금액 다르 이유 국비지방비 부담 비율 때문이다파주시 이미 모든 시민 경기도파주시 재난기본소득인당 각 만원 지급 하고 어 시민 국비 지원금 만 지급 며 일 가구 기준 으로 총 지원 금액 파주시 재난기본소득 만원 경기 도 재난기본소득 만원 정부 긴급재난지원금 만원 총 만원 받 게 된다취약계층 아니 시민 오 월일 부터 소 지 하고 신용체크카드사 홈페이지 에서 긴급재난지원금 지원 신청 ㄹ 세대주 가족 지원금 일괄 신청 어야 한다한편 파 아 주 시는 일 김정기 부시장 단장 으로 긴급재난지원금 추진 태스크포스 를 구성해 긴급재난지원금 원활 게 지급 되 ㄹ 도록 지원 ㄴ다 저작권자 파이낸셜뉴스 전재재배포\n"
     ]
    }
   ],
   "source": [
    "text_data=preprocessing(df['news'])\n",
    "print(text_data[0])"
   ]
  },
  {
   "cell_type": "markdown",
   "metadata": {},
   "source": [
    "### 추가할 stopword : ㄹ, ㄴ다, 며, 게"
   ]
  },
  {
   "cell_type": "code",
   "execution_count": null,
   "metadata": {},
   "outputs": [],
   "source": []
  },
  {
   "cell_type": "markdown",
   "metadata": {},
   "source": [
    "### hannanum ML모델 적용하여 평가하기"
   ]
  },
  {
   "cell_type": "code",
   "execution_count": 38,
   "metadata": {},
   "outputs": [],
   "source": [
    "#- 훈련 데이터와 테스트 데이터 분리\n",
    "X_train, X_test, y_train, y_test = train_test_split(text_data, df['code'], random_state = 10)\n",
    "\n",
    "# 나이브 베이즈 분류기 학습\n",
    "#- 단어의 수를 카운트하는 사이킷런의 카운트벡터라이저입니다.\n",
    "count_vect = CountVectorizer()\n",
    "X_train_counts = count_vect.fit_transform(X_train)\n",
    "\n",
    "#- 카운트벡터라이저의 결과로부터 TF-IDF 결과를 얻습니다.\n",
    "tfidf_transformer = TfidfTransformer()\n",
    "X_train_tfidf = tfidf_transformer.fit_transform(X_train_counts)\n",
    "\n",
    "#- 나이브 베이즈 분류기를 수행합니다.\n",
    "#- X_train은 TF-IDF 벡터, y_train은 레이블입니다.\n",
    "clf = MultinomialNB().fit(X_train_tfidf, y_train)"
   ]
  },
  {
   "cell_type": "code",
   "execution_count": 66,
   "metadata": {},
   "outputs": [
    {
     "name": "stdout",
     "output_type": "stream",
     "text": [
      "['사회']\n",
      "\n",
      "['생활/문화']\n",
      "\n",
      "['IT/과학']\n",
      "\n",
      "['IT/과학']\n"
     ]
    }
   ],
   "source": [
    "# 테스트\n",
    "# 임의의 뉴스에 대한 카테고리 확인하기\n",
    "# 훈련, 테스트 데이터 아닌 임의 뉴스임\n",
    "# clf.predict() : 임의의 입력에 대해 나이브 베이즈 분류기가 예측한 값을 리턴함\n",
    "new_sent = preprocessing([\"민주당 일각에서 법사위의 체계·자구 심사 기능을 없애야 한다는 \\\n",
    "                           주장이 나오는 데 대해 “체계·자구 심사가 법안 지연의 수단으로 \\\n",
    "                          쓰이는 것은 바람직하지 않다”면서도 “국회를 통과하는 법안 중 위헌\\\n",
    "                          법률이 1년에 10건 넘게 나온다. 그런데 체계·자구 심사까지 없애면 매우 위험하다”고 반박했다.\"])\n",
    "print(clf.predict(tfidf_vectorizer(new_sent)))\n",
    "print()\n",
    "new_sent = preprocessing([\"인도 로맨틱 코미디 영화 <까립까립 싱글>(2017)을 봤을 때 나는 두 눈을 의심했다. \\\n",
    "                          저 사람이 남자 주인공이라고? 노안에 가까운 이목구비와 기름때로 뭉친 파마머리와, \\\n",
    "                          대충 툭툭 던지는 말투 등 전혀 로맨틱하지 않은 외모였다. 반감이 일면서 \\\n",
    "                          ‘난 외모지상주의자가 아니다’라고 자부했던 나에 대해 회의가 들었다.\\\n",
    "                           티브이를 꺼버릴까? 다른 걸 볼까? 그런데, 이상하다. 왜 이렇게 매력 있지? 개구리와\\\n",
    "                            같이 툭 불거진 눈망울 안에는 어떤 인도 배우에게서도 느끼지 못한 \\\n",
    "                            부드러움과 선량함, 무엇보다 슬픔이 있었다. 2시간 뒤 영화가 끝나고 나는 완전히 이 배우에게 빠졌다\"])\n",
    "print(clf.predict(tfidf_vectorizer(new_sent)))\n",
    "print()\n",
    "new_sent= preprocessing([\"20분기 연속으로 적자에 시달리는 LG전자가 브랜드 이름부터 성능, 디자인까지 대대적인 변화를 \\\n",
    "                          적용한 LG 벨벳은 등장 전부터 온라인 커뮤니티를 뜨겁게 달궜다. 사용자들은 “디자인이 예쁘다”, \\\n",
    "                          “슬림하다”는 반응을 보이며 LG 벨벳에 대한 기대감을 드러냈다.\"])\n",
    "print(clf.predict(tfidf_vectorizer(new_sent)))\n",
    "print()\n",
    "new_sent = preprocessing([\"코로나19 이후 주목받기 시작한 비대면(언택트) 서비스에서 데이터와 AI는 핵심 역할을 한다. 데이터3법 개정으로 각 기업·기관이 가지고 있던 활용되지 못한 데이터가 유통됨에 따라 상당한 시너지 효과가 발생할 것으로 기대된다. 바야흐로 ‘데이터 경제 생태계’ 조성의 시작인 셈이다.\"])\n",
    "print(clf.predict(tfidf_vectorizer(new_sent)))"
   ]
  },
  {
   "cell_type": "code",
   "execution_count": 44,
   "metadata": {},
   "outputs": [
    {
     "name": "stdout",
     "output_type": "stream",
     "text": [
      "              precision    recall  f1-score   support\n",
      "\n",
      "       IT/과학       0.94      0.70      0.80       237\n",
      "          사회       0.78      0.89      0.83       428\n",
      "       생활/문화       0.78      0.77      0.78       334\n",
      "\n",
      "    accuracy                           0.81       999\n",
      "   macro avg       0.83      0.79      0.80       999\n",
      "weighted avg       0.82      0.81      0.81       999\n",
      "\n"
     ]
    }
   ],
   "source": [
    "y_pred = clf.predict(tfidf_vectorizer(X_test))\n",
    "print(metrics.classification_report(y_test, y_pred))"
   ]
  },
  {
   "cell_type": "code",
   "execution_count": null,
   "metadata": {},
   "outputs": [],
   "source": []
  },
  {
   "cell_type": "markdown",
   "metadata": {},
   "source": [
    "### (2) Kkma 분석기 "
   ]
  },
  {
   "cell_type": "code",
   "execution_count": 45,
   "metadata": {},
   "outputs": [
    {
     "name": "stdout",
     "output_type": "stream",
     "text": [
      "['밤', '에', '귀가', '하', '더', 'ㄴ', '여성', '에게', '범죄', '를', '시도', '하', 'ㄴ', '대', '남성', '이', '구속', '되', '었', '다', '서울', '제주', '경찰서', '는', '상해', '혐의', '로', '씨', '를', '구속', '하', '어', '수사', '하', '고', '있', '다고', '일', '밝히', '었', '다', '씨', '는', '지난달', '일', '피해', '여성', '을', '인근', '지하철', '역', '에서', '부터', '따라가', '폭행을', '시도', '하', '려', '다그', '아', '도망가', 'ㄴ', '혐의', '를', '받', '는', '다', '피해', '여성', '이', '저항', '하', '자', '놀라', 'ㄴ', '씨', '는', '도망가', '었', '으며', '신고', '를', '받', '고', '주변', '을', '수색', '하', '더', 'ㄴ', '경찰', '에', '체포', '되', '었', '다', '피해', '여성', '은', '이', '과정', '에서', '경미', '하', 'ㄴ', '부상', '을', '입', '은', '것', '으로', '전하', '어', '지', '었', '다']\n"
     ]
    }
   ],
   "source": [
    "from konlpy.tag import Kkma\n",
    "tokenizer=Kkma()\n",
    "\n",
    "kor_text = '밤에 귀가하던 여성에게 범죄를 시도한 대 남성이 구속됐다서울 제주경찰서는 \\\n",
    "            상해 혐의로 씨를 구속해 수사하고 있다고 일 밝혔다씨는 지난달 일 피해 여성을 \\\n",
    "            인근 지하철 역에서부터 따라가 폭행을 시도하려다가 도망간 혐의를 받는다피해 \\\n",
    "            여성이 저항하자 놀란 씨는 도망갔으며 신고를 받고 주변을 수색하던 경찰에 \\\n",
    "            체포됐다피해 여성은 이 과정에서 경미한 부상을 입은 것으로 전해졌다'\n",
    "\n",
    "#- 형태소 분석, 즉 토큰화(tokenization)를 합니다.\n",
    "print(tokenizer.morphs(kor_text))\n",
    "\n",
    "# stopwords 었, ㄴ, 는, 다, 었다, 을 추가!?"
   ]
  },
  {
   "cell_type": "code",
   "execution_count": 46,
   "metadata": {},
   "outputs": [
    {
     "name": "stdout",
     "output_type": "stream",
     "text": [
      "파주 시청 사진 제공 파주시 파주 시청 사진 제공 파주시 파주 강 근주 파주시 일 관내 취약 계층 만 가구 대하 어 정부 긴급 재난 지원금 입금 완료 파주 시민 받 긴급 재난 지원금 인 이상 가구 기준 으로 만원 받 게 되 며 가구 만원 인 가구 만원 인 가구 만원 정부 발표 긴급 재난 지원금 파주시 민 지급 금액 다르 이유 국비 지방비 부담 비율 파주시 이미 모든 시민 경기도 파주시 재난 기본 소득 당 각 만원 지급 고 어 시민 국비 지원금 만 지급 며 가구 기준 으로 총 지원 금액 파주시 재난 기본 소득 만원 경기도 재난 기본 소득 만원 정부 긴급 재난 지원금 만원 총 만원 받 게 되 ㄴ다 취약 계층 아니 시민 오 월일 부터 소지 고 신용 체크 카드 사 홈페이지 에서 긴급 재난 지원금 지원 신청 ㄹ 세대주 가족 지원금 일괄 신청 어야 ㄴ다 한편 파주시 일 김 정기 부시장 단장 으로 긴급 재난 지원금 추진 태스크 포스 를 구성 어 긴급 재난 지원금 원활 게 지급 되 ㄹ 도록 지원 ㄴ다 저작권자 재 배포\n"
     ]
    }
   ],
   "source": [
    "text_data=preprocessing(df['news'])\n",
    "print(text_data[0])"
   ]
  },
  {
   "cell_type": "markdown",
   "metadata": {},
   "source": [
    "### Kkma 형태소 분석기 ML 모델 적용하여 평가하기"
   ]
  },
  {
   "cell_type": "code",
   "execution_count": 47,
   "metadata": {},
   "outputs": [],
   "source": [
    "#- 훈련 데이터와 테스트 데이터 분리\n",
    "X_train, X_test, y_train, y_test = train_test_split(text_data, df['code'], random_state = 10)\n",
    "\n",
    "# 나이브 베이즈 분류기 학습\n",
    "#- 단어의 수를 카운트하는 사이킷런의 카운트벡터라이저입니다.\n",
    "count_vect = CountVectorizer()\n",
    "X_train_counts = count_vect.fit_transform(X_train)\n",
    "\n",
    "#- 카운트벡터라이저의 결과로부터 TF-IDF 결과를 얻습니다.\n",
    "tfidf_transformer = TfidfTransformer()\n",
    "X_train_tfidf = tfidf_transformer.fit_transform(X_train_counts)\n",
    "\n",
    "#- 나이브 베이즈 분류기를 수행합니다.\n",
    "#- X_train은 TF-IDF 벡터, y_train은 레이블입니다.\n",
    "clf = MultinomialNB().fit(X_train_tfidf, y_train)"
   ]
  },
  {
   "cell_type": "code",
   "execution_count": 48,
   "metadata": {},
   "outputs": [
    {
     "name": "stdout",
     "output_type": "stream",
     "text": [
      "['사회']\n",
      "\n",
      "['생활/문화']\n",
      "\n",
      "['IT/과학']\n",
      "\n",
      "['IT/과학']\n"
     ]
    }
   ],
   "source": [
    "# 테스트\n",
    "# 임의의 뉴스에 대한 카테고리 확인하기\n",
    "# 훈련, 테스트 데이터 아닌 임의 뉴스임\n",
    "# clf.predict() : 임의의 입력에 대해 나이브 베이즈 분류기가 예측한 값을 리턴함\n",
    "new_sent = preprocessing([\"민주당 일각에서 법사위의 체계·자구 심사 기능을 없애야 한다는 \\\n",
    "                           주장이 나오는 데 대해 “체계·자구 심사가 법안 지연의 수단으로 \\\n",
    "                          쓰이는 것은 바람직하지 않다”면서도 “국회를 통과하는 법안 중 위헌\\\n",
    "                          법률이 1년에 10건 넘게 나온다. 그런데 체계·자구 심사까지 없애면 매우 위험하다”고 반박했다.\"])\n",
    "print(clf.predict(tfidf_vectorizer(new_sent)))\n",
    "print()\n",
    "new_sent = preprocessing([\"인도 로맨틱 코미디 영화 <까립까립 싱글>(2017)을 봤을 때 나는 두 눈을 의심했다. \\\n",
    "                          저 사람이 남자 주인공이라고? 노안에 가까운 이목구비와 기름때로 뭉친 파마머리와, \\\n",
    "                          대충 툭툭 던지는 말투 등 전혀 로맨틱하지 않은 외모였다. 반감이 일면서 \\\n",
    "                          ‘난 외모지상주의자가 아니다’라고 자부했던 나에 대해 회의가 들었다.\\\n",
    "                           티브이를 꺼버릴까? 다른 걸 볼까? 그런데, 이상하다. 왜 이렇게 매력 있지? 개구리와\\\n",
    "                            같이 툭 불거진 눈망울 안에는 어떤 인도 배우에게서도 느끼지 못한 \\\n",
    "                            부드러움과 선량함, 무엇보다 슬픔이 있었다. 2시간 뒤 영화가 끝나고 나는 완전히 이 배우에게 빠졌다\"])\n",
    "print(clf.predict(tfidf_vectorizer(new_sent)))\n",
    "print()\n",
    "new_sent= preprocessing([\"20분기 연속으로 적자에 시달리는 LG전자가 브랜드 이름부터 성능, 디자인까지 대대적인 변화를 \\\n",
    "                          적용한 LG 벨벳은 등장 전부터 온라인 커뮤니티를 뜨겁게 달궜다. 사용자들은 “디자인이 예쁘다”, \\\n",
    "                          “슬림하다”는 반응을 보이며 LG 벨벳에 대한 기대감을 드러냈다.\"])\n",
    "print(clf.predict(tfidf_vectorizer(new_sent)))\n",
    "print()\n",
    "new_sent = preprocessing([\"코로나19 이후 주목받기 시작한 비대면(언택트) 서비스에서 데이터와 AI는 핵심 역할을 한다. 데이터3법 개정으로 각 기업·기관이 가지고 있던 활용되지 못한 데이터가 유통됨에 따라 상당한 시너지 효과가 발생할 것으로 기대된다. 바야흐로 ‘데이터 경제 생태계’ 조성의 시작인 셈이다.\"])\n",
    "print(clf.predict(tfidf_vectorizer(new_sent)))"
   ]
  },
  {
   "cell_type": "code",
   "execution_count": 49,
   "metadata": {},
   "outputs": [
    {
     "name": "stdout",
     "output_type": "stream",
     "text": [
      "              precision    recall  f1-score   support\n",
      "\n",
      "       IT/과학       0.93      0.76      0.84       237\n",
      "          사회       0.79      0.89      0.84       428\n",
      "       생활/문화       0.80      0.78      0.79       334\n",
      "\n",
      "    accuracy                           0.82       999\n",
      "   macro avg       0.84      0.81      0.82       999\n",
      "weighted avg       0.83      0.82      0.82       999\n",
      "\n"
     ]
    }
   ],
   "source": [
    "y_pred = clf.predict(tfidf_vectorizer(X_test))\n",
    "print(metrics.classification_report(y_test, y_pred))"
   ]
  },
  {
   "cell_type": "code",
   "execution_count": null,
   "metadata": {},
   "outputs": [],
   "source": []
  },
  {
   "cell_type": "markdown",
   "metadata": {},
   "source": [
    "### (3) Komoran 형태소 분석기"
   ]
  },
  {
   "cell_type": "code",
   "execution_count": 50,
   "metadata": {},
   "outputs": [
    {
     "name": "stdout",
     "output_type": "stream",
     "text": [
      "['에', '는', '은', '을', '했', '에게', '있', '이', '의', '하', '한', '다', '과', '때문', '할', '수', '무단', '따른', '및', '금지', '전재', '경향신문', '기자', '는데', '가', '등', '들', '파이낸셜', '저작', '등', '뉴스', 'ㄴ', '었', '었다']\n",
      "['밤', '에', '귀가', '하', '던', '여성', '에게', '범죄', '를', '시도', '하', 'ㄴ', '대', '남성', '이', '구속', '되', '었', '다', '서울', '제주', '경찰서', '는', '상해', '혐의', '로', '씨', '를', '구속', '하', '아', '수사', '하', '고', '있', '다고', '일', '밝히', '었', '다', '씨', '는', '지난달', '일', '피해', '여성', '을', '인근', '지하철', '역', '에서부터', '따라가', '아', '폭행', '을', '시도', '하', '려다가', '도망가', 'ㄴ', '혐의', '를', '받', '는다', '피하', '아', '여성', '이', '저항', '하', '자', '놀라', 'ㄴ', '씨', '는', '도망가', '았', '으며', '신고', '를', '받', '고', '주변', '을', '수색', '하', '던', '경찰', '에', '체포', '되', '었', '다', '피하', '아', '여성', '은', '이', '과정', '에서', '경미', '하', 'ㄴ', '부상', '을', '입', '은', '것', '으로', '전하', '아', '지', '었', '다']\n"
     ]
    }
   ],
   "source": [
    "from konlpy.tag import Komoran\n",
    "tokenizer=Komoran()\n",
    "# stopwords\n",
    "print(stopwords)\n",
    "# 형태소 분석\n",
    "print(tokenizer.morphs(kor_text))"
   ]
  },
  {
   "cell_type": "code",
   "execution_count": 51,
   "metadata": {},
   "outputs": [
    {
     "name": "stdout",
     "output_type": "stream",
     "text": [
      "파주 시청 사진 제공 파주시 파주 시청 사진 제공 파주시 파주 파이낸셜뉴스 강 근 주 파주시 일 관내 취약 계층 만 가구 대하 아 정부 긴급 재난 지원금 입금 완료 았 파주시 민이 받 긴급 재난 지원금 인 이상 가구 기준 으로 만원 받 게 되 며 인 가구 만원 인 가구 만원 인 가구 만원 이다 정부 발표 긴급 재난 지원금 파주시 민 지급 금액 다른 이유 국비 지방비 부담 비율 이다 파주시 이미 모든 시민 경기도 파주시 재난 기본소득 인당 각 만원 지급 고 어 시민 국비 지원금 만 지급 며 인 가구 기준 으로 총 지원 금액 파주시 재난 기본소득 만원 경기도 재난 기본소득 만원 정부 긴급 재난 지원금 만원 총 만원 받 게 되 취약 계층 아니 시민 오 월 일 부터 소지 고 신용 체크카드 사 홈페이지 에서 긴급 재난 지원금 지원 신청 ㄹ 세대주 가족 지원금 일괄 신청 아야 한편 파주시 일 김정기 부시장 단장 으로 긴급 재난 지원금 추진 태스크포스를 구성 아 긴급 재난 지원금 원활 게 지급 되 ㄹ 도록 지원 ㄴ다 저작권 자 파이낸셜뉴스 재 배포\n"
     ]
    }
   ],
   "source": [
    "# 전처리\n",
    "text_data=preprocessing(df['news'])\n",
    "print(text_data[0])"
   ]
  },
  {
   "cell_type": "markdown",
   "metadata": {},
   "source": [
    "### Komoran 형태소 분석기 ML 모델 적용하여 평가하기"
   ]
  },
  {
   "cell_type": "code",
   "execution_count": 52,
   "metadata": {},
   "outputs": [],
   "source": [
    "#- 훈련 데이터와 테스트 데이터 분리\n",
    "X_train, X_test, y_train, y_test = train_test_split(text_data, df['code'], random_state = 10)\n",
    "\n",
    "# 나이브 베이즈 분류기 학습\n",
    "#- 단어의 수를 카운트하는 사이킷런의 카운트벡터라이저입니다.\n",
    "count_vect = CountVectorizer()\n",
    "X_train_counts = count_vect.fit_transform(X_train)\n",
    "\n",
    "#- 카운트벡터라이저의 결과로부터 TF-IDF 결과를 얻습니다.\n",
    "tfidf_transformer = TfidfTransformer()\n",
    "X_train_tfidf = tfidf_transformer.fit_transform(X_train_counts)\n",
    "\n",
    "#- 나이브 베이즈 분류기를 수행합니다.\n",
    "#- X_train은 TF-IDF 벡터, y_train은 레이블입니다.\n",
    "clf = MultinomialNB().fit(X_train_tfidf, y_train)"
   ]
  },
  {
   "cell_type": "code",
   "execution_count": 53,
   "metadata": {},
   "outputs": [
    {
     "name": "stdout",
     "output_type": "stream",
     "text": [
      "['사회']\n",
      "\n",
      "['생활/문화']\n",
      "\n",
      "['IT/과학']\n",
      "\n",
      "['IT/과학']\n"
     ]
    }
   ],
   "source": [
    "# 테스트\n",
    "# 임의의 뉴스에 대한 카테고리 확인하기\n",
    "# 훈련, 테스트 데이터 아닌 임의 뉴스임\n",
    "# clf.predict() : 임의의 입력에 대해 나이브 베이즈 분류기가 예측한 값을 리턴함\n",
    "new_sent = preprocessing([\"민주당 일각에서 법사위의 체계·자구 심사 기능을 없애야 한다는 \\\n",
    "                           주장이 나오는 데 대해 “체계·자구 심사가 법안 지연의 수단으로 \\\n",
    "                          쓰이는 것은 바람직하지 않다”면서도 “국회를 통과하는 법안 중 위헌\\\n",
    "                          법률이 1년에 10건 넘게 나온다. 그런데 체계·자구 심사까지 없애면 매우 위험하다”고 반박했다.\"])\n",
    "print(clf.predict(tfidf_vectorizer(new_sent)))\n",
    "print()\n",
    "new_sent = preprocessing([\"인도 로맨틱 코미디 영화 <까립까립 싱글>(2017)을 봤을 때 나는 두 눈을 의심했다. \\\n",
    "                          저 사람이 남자 주인공이라고? 노안에 가까운 이목구비와 기름때로 뭉친 파마머리와, \\\n",
    "                          대충 툭툭 던지는 말투 등 전혀 로맨틱하지 않은 외모였다. 반감이 일면서 \\\n",
    "                          ‘난 외모지상주의자가 아니다’라고 자부했던 나에 대해 회의가 들었다.\\\n",
    "                           티브이를 꺼버릴까? 다른 걸 볼까? 그런데, 이상하다. 왜 이렇게 매력 있지? 개구리와\\\n",
    "                            같이 툭 불거진 눈망울 안에는 어떤 인도 배우에게서도 느끼지 못한 \\\n",
    "                            부드러움과 선량함, 무엇보다 슬픔이 있었다. 2시간 뒤 영화가 끝나고 나는 완전히 이 배우에게 빠졌다\"])\n",
    "print(clf.predict(tfidf_vectorizer(new_sent)))\n",
    "print()\n",
    "new_sent= preprocessing([\"20분기 연속으로 적자에 시달리는 LG전자가 브랜드 이름부터 성능, 디자인까지 대대적인 변화를 \\\n",
    "                          적용한 LG 벨벳은 등장 전부터 온라인 커뮤니티를 뜨겁게 달궜다. 사용자들은 “디자인이 예쁘다”, \\\n",
    "                          “슬림하다”는 반응을 보이며 LG 벨벳에 대한 기대감을 드러냈다.\"])\n",
    "print(clf.predict(tfidf_vectorizer(new_sent)))\n",
    "print()\n",
    "new_sent = preprocessing([\"코로나19 이후 주목받기 시작한 비대면(언택트) 서비스에서 데이터와 AI는 핵심 역할을 한다. 데이터3법 개정으로 각 기업·기관이 가지고 있던 활용되지 못한 데이터가 유통됨에 따라 상당한 시너지 효과가 발생할 것으로 기대된다. 바야흐로 ‘데이터 경제 생태계’ 조성의 시작인 셈이다.\"])\n",
    "print(clf.predict(tfidf_vectorizer(new_sent)))"
   ]
  },
  {
   "cell_type": "code",
   "execution_count": 54,
   "metadata": {},
   "outputs": [
    {
     "name": "stdout",
     "output_type": "stream",
     "text": [
      "              precision    recall  f1-score   support\n",
      "\n",
      "       IT/과학       0.92      0.77      0.84       237\n",
      "          사회       0.79      0.89      0.84       428\n",
      "       생활/문화       0.80      0.77      0.78       334\n",
      "\n",
      "    accuracy                           0.82       999\n",
      "   macro avg       0.84      0.81      0.82       999\n",
      "weighted avg       0.83      0.82      0.82       999\n",
      "\n"
     ]
    }
   ],
   "source": [
    "# evaluation\n",
    "y_pred = clf.predict(tfidf_vectorizer(X_test))\n",
    "print(metrics.classification_report(y_test, y_pred))"
   ]
  },
  {
   "cell_type": "code",
   "execution_count": null,
   "metadata": {},
   "outputs": [],
   "source": []
  },
  {
   "cell_type": "markdown",
   "metadata": {},
   "source": [
    "### (4) Okt 형태소 분석기"
   ]
  },
  {
   "cell_type": "code",
   "execution_count": 55,
   "metadata": {},
   "outputs": [
    {
     "name": "stdout",
     "output_type": "stream",
     "text": [
      "['에', '는', '은', '을', '했', '에게', '있', '이', '의', '하', '한', '다', '과', '때문', '할', '수', '무단', '따른', '및', '금지', '전재', '경향신문', '기자', '는데', '가', '등', '들', '파이낸셜', '저작', '등', '뉴스', 'ㄴ', '었', '었다']\n",
      "['밤', '에', '귀가', '하던', '여성', '에게', '범죄', '를', '시도', '한', '대', '남성', '이', '구속', '됐다', '서울', '제', '주', '경찰서', '는', '상해', '혐의', '로', '씨', '를', '구속', '해', '수사', '하고', '있다고', '일', '밝혔다', '씨', '는', '지난달', '일', '피해', '여성', '을', '인근', '지하철', '역', '에서부터', '따라가', '폭행', '을', '시도', '하려다가', '도망간', '혐의', '를', '받는다', '피해', '여성', '이', '저항', '하자', '놀란', '씨', '는', '도망갔으며', '신고', '를', '받고', '주변', '을', '수색', '하던', '경찰', '에', '체포', '됐다', '피해', '여성', '은', '이', '과정', '에서', '경미한', '부상', '을', '입은', '것', '으로', '전해졌다']\n"
     ]
    }
   ],
   "source": [
    "from konlpy.tag import Okt\n",
    "tokenizer=Okt()\n",
    "# stopwords\n",
    "print(stopwords)\n",
    "# 형태소 분석\n",
    "print(tokenizer.morphs(kor_text))"
   ]
  },
  {
   "cell_type": "code",
   "execution_count": 56,
   "metadata": {},
   "outputs": [
    {
     "name": "stdout",
     "output_type": "stream",
     "text": [
      "파주 시청 사진 제공 파주시 파주 시청 사진 제공 파주시 파주 파이낸셜뉴스 강 근 주 파주시 일 관내 취약 계층 만 가구 대해 정부 긴급 재난 지 원금 입금 완료 했다 파주시민 받는 긴급 재난 지원 금은 인 이상 가구 기준 으로 만원 받게 되며 인 가구 만원 인 가구 만원 인 가구 만원 이다 정부 발표 긴급 재난 지 원금 파주시민 지급 금액 다른 이유 국비 지 방비 부담 비율 이다 파주시 이미 모든 시민 경기도 파주시 재난 기본소득 인 당 각 만원 지급 하고 있어 시민 국비 지 원금 만 지급 하며 인 가구 기준 으로 총 지원 금액 파주시 재난 기본소득 만원 경기도 재난 기본소득 만원 정부 긴급 재난 지 원금 만원 총 만원 받게 된다 취약 계층 아닌 시민 오는 월일 부터 소지 하고 있는 신용 체크카드 사 홈페이지 에서 긴급 재난 지 원금 지원 신청 있다 세대주 가족 지 원금 일괄 신청 해야 한다 한편 파주시 일 김정기 부시장 단장 으로 하는 긴급 재난 지 원금 추진 태스크포스 를 구성 해 긴급 재난 지 원금 원활하게 지급 될 있도록 지원 저작권 자 파이낸셜뉴스 전 재재 배포\n"
     ]
    }
   ],
   "source": [
    "# 전처리\n",
    "text_data=preprocessing(df['news'])\n",
    "print(text_data[0])"
   ]
  },
  {
   "cell_type": "markdown",
   "metadata": {},
   "source": [
    "### Komoran 형태소 분석기 ML 모델 적용하여 평가하기"
   ]
  },
  {
   "cell_type": "code",
   "execution_count": 57,
   "metadata": {},
   "outputs": [],
   "source": [
    "#- 훈련 데이터와 테스트 데이터 분리\n",
    "X_train, X_test, y_train, y_test = train_test_split(text_data, df['code'], random_state = 10)\n",
    "\n",
    "# 나이브 베이즈 분류기 학습\n",
    "#- 단어의 수를 카운트하는 사이킷런의 카운트벡터라이저입니다.\n",
    "count_vect = CountVectorizer()\n",
    "X_train_counts = count_vect.fit_transform(X_train)\n",
    "\n",
    "#- 카운트벡터라이저의 결과로부터 TF-IDF 결과를 얻습니다.\n",
    "tfidf_transformer = TfidfTransformer()\n",
    "X_train_tfidf = tfidf_transformer.fit_transform(X_train_counts)\n",
    "\n",
    "#- 나이브 베이즈 분류기를 수행합니다.\n",
    "#- X_train은 TF-IDF 벡터, y_train은 레이블입니다.\n",
    "clf = MultinomialNB().fit(X_train_tfidf, y_train)"
   ]
  },
  {
   "cell_type": "code",
   "execution_count": 58,
   "metadata": {},
   "outputs": [
    {
     "name": "stdout",
     "output_type": "stream",
     "text": [
      "['사회']\n",
      "\n",
      "['생활/문화']\n",
      "\n",
      "['IT/과학']\n",
      "\n",
      "['IT/과학']\n"
     ]
    }
   ],
   "source": [
    "# 테스트\n",
    "# 임의의 뉴스에 대한 카테고리 확인하기\n",
    "# 훈련, 테스트 데이터 아닌 임의 뉴스임\n",
    "# clf.predict() : 임의의 입력에 대해 나이브 베이즈 분류기가 예측한 값을 리턴함\n",
    "new_sent = preprocessing([\"민주당 일각에서 법사위의 체계·자구 심사 기능을 없애야 한다는 \\\n",
    "                           주장이 나오는 데 대해 “체계·자구 심사가 법안 지연의 수단으로 \\\n",
    "                          쓰이는 것은 바람직하지 않다”면서도 “국회를 통과하는 법안 중 위헌\\\n",
    "                          법률이 1년에 10건 넘게 나온다. 그런데 체계·자구 심사까지 없애면 매우 위험하다”고 반박했다.\"])\n",
    "print(clf.predict(tfidf_vectorizer(new_sent)))\n",
    "print()\n",
    "new_sent = preprocessing([\"인도 로맨틱 코미디 영화 <까립까립 싱글>(2017)을 봤을 때 나는 두 눈을 의심했다. \\\n",
    "                          저 사람이 남자 주인공이라고? 노안에 가까운 이목구비와 기름때로 뭉친 파마머리와, \\\n",
    "                          대충 툭툭 던지는 말투 등 전혀 로맨틱하지 않은 외모였다. 반감이 일면서 \\\n",
    "                          ‘난 외모지상주의자가 아니다’라고 자부했던 나에 대해 회의가 들었다.\\\n",
    "                           티브이를 꺼버릴까? 다른 걸 볼까? 그런데, 이상하다. 왜 이렇게 매력 있지? 개구리와\\\n",
    "                            같이 툭 불거진 눈망울 안에는 어떤 인도 배우에게서도 느끼지 못한 \\\n",
    "                            부드러움과 선량함, 무엇보다 슬픔이 있었다. 2시간 뒤 영화가 끝나고 나는 완전히 이 배우에게 빠졌다\"])\n",
    "print(clf.predict(tfidf_vectorizer(new_sent)))\n",
    "print()\n",
    "new_sent= preprocessing([\"20분기 연속으로 적자에 시달리는 LG전자가 브랜드 이름부터 성능, 디자인까지 대대적인 변화를 \\\n",
    "                          적용한 LG 벨벳은 등장 전부터 온라인 커뮤니티를 뜨겁게 달궜다. 사용자들은 “디자인이 예쁘다”, \\\n",
    "                          “슬림하다”는 반응을 보이며 LG 벨벳에 대한 기대감을 드러냈다.\"])\n",
    "print(clf.predict(tfidf_vectorizer(new_sent)))\n",
    "print()\n",
    "new_sent = preprocessing([\"코로나19 이후 주목받기 시작한 비대면(언택트) 서비스에서 데이터와 AI는 핵심 역할을 한다. 데이터3법 개정으로 각 기업·기관이 가지고 있던 활용되지 못한 데이터가 유통됨에 따라 상당한 시너지 효과가 발생할 것으로 기대된다. 바야흐로 ‘데이터 경제 생태계’ 조성의 시작인 셈이다.\"])\n",
    "print(clf.predict(tfidf_vectorizer(new_sent)))"
   ]
  },
  {
   "cell_type": "code",
   "execution_count": 59,
   "metadata": {},
   "outputs": [
    {
     "name": "stdout",
     "output_type": "stream",
     "text": [
      "              precision    recall  f1-score   support\n",
      "\n",
      "       IT/과학       0.94      0.75      0.83       237\n",
      "          사회       0.77      0.90      0.83       428\n",
      "       생활/문화       0.81      0.75      0.78       334\n",
      "\n",
      "    accuracy                           0.81       999\n",
      "   macro avg       0.84      0.80      0.81       999\n",
      "weighted avg       0.82      0.81      0.81       999\n",
      "\n"
     ]
    }
   ],
   "source": [
    "y_pred = clf.predict(tfidf_vectorizer(X_test))\n",
    "print(metrics.classification_report(y_test, y_pred))"
   ]
  },
  {
   "cell_type": "code",
   "execution_count": null,
   "metadata": {},
   "outputs": [],
   "source": []
  },
  {
   "cell_type": "markdown",
   "metadata": {},
   "source": [
    "## Step1 분석기별 장단점, 처리속도, 성능\n",
    "- 대략적인 장단점\n",
    "    - Kkma: 제일 느리다는 단점이 있다\n",
    "- 처리속도: Mecab <<<<< Kkma\n",
    "- 성능(f1 score): "
   ]
  },
  {
   "cell_type": "code",
   "execution_count": null,
   "metadata": {},
   "outputs": [],
   "source": []
  },
  {
   "cell_type": "code",
   "execution_count": null,
   "metadata": {},
   "outputs": [],
   "source": []
  },
  {
   "cell_type": "code",
   "execution_count": null,
   "metadata": {},
   "outputs": [],
   "source": []
  },
  {
   "cell_type": "code",
   "execution_count": null,
   "metadata": {},
   "outputs": [],
   "source": []
  }
 ],
 "metadata": {
  "kernelspec": {
   "display_name": "aiffel",
   "language": "python",
   "name": "aiffel"
  },
  "language_info": {
   "codemirror_mode": {
    "name": "ipython",
    "version": 3
   },
   "file_extension": ".py",
   "mimetype": "text/x-python",
   "name": "python",
   "nbconvert_exporter": "python",
   "pygments_lexer": "ipython3",
   "version": "3.7.6"
  }
 },
 "nbformat": 4,
 "nbformat_minor": 4
}
